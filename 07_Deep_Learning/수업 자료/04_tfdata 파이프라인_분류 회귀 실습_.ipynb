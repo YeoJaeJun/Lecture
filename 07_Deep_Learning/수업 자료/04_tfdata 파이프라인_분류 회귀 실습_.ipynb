{
 "cells": [
  {
   "cell_type": "markdown",
   "metadata": {
    "slideshow": {
     "slide_type": "slide"
    }
   },
   "source": [
    "# tf.data 모듈\n",
    "- 데이터 입력 파이프라인을 위한 모듈\n",
    "    - 모델 학습/평가를 위한 데이터셋을 제공(feeding)하기 위한 모듈\n",
    "   - raw dataset 에서 입력을 위한 **전처리**, **배치 크키**, **shuffling**등을 한번에 처리할 수 있게 한다.\n",
    "- tf.data.Dataset 추상클래스에서 상속된 여러가지 클래스들을 제공\n",
    "    - 입력 소스의 제공 형태, 어떤 처리를 하는지에 따라 다양한 하위클래스들이 제공된다."
   ]
  },
  {
   "cell_type": "markdown",
   "metadata": {
    "slideshow": {
     "slide_type": "fragment"
    }
   },
   "source": [
    "## Dataset API 사용\n",
    "1. **Dataset 생성**\n",
    "    - raw dataset을 지정 (Loading)\n",
    "    - from_tensor_slices(), from_generator() 클래스 메소드, tf.data.TFRecordDataset 클래스등를 사용해 메모리나 파일에 있는 데이터를 Dataset으로 만든다.\n",
    "    - **from_tensor_slices()**: 메모리의 리스트, 넘파이배열, 텐서플로 자료형에서 데이터를 생성한다."
   ]
  },
  {
   "cell_type": "markdown",
   "metadata": {
    "slideshow": {
     "slide_type": "fragment"
    }
   },
   "source": [
    "2. **제공 데이터 전처리**\n",
    "    - **map(함수)**: Dataset이 제공하는 원소를 처리해서 변환된 원소를 제공하도록 한다.\n",
    "        - 함수: 원소를 어떻게 변환할 지 정의한 함수를 매개변수로 전달한다.\n",
    "            - 매개변수: Dataset이 제공하는 원소를 받을 변수. \n",
    "            - 반환값: Dataset이 제공한 원소를 변경처리한 값.\n",
    "    - **filter(함수)**: Dataset이 제공하는 원소중 특정 조건을 만족하는(True)인 원소들만 제공한다.\n",
    "        - 함수: 원소가 특정조건을 만족하는지 여부를 확인하는 로직을 정의한 함수를 매개변수로 전달한다.\n",
    "            - 매개변수: Dataset이 제공하는 원소를 받을 변수.\n",
    "            - 반환값: Dataset이 제공한 원소가 특정조건을 만족하는지 여부(bool)"
   ]
  },
  {
   "cell_type": "markdown",
   "metadata": {
    "slideshow": {
     "slide_type": "fragment"
    }
   },
   "source": [
    "3. **데이터 제공 설정 관련**\n",
    "    - **batch(size)**: 학습/평가시 한번에 제공할 batch size 지정\n",
    "        - size: int. batch size 지정\n",
    "        - drop_remainder: bool. True일 경우 마지막 제공시 남은 데이터수가 batch size보다 작으면 제공하지 않는다.\n",
    "    - **shuffle(buffer 크기)**: dataset의 원소들의 순서를 섞는다. \n",
    "        - buffer 크기: int. buffer 크기는 섞는 공간의 크기로  **데이터보다 크거나 같으면** 완전셔플, **적으면 일부만 가져와서 섞어** 완전셔플이 안된다.\n",
    "        - 데이터 사이즈가 너무 커서 메모리가 부족할 경우 버퍼크기를 적게 준다.\n",
    "        - 메모리가 충분하다면 데이터의 개수와 동일하게 주면된다.\n",
    "    - **repeat(count)**: 전체 데이터를 한번 다 제공한 뒤 다시 데이터를 제공한다.\n",
    "        - count: 몇번 제공할지 반복 횟수\n",
    "        - shuffle이 적용된 Dataset의 경우 다음 반복 제공마다 shuffle을 진행한다. (에폭단위)\n",
    "        "
   ]
  },
  {
   "cell_type": "markdown",
   "metadata": {
    "slideshow": {
     "slide_type": "fragment"
    }
   },
   "source": [
    "- 각 tf.data 함수들은 각 기능에 맞게 데이터를 처리하는 Dataset 객체를 반환한다."
   ]
  },
  {
   "cell_type": "markdown",
   "metadata": {
    "slideshow": {
     "slide_type": "fragment"
    }
   },
   "source": [
    "### Dataset 메소드\n",
    "- take(개수): 지정한 개수만큼의 데이터만 제공한다."
   ]
  },
  {
   "cell_type": "code",
   "execution_count": 1,
   "metadata": {
    "ExecuteTime": {
     "end_time": "2023-02-20T03:36:33.442893Z",
     "start_time": "2023-02-20T03:36:29.769303Z"
    }
   },
   "outputs": [],
   "source": [
    "import tensorflow as tf\n",
    "import numpy as np"
   ]
  },
  {
   "cell_type": "markdown",
   "metadata": {
    "slideshow": {
     "slide_type": "fragment"
    }
   },
   "source": [
    "##### Tensor Type\n",
    ">- TensorFlow의 기본 data 자료구조.\n",
    ">- numpy가 ndarray를 이용해 데이터를 관리하듯이 tensorflow를 Tensor를 이용해 데이터를 관리한다.\n",
    ">    - Tesorflow의 모델이 학습, 평가할때 사용하는 데이터셋(train dataset, validation dataset, test dataset)은 tf.Tensor 타입이어야 한다.\n",
    ">        - 학습/평가(model.fit(), model.evaluate()) 할때 ndarray를 입력 데이터셋으로 넣어주면 내부적으로 tf.Tensor로 변형해서 처리.\n",
    ">        - tf.Tensor는 데이터셋을 ndarray로 가지고 있다."
   ]
  },
  {
   "cell_type": "code",
   "execution_count": 2,
   "metadata": {
    "ExecuteTime": {
     "end_time": "2023-02-20T03:41:27.700779Z",
     "start_time": "2023-02-20T03:41:27.648827Z"
    }
   },
   "outputs": [
    {
     "data": {
      "text/plain": [
       "<tf.Tensor: shape=(3,), dtype=float32, numpy=array([1., 2., 3.], dtype=float32)>"
      ]
     },
     "execution_count": 2,
     "metadata": {},
     "output_type": "execute_result"
    }
   ],
   "source": [
    "t = tf.constant([1,2,3], dtype='float32')\n",
    "t"
   ]
  },
  {
   "cell_type": "code",
   "execution_count": 4,
   "metadata": {
    "ExecuteTime": {
     "end_time": "2023-02-20T03:42:13.997058Z",
     "start_time": "2023-02-20T03:42:13.990424Z"
    }
   },
   "outputs": [
    {
     "data": {
      "text/plain": [
       "(TensorShape([3]), tf.float32)"
      ]
     },
     "execution_count": 4,
     "metadata": {},
     "output_type": "execute_result"
    }
   ],
   "source": [
    "t.shape, t.dtype"
   ]
  },
  {
   "cell_type": "code",
   "execution_count": 5,
   "metadata": {
    "ExecuteTime": {
     "end_time": "2023-02-20T03:42:51.746896Z",
     "start_time": "2023-02-20T03:42:51.726339Z"
    }
   },
   "outputs": [
    {
     "data": {
      "text/plain": [
       "array([1., 2., 3.], dtype=float32)"
      ]
     },
     "execution_count": 5,
     "metadata": {},
     "output_type": "execute_result"
    }
   ],
   "source": [
    "# Tensor -> ndarray로 변환\n",
    "a = t.numpy()\n",
    "a"
   ]
  },
  {
   "cell_type": "code",
   "execution_count": 6,
   "metadata": {
    "ExecuteTime": {
     "end_time": "2023-02-20T03:43:35.847593Z",
     "start_time": "2023-02-20T03:43:35.831974Z"
    }
   },
   "outputs": [
    {
     "data": {
      "text/plain": [
       "<tf.Tensor: shape=(10,), dtype=int32, numpy=array([0, 1, 2, 3, 4, 5, 6, 7, 8, 9])>"
      ]
     },
     "execution_count": 6,
     "metadata": {},
     "output_type": "execute_result"
    }
   ],
   "source": [
    "# ndarray/list => Tensor\n",
    "tf.constant(np.arange(10))"
   ]
  },
  {
   "cell_type": "code",
   "execution_count": 8,
   "metadata": {
    "ExecuteTime": {
     "end_time": "2023-02-20T03:43:54.379639Z",
     "start_time": "2023-02-20T03:43:54.359411Z"
    }
   },
   "outputs": [
    {
     "data": {
      "text/plain": [
       "<tf.Tensor: shape=(3,), dtype=float32, numpy=array([1., 2., 3.], dtype=float32)>"
      ]
     },
     "execution_count": 8,
     "metadata": {},
     "output_type": "execute_result"
    }
   ],
   "source": [
    "tf.convert_to_tensor(a)"
   ]
  },
  {
   "cell_type": "markdown",
   "metadata": {
    "slideshow": {
     "slide_type": "slide"
    }
   },
   "source": [
    "## Dataset 예제"
   ]
  },
  {
   "cell_type": "code",
   "execution_count": 9,
   "metadata": {
    "ExecuteTime": {
     "end_time": "2023-02-20T05:07:58.445802Z",
     "start_time": "2023-02-20T05:07:58.436367Z"
    }
   },
   "outputs": [
    {
     "data": {
      "text/plain": [
       "array([0, 1, 2, 3, 4, 5, 6, 7, 8, 9])"
      ]
     },
     "execution_count": 9,
     "metadata": {},
     "output_type": "execute_result"
    }
   ],
   "source": [
    "# 0 ~ 9 정수 => input data\n",
    "raw_data1 = np.arange(10)\n",
    "raw_data1"
   ]
  },
  {
   "cell_type": "code",
   "execution_count": 10,
   "metadata": {
    "ExecuteTime": {
     "end_time": "2023-02-20T05:09:46.458005Z",
     "start_time": "2023-02-20T05:09:46.435937Z"
    }
   },
   "outputs": [
    {
     "name": "stdout",
     "output_type": "stream",
     "text": [
      "<class 'tensorflow.python.data.ops.from_tensor_slices_op.TensorSliceDataset'>\n"
     ]
    }
   ],
   "source": [
    "# DataSet 을 생성 -> 대상 raw dataset 메모리에 있는 ndarray일때.\n",
    "dataset = tf.data.Dataset.from_tensor_slices(raw_data1)  # ndarray 데이터셋을 Dataset 파이프라인으로 읽어오는 역할\n",
    "print(type(dataset))"
   ]
  },
  {
   "cell_type": "code",
   "execution_count": 11,
   "metadata": {
    "ExecuteTime": {
     "end_time": "2023-02-20T05:12:50.376037Z",
     "start_time": "2023-02-20T05:12:50.322029Z"
    }
   },
   "outputs": [
    {
     "name": "stdout",
     "output_type": "stream",
     "text": [
      "tf.Tensor(0, shape=(), dtype=int32)\n",
      "tf.Tensor(1, shape=(), dtype=int32)\n",
      "tf.Tensor(2, shape=(), dtype=int32)\n",
      "tf.Tensor(3, shape=(), dtype=int32)\n",
      "tf.Tensor(4, shape=(), dtype=int32)\n",
      "tf.Tensor(5, shape=(), dtype=int32)\n",
      "tf.Tensor(6, shape=(), dtype=int32)\n",
      "tf.Tensor(7, shape=(), dtype=int32)\n",
      "tf.Tensor(8, shape=(), dtype=int32)\n",
      "tf.Tensor(9, shape=(), dtype=int32)\n"
     ]
    }
   ],
   "source": [
    "# Dataset -> Iterable타입 => for in\n",
    "for data in dataset:\n",
    "    print(data)"
   ]
  },
  {
   "cell_type": "code",
   "execution_count": 13,
   "metadata": {
    "ExecuteTime": {
     "end_time": "2023-02-20T05:15:55.384433Z",
     "start_time": "2023-02-20T05:15:55.354444Z"
    }
   },
   "outputs": [
    {
     "name": "stdout",
     "output_type": "stream",
     "text": [
      "tf.Tensor(0, shape=(), dtype=int32)\n",
      "tf.Tensor(1, shape=(), dtype=int32)\n",
      "tf.Tensor(2, shape=(), dtype=int32)\n",
      "tf.Tensor(3, shape=(), dtype=int32)\n",
      "tf.Tensor(4, shape=(), dtype=int32)\n"
     ]
    }
   ],
   "source": [
    "for data in dataset.take(5):  # dataset에서 3개만 조회\n",
    "    print(data)"
   ]
  },
  {
   "cell_type": "code",
   "execution_count": null,
   "metadata": {},
   "outputs": [],
   "source": []
  },
  {
   "cell_type": "markdown",
   "metadata": {
    "slideshow": {
     "slide_type": "slide"
    }
   },
   "source": [
    "##### x, y 묶어서 제공\n",
    "- 두개 이상의 데이터셋을 묶어서 제공할 경우 Tuple로 묶어준다.\n",
    "    - Dataset이 feeding 할 때는 같은 index의 값들을 tuple로 묶어서 제공 (zip()과 동일)"
   ]
  },
  {
   "cell_type": "code",
   "execution_count": 15,
   "metadata": {
    "ExecuteTime": {
     "end_time": "2023-02-20T05:17:31.910196Z",
     "start_time": "2023-02-20T05:17:31.890335Z"
    }
   },
   "outputs": [
    {
     "name": "stdout",
     "output_type": "stream",
     "text": [
      "[0 1 2 3 4 5 6 7 8 9] 10\n",
      "[10 11 12 13 14 15 16 17 18 19] 10\n"
     ]
    }
   ],
   "source": [
    "raw_data2 = np.arange(10, 20)\n",
    "print(raw_data1, len(raw_data1))   # X\n",
    "print(raw_data2, len(raw_data2))   # y"
   ]
  },
  {
   "cell_type": "code",
   "execution_count": 16,
   "metadata": {
    "ExecuteTime": {
     "end_time": "2023-02-20T05:20:30.967956Z",
     "start_time": "2023-02-20T05:20:30.939381Z"
    }
   },
   "outputs": [
    {
     "name": "stdout",
     "output_type": "stream",
     "text": [
      "(<tf.Tensor: shape=(), dtype=int32, numpy=0>, <tf.Tensor: shape=(), dtype=int32, numpy=10>)\n"
     ]
    }
   ],
   "source": [
    "dataset2 = tf.data.Dataset.from_tensor_slices( (raw_data1, raw_data2) )\n",
    "for data in dataset2.take(1):  # 두 dataset(raw_data1, raw_data2)의 같은 index의 값들을 묶어서 튜플로 반환.\n",
    "    print(data)"
   ]
  },
  {
   "cell_type": "code",
   "execution_count": 17,
   "metadata": {
    "ExecuteTime": {
     "end_time": "2023-02-20T05:22:03.227148Z",
     "start_time": "2023-02-20T05:22:03.213707Z"
    }
   },
   "outputs": [
    {
     "name": "stdout",
     "output_type": "stream",
     "text": [
      "tf.Tensor(0, shape=(), dtype=int32) ====== tf.Tensor(10, shape=(), dtype=int32)\n",
      "tf.Tensor(1, shape=(), dtype=int32) ====== tf.Tensor(11, shape=(), dtype=int32)\n",
      "tf.Tensor(2, shape=(), dtype=int32) ====== tf.Tensor(12, shape=(), dtype=int32)\n",
      "tf.Tensor(3, shape=(), dtype=int32) ====== tf.Tensor(13, shape=(), dtype=int32)\n",
      "tf.Tensor(4, shape=(), dtype=int32) ====== tf.Tensor(14, shape=(), dtype=int32)\n",
      "tf.Tensor(5, shape=(), dtype=int32) ====== tf.Tensor(15, shape=(), dtype=int32)\n",
      "tf.Tensor(6, shape=(), dtype=int32) ====== tf.Tensor(16, shape=(), dtype=int32)\n",
      "tf.Tensor(7, shape=(), dtype=int32) ====== tf.Tensor(17, shape=(), dtype=int32)\n",
      "tf.Tensor(8, shape=(), dtype=int32) ====== tf.Tensor(18, shape=(), dtype=int32)\n",
      "tf.Tensor(9, shape=(), dtype=int32) ====== tf.Tensor(19, shape=(), dtype=int32)\n"
     ]
    }
   ],
   "source": [
    "for x, y in dataset2:\n",
    "    print(x, y, sep=' ====== ')"
   ]
  },
  {
   "cell_type": "markdown",
   "metadata": {
    "slideshow": {
     "slide_type": "slide"
    }
   },
   "source": [
    "##### shuffle\n",
    "- 데이터셋을 섞는다."
   ]
  },
  {
   "cell_type": "code",
   "execution_count": 18,
   "metadata": {
    "ExecuteTime": {
     "end_time": "2023-02-20T05:23:23.196501Z",
     "start_time": "2023-02-20T05:23:23.179256Z"
    }
   },
   "outputs": [
    {
     "name": "stdout",
     "output_type": "stream",
     "text": [
      "tf.Tensor(0, shape=(), dtype=int32)\n",
      "tf.Tensor(1, shape=(), dtype=int32)\n",
      "tf.Tensor(2, shape=(), dtype=int32)\n",
      "tf.Tensor(3, shape=(), dtype=int32)\n",
      "tf.Tensor(4, shape=(), dtype=int32)\n",
      "tf.Tensor(5, shape=(), dtype=int32)\n",
      "tf.Tensor(6, shape=(), dtype=int32)\n",
      "tf.Tensor(7, shape=(), dtype=int32)\n",
      "tf.Tensor(8, shape=(), dtype=int32)\n",
      "tf.Tensor(9, shape=(), dtype=int32)\n"
     ]
    }
   ],
   "source": [
    "for data in dataset:\n",
    "    print(data)"
   ]
  },
  {
   "cell_type": "code",
   "execution_count": 22,
   "metadata": {
    "ExecuteTime": {
     "end_time": "2023-02-20T05:36:03.945902Z",
     "start_time": "2023-02-20T05:36:03.916339Z"
    }
   },
   "outputs": [
    {
     "name": "stdout",
     "output_type": "stream",
     "text": [
      "<class 'tensorflow.python.data.ops.dataset_ops.ShuffleDataset'>\n"
     ]
    }
   ],
   "source": [
    "raw_data1 = np.arange(10)\n",
    "dataset = tf.data.Dataset.from_tensor_slices(raw_data1)\n",
    "dataset3 = dataset.shuffle(3)  # dataset을 섞어준다. 데이터셋을 처음 읽을때 한번 섞는다. \n",
    "# 10: buffer size => 지정한 개수만큼만 섞는다.\n",
    "print(type(dataset3))"
   ]
  },
  {
   "cell_type": "code",
   "execution_count": 23,
   "metadata": {
    "ExecuteTime": {
     "end_time": "2023-02-20T05:36:06.223191Z",
     "start_time": "2023-02-20T05:36:06.196828Z"
    }
   },
   "outputs": [
    {
     "name": "stdout",
     "output_type": "stream",
     "text": [
      "tf.Tensor(0, shape=(), dtype=int32)\n",
      "tf.Tensor(1, shape=(), dtype=int32)\n",
      "tf.Tensor(3, shape=(), dtype=int32)\n",
      "tf.Tensor(2, shape=(), dtype=int32)\n",
      "tf.Tensor(4, shape=(), dtype=int32)\n",
      "tf.Tensor(6, shape=(), dtype=int32)\n",
      "tf.Tensor(8, shape=(), dtype=int32)\n",
      "tf.Tensor(5, shape=(), dtype=int32)\n",
      "tf.Tensor(7, shape=(), dtype=int32)\n",
      "tf.Tensor(9, shape=(), dtype=int32)\n"
     ]
    }
   ],
   "source": [
    "for data in dataset3:\n",
    "    print(data)"
   ]
  },
  {
   "cell_type": "markdown",
   "metadata": {
    "slideshow": {
     "slide_type": "slide"
    }
   },
   "source": [
    "##### batch\n",
    "- drop_remainder: boolean(기본-False)\n",
    "    - batch로 제공할 데이터의 개수가 설정한 batch_size 보다 적으면 제공하지 않는다.\n",
    "    - Train dataset을 만들때 True로 설정하여 항상 일정한 batch size로 학습할 수 있도록 한다. drop 되는 데이터는 다른 epoch을 반복할 때 사용된다."
   ]
  },
  {
   "cell_type": "code",
   "execution_count": 25,
   "metadata": {
    "ExecuteTime": {
     "end_time": "2023-02-20T05:38:30.030526Z",
     "start_time": "2023-02-20T05:38:30.004621Z"
    }
   },
   "outputs": [
    {
     "name": "stdout",
     "output_type": "stream",
     "text": [
      "<class 'tensorflow.python.data.ops.dataset_ops.BatchDataset'>\n",
      "tf.Tensor([0 1 2 3 4], shape=(5,), dtype=int32)\n",
      "tf.Tensor([5 6 7 8 9], shape=(5,), dtype=int32)\n"
     ]
    }
   ],
   "source": [
    "dataset4 = dataset.batch(5)   # batch size 설정 => 한번에 지정한 개수만큼 제공.\n",
    "print(type(dataset4))\n",
    "for data in dataset4:\n",
    "    print(data)"
   ]
  },
  {
   "cell_type": "code",
   "execution_count": 27,
   "metadata": {
    "ExecuteTime": {
     "end_time": "2023-02-20T05:40:32.695537Z",
     "start_time": "2023-02-20T05:40:32.676627Z"
    }
   },
   "outputs": [
    {
     "name": "stdout",
     "output_type": "stream",
     "text": [
      "tf.Tensor([0 1 2], shape=(3,), dtype=int32)\n",
      "tf.Tensor([3 4 5], shape=(3,), dtype=int32)\n",
      "tf.Tensor([6 7 8], shape=(3,), dtype=int32)\n"
     ]
    }
   ],
   "source": [
    "dataset5 = dataset.batch(3, drop_remainder=True) # 읽어올 데이터의 개수가 batch_size보다 적으면 제공하지 않는다. => train dataset 생성할때 설정.\n",
    "for data in dataset5:\n",
    "    print(data)"
   ]
  },
  {
   "cell_type": "markdown",
   "metadata": {
    "slideshow": {
     "slide_type": "slide"
    }
   },
   "source": [
    "##### repeat"
   ]
  },
  {
   "cell_type": "code",
   "execution_count": 30,
   "metadata": {
    "ExecuteTime": {
     "end_time": "2023-02-20T05:45:17.907350Z",
     "start_time": "2023-02-20T05:45:17.876687Z"
    },
    "collapsed": true
   },
   "outputs": [
    {
     "name": "stdout",
     "output_type": "stream",
     "text": [
      "<class 'tensorflow.python.data.ops.dataset_ops.RepeatDataset'>\n",
      "tf.Tensor(0, shape=(), dtype=int32)\n",
      "tf.Tensor(1, shape=(), dtype=int32)\n",
      "tf.Tensor(2, shape=(), dtype=int32)\n",
      "tf.Tensor(3, shape=(), dtype=int32)\n",
      "tf.Tensor(4, shape=(), dtype=int32)\n",
      "tf.Tensor(5, shape=(), dtype=int32)\n",
      "tf.Tensor(6, shape=(), dtype=int32)\n",
      "tf.Tensor(7, shape=(), dtype=int32)\n",
      "tf.Tensor(8, shape=(), dtype=int32)\n",
      "tf.Tensor(9, shape=(), dtype=int32)\n",
      "tf.Tensor(0, shape=(), dtype=int32)\n",
      "tf.Tensor(1, shape=(), dtype=int32)\n",
      "tf.Tensor(2, shape=(), dtype=int32)\n",
      "tf.Tensor(3, shape=(), dtype=int32)\n",
      "tf.Tensor(4, shape=(), dtype=int32)\n",
      "tf.Tensor(5, shape=(), dtype=int32)\n",
      "tf.Tensor(6, shape=(), dtype=int32)\n",
      "tf.Tensor(7, shape=(), dtype=int32)\n",
      "tf.Tensor(8, shape=(), dtype=int32)\n",
      "tf.Tensor(9, shape=(), dtype=int32)\n",
      "tf.Tensor(0, shape=(), dtype=int32)\n",
      "tf.Tensor(1, shape=(), dtype=int32)\n",
      "tf.Tensor(2, shape=(), dtype=int32)\n",
      "tf.Tensor(3, shape=(), dtype=int32)\n",
      "tf.Tensor(4, shape=(), dtype=int32)\n",
      "tf.Tensor(5, shape=(), dtype=int32)\n",
      "tf.Tensor(6, shape=(), dtype=int32)\n",
      "tf.Tensor(7, shape=(), dtype=int32)\n",
      "tf.Tensor(8, shape=(), dtype=int32)\n",
      "tf.Tensor(9, shape=(), dtype=int32)\n",
      "tf.Tensor(0, shape=(), dtype=int32)\n",
      "tf.Tensor(1, shape=(), dtype=int32)\n",
      "tf.Tensor(2, shape=(), dtype=int32)\n",
      "tf.Tensor(3, shape=(), dtype=int32)\n",
      "tf.Tensor(4, shape=(), dtype=int32)\n",
      "tf.Tensor(5, shape=(), dtype=int32)\n",
      "tf.Tensor(6, shape=(), dtype=int32)\n",
      "tf.Tensor(7, shape=(), dtype=int32)\n",
      "tf.Tensor(8, shape=(), dtype=int32)\n",
      "tf.Tensor(9, shape=(), dtype=int32)\n",
      "tf.Tensor(0, shape=(), dtype=int32)\n",
      "tf.Tensor(1, shape=(), dtype=int32)\n",
      "tf.Tensor(2, shape=(), dtype=int32)\n",
      "tf.Tensor(3, shape=(), dtype=int32)\n",
      "tf.Tensor(4, shape=(), dtype=int32)\n",
      "tf.Tensor(5, shape=(), dtype=int32)\n",
      "tf.Tensor(6, shape=(), dtype=int32)\n",
      "tf.Tensor(7, shape=(), dtype=int32)\n",
      "tf.Tensor(8, shape=(), dtype=int32)\n",
      "tf.Tensor(9, shape=(), dtype=int32)\n"
     ]
    }
   ],
   "source": [
    "dataset6 = dataset.repeat(5)  # 지정한 횟수만큼 데이터를 반복해서 제공한다. (default: 1 - 한번)\n",
    "print(type(dataset6))\n",
    "for data in dataset6:\n",
    "    print(data)"
   ]
  },
  {
   "cell_type": "code",
   "execution_count": 41,
   "metadata": {
    "ExecuteTime": {
     "end_time": "2023-02-20T05:54:04.952294Z",
     "start_time": "2023-02-20T05:54:04.923447Z"
    }
   },
   "outputs": [
    {
     "name": "stdout",
     "output_type": "stream",
     "text": [
      "tf.Tensor([0 7 5], shape=(3,), dtype=int32)\n",
      "tf.Tensor([2 6 3], shape=(3,), dtype=int32)\n",
      "tf.Tensor([8 9 1], shape=(3,), dtype=int32)\n",
      "tf.Tensor([4], shape=(1,), dtype=int32)\n",
      "tf.Tensor([2 4 0], shape=(3,), dtype=int32)\n",
      "tf.Tensor([8 7 6], shape=(3,), dtype=int32)\n",
      "tf.Tensor([1 3 5], shape=(3,), dtype=int32)\n",
      "tf.Tensor([9], shape=(1,), dtype=int32)\n",
      "tf.Tensor([6 8 4], shape=(3,), dtype=int32)\n",
      "tf.Tensor([7 5 1], shape=(3,), dtype=int32)\n",
      "tf.Tensor([3 0 2], shape=(3,), dtype=int32)\n",
      "tf.Tensor([9], shape=(1,), dtype=int32)\n"
     ]
    }
   ],
   "source": [
    "dataset7 = tf.data.Dataset.from_tensor_slices(raw_data1).shuffle(10).batch(3).repeat(3) # 데이터셋을 반복할때 마다 shuffle\n",
    "for data in dataset7:\n",
    "    print(data)"
   ]
  },
  {
   "cell_type": "markdown",
   "metadata": {
    "slideshow": {
     "slide_type": "slide"
    }
   },
   "source": [
    "##### map"
   ]
  },
  {
   "cell_type": "code",
   "execution_count": 43,
   "metadata": {
    "ExecuteTime": {
     "end_time": "2023-02-20T06:14:18.975993Z",
     "start_time": "2023-02-20T06:14:18.924909Z"
    },
    "scrolled": true
   },
   "outputs": [
    {
     "name": "stdout",
     "output_type": "stream",
     "text": [
      "<class 'tensorflow.python.data.ops.dataset_ops.MapDataset'>\n",
      "tf.Tensor(0, shape=(), dtype=int32)\n",
      "tf.Tensor(2, shape=(), dtype=int32)\n",
      "tf.Tensor(4, shape=(), dtype=int32)\n",
      "tf.Tensor(6, shape=(), dtype=int32)\n",
      "tf.Tensor(8, shape=(), dtype=int32)\n",
      "tf.Tensor(10, shape=(), dtype=int32)\n",
      "tf.Tensor(12, shape=(), dtype=int32)\n",
      "tf.Tensor(14, shape=(), dtype=int32)\n",
      "tf.Tensor(16, shape=(), dtype=int32)\n",
      "tf.Tensor(18, shape=(), dtype=int32)\n"
     ]
    }
   ],
   "source": [
    "dataset8 = dataset.map(lambda x: x * 2)\n",
    "print(type(dataset8))\n",
    "for data in dataset8:\n",
    "    print(data)"
   ]
  },
  {
   "cell_type": "code",
   "execution_count": 47,
   "metadata": {
    "ExecuteTime": {
     "end_time": "2023-02-20T06:17:36.942009Z",
     "start_time": "2023-02-20T06:17:36.861093Z"
    }
   },
   "outputs": [
    {
     "name": "stdout",
     "output_type": "stream",
     "text": [
      "tf.Tensor(0, shape=(), dtype=int32) tf.Tensor(10, shape=(), dtype=int32)\n",
      "tf.Tensor(1, shape=(), dtype=int32) tf.Tensor(11, shape=(), dtype=int32)\n",
      "tf.Tensor(4, shape=(), dtype=int32) tf.Tensor(12, shape=(), dtype=int32)\n",
      "tf.Tensor(9, shape=(), dtype=int32) tf.Tensor(13, shape=(), dtype=int32)\n",
      "tf.Tensor(16, shape=(), dtype=int32) tf.Tensor(14, shape=(), dtype=int32)\n",
      "tf.Tensor(25, shape=(), dtype=int32) tf.Tensor(15, shape=(), dtype=int32)\n",
      "tf.Tensor(36, shape=(), dtype=int32) tf.Tensor(16, shape=(), dtype=int32)\n",
      "tf.Tensor(49, shape=(), dtype=int32) tf.Tensor(17, shape=(), dtype=int32)\n",
      "tf.Tensor(64, shape=(), dtype=int32) tf.Tensor(18, shape=(), dtype=int32)\n",
      "tf.Tensor(81, shape=(), dtype=int32) tf.Tensor(19, shape=(), dtype=int32)\n"
     ]
    }
   ],
   "source": [
    "# 두개의 dataset(x,y)을 묶은 Dataset객체\n",
    "def map_func(x, y):\n",
    "    return x**2, y   # X는 제곱, y는 그대로 반환.\n",
    "\n",
    "dataset9 = dataset2.map(map_func)\n",
    "for x, y in dataset9:\n",
    "    print(x, y)"
   ]
  },
  {
   "cell_type": "markdown",
   "metadata": {
    "slideshow": {
     "slide_type": "slide"
    }
   },
   "source": [
    "##### filter"
   ]
  },
  {
   "cell_type": "code",
   "execution_count": 49,
   "metadata": {
    "ExecuteTime": {
     "end_time": "2023-02-20T06:19:58.264243Z",
     "start_time": "2023-02-20T06:19:58.214205Z"
    }
   },
   "outputs": [
    {
     "name": "stdout",
     "output_type": "stream",
     "text": [
      "<class 'tensorflow.python.data.ops.filter_op.FilterDataset'>\n",
      "tf.Tensor(0, shape=(), dtype=int32)\n",
      "tf.Tensor(2, shape=(), dtype=int32)\n",
      "tf.Tensor(4, shape=(), dtype=int32)\n",
      "tf.Tensor(6, shape=(), dtype=int32)\n",
      "tf.Tensor(8, shape=(), dtype=int32)\n"
     ]
    }
   ],
   "source": [
    "def filter_func(x):\n",
    "    return x % 2 == 0  # 2의 배수: True\n",
    "\n",
    "dataset11 = dataset.filter(filter_func)\n",
    "print(type(dataset11))\n",
    "for data in dataset11:\n",
    "    print(data)"
   ]
  },
  {
   "cell_type": "markdown",
   "metadata": {
    "slideshow": {
     "slide_type": "slide"
    }
   },
   "source": [
    "# 문제 유형별 MLP 네트워크\n",
    "- MLP(Multi Layer Perceptron), ANN(Artificial Neural Network), DNN (Deep Neural Network)\n",
    "    - Fully Connected Layer(Dense)로 구성된 네트워크"
   ]
  },
  {
   "cell_type": "code",
   "execution_count": 50,
   "metadata": {
    "ExecuteTime": {
     "end_time": "2023-02-20T06:26:38.962800Z",
     "start_time": "2023-02-20T06:26:23.503137Z"
    },
    "collapsed": true
   },
   "outputs": [
    {
     "name": "stdout",
     "output_type": "stream",
     "text": [
      "Collecting scikit-learn\n",
      "  Using cached scikit_learn-1.2.1-cp39-cp39-win_amd64.whl (8.4 MB)\n",
      "Requirement already satisfied: numpy>=1.17.3 in c:\\users\\playdata\\anaconda3\\envs\\tf\\lib\\site-packages (from scikit-learn) (1.24.2)\n",
      "Collecting threadpoolctl>=2.0.0\n",
      "  Using cached threadpoolctl-3.1.0-py3-none-any.whl (14 kB)\n",
      "Collecting scipy>=1.3.2\n",
      "  Downloading scipy-1.10.1-cp39-cp39-win_amd64.whl (42.5 MB)\n",
      "     --------------------------------------- 42.5/42.5 MB 50.4 MB/s eta 0:00:00\n",
      "Collecting joblib>=1.1.1\n",
      "  Using cached joblib-1.2.0-py3-none-any.whl (297 kB)\n",
      "Installing collected packages: threadpoolctl, scipy, joblib, scikit-learn\n",
      "Successfully installed joblib-1.2.0 scikit-learn-1.2.1 scipy-1.10.1 threadpoolctl-3.1.0\n"
     ]
    }
   ],
   "source": [
    "!pip install scikit-learn --upgrade"
   ]
  },
  {
   "cell_type": "markdown",
   "metadata": {
    "slideshow": {
     "slide_type": "fragment"
    }
   },
   "source": [
    "# Regression(회귀)\n",
    "\n",
    "## Boston Housing Dataset\n",
    "보스턴 주택가격 dataset은 다음과 같은 속성을 바탕으로 해당 타운 주택 가격의 중앙값을 예측하는 문제.\n",
    "- CRIM: 범죄율\n",
    "- ZN: 25,000 평방피트당 주거지역 비율\n",
    "- INDUS: 비소매 상업지구 비율\n",
    "- CHAS: 찰스강에 인접해 있는지 여부(인접:1, 아니면:0)\n",
    "- NOX: 일산화질소 농도(단위: 0.1ppm)\n",
    "- RM: 주택당 방의 수\n",
    "- AGE: 1940년 이전에 건설된 주택의 비율\n",
    "- DIS: 5개의 보스턴 직업고용센터와의 거리(가중 평균)\n",
    "- RAD: 고속도로 접근성\n",
    "- TAX: 재산세율\n",
    "- PTRATIO: 학생/교사 비율\n",
    "- B: 흑인 비율\n",
    "- LSTAT: 하위 계층 비율\n",
    "<br><br>\n",
    "- **Target**\n",
    "    - MEDV: 타운의 주택가격 중앙값(단위: 1,000달러)"
   ]
  },
  {
   "cell_type": "code",
   "execution_count": 52,
   "metadata": {
    "ExecuteTime": {
     "end_time": "2023-02-20T06:29:28.506734Z",
     "start_time": "2023-02-20T06:29:28.493970Z"
    }
   },
   "outputs": [],
   "source": [
    "import tensorflow as tf\n",
    "from tensorflow import keras\n",
    "from tensorflow.keras import layers\n",
    "\n",
    "import numpy as np\n",
    "import matplotlib.pyplot as plt\n",
    "\n",
    "from sklearn.preprocessing import StandardScaler\n",
    "\n",
    "import random"
   ]
  },
  {
   "cell_type": "code",
   "execution_count": 53,
   "metadata": {
    "ExecuteTime": {
     "end_time": "2023-02-20T06:29:50.478072Z",
     "start_time": "2023-02-20T06:29:50.470041Z"
    }
   },
   "outputs": [],
   "source": [
    "# random seed값 설정\n",
    "tf.random.set_seed(0)\n",
    "np.random.seed(0)\n",
    "random.seed(0)"
   ]
  },
  {
   "cell_type": "markdown",
   "metadata": {
    "slideshow": {
     "slide_type": "slide"
    }
   },
   "source": [
    "##### 데이터 로딩"
   ]
  },
  {
   "cell_type": "code",
   "execution_count": 54,
   "metadata": {
    "ExecuteTime": {
     "end_time": "2023-02-20T06:33:11.033949Z",
     "start_time": "2023-02-20T06:33:10.990643Z"
    }
   },
   "outputs": [
    {
     "name": "stdout",
     "output_type": "stream",
     "text": [
      "(404, 13) (404,)\n",
      "(102, 13) (102,)\n"
     ]
    }
   ],
   "source": [
    "(train_X, y_train), (test_X, y_test) = keras.datasets.boston_housing.load_data()\n",
    "print(train_X.shape, y_train.shape)\n",
    "print(test_X.shape, y_test.shape)"
   ]
  },
  {
   "cell_type": "code",
   "execution_count": 56,
   "metadata": {
    "ExecuteTime": {
     "end_time": "2023-02-20T06:34:20.004829Z",
     "start_time": "2023-02-20T06:34:19.984773Z"
    }
   },
   "outputs": [
    {
     "name": "stdout",
     "output_type": "stream",
     "text": [
      "[  1.23247   0.        8.14      0.        0.538     6.142    91.7\n",
      "   3.9769    4.      307.       21.      396.9      18.72   ]\n",
      "15.2\n"
     ]
    }
   ],
   "source": [
    "print(train_X[0])\n",
    "print(y_train[0])"
   ]
  },
  {
   "cell_type": "markdown",
   "metadata": {
    "slideshow": {
     "slide_type": "slide"
    }
   },
   "source": [
    "##### 하이퍼파라미터, 변수 정의"
   ]
  },
  {
   "cell_type": "code",
   "execution_count": 63,
   "metadata": {
    "ExecuteTime": {
     "end_time": "2023-02-20T06:49:07.480542Z",
     "start_time": "2023-02-20T06:49:07.470511Z"
    }
   },
   "outputs": [],
   "source": [
    "#하이퍼파라미터 변수\n",
    "\n",
    "# 학습율 => 경사하강법에서 구한 gradient(경사-미분계수)에 곱해주는 값으로 0 ~ 1 사이 실수를 지정한다. optimizer 생성때 설정.\n",
    "LEARNING_RATE = 0.001  \n",
    "N_EPOCH = 200 # 에폭수\n",
    "N_BATCH = 400 # Train 배치사이즈\n",
    "N_BATCH_VAL = 50 # Validation/evaluation 배치 사이즈. ==> 교차검증 폴더 데이터 수."
   ]
  },
  {
   "cell_type": "markdown",
   "metadata": {
    "slideshow": {
     "slide_type": "fragment"
    }
   },
   "source": [
    "##### X, y 전처리\n",
    "- MLP는 선형모델을 기반으로 하므로 Feature scaling을 해준다."
   ]
  },
  {
   "cell_type": "code",
   "execution_count": 58,
   "metadata": {
    "ExecuteTime": {
     "end_time": "2023-02-20T06:39:19.558319Z",
     "start_time": "2023-02-20T06:39:19.551300Z"
    }
   },
   "outputs": [],
   "source": [
    "scaler = StandardScaler()\n",
    "X_train = scaler.fit_transform(train_X)\n",
    "X_test = scaler.transform(test_X)"
   ]
  },
  {
   "cell_type": "code",
   "execution_count": 59,
   "metadata": {
    "ExecuteTime": {
     "end_time": "2023-02-20T06:39:37.919946Z",
     "start_time": "2023-02-20T06:39:37.885374Z"
    }
   },
   "outputs": [
    {
     "data": {
      "text/plain": [
       "(2.6016254395785847e-15, 0.9999999999999993)"
      ]
     },
     "execution_count": 59,
     "metadata": {},
     "output_type": "execute_result"
    }
   ],
   "source": [
    "X_train.mean(), X_train.std()"
   ]
  },
  {
   "cell_type": "code",
   "execution_count": null,
   "metadata": {},
   "outputs": [],
   "source": [
    "# 회귀: y는 그대로 사용."
   ]
  },
  {
   "cell_type": "markdown",
   "metadata": {
    "slideshow": {
     "slide_type": "slide"
    }
   },
   "source": [
    "##### Dataset 생성\n",
    "\n",
    "- validation/test set의 pipe line은 동일하게 구성한다.\n",
    "- train dataset은 shuffle을 추가하고 batch에 drop_remainder=True를 설정한다.\n",
    "- map, filter 를 pipe line에 추가할 경우 train/validation/test set에 모두 동일하게 적용한다."
   ]
  },
  {
   "cell_type": "code",
   "execution_count": 64,
   "metadata": {
    "ExecuteTime": {
     "end_time": "2023-02-20T06:51:43.664810Z",
     "start_time": "2023-02-20T06:51:43.622891Z"
    }
   },
   "outputs": [],
   "source": [
    "train_dataset = tf.data.Dataset.from_tensor_slices((X_train, y_train)) \\\n",
    "                               .shuffle(X_train.shape[0])\\\n",
    "                               .batch(N_BATCH, drop_remainder=True)\n",
    "\n",
    "test_dataset = tf.data.Dataset.from_tensor_slices((X_test, y_test)).batch(N_BATCH_VAL)\n",
    "#  test/validation set은 1. shuffle 안한다. (평균결과로 평가하기 때문에.) \n",
    "#                        2. batch->drop_remainder=False(기본)으로 설정."
   ]
  },
  {
   "cell_type": "code",
   "execution_count": 66,
   "metadata": {
    "ExecuteTime": {
     "end_time": "2023-02-20T06:53:12.146779Z",
     "start_time": "2023-02-20T06:53:12.127435Z"
    }
   },
   "outputs": [
    {
     "name": "stdout",
     "output_type": "stream",
     "text": [
      "에폭당 step수: 1\n",
      "에폭당 step수: 3\n"
     ]
    }
   ],
   "source": [
    "print('에폭당 step수:', len(train_dataset))\n",
    "print('에폭당 step수:', len(test_dataset))"
   ]
  },
  {
   "cell_type": "code",
   "execution_count": 67,
   "metadata": {
    "ExecuteTime": {
     "end_time": "2023-02-20T06:53:12.146779Z",
     "start_time": "2023-02-20T06:53:12.127435Z"
    }
   },
   "outputs": [
    {
     "data": {
      "text/plain": [
       "(102, 13)"
      ]
     },
     "execution_count": 67,
     "metadata": {},
     "output_type": "execute_result"
    }
   ],
   "source": [
    "X_test.shape"
   ]
  },
  {
   "cell_type": "markdown",
   "metadata": {
    "slideshow": {
     "slide_type": "slide"
    }
   },
   "source": [
    "##### 모델 구현\n",
    "\n",
    "1. 모델 객체 생성 - Sequential\n",
    "2. 모델에 Layer들 추가\n",
    "    - Input Layer 추가\n",
    "        - 입력 데이터의 shape을 지정한다.\n",
    "        1. InputLayer 객체를 생성해서 추가한다.\n",
    "        2. 첫번째 Hidden Layer에 input_shape 매개변수에 shape을 지정하여 추가한다.\n",
    "    - Hidden Layer들 추가\n",
    "        - Layer의 개수와 Layer의 Unit의 개수는 튜닝대상으로 성능에 영향을 준다.\n",
    "        - 활성함수는 ReLU 를 사용한다.\n",
    "        - Layer의 개수와 Unit 개수가 많을 수록 복잡한 모델, 적을 수록 단순한 모델이된다.\n",
    "    - Output Layer 추가\n",
    "        - 풀려는 문제에 따라 unit개수와 활성함수를 지정한다."
   ]
  },
  {
   "cell_type": "code",
   "execution_count": 70,
   "metadata": {
    "ExecuteTime": {
     "end_time": "2023-02-20T07:29:01.595816Z",
     "start_time": "2023-02-20T07:29:01.586525Z"
    }
   },
   "outputs": [],
   "source": [
    "def get_model_boston(lr=0.01):\n",
    "    model = keras.Sequential()\n",
    "    # 첫번째 hidden layer에 input shape을 지정하고 InputLayer 추가를 생략.\n",
    "    # Activation 함수 Layer(layers.ReLU())는 Dense Layer 생성시 activation 속성에 추가 가능.\n",
    "    model.add(layers.Dense(units=32, activation='relu', input_shape=(13, )))\n",
    "    model.add(layers.Dense(units=16, activation='relu'))\n",
    "    model.add(layers.Dense(units=8, activation='relu'))\n",
    "    \n",
    "    # 회귀 output layer: unit개수-예측하려는 값의 개수.  \n",
    "    #            활성함수 - 보통: None. 값의 범위를 맞추기 위해 logistic함수(sigmoid-0~1)나 tanh(-1~1)을 사용할 수 있다.\n",
    "    # y: 1개(집값의 중위수)\n",
    "    model.add(layers.Dense(units=1)) #activation : None\n",
    "    \n",
    "    # 컴파일\n",
    "    model.compile(optimizer=keras.optimizers.Adam(learning_rate=lr), # default값으로 생성된 것을 사용할 경우 문자열로 지정.\n",
    "                  loss='mse')\n",
    "    return model"
   ]
  },
  {
   "cell_type": "code",
   "execution_count": 82,
   "metadata": {
    "ExecuteTime": {
     "end_time": "2023-02-20T07:44:56.270329Z",
     "start_time": "2023-02-20T07:44:56.177815Z"
    }
   },
   "outputs": [
    {
     "name": "stdout",
     "output_type": "stream",
     "text": [
      "Model: \"sequential_2\"\n",
      "_________________________________________________________________\n",
      " Layer (type)                Output Shape              Param #   \n",
      "=================================================================\n",
      " dense_8 (Dense)             (None, 32)                448       \n",
      "                                                                 \n",
      " dense_9 (Dense)             (None, 16)                528       \n",
      "                                                                 \n",
      " dense_10 (Dense)            (None, 8)                 136       \n",
      "                                                                 \n",
      " dense_11 (Dense)            (None, 1)                 9         \n",
      "                                                                 \n",
      "=================================================================\n",
      "Total params: 1,121\n",
      "Trainable params: 1,121\n",
      "Non-trainable params: 0\n",
      "_________________________________________________________________\n"
     ]
    }
   ],
   "source": [
    "# model_boston = get_model_boston(LEARNING_RATE)\n",
    "model_boston = get_model_boston()\n",
    "# 딥러닝 모델의 구조 확인\n",
    "model_boston.summary()"
   ]
  },
  {
   "cell_type": "code",
   "execution_count": 73,
   "metadata": {
    "ExecuteTime": {
     "end_time": "2023-02-20T07:32:45.102508Z",
     "start_time": "2023-02-20T07:32:45.080819Z"
    }
   },
   "outputs": [
    {
     "data": {
      "text/plain": [
       "448"
      ]
     },
     "execution_count": 73,
     "metadata": {},
     "output_type": "execute_result"
    }
   ],
   "source": [
    "# 유닛당 파라미터(weight, bias) 개수\n",
    "# 입력 feature개수(weight수) + 1(bias)\n",
    "\n",
    "# 첫번째 layer의 파라미터 수\n",
    "# 입력 feature: 13 (input_shape), units: 32\n",
    "(13+1)*32"
   ]
  },
  {
   "cell_type": "code",
   "execution_count": 75,
   "metadata": {
    "ExecuteTime": {
     "end_time": "2023-02-20T07:34:04.709358Z",
     "start_time": "2023-02-20T07:34:04.177460Z"
    },
    "scrolled": true
   },
   "outputs": [
    {
     "data": {
      "image/png": "[encoded data removed]",
      "text/plain": [
       "<IPython.core.display.Image object>"
      ]
     },
     "execution_count": 75,
     "metadata": {},
     "output_type": "execute_result"
    }
   ],
   "source": [
    "keras.utils.plot_model(model_boston, show_shapes=True)"
   ]
  },
  {
   "cell_type": "markdown",
   "metadata": {
    "slideshow": {
     "slide_type": "slide"
    }
   },
   "source": [
    "##### 학습(Train)"
   ]
  },
  {
   "cell_type": "code",
   "execution_count": 83,
   "metadata": {
    "ExecuteTime": {
     "end_time": "2023-02-20T07:45:24.452075Z",
     "start_time": "2023-02-20T07:45:11.417912Z"
    },
    "collapsed": true
   },
   "outputs": [
    {
     "name": "stdout",
     "output_type": "stream",
     "text": [
      "Epoch 1/200\n",
      "1/1 [==============================] - 1s 721ms/step - loss: 556.0840 - val_loss: 569.0878\n",
      "Epoch 2/200\n",
      "1/1 [==============================] - 0s 48ms/step - loss: 542.0179 - val_loss: 547.7905\n",
      "Epoch 3/200\n",
      "1/1 [==============================] - 0s 56ms/step - loss: 519.0252 - val_loss: 523.1669\n",
      "Epoch 4/200\n",
      "1/1 [==============================] - 0s 51ms/step - loss: 493.7372 - val_loss: 494.4103\n",
      "Epoch 5/200\n",
      "1/1 [==============================] - 0s 56ms/step - loss: 461.7959 - val_loss: 460.8763\n",
      "Epoch 6/200\n",
      "1/1 [==============================] - 0s 52ms/step - loss: 430.8162 - val_loss: 422.6938\n",
      "Epoch 7/200\n",
      "1/1 [==============================] - 0s 55ms/step - loss: 393.7028 - val_loss: 379.8684\n",
      "Epoch 8/200\n",
      "1/1 [==============================] - 0s 53ms/step - loss: 351.6821 - val_loss: 333.0395\n",
      "Epoch 9/200\n",
      "1/1 [==============================] - 0s 61ms/step - loss: 306.4962 - val_loss: 283.7104\n",
      "Epoch 10/200\n",
      "1/1 [==============================] - 0s 44ms/step - loss: 257.7911 - val_loss: 234.3712\n",
      "Epoch 11/200\n",
      "1/1 [==============================] - 0s 53ms/step - loss: 209.8988 - val_loss: 188.8692\n",
      "Epoch 12/200\n",
      "1/1 [==============================] - 0s 53ms/step - loss: 168.2706 - val_loss: 151.0762\n",
      "Epoch 13/200\n",
      "1/1 [==============================] - 0s 54ms/step - loss: 133.9837 - val_loss: 124.7021\n",
      "Epoch 14/200\n",
      "1/1 [==============================] - 0s 32ms/step - loss: 111.0923 - val_loss: 112.7314\n",
      "Epoch 15/200\n",
      "1/1 [==============================] - 0s 29ms/step - loss: 103.7878 - val_loss: 114.0600\n",
      "Epoch 16/200\n",
      "1/1 [==============================] - 0s 32ms/step - loss: 106.4518 - val_loss: 122.1860\n",
      "Epoch 17/200\n",
      "1/1 [==============================] - 0s 65ms/step - loss: 119.1303 - val_loss: 127.0415\n",
      "Epoch 18/200\n",
      "1/1 [==============================] - 0s 47ms/step - loss: 124.7986 - val_loss: 122.6348\n",
      "Epoch 19/200\n",
      "1/1 [==============================] - 0s 63ms/step - loss: 120.4695 - val_loss: 109.8822\n",
      "Epoch 20/200\n",
      "1/1 [==============================] - 0s 43ms/step - loss: 106.8309 - val_loss: 93.1652\n",
      "Epoch 21/200\n",
      "1/1 [==============================] - 0s 37ms/step - loss: 88.7789 - val_loss: 77.0304\n",
      "Epoch 22/200\n",
      "1/1 [==============================] - 0s 23ms/step - loss: 71.2010 - val_loss: 64.5020\n",
      "Epoch 23/200\n",
      "1/1 [==============================] - 0s 52ms/step - loss: 57.6783 - val_loss: 56.6463\n",
      "Epoch 24/200\n",
      "1/1 [==============================] - 0s 52ms/step - loss: 48.6577 - val_loss: 52.9947\n",
      "Epoch 25/200\n",
      "1/1 [==============================] - 0s 70ms/step - loss: 42.9793 - val_loss: 52.2409\n",
      "Epoch 26/200\n",
      "1/1 [==============================] - 0s 74ms/step - loss: 42.7794 - val_loss: 52.9695\n",
      "Epoch 27/200\n",
      "1/1 [==============================] - 0s 44ms/step - loss: 42.8952 - val_loss: 53.8704\n",
      "Epoch 28/200\n",
      "1/1 [==============================] - 0s 76ms/step - loss: 43.2516 - val_loss: 54.1302\n",
      "Epoch 29/200\n",
      "1/1 [==============================] - 0s 55ms/step - loss: 42.2024 - val_loss: 53.3419\n",
      "Epoch 30/200\n",
      "1/1 [==============================] - 0s 76ms/step - loss: 42.4674 - val_loss: 51.4349\n",
      "Epoch 31/200\n",
      "1/1 [==============================] - 0s 77ms/step - loss: 40.7234 - val_loss: 48.6912\n",
      "Epoch 32/200\n",
      "1/1 [==============================] - 0s 70ms/step - loss: 38.5189 - val_loss: 45.5565\n",
      "Epoch 33/200\n",
      "1/1 [==============================] - 0s 55ms/step - loss: 35.6230 - val_loss: 42.4358\n",
      "Epoch 34/200\n",
      "1/1 [==============================] - 0s 57ms/step - loss: 33.0150 - val_loss: 39.7699\n",
      "Epoch 35/200\n",
      "1/1 [==============================] - 0s 54ms/step - loss: 31.8491 - val_loss: 37.8228\n",
      "Epoch 36/200\n",
      "1/1 [==============================] - 0s 46ms/step - loss: 30.2111 - val_loss: 36.5999\n",
      "Epoch 37/200\n",
      "1/1 [==============================] - 0s 48ms/step - loss: 30.7821 - val_loss: 35.8711\n",
      "Epoch 38/200\n",
      "1/1 [==============================] - 0s 71ms/step - loss: 30.8206 - val_loss: 35.2426\n",
      "Epoch 39/200\n",
      "1/1 [==============================] - 0s 62ms/step - loss: 31.1815 - val_loss: 34.3845\n",
      "Epoch 40/200\n",
      "1/1 [==============================] - 0s 35ms/step - loss: 30.7994 - val_loss: 33.1111\n",
      "Epoch 41/200\n",
      "1/1 [==============================] - 0s 43ms/step - loss: 29.7379 - val_loss: 31.4778\n",
      "Epoch 42/200\n",
      "1/1 [==============================] - 0s 37ms/step - loss: 28.7431 - val_loss: 29.7173\n",
      "Epoch 43/200\n",
      "1/1 [==============================] - 0s 37ms/step - loss: 27.0545 - val_loss: 28.1128\n",
      "Epoch 44/200\n",
      "1/1 [==============================] - 0s 34ms/step - loss: 25.2024 - val_loss: 26.9038\n",
      "Epoch 45/200\n",
      "1/1 [==============================] - 0s 22ms/step - loss: 23.4985 - val_loss: 26.1788\n",
      "Epoch 46/200\n",
      "1/1 [==============================] - 0s 27ms/step - loss: 22.4685 - val_loss: 25.8948\n",
      "Epoch 47/200\n",
      "1/1 [==============================] - 0s 30ms/step - loss: 21.1925 - val_loss: 25.9069\n",
      "Epoch 48/200\n",
      "1/1 [==============================] - 0s 32ms/step - loss: 21.2188 - val_loss: 26.0344\n",
      "Epoch 49/200\n",
      "1/1 [==============================] - 0s 36ms/step - loss: 20.9406 - val_loss: 26.1192\n",
      "Epoch 50/200\n",
      "1/1 [==============================] - 0s 38ms/step - loss: 20.8279 - val_loss: 26.0300\n",
      "Epoch 51/200\n",
      "1/1 [==============================] - 0s 50ms/step - loss: 20.3954 - val_loss: 25.7507\n",
      "Epoch 52/200\n",
      "1/1 [==============================] - 0s 49ms/step - loss: 20.0268 - val_loss: 25.3393\n",
      "Epoch 53/200\n",
      "1/1 [==============================] - 0s 72ms/step - loss: 19.4150 - val_loss: 24.8894\n",
      "Epoch 54/200\n",
      "1/1 [==============================] - 0s 58ms/step - loss: 18.6589 - val_loss: 24.5244\n",
      "Epoch 55/200\n",
      "1/1 [==============================] - 0s 68ms/step - loss: 18.1935 - val_loss: 24.3174\n",
      "Epoch 56/200\n",
      "1/1 [==============================] - 0s 50ms/step - loss: 17.8013 - val_loss: 24.3138\n",
      "Epoch 57/200\n",
      "1/1 [==============================] - 0s 70ms/step - loss: 17.4608 - val_loss: 24.4805\n",
      "Epoch 58/200\n",
      "1/1 [==============================] - 0s 75ms/step - loss: 17.2703 - val_loss: 24.7563\n",
      "Epoch 59/200\n",
      "1/1 [==============================] - 0s 67ms/step - loss: 16.8423 - val_loss: 25.0602\n",
      "Epoch 60/200\n",
      "1/1 [==============================] - 0s 22ms/step - loss: 17.1107 - val_loss: 25.2903\n",
      "Epoch 61/200\n",
      "1/1 [==============================] - 0s 29ms/step - loss: 16.9545 - val_loss: 25.3969\n",
      "Epoch 62/200\n",
      "1/1 [==============================] - 0s 25ms/step - loss: 16.6066 - val_loss: 25.3816\n",
      "Epoch 63/200\n",
      "1/1 [==============================] - 0s 25ms/step - loss: 16.3130 - val_loss: 25.2769\n",
      "Epoch 64/200\n",
      "1/1 [==============================] - 0s 41ms/step - loss: 15.8862 - val_loss: 25.1317\n",
      "Epoch 65/200\n",
      "1/1 [==============================] - 0s 51ms/step - loss: 15.5309 - val_loss: 24.9851\n",
      "Epoch 66/200\n",
      "1/1 [==============================] - 0s 55ms/step - loss: 15.3152 - val_loss: 24.8575\n",
      "Epoch 67/200\n",
      "1/1 [==============================] - 0s 60ms/step - loss: 15.0203 - val_loss: 24.7452\n",
      "Epoch 68/200\n",
      "1/1 [==============================] - 0s 77ms/step - loss: 12.9286 - val_loss: 24.6118\n",
      "Epoch 69/200\n",
      "1/1 [==============================] - 0s 37ms/step - loss: 14.3349 - val_loss: 24.4659\n",
      "Epoch 70/200\n",
      "1/1 [==============================] - 0s 63ms/step - loss: 14.4270 - val_loss: 24.2992\n",
      "Epoch 71/200\n",
      "1/1 [==============================] - 0s 41ms/step - loss: 14.2480 - val_loss: 24.1120\n",
      "Epoch 72/200\n",
      "1/1 [==============================] - 0s 40ms/step - loss: 13.9846 - val_loss: 23.9133\n",
      "Epoch 73/200\n",
      "1/1 [==============================] - 0s 47ms/step - loss: 13.7742 - val_loss: 23.7251\n",
      "Epoch 74/200\n",
      "1/1 [==============================] - 0s 40ms/step - loss: 13.6116 - val_loss: 23.5701\n",
      "Epoch 75/200\n",
      "1/1 [==============================] - 0s 51ms/step - loss: 13.2758 - val_loss: 23.4410\n",
      "Epoch 76/200\n",
      "1/1 [==============================] - 0s 46ms/step - loss: 13.1629 - val_loss: 23.3377\n",
      "Epoch 77/200\n",
      "1/1 [==============================] - 0s 50ms/step - loss: 13.0427 - val_loss: 23.2546\n",
      "Epoch 78/200\n",
      "1/1 [==============================] - 0s 47ms/step - loss: 12.7603 - val_loss: 23.1858\n",
      "Epoch 79/200\n",
      "1/1 [==============================] - 0s 49ms/step - loss: 12.7644 - val_loss: 23.1151\n",
      "Epoch 80/200\n",
      "1/1 [==============================] - 0s 55ms/step - loss: 12.6240 - val_loss: 23.0292\n",
      "Epoch 81/200\n",
      "1/1 [==============================] - 0s 59ms/step - loss: 12.5246 - val_loss: 22.9457\n"
     ]
    },
    {
     "name": "stdout",
     "output_type": "stream",
     "text": [
      "Epoch 82/200\n",
      "1/1 [==============================] - 0s 50ms/step - loss: 12.3955 - val_loss: 22.8672\n",
      "Epoch 83/200\n",
      "1/1 [==============================] - 0s 46ms/step - loss: 12.1427 - val_loss: 22.8017\n",
      "Epoch 84/200\n",
      "1/1 [==============================] - 0s 24ms/step - loss: 12.0650 - val_loss: 22.7459\n",
      "Epoch 85/200\n",
      "1/1 [==============================] - 0s 46ms/step - loss: 11.9803 - val_loss: 22.6984\n",
      "Epoch 86/200\n",
      "1/1 [==============================] - 0s 24ms/step - loss: 11.8631 - val_loss: 22.6656\n",
      "Epoch 87/200\n",
      "1/1 [==============================] - 0s 47ms/step - loss: 11.7702 - val_loss: 22.6488\n",
      "Epoch 88/200\n",
      "1/1 [==============================] - 0s 45ms/step - loss: 11.4920 - val_loss: 22.6488\n",
      "Epoch 89/200\n",
      "1/1 [==============================] - 0s 36ms/step - loss: 11.5868 - val_loss: 22.6570\n",
      "Epoch 90/200\n",
      "1/1 [==============================] - 0s 43ms/step - loss: 11.4913 - val_loss: 22.6795\n",
      "Epoch 91/200\n",
      "1/1 [==============================] - 0s 48ms/step - loss: 11.2141 - val_loss: 22.7197\n",
      "Epoch 92/200\n",
      "1/1 [==============================] - 0s 51ms/step - loss: 11.2574 - val_loss: 22.7899\n",
      "Epoch 93/200\n",
      "1/1 [==============================] - 0s 61ms/step - loss: 11.1963 - val_loss: 22.8843\n",
      "Epoch 94/200\n",
      "1/1 [==============================] - 0s 31ms/step - loss: 11.0898 - val_loss: 22.9939\n",
      "Epoch 95/200\n",
      "1/1 [==============================] - 0s 44ms/step - loss: 10.7770 - val_loss: 23.1222\n",
      "Epoch 96/200\n",
      "1/1 [==============================] - 0s 24ms/step - loss: 10.9755 - val_loss: 23.2563\n",
      "Epoch 97/200\n",
      "1/1 [==============================] - 0s 47ms/step - loss: 10.9252 - val_loss: 23.3804\n",
      "Epoch 98/200\n",
      "1/1 [==============================] - 0s 42ms/step - loss: 10.8847 - val_loss: 23.4896\n",
      "Epoch 99/200\n",
      "1/1 [==============================] - 0s 37ms/step - loss: 10.8203 - val_loss: 23.5813\n",
      "Epoch 100/200\n",
      "1/1 [==============================] - 0s 51ms/step - loss: 10.7391 - val_loss: 23.6433\n",
      "Epoch 101/200\n",
      "1/1 [==============================] - 0s 35ms/step - loss: 10.6008 - val_loss: 23.6829\n",
      "Epoch 102/200\n",
      "1/1 [==============================] - 0s 45ms/step - loss: 10.6363 - val_loss: 23.7112\n",
      "Epoch 103/200\n",
      "1/1 [==============================] - 0s 40ms/step - loss: 10.5332 - val_loss: 23.7136\n",
      "Epoch 104/200\n",
      "1/1 [==============================] - 0s 62ms/step - loss: 10.3695 - val_loss: 23.6858\n",
      "Epoch 105/200\n",
      "1/1 [==============================] - 0s 45ms/step - loss: 10.4545 - val_loss: 23.6401\n",
      "Epoch 106/200\n",
      "1/1 [==============================] - 0s 42ms/step - loss: 10.4281 - val_loss: 23.5859\n",
      "Epoch 107/200\n",
      "1/1 [==============================] - 0s 49ms/step - loss: 10.3931 - val_loss: 23.5325\n",
      "Epoch 108/200\n",
      "1/1 [==============================] - 0s 26ms/step - loss: 10.3405 - val_loss: 23.4778\n",
      "Epoch 109/200\n",
      "1/1 [==============================] - 0s 37ms/step - loss: 10.3131 - val_loss: 23.4265\n",
      "Epoch 110/200\n",
      "1/1 [==============================] - 0s 46ms/step - loss: 10.2399 - val_loss: 23.3772\n",
      "Epoch 111/200\n",
      "1/1 [==============================] - 0s 50ms/step - loss: 9.8750 - val_loss: 23.3306\n",
      "Epoch 112/200\n",
      "1/1 [==============================] - 0s 37ms/step - loss: 10.1601 - val_loss: 23.2855\n",
      "Epoch 113/200\n",
      "1/1 [==============================] - 0s 37ms/step - loss: 10.0993 - val_loss: 23.2550\n",
      "Epoch 114/200\n",
      "1/1 [==============================] - 0s 43ms/step - loss: 10.1043 - val_loss: 23.2283\n",
      "Epoch 115/200\n",
      "1/1 [==============================] - 0s 40ms/step - loss: 9.8939 - val_loss: 23.2088\n",
      "Epoch 116/200\n",
      "1/1 [==============================] - 0s 36ms/step - loss: 9.9616 - val_loss: 23.1777\n",
      "Epoch 117/200\n",
      "1/1 [==============================] - 0s 32ms/step - loss: 9.9621 - val_loss: 23.1444\n",
      "Epoch 118/200\n",
      "1/1 [==============================] - 0s 22ms/step - loss: 8.4916 - val_loss: 23.0663\n",
      "Epoch 119/200\n",
      "1/1 [==============================] - 0s 51ms/step - loss: 9.8768 - val_loss: 22.9965\n",
      "Epoch 120/200\n",
      "1/1 [==============================] - 0s 52ms/step - loss: 9.8337 - val_loss: 22.9514\n",
      "Epoch 121/200\n",
      "1/1 [==============================] - 0s 29ms/step - loss: 9.8003 - val_loss: 22.9287\n",
      "Epoch 122/200\n",
      "1/1 [==============================] - 0s 62ms/step - loss: 9.8327 - val_loss: 22.9182\n",
      "Epoch 123/200\n",
      "1/1 [==============================] - 0s 65ms/step - loss: 9.6924 - val_loss: 22.9176\n",
      "Epoch 124/200\n",
      "1/1 [==============================] - 0s 45ms/step - loss: 9.7328 - val_loss: 22.9231\n",
      "Epoch 125/200\n",
      "1/1 [==============================] - 0s 58ms/step - loss: 9.7433 - val_loss: 22.9371\n",
      "Epoch 126/200\n",
      "1/1 [==============================] - 0s 61ms/step - loss: 9.6879 - val_loss: 22.9487\n",
      "Epoch 127/200\n",
      "1/1 [==============================] - 0s 21ms/step - loss: 9.5757 - val_loss: 22.9498\n",
      "Epoch 128/200\n",
      "1/1 [==============================] - 0s 52ms/step - loss: 9.5253 - val_loss: 22.9661\n",
      "Epoch 129/200\n",
      "1/1 [==============================] - 0s 38ms/step - loss: 9.5463 - val_loss: 22.9909\n",
      "Epoch 130/200\n",
      "1/1 [==============================] - 0s 61ms/step - loss: 8.9911 - val_loss: 22.9809\n",
      "Epoch 131/200\n",
      "1/1 [==============================] - 0s 42ms/step - loss: 9.5466 - val_loss: 22.9683\n",
      "Epoch 132/200\n",
      "1/1 [==============================] - 0s 41ms/step - loss: 9.4876 - val_loss: 22.9527\n",
      "Epoch 133/200\n",
      "1/1 [==============================] - 0s 54ms/step - loss: 9.4468 - val_loss: 22.9226\n",
      "Epoch 134/200\n",
      "1/1 [==============================] - 0s 48ms/step - loss: 9.4723 - val_loss: 22.8851\n",
      "Epoch 135/200\n",
      "1/1 [==============================] - 0s 69ms/step - loss: 9.4051 - val_loss: 22.8342\n",
      "Epoch 136/200\n",
      "1/1 [==============================] - 0s 57ms/step - loss: 9.2982 - val_loss: 22.7870\n",
      "Epoch 137/200\n",
      "1/1 [==============================] - 0s 49ms/step - loss: 9.3443 - val_loss: 22.7393\n",
      "Epoch 138/200\n",
      "1/1 [==============================] - 0s 44ms/step - loss: 9.3365 - val_loss: 22.6949\n",
      "Epoch 139/200\n",
      "1/1 [==============================] - 0s 62ms/step - loss: 9.2672 - val_loss: 22.6553\n",
      "Epoch 140/200\n",
      "1/1 [==============================] - 0s 32ms/step - loss: 9.2807 - val_loss: 22.6202\n",
      "Epoch 141/200\n",
      "1/1 [==============================] - 0s 49ms/step - loss: 9.0830 - val_loss: 22.5882\n",
      "Epoch 142/200\n",
      "1/1 [==============================] - 0s 40ms/step - loss: 8.6972 - val_loss: 22.5305\n",
      "Epoch 143/200\n",
      "1/1 [==============================] - 0s 58ms/step - loss: 9.1528 - val_loss: 22.4792\n",
      "Epoch 144/200\n",
      "1/1 [==============================] - 0s 47ms/step - loss: 9.2079 - val_loss: 22.4406\n",
      "Epoch 145/200\n",
      "1/1 [==============================] - 0s 64ms/step - loss: 9.1587 - val_loss: 22.4074\n",
      "Epoch 146/200\n",
      "1/1 [==============================] - 0s 54ms/step - loss: 9.1354 - val_loss: 22.3792\n",
      "Epoch 147/200\n",
      "1/1 [==============================] - 0s 39ms/step - loss: 8.7396 - val_loss: 22.2956\n",
      "Epoch 148/200\n",
      "1/1 [==============================] - 0s 46ms/step - loss: 9.0984 - val_loss: 22.2249\n",
      "Epoch 149/200\n",
      "1/1 [==============================] - 0s 49ms/step - loss: 9.0561 - val_loss: 22.1712\n",
      "Epoch 150/200\n",
      "1/1 [==============================] - 0s 26ms/step - loss: 9.0475 - val_loss: 22.1316\n",
      "Epoch 151/200\n",
      "1/1 [==============================] - 0s 44ms/step - loss: 9.0267 - val_loss: 22.1039\n",
      "Epoch 152/200\n",
      "1/1 [==============================] - 0s 58ms/step - loss: 8.9797 - val_loss: 22.0790\n",
      "Epoch 153/200\n",
      "1/1 [==============================] - 0s 54ms/step - loss: 8.9019 - val_loss: 22.0619\n",
      "Epoch 154/200\n",
      "1/1 [==============================] - 0s 44ms/step - loss: 8.9659 - val_loss: 22.0492\n",
      "Epoch 155/200\n",
      "1/1 [==============================] - 0s 46ms/step - loss: 8.9307 - val_loss: 22.0289\n",
      "Epoch 156/200\n",
      "1/1 [==============================] - 0s 57ms/step - loss: 8.9101 - val_loss: 22.0142\n",
      "Epoch 157/200\n",
      "1/1 [==============================] - 0s 52ms/step - loss: 8.8452 - val_loss: 21.9954\n",
      "Epoch 158/200\n",
      "1/1 [==============================] - 0s 46ms/step - loss: 8.7430 - val_loss: 21.9679\n",
      "Epoch 159/200\n",
      "1/1 [==============================] - 0s 39ms/step - loss: 8.5422 - val_loss: 21.9843\n",
      "Epoch 160/200\n",
      "1/1 [==============================] - 0s 50ms/step - loss: 8.8270 - val_loss: 21.9942\n",
      "Epoch 161/200\n",
      "1/1 [==============================] - 0s 45ms/step - loss: 8.7134 - val_loss: 22.0107\n",
      "Epoch 162/200\n",
      "1/1 [==============================] - 0s 51ms/step - loss: 8.7946 - val_loss: 22.0213\n"
     ]
    },
    {
     "name": "stdout",
     "output_type": "stream",
     "text": [
      "Epoch 163/200\n",
      "1/1 [==============================] - 0s 51ms/step - loss: 8.6453 - val_loss: 22.0390\n",
      "Epoch 164/200\n",
      "1/1 [==============================] - 0s 27ms/step - loss: 8.7058 - val_loss: 22.0377\n",
      "Epoch 165/200\n",
      "1/1 [==============================] - 0s 44ms/step - loss: 8.6801 - val_loss: 22.0264\n",
      "Epoch 166/200\n",
      "1/1 [==============================] - 0s 25ms/step - loss: 8.6757 - val_loss: 22.0060\n",
      "Epoch 167/200\n",
      "1/1 [==============================] - 0s 27ms/step - loss: 8.6528 - val_loss: 21.9705\n",
      "Epoch 168/200\n",
      "1/1 [==============================] - 0s 46ms/step - loss: 8.6193 - val_loss: 21.9291\n",
      "Epoch 169/200\n",
      "1/1 [==============================] - 0s 48ms/step - loss: 8.6017 - val_loss: 21.8718\n",
      "Epoch 170/200\n",
      "1/1 [==============================] - 0s 42ms/step - loss: 8.5953 - val_loss: 21.8064\n",
      "Epoch 171/200\n",
      "1/1 [==============================] - 0s 22ms/step - loss: 8.4770 - val_loss: 21.7481\n",
      "Epoch 172/200\n",
      "1/1 [==============================] - 0s 41ms/step - loss: 8.5662 - val_loss: 21.7011\n",
      "Epoch 173/200\n",
      "1/1 [==============================] - 0s 44ms/step - loss: 8.5255 - val_loss: 21.6580\n",
      "Epoch 174/200\n",
      "1/1 [==============================] - 0s 44ms/step - loss: 8.4933 - val_loss: 21.6202\n",
      "Epoch 175/200\n",
      "1/1 [==============================] - 0s 23ms/step - loss: 8.4894 - val_loss: 21.5928\n",
      "Epoch 176/200\n",
      "1/1 [==============================] - 0s 44ms/step - loss: 8.4719 - val_loss: 21.5758\n",
      "Epoch 177/200\n",
      "1/1 [==============================] - 0s 53ms/step - loss: 8.3521 - val_loss: 21.5646\n",
      "Epoch 178/200\n",
      "1/1 [==============================] - 0s 54ms/step - loss: 8.4080 - val_loss: 21.5538\n",
      "Epoch 179/200\n",
      "1/1 [==============================] - 0s 51ms/step - loss: 8.3548 - val_loss: 21.5497\n",
      "Epoch 180/200\n",
      "1/1 [==============================] - 0s 50ms/step - loss: 8.3396 - val_loss: 21.5562\n",
      "Epoch 181/200\n",
      "1/1 [==============================] - 0s 58ms/step - loss: 8.3785 - val_loss: 21.5622\n",
      "Epoch 182/200\n",
      "1/1 [==============================] - 0s 46ms/step - loss: 8.3542 - val_loss: 21.5622\n",
      "Epoch 183/200\n",
      "1/1 [==============================] - 0s 24ms/step - loss: 8.3512 - val_loss: 21.5502\n",
      "Epoch 184/200\n",
      "1/1 [==============================] - 0s 52ms/step - loss: 8.2553 - val_loss: 21.5432\n",
      "Epoch 185/200\n",
      "1/1 [==============================] - 0s 46ms/step - loss: 8.3112 - val_loss: 21.5283\n",
      "Epoch 186/200\n",
      "1/1 [==============================] - 0s 51ms/step - loss: 8.2550 - val_loss: 21.5125\n",
      "Epoch 187/200\n",
      "1/1 [==============================] - 0s 45ms/step - loss: 8.2066 - val_loss: 21.4891\n",
      "Epoch 188/200\n",
      "1/1 [==============================] - 0s 64ms/step - loss: 8.2002 - val_loss: 21.4766\n",
      "Epoch 189/200\n",
      "1/1 [==============================] - 0s 69ms/step - loss: 8.2607 - val_loss: 21.4611\n",
      "Epoch 190/200\n",
      "1/1 [==============================] - 0s 66ms/step - loss: 8.2267 - val_loss: 21.4427\n",
      "Epoch 191/200\n",
      "1/1 [==============================] - 0s 45ms/step - loss: 8.1780 - val_loss: 21.4255\n",
      "Epoch 192/200\n",
      "1/1 [==============================] - 0s 54ms/step - loss: 7.7580 - val_loss: 21.3346\n",
      "Epoch 193/200\n",
      "1/1 [==============================] - 0s 44ms/step - loss: 8.1437 - val_loss: 21.2609\n",
      "Epoch 194/200\n",
      "1/1 [==============================] - 0s 43ms/step - loss: 8.1415 - val_loss: 21.2006\n",
      "Epoch 195/200\n",
      "1/1 [==============================] - 0s 40ms/step - loss: 8.1298 - val_loss: 21.1404\n",
      "Epoch 196/200\n",
      "1/1 [==============================] - 0s 35ms/step - loss: 8.0215 - val_loss: 21.0971\n",
      "Epoch 197/200\n",
      "1/1 [==============================] - 0s 27ms/step - loss: 8.1023 - val_loss: 21.0707\n",
      "Epoch 198/200\n",
      "1/1 [==============================] - 0s 30ms/step - loss: 8.0455 - val_loss: 21.0700\n",
      "Epoch 199/200\n",
      "1/1 [==============================] - 0s 48ms/step - loss: 8.0215 - val_loss: 21.0755\n",
      "Epoch 200/200\n",
      "1/1 [==============================] - 0s 24ms/step - loss: 8.0381 - val_loss: 21.0940\n"
     ]
    }
   ],
   "source": [
    "# train_dataset 생성->X, y를 제공\n",
    "hist = model_boston.fit(train_dataset, ### (X_train, y_train) + shuffle + batch_size\n",
    "                        epochs=N_EPOCH, \n",
    "                        validation_data=test_dataset   # Dataset을 이용할 경우 validation_split을 사용할 수 없다.\n",
    "                        )"
   ]
  },
  {
   "cell_type": "markdown",
   "metadata": {
    "slideshow": {
     "slide_type": "slide"
    }
   },
   "source": [
    "##### 결과 시각화\n",
    "- 학습 시 epoch별 검증 결과를 시각화한다."
   ]
  },
  {
   "cell_type": "code",
   "execution_count": 80,
   "metadata": {
    "ExecuteTime": {
     "end_time": "2023-02-20T07:40:31.181182Z",
     "start_time": "2023-02-20T07:40:31.170598Z"
    }
   },
   "outputs": [
    {
     "data": {
      "text/plain": [
       "dict_keys(['loss', 'val_loss'])"
      ]
     },
     "execution_count": 80,
     "metadata": {},
     "output_type": "execute_result"
    }
   ],
   "source": [
    "hist.history.keys()"
   ]
  },
  {
   "cell_type": "code",
   "execution_count": 85,
   "metadata": {
    "ExecuteTime": {
     "end_time": "2023-02-20T07:46:13.673718Z",
     "start_time": "2023-02-20T07:46:13.440815Z"
    }
   },
   "outputs": [
    {
     "data": {
      "image/png": "[encoded data removed]",
      "text/plain": [
       "<Figure size 540x380 with 1 Axes>"
      ]
     },
     "metadata": {},
     "output_type": "display_data"
    }
   ],
   "source": [
    "# hist.history : 에폭별 검증 결과\n",
    "# hist.epoch : 에폭리스트\n",
    "plt.plot(hist.epoch, hist.history['loss'], label='Train set')\n",
    "plt.plot(hist.epoch, hist.history['val_loss'], label='Validation set')\n",
    "\n",
    "plt.title('에폭별 MSE loss')\n",
    "plt.ylim(0, 30)\n",
    "plt.legend()\n",
    "plt.show()"
   ]
  },
  {
   "cell_type": "markdown",
   "metadata": {
    "slideshow": {
     "slide_type": "slide"
    }
   },
   "source": [
    "##### 최종 테스트"
   ]
  },
  {
   "cell_type": "code",
   "execution_count": 86,
   "metadata": {
    "ExecuteTime": {
     "end_time": "2023-02-20T07:47:25.440023Z",
     "start_time": "2023-02-20T07:47:25.410760Z"
    }
   },
   "outputs": [
    {
     "name": "stdout",
     "output_type": "stream",
     "text": [
      "3/3 [==============================] - 0s 3ms/step - loss: 21.0940\n"
     ]
    }
   ],
   "source": [
    "loss = model_boston.evaluate(test_dataset)"
   ]
  },
  {
   "cell_type": "markdown",
   "metadata": {
    "slideshow": {
     "slide_type": "slide"
    }
   },
   "source": [
    "##### 모델 네트워크 저장"
   ]
  },
  {
   "cell_type": "code",
   "execution_count": 87,
   "metadata": {
    "ExecuteTime": {
     "end_time": "2023-02-20T07:49:39.172112Z",
     "start_time": "2023-02-20T07:49:39.154327Z"
    }
   },
   "outputs": [],
   "source": [
    "import os\n",
    "path = 'saved_model'\n",
    "os.makedirs(path, exist_ok=True)"
   ]
  },
  {
   "cell_type": "code",
   "execution_count": 89,
   "metadata": {
    "ExecuteTime": {
     "end_time": "2023-02-20T07:50:43.046003Z",
     "start_time": "2023-02-20T07:50:42.105631Z"
    }
   },
   "outputs": [
    {
     "name": "stdout",
     "output_type": "stream",
     "text": [
      "saved_model\\boston_model\n"
     ]
    },
    {
     "name": "stderr",
     "output_type": "stream",
     "text": [
      "WARNING:absl:Found untraced functions such as _update_step_xla while saving (showing 1 of 1). These functions will not be directly callable after loading.\n"
     ]
    },
    {
     "name": "stdout",
     "output_type": "stream",
     "text": [
      "INFO:tensorflow:Assets written to: saved_model\\boston_model\\assets\n"
     ]
    },
    {
     "name": "stderr",
     "output_type": "stream",
     "text": [
      "INFO:tensorflow:Assets written to: saved_model\\boston_model\\assets\n"
     ]
    }
   ],
   "source": [
    "saved_dir = os.path.join(path, 'boston_model')\n",
    "print(saved_dir)\n",
    "model_boston.save(saved_dir)"
   ]
  },
  {
   "cell_type": "markdown",
   "metadata": {
    "slideshow": {
     "slide_type": "slide"
    }
   },
   "source": [
    "##### 새로운 데이터 추론"
   ]
  },
  {
   "cell_type": "code",
   "execution_count": 90,
   "metadata": {
    "ExecuteTime": {
     "end_time": "2023-02-20T07:52:54.954861Z",
     "start_time": "2023-02-20T07:52:54.544806Z"
    }
   },
   "outputs": [
    {
     "name": "stdout",
     "output_type": "stream",
     "text": [
      "3/3 [==============================] - 0s 2ms/step - loss: 21.0940\n"
     ]
    },
    {
     "data": {
      "text/plain": [
       "21.0939998626709"
      ]
     },
     "execution_count": 90,
     "metadata": {},
     "output_type": "execute_result"
    }
   ],
   "source": [
    "# 저장된 모델을 불러와서 추론\n",
    "saved_model = keras.models.load_model(saved_dir)\n",
    "saved_model.evaluate(test_dataset)"
   ]
  },
  {
   "cell_type": "code",
   "execution_count": 91,
   "metadata": {
    "ExecuteTime": {
     "end_time": "2023-02-20T07:53:43.686233Z",
     "start_time": "2023-02-20T07:53:43.442939Z"
    }
   },
   "outputs": [
    {
     "name": "stdout",
     "output_type": "stream",
     "text": [
      "1/1 [==============================] - 0s 162ms/step\n",
      "[[ 8.611946]\n",
      " [17.257828]\n",
      " [21.979933]\n",
      " [32.22189 ]\n",
      " [24.80038 ]]\n"
     ]
    }
   ],
   "source": [
    "X_new = X_test[:5]\n",
    "pred = saved_model.predict(X_new)\n",
    "print(pred)"
   ]
  },
  {
   "cell_type": "code",
   "execution_count": 92,
   "metadata": {
    "ExecuteTime": {
     "end_time": "2023-02-20T07:54:06.246499Z",
     "start_time": "2023-02-20T07:54:06.226023Z"
    }
   },
   "outputs": [
    {
     "data": {
      "text/plain": [
       "array([ 7.2, 18.8, 19. , 27. , 22.2])"
      ]
     },
     "execution_count": 92,
     "metadata": {},
     "output_type": "execute_result"
    }
   ],
   "source": [
    "y_test[:5]"
   ]
  },
  {
   "cell_type": "code",
   "execution_count": null,
   "metadata": {},
   "outputs": [],
   "source": []
  },
  {
   "cell_type": "code",
   "execution_count": null,
   "metadata": {},
   "outputs": [],
   "source": []
  },
  {
   "cell_type": "code",
   "execution_count": null,
   "metadata": {},
   "outputs": [],
   "source": []
  },
  {
   "cell_type": "code",
   "execution_count": null,
   "metadata": {},
   "outputs": [],
   "source": []
  },
  {
   "cell_type": "markdown",
   "metadata": {
    "slideshow": {
     "slide_type": "slide"
    }
   },
   "source": [
    "# 분류 (Classification)\n",
    "\n",
    "## Fashion MNIST Dataset - 다중분류(Multi-Class Classification) 문제"
   ]
  },
  {
   "cell_type": "markdown",
   "metadata": {
    "slideshow": {
     "slide_type": "fragment"
    }
   },
   "source": [
    "10개의 범주(category)와 70,000개의 흑백 이미지로 구성된 [패션 MNIST](https://github.com/zalandoresearch/fashion-mnist) 데이터셋. \n",
    "이미지는 해상도(28x28 픽셀)가 낮고 다음처럼 개별 의류 품목을 나타낸다:\n",
    "\n",
    "<table>\n",
    "  <tr><td>\n",
    "    <img src=\"https://tensorflow.org/images/fashion-mnist-sprite.png\"\n",
    "         alt=\"Fashion MNIST sprite\"  width=\"600\">\n",
    "  </td></tr>\n",
    "  <tr><td align=\"center\">\n",
    "    <b>그림</b> <a href=\"https://github.com/zalandoresearch/fashion-mnist\">패션-MNIST 샘플</a> (Zalando, MIT License).<br/>&nbsp;\n",
    "  </td></tr>\n",
    "</table>"
   ]
  },
  {
   "cell_type": "markdown",
   "metadata": {
    "slideshow": {
     "slide_type": "fragment"
    }
   },
   "source": [
    "이미지는 28x28 크기이며 Gray scale이다. *레이블*(label)은 0에서 9까지의 정수 배열이다. 아래 표는 이미지에 있는 의류의 **클래스**(class)들이다.\n",
    "\n",
    "<table>\n",
    "  <tr>\n",
    "    <th>레이블</th>\n",
    "    <th>클래스</th>\n",
    "  </tr>\n",
    "  <tr>\n",
    "    <td>0</td>\n",
    "    <td>T-shirt/top</td>\n",
    "  </tr>\n",
    "  <tr>\n",
    "    <td>1</td>\n",
    "    <td>Trousers</td>\n",
    "  </tr>\n",
    "    <tr>\n",
    "    <td>2</td>\n",
    "    <td>Pullover</td>\n",
    "  </tr>\n",
    "    <tr>\n",
    "    <td>3</td>\n",
    "    <td>Dress</td>\n",
    "  </tr>\n",
    "    <tr>\n",
    "    <td>4</td>\n",
    "    <td>Coat</td>\n",
    "  </tr>\n",
    "    <tr>\n",
    "    <td>5</td>\n",
    "    <td>Sandal</td>\n",
    "  </tr>\n",
    "    <tr>\n",
    "    <td>6</td>\n",
    "    <td>Shirt</td>\n",
    "  </tr>\n",
    "    <tr>\n",
    "    <td>7</td>\n",
    "    <td>Sneaker</td>\n",
    "  </tr>\n",
    "    <tr>\n",
    "    <td>8</td>\n",
    "    <td>Bag</td>\n",
    "  </tr>\n",
    "    <tr>\n",
    "    <td>9</td>\n",
    "    <td>Ankle boot</td>\n",
    "  </tr>\n",
    "</table>\n",
    "\n",
    "각 이미지는 하나의 레이블에 매핑되어 있다. 데이터셋에 클래스 이름이 들어있지 않기 때문에 나중에 이미지를 출력할 때 사용하기 위해 별도의 변수를 만들어 저장한다."
   ]
  },
  {
   "cell_type": "code",
   "execution_count": 37,
   "metadata": {
    "ExecuteTime": {
     "end_time": "2022-09-26T08:07:20.027628Z",
     "start_time": "2022-09-26T08:07:20.022628Z"
    },
    "slideshow": {
     "slide_type": "fragment"
    }
   },
   "outputs": [],
   "source": [
    "class_names = ['T-shirt/top', 'Trousers', 'Pullover', 'Dress', 'Coat', 'Sandal', 'Shirt', 'Sneaker', 'Bag', 'Ankle boot']"
   ]
  },
  {
   "cell_type": "markdown",
   "metadata": {
    "slideshow": {
     "slide_type": "slide"
    }
   },
   "source": [
    "##### Data 로딩"
   ]
  },
  {
   "cell_type": "code",
   "execution_count": null,
   "metadata": {},
   "outputs": [],
   "source": []
  },
  {
   "cell_type": "markdown",
   "metadata": {
    "slideshow": {
     "slide_type": "fragment"
    }
   },
   "source": [
    "##### validatation dataset set  분리\n",
    "- Train set을 Train/validation set으로 분리"
   ]
  },
  {
   "cell_type": "code",
   "execution_count": null,
   "metadata": {},
   "outputs": [],
   "source": []
  },
  {
   "cell_type": "markdown",
   "metadata": {
    "slideshow": {
     "slide_type": "slide"
    }
   },
   "source": [
    "##### 이미지 확인"
   ]
  },
  {
   "cell_type": "code",
   "execution_count": null,
   "metadata": {},
   "outputs": [],
   "source": []
  },
  {
   "cell_type": "markdown",
   "metadata": {
    "slideshow": {
     "slide_type": "slide"
    }
   },
   "source": [
    "#### 하이퍼파라미터, 변수 설정"
   ]
  },
  {
   "cell_type": "code",
   "execution_count": null,
   "metadata": {},
   "outputs": [],
   "source": []
  },
  {
   "cell_type": "markdown",
   "metadata": {
    "slideshow": {
     "slide_type": "fragment"
    }
   },
   "source": [
    "#### X, y  전처리\n",
    "- y값 처리\n",
    "    - 다중 분류에서 label encoding 형식의 label을 one hot encoding 처리"
   ]
  },
  {
   "cell_type": "code",
   "execution_count": null,
   "metadata": {},
   "outputs": [],
   "source": []
  },
  {
   "cell_type": "markdown",
   "metadata": {
    "slideshow": {
     "slide_type": "fragment"
    }
   },
   "source": [
    "- x값(이미지) 처리\n",
    "    - dtype을 uint8에서 float32로 변환한다.\n",
    "    - 0 ~ 1 정규화. X/255.0으로 나눈다."
   ]
  },
  {
   "cell_type": "code",
   "execution_count": null,
   "metadata": {},
   "outputs": [],
   "source": []
  },
  {
   "cell_type": "markdown",
   "metadata": {
    "slideshow": {
     "slide_type": "slide"
    }
   },
   "source": [
    "##### Dataset 생성"
   ]
  },
  {
   "cell_type": "code",
   "execution_count": null,
   "metadata": {},
   "outputs": [],
   "source": []
  },
  {
   "cell_type": "markdown",
   "metadata": {
    "slideshow": {
     "slide_type": "slide"
    }
   },
   "source": [
    "##### 모델 생성 및 컴파일"
   ]
  },
  {
   "cell_type": "code",
   "execution_count": null,
   "metadata": {},
   "outputs": [],
   "source": []
  },
  {
   "cell_type": "markdown",
   "metadata": {
    "slideshow": {
     "slide_type": "slide"
    }
   },
   "source": [
    "##### Train(학습)"
   ]
  },
  {
   "cell_type": "code",
   "execution_count": null,
   "metadata": {},
   "outputs": [],
   "source": []
  },
  {
   "cell_type": "markdown",
   "metadata": {
    "slideshow": {
     "slide_type": "fragment"
    }
   },
   "source": [
    "##### 결과 시각화\n",
    "- 학습 시 epoch별 검증 결과를 시각화한다."
   ]
  },
  {
   "cell_type": "code",
   "execution_count": null,
   "metadata": {},
   "outputs": [],
   "source": []
  },
  {
   "cell_type": "markdown",
   "metadata": {
    "slideshow": {
     "slide_type": "slide"
    }
   },
   "source": [
    "#### 최종평가"
   ]
  },
  {
   "cell_type": "code",
   "execution_count": null,
   "metadata": {},
   "outputs": [],
   "source": []
  },
  {
   "cell_type": "markdown",
   "metadata": {
    "slideshow": {
     "slide_type": "fragment"
    }
   },
   "source": [
    "#### 모델저장"
   ]
  },
  {
   "cell_type": "code",
   "execution_count": null,
   "metadata": {},
   "outputs": [],
   "source": []
  },
  {
   "cell_type": "markdown",
   "metadata": {
    "slideshow": {
     "slide_type": "slide"
    }
   },
   "source": [
    "#### 새로운 데이터 추론"
   ]
  },
  {
   "cell_type": "code",
   "execution_count": null,
   "metadata": {},
   "outputs": [],
   "source": []
  },
  {
   "cell_type": "markdown",
   "metadata": {
    "slideshow": {
     "slide_type": "slide"
    }
   },
   "source": [
    "## 위스콘신 유방암 데이터셋 - 이진분류(Binary Classification) 문제\n",
    "\n",
    "- **이진 분류 문제 처리 모델의 두가지 방법**\n",
    "    1. positive(1)일 확률을 출력하도록 구현\n",
    "        - output layer: units=1, activation='sigmoid'\n",
    "        - loss: binary_crossentropy\n",
    "    2. negative(0)일 확률과 positive(1)일 확률을 출력하도록 구현 => 다중분류 처리 방식으로 해결\n",
    "        - output layer: units=2, activation='softmax', y(정답)은 one hot encoding 처리\n",
    "        - loss: categorical_crossentropy\n",
    "        \n",
    "- 위스콘신 대학교에서 제공한 종양의 악성/양성여부 분류를 위한 데이터셋\n",
    "- Feature\n",
    "    - 종양에 대한 다양한 측정값들\n",
    "- Target의 class\n",
    "    - 0 - malignant(악성종양)\n",
    "    - 1 - benign(양성종양)"
   ]
  },
  {
   "cell_type": "code",
   "execution_count": null,
   "metadata": {},
   "outputs": [],
   "source": []
  },
  {
   "cell_type": "markdown",
   "metadata": {
    "slideshow": {
     "slide_type": "slide"
    }
   },
   "source": [
    "##### 데이터 로딩, train/validation/test set 나누기"
   ]
  },
  {
   "cell_type": "code",
   "execution_count": null,
   "metadata": {},
   "outputs": [],
   "source": []
  },
  {
   "cell_type": "markdown",
   "metadata": {
    "slideshow": {
     "slide_type": "slide"
    }
   },
   "source": [
    "#### 하이퍼파라미터, 변수 정의"
   ]
  },
  {
   "cell_type": "code",
   "execution_count": null,
   "metadata": {},
   "outputs": [],
   "source": []
  },
  {
   "cell_type": "markdown",
   "metadata": {
    "slideshow": {
     "slide_type": "fragment"
    }
   },
   "source": [
    "#### 데이터 전처리\n",
    "- y (label) 처리\n",
    "    - 이진 분류\n",
    "        - 양성의 확률을 출력하도록 모델을 구성하는 경우 그대로 사용.\n",
    "        - 양성일 확률, 음성일 확률을 출력하도록 모델을 구성하는 경우(다중분류 방식으로 처리) one hot encoding 처리한다.\n",
    "- X (feature) 처리\n",
    "    - 문자열(범주형): one hot encoding\n",
    "    - 연속형(수치형): feature scaling"
   ]
  },
  {
   "cell_type": "code",
   "execution_count": null,
   "metadata": {},
   "outputs": [],
   "source": []
  },
  {
   "cell_type": "markdown",
   "metadata": {
    "slideshow": {
     "slide_type": "slide"
    }
   },
   "source": [
    "#### Dataset 생성\n"
   ]
  },
  {
   "cell_type": "code",
   "execution_count": null,
   "metadata": {},
   "outputs": [],
   "source": []
  },
  {
   "cell_type": "markdown",
   "metadata": {
    "slideshow": {
     "slide_type": "slide"
    }
   },
   "source": [
    "#### model 생성, 컴파일"
   ]
  },
  {
   "cell_type": "code",
   "execution_count": null,
   "metadata": {},
   "outputs": [],
   "source": []
  },
  {
   "cell_type": "markdown",
   "metadata": {
    "slideshow": {
     "slide_type": "slide"
    }
   },
   "source": [
    "#### Train(학습)"
   ]
  },
  {
   "cell_type": "code",
   "execution_count": null,
   "metadata": {},
   "outputs": [],
   "source": []
  },
  {
   "cell_type": "markdown",
   "metadata": {
    "slideshow": {
     "slide_type": "fragment"
    }
   },
   "source": [
    "#### 결과 시각화"
   ]
  },
  {
   "cell_type": "code",
   "execution_count": null,
   "metadata": {},
   "outputs": [],
   "source": []
  },
  {
   "cell_type": "markdown",
   "metadata": {
    "slideshow": {
     "slide_type": "slide"
    }
   },
   "source": [
    "#### 최종평가"
   ]
  },
  {
   "cell_type": "code",
   "execution_count": null,
   "metadata": {},
   "outputs": [],
   "source": []
  },
  {
   "cell_type": "markdown",
   "metadata": {
    "slideshow": {
     "slide_type": "fragment"
    }
   },
   "source": [
    "#### 모델저장"
   ]
  },
  {
   "cell_type": "code",
   "execution_count": null,
   "metadata": {},
   "outputs": [],
   "source": []
  },
  {
   "cell_type": "markdown",
   "metadata": {
    "slideshow": {
     "slide_type": "slide"
    }
   },
   "source": [
    "#### 새로운 데이터 추론"
   ]
  },
  {
   "cell_type": "code",
   "execution_count": null,
   "metadata": {},
   "outputs": [],
   "source": []
  },
  {
   "cell_type": "markdown",
   "metadata": {},
   "source": [
    "##### 모델출력결과 후처리"
   ]
  },
  {
   "cell_type": "code",
   "execution_count": null,
   "metadata": {},
   "outputs": [],
   "source": []
  }
 ],
 "metadata": {
  "kernelspec": {
   "display_name": "Python 3 (ipykernel)",
   "language": "python",
   "name": "python3"
  },
  "language_info": {
   "codemirror_mode": {
    "name": "ipython",
    "version": 3
   },
   "file_extension": ".py",
   "mimetype": "text/x-python",
   "name": "python",
   "nbconvert_exporter": "python",
   "pygments_lexer": "ipython3",
   "version": "3.9.16"
  },
  "toc": {
   "base_numbering": 1,
   "nav_menu": {},
   "number_sections": false,
   "sideBar": true,
   "skip_h1_title": false,
   "title_cell": "Table of Contents",
   "title_sidebar": "Contents",
   "toc_cell": false,
   "toc_position": {},
   "toc_section_display": true,
   "toc_window_display": false
  },
  "varInspector": {
   "cols": {
    "lenName": 16,
    "lenType": 16,
    "lenVar": 40
   },
   "kernels_config": {
    "python": {
     "delete_cmd_postfix": "",
     "delete_cmd_prefix": "del ",
     "library": "var_list.py",
     "varRefreshCmd": "print(var_dic_list())"
    },
    "r": {
     "delete_cmd_postfix": ") ",
     "delete_cmd_prefix": "rm(",
     "library": "var_list.r",
     "varRefreshCmd": "cat(var_dic_list()) "
    }
   },
   "types_to_exclude": [
    "module",
    "function",
    "builtin_function_or_method",
    "instance",
    "_Feature"
   ],
   "window_display": false
  }
 },
 "nbformat": 4,
 "nbformat_minor": 2
}
