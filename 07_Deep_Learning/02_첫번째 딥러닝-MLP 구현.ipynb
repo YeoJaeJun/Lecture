{
 "cells": [
  {
   "cell_type": "markdown",
   "metadata": {
    "slideshow": {
     "slide_type": "slide"
    }
   },
   "source": [
    "# Keras 개발 Process"
   ]
  },
  {
   "cell_type": "markdown",
   "metadata": {
    "slideshow": {
     "slide_type": "fragment"
    }
   },
   "source": [
    "1. 입력 텐서(X)와 출력 텐서(y)로 이뤄진 **훈련 데이터를 정의**"
   ]
  },
  {
   "cell_type": "markdown",
   "metadata": {
    "slideshow": {
     "slide_type": "fragment"
    }
   },
   "source": [
    "2. 입력과 출력을 연결하는 Layer(층)으로 이뤄진 **네트워크(모델)을 정의**\n",
    "    - Sequential 방식: 순서대로 쌓아올린 네트워크로 이뤄진 모델을 생성하는 방식\n",
    "    - Functional API 방식: 다양한 구조의 네트워크로 이뤄진 모델을 생성하는 방식\n",
    "    - Subclass 방식: 네트워크를 정의하는 클래스를 구현.\n",
    "    "
   ]
  },
  {
   "cell_type": "markdown",
   "metadata": {
    "slideshow": {
     "slide_type": "fragment"
    }
   },
   "source": [
    "3. **모델 Compile(컴파일)**\n",
    "    - 모델이 Train(학습)할때 사용할 손실함수(Loss Function), 최적화기법(Optimizer), 학습과정을 모니터링할 평가지표(Metrics)를 설정\n",
    "    \n",
    "    > Compile: 실행할 수 있는 상태로 만들어 주는 것."
   ]
  },
  {
   "cell_type": "markdown",
   "metadata": {
    "slideshow": {
     "slide_type": "fragment"
    }
   },
   "source": [
    "4. **Training(학습/훈련)**\n",
    "    - Train dataset을 이용해 모델을 Train 시킨다."
   ]
  },
  {
   "cell_type": "markdown",
   "metadata": {
    "slideshow": {
     "slide_type": "slide"
    }
   },
   "source": [
    "# MNIST 이미지 분류 \n",
    "- ### [MNIST](https://ko.wikipedia.org/wiki/MNIST_%EB%8D%B0%EC%9D%B4%ED%84%B0%EB%B2%A0%EC%9D%B4%EC%8A%A4)(Modified National Institute of Standards and Technology) database\n",
    "- 흑백 손글씨 숫자 0-9까지 10개의 범주로 구분해놓은 데이터셋\n",
    "- 하나의 이미지는 28 * 28 pixel 의 크기\n",
    "- 6만개의 Train 이미지와 1만개의 Test 이미지로 구성됨."
   ]
  },
  {
   "cell_type": "markdown",
   "metadata": {},
   "source": [
    "##### import"
   ]
  },
  {
   "cell_type": "code",
   "execution_count": 9,
   "metadata": {
    "ExecuteTime": {
     "end_time": "2023-02-16T03:24:58.760438Z",
     "start_time": "2023-02-16T03:24:58.025919Z"
    }
   },
   "outputs": [],
   "source": [
    "import random\n",
    "import numpy as np\n",
    "import pandas as pd\n",
    "import matplotlib.pyplot as plt\n",
    "import tensorflow as tf\n",
    "from tensorflow import keras\n",
    "\n",
    "random.seed(0)\n",
    "np.random.seed(0)\n",
    "tf.random.set_seed(0)"
   ]
  },
  {
   "cell_type": "markdown",
   "metadata": {
    "ExecuteTime": {
     "end_time": "2021-08-30T05:02:52.852140Z",
     "start_time": "2021-08-30T05:02:52.563117Z"
    },
    "slideshow": {
     "slide_type": "slide"
    }
   },
   "source": [
    "##### MNIST dataset Loading"
   ]
  },
  {
   "cell_type": "code",
   "execution_count": 5,
   "metadata": {
    "ExecuteTime": {
     "end_time": "2023-02-16T03:21:33.573816Z",
     "start_time": "2023-02-16T03:21:31.644772Z"
    }
   },
   "outputs": [
    {
     "name": "stdout",
     "output_type": "stream",
     "text": [
      "Downloading data from https://storage.googleapis.com/tensorflow/tf-keras-datasets/mnist.npz\n",
      "11490434/11490434 [==============================] - 1s 0us/step\n"
     ]
    }
   ],
   "source": [
    "(train_image, train_label), (test_image, test_label) = keras.datasets.mnist.load_data()"
   ]
  },
  {
   "cell_type": "code",
   "execution_count": 7,
   "metadata": {
    "ExecuteTime": {
     "end_time": "2023-02-16T03:24:24.947823Z",
     "start_time": "2023-02-16T03:24:24.940936Z"
    }
   },
   "outputs": [
    {
     "data": {
      "text/plain": [
       "((60000, 28, 28), (60000,), (10000, 28, 28), (10000,))"
      ]
     },
     "execution_count": 7,
     "metadata": {},
     "output_type": "execute_result"
    }
   ],
   "source": [
    "train_image.shape, train_label.shape, test_image.shape, test_label.shape"
   ]
  },
  {
   "cell_type": "code",
   "execution_count": 8,
   "metadata": {
    "ExecuteTime": {
     "end_time": "2023-02-16T03:24:41.811115Z",
     "start_time": "2023-02-16T03:24:41.789564Z"
    }
   },
   "outputs": [
    {
     "data": {
      "text/plain": [
       "array([5, 0, 4, 1, 9], dtype=uint8)"
      ]
     },
     "execution_count": 8,
     "metadata": {},
     "output_type": "execute_result"
    }
   ],
   "source": [
    "train_label[:5]"
   ]
  },
  {
   "cell_type": "code",
   "execution_count": 11,
   "metadata": {
    "ExecuteTime": {
     "end_time": "2023-02-16T03:27:32.695416Z",
     "start_time": "2023-02-16T03:27:31.965992Z"
    }
   },
   "outputs": [
    {
     "data": {
      "image/png": "[encoded data removed]",
      "text/plain": [
       "<Figure size 1000x500 with 10 Axes>"
      ]
     },
     "metadata": {},
     "output_type": "display_data"
    }
   ],
   "source": [
    "# 이번에는 X data를 확인해보자. 즉 영상을 확인해보는 것이다. matplotlib을 이용해 그려보자.\n",
    "plt.figure(figsize = (10, 5))\n",
    "\n",
    "for i in range(10):\n",
    "    plt.subplot(2, 5, i + 1)\n",
    "    plt.imshow(train_image[i], cmap = 'gray')\n",
    "    plt.title(f'{train_label[i]}', fontsize = 10)\n",
    "    plt.axis('off')\n",
    "\n",
    "plt.tight_layout()\n",
    "plt.show()"
   ]
  },
  {
   "cell_type": "code",
   "execution_count": 12,
   "metadata": {
    "ExecuteTime": {
     "end_time": "2023-02-16T03:32:54.937323Z",
     "start_time": "2023-02-16T03:32:54.920198Z"
    }
   },
   "outputs": [
    {
     "data": {
      "text/plain": [
       "(0, 255)"
      ]
     },
     "execution_count": 12,
     "metadata": {},
     "output_type": "execute_result"
    }
   ],
   "source": [
    "train_image[0].min(), train_image[0].max()"
   ]
  },
  {
   "cell_type": "markdown",
   "metadata": {
    "slideshow": {
     "slide_type": "slide"
    }
   },
   "source": [
    "## 데이터 준비\n",
    "- X (Input Data Image)\n",
    "    - 0 ~ 1 사이의 값으로 정규화 시킨다.\n",
    "- y (Output Data)\n",
    "    - one hot encoding 처리\n",
    "        - Label이 다중분류(Multi class classification)일 경우 One Hot Encoding 한다.\n",
    "            - 딥러닝 모델이 각 Label별 확률을 출력하도록 정의 되기 때문에 y(정답)도 같은 형태로 만들어 줘야 한다.\n",
    "    - Keras의 onehot encoding 처리 함수\n",
    "        - tensorflow.keras.utils.to_categorical()"
   ]
  },
  {
   "cell_type": "markdown",
   "metadata": {
    "ExecuteTime": {
     "end_time": "2021-08-30T05:07:46.170159Z",
     "start_time": "2021-08-30T05:07:45.800170Z"
    },
    "slideshow": {
     "slide_type": "fragment"
    }
   },
   "source": [
    "##### input image(X)를 정규화. \n",
    "- 이미지를 0 ~ 1 로 정규화 하고 타입을 float32로 변환"
   ]
  },
  {
   "cell_type": "code",
   "execution_count": null,
   "metadata": {},
   "outputs": [],
   "source": [
    "# 영상 data를 모두 scaling해준다. 이때 MinMax Scaling을 하는데 굳이 MinMaxScaler를 만들 필요가 없다.\n",
    "# 어차피 모든 영상 data의 값이 0 ~ 255이기 때문이다. 그래서 data를 255로 나누면 최소값은 0, 최대값은 1로 minmax scaling될 것이다.\n",
    "# 그리고 dtype을 uint8에서 float32로 바꿔준다."
   ]
  },
  {
   "cell_type": "code",
   "execution_count": 13,
   "metadata": {
    "ExecuteTime": {
     "end_time": "2023-02-16T03:39:03.983265Z",
     "start_time": "2023-02-16T03:39:03.842068Z"
    }
   },
   "outputs": [],
   "source": [
    "X_train = train_image.astype('float32') / 255\n",
    "X_test = test_image.astype('float32') / 255"
   ]
  },
  {
   "cell_type": "markdown",
   "metadata": {
    "ExecuteTime": {
     "end_time": "2021-08-30T05:08:02.687904Z",
     "start_time": "2021-08-30T05:08:02.678864Z"
    },
    "slideshow": {
     "slide_type": "slide"
    }
   },
   "source": [
    "##### label(y)를 one hot encoding"
   ]
  },
  {
   "cell_type": "code",
   "execution_count": null,
   "metadata": {},
   "outputs": [],
   "source": [
    "# label을 모두 one-hot encoding 처리한다.\n",
    "# 왜 label을 one-hot encoding하는 것일까?\n",
    "# Deep Learning의 classification model은 입력이 각 label이 될 수 있는 확률을 출력해준다.\n",
    "# 그리고 실제 정답과 추론 결과의 오차를 계산해 오차를 줄이는 방향으로 학습이 진행된다.\n",
    "# 이로 인해 정답의 확률을 알려줘야 한다. 그래서 label을 one-hot encoding 처리한다.\n",
    "# keras에서 one-hot encoding하는 방법은 아래와 같다. 아래의 함수를 사용하면 one-hot encoding을 처리해준다."
   ]
  },
  {
   "cell_type": "code",
   "execution_count": 15,
   "metadata": {
    "ExecuteTime": {
     "end_time": "2023-02-16T03:40:42.110273Z",
     "start_time": "2023-02-16T03:40:42.095918Z"
    }
   },
   "outputs": [],
   "source": [
    "y_train = keras.utils.to_categorical(train_label)\n",
    "y_test = keras.utils.to_categorical(test_label)"
   ]
  },
  {
   "cell_type": "code",
   "execution_count": null,
   "metadata": {},
   "outputs": [],
   "source": [
    "# 기존 y data와 one-hot encoding된 y data를 비교해보자."
   ]
  },
  {
   "cell_type": "code",
   "execution_count": 16,
   "metadata": {
    "ExecuteTime": {
     "end_time": "2023-02-16T03:41:23.365985Z",
     "start_time": "2023-02-16T03:41:23.357413Z"
    }
   },
   "outputs": [
    {
     "data": {
      "text/plain": [
       "array([5, 0, 4, 1, 9], dtype=uint8)"
      ]
     },
     "execution_count": 16,
     "metadata": {},
     "output_type": "execute_result"
    }
   ],
   "source": [
    "train_label[:5]"
   ]
  },
  {
   "cell_type": "code",
   "execution_count": 17,
   "metadata": {
    "ExecuteTime": {
     "end_time": "2023-02-16T03:41:28.746827Z",
     "start_time": "2023-02-16T03:41:28.739821Z"
    }
   },
   "outputs": [
    {
     "data": {
      "text/plain": [
       "array([[0., 0., 0., 0., 0., 1., 0., 0., 0., 0.],\n",
       "       [1., 0., 0., 0., 0., 0., 0., 0., 0., 0.],\n",
       "       [0., 0., 0., 0., 1., 0., 0., 0., 0., 0.],\n",
       "       [0., 1., 0., 0., 0., 0., 0., 0., 0., 0.],\n",
       "       [0., 0., 0., 0., 0., 0., 0., 0., 0., 1.]], dtype=float32)"
      ]
     },
     "execution_count": 17,
     "metadata": {},
     "output_type": "execute_result"
    }
   ],
   "source": [
    "y_train[:5]"
   ]
  },
  {
   "cell_type": "markdown",
   "metadata": {
    "slideshow": {
     "slide_type": "slide"
    }
   },
   "source": [
    "## 네트워크(모델) 정의\n",
    "- Network : 전체 모델 구조"
   ]
  },
  {
   "cell_type": "code",
   "execution_count": null,
   "metadata": {},
   "outputs": [],
   "source": [
    "# 비어있는 network를 만든다."
   ]
  },
  {
   "cell_type": "code",
   "execution_count": 26,
   "metadata": {
    "ExecuteTime": {
     "end_time": "2023-02-16T06:19:04.928587Z",
     "start_time": "2023-02-16T06:19:04.909750Z"
    }
   },
   "outputs": [],
   "source": [
    "model = keras.Sequential()"
   ]
  },
  {
   "cell_type": "code",
   "execution_count": 27,
   "metadata": {
    "ExecuteTime": {
     "end_time": "2023-02-16T06:19:05.334057Z",
     "start_time": "2023-02-16T06:19:05.284917Z"
    }
   },
   "outputs": [],
   "source": [
    "# 비어있는 network에 layer들을 추가한다. 이것이 layer를 쌓는 과정이다.\n",
    "# 각 layer는 이전 layer의 출력 결과를 입력으로 받아서 처리한 뒤에 출력한 후 다음 layer에 값을 전달한다.\n",
    "# 더 이상 다음으로 보낼 layer가 없으면 그 때의 출력 결과가 netwokr의 최종 결과가 된다.\n",
    "# layer는 unit들로 구성되어 있다. unit이 실제로 feature들을 입력받아서 처리해 출력하는 함수이다.\n",
    "\n",
    "# 첫 번째 layer를 추가해보자. 첫 번째 layer는 InputLayer를 추가한다. 이는 입력을 받는 layer이다.\n",
    "# 정확하게는 입력 data의 shape을 설정하는 역할이다. 실질적으로 data의 특징을 찾고 결과를 추론하는 역할은 하지 않는다.\n",
    "# 여기서는 28 X 28의 영상 data를 사용하므로 (28, 28)을 입력해 입력 data의 shape을 알려준다.\n",
    "# layer를 추가할 때는 Sequential class로 생성한 instance의 add() method를 사용한다.\n",
    "model.add(keras.layers.InputLayer((28, 28)))\n",
    "\n",
    "# 두 번째 layer를 추가한다. 두 번째 layer는 Flatten이다. 이는 입력받은 data를 1차원 배열로 변환하는 역할을 한다.\n",
    "# 여기서는 하나의 data가 784(28*28)개의 값들로 구성되게 바꾸는 것이다.\n",
    "model.add(keras.layers.Flatten())\n",
    "\n",
    "# 세 번째 layer를 추가한다. 세 번째 layer는 Dense이다. 이는 특정 역할을 하는 unit으로 구성된 layer를 만드는 것이다.\n",
    "# layer의 종류마다 생성하는 unit의 종류가 다르다. Dense layer는 linear regression을 처리하는 unit을 생성하는 것이다.\n",
    "# linear regression을 처리하는 unit 256개로 구성된 layer를 만들어보자.\n",
    "# 위의 data를 모두 256개의 unit으로 입력한다. 그리고 각각의 unit을 값을 처리해 출력한다.\n",
    "model.add(keras.layers.Dense(units = 256))\n",
    "\n",
    "# 네 번째 layer를 추가한다. 네 번째 layer는 ReLU이다. 이는 입력 값과 0을 비교해 더 큰 값을 출력해준다.\n",
    "# 즉 입력 값이 음수이면 0을 출력하는 것이다.\n",
    "# 이와 같은 함수를 activation 함수라고 한다. activation 함수는 non-linear regression 함수를 사용해야 한다.\n",
    "# 위의 unit에서 출력된 값을 모두 받아서 처리한다.\n",
    "model.add(keras.layers.ReLU())\n",
    "\n",
    "# 다섯 번째 layer를 추가한다. 다섯 번째 layer는 Dense이다.\n",
    "model.add(keras.layers.Dense(units = 128))\n",
    "\n",
    "# 여섯 번째 layer를 추가한다. 여섯 번째 layer는 ReLU이다.\n",
    "model.add(keras.layers.ReLU())\n",
    "\n",
    "# 일곱 번째 layer를 추가한다. 일곱 번째 layer는 Dense이다.\n",
    "model.add(keras.layers.Dense(units = 10))\n",
    "\n",
    "# 여덟 번째 layer를 추가한다. 여덟 번째 layer는 Softmax이다. 이는 output layer이다.\n",
    "# 입력받은 값들을 확률로 만들어 출력해준다.\n",
    "# network의 최종 결과를 출력하는 layer이다.\n",
    "model.add(keras.layers.Softmax(name = 'ouput'))\n",
    "\n",
    "\n",
    "# Dense의 unit 수를 줄이는 이유는 출력 값을 줄여나가기 위해서다. 최종적으로 10개로 unit 수를 줄였는데 이로 인해 최종\n",
    "# 출력 값의 수는 10개가 될 것이다. 우리가 label을 one-hot encoding 처리한 이유가 이것 때문이다.\n",
    "# Deep Learning network로부터 출력된 10개의 확률과 label에 있는 10개의 확률을 비교해 가장 가능성 있는 것으로 label을 설정하는 것이다."
   ]
  },
  {
   "cell_type": "code",
   "execution_count": 29,
   "metadata": {
    "ExecuteTime": {
     "end_time": "2023-02-16T06:26:50.207939Z",
     "start_time": "2023-02-16T06:26:50.179324Z"
    }
   },
   "outputs": [
    {
     "name": "stdout",
     "output_type": "stream",
     "text": [
      "Model: \"sequential_1\"\n",
      "_________________________________________________________________\n",
      " Layer (type)                Output Shape              Param #   \n",
      "=================================================================\n",
      " flatten_2 (Flatten)         (None, 784)               0         \n",
      "                                                                 \n",
      " dense_6 (Dense)             (None, 256)               200960    \n",
      "                                                                 \n",
      " re_lu_4 (ReLU)              (None, 256)               0         \n",
      "                                                                 \n",
      " dense_7 (Dense)             (None, 128)               32896     \n",
      "                                                                 \n",
      " re_lu_5 (ReLU)              (None, 128)               0         \n",
      "                                                                 \n",
      " dense_8 (Dense)             (None, 10)                1290      \n",
      "                                                                 \n",
      " ouput (Softmax)             (None, 10)                0         \n",
      "                                                                 \n",
      "=================================================================\n",
      "Total params: 235,146\n",
      "Trainable params: 235,146\n",
      "Non-trainable params: 0\n",
      "_________________________________________________________________\n"
     ]
    }
   ],
   "source": [
    "model.summary()"
   ]
  },
  {
   "cell_type": "code",
   "execution_count": 34,
   "metadata": {
    "ExecuteTime": {
     "end_time": "2023-02-16T06:31:37.309713Z",
     "start_time": "2023-02-16T06:31:37.063946Z"
    }
   },
   "outputs": [
    {
     "data": {
      "image/png": "[encoded data removed]",
      "text/plain": [
       "<IPython.core.display.Image object>"
      ]
     },
     "execution_count": 34,
     "metadata": {},
     "output_type": "execute_result"
    }
   ],
   "source": [
    "keras.utils.plot_model(model, show_shapes = True, to_file = 'my_model.png')"
   ]
  },
  {
   "cell_type": "markdown",
   "metadata": {
    "slideshow": {
     "slide_type": "slide"
    }
   },
   "source": [
    "## 컴파일 단계\n",
    "- 정의된 딥러닝 모델을 학습할 수 있는 상태로 만들어 주기 위해 다음을 추가적으로 설정 한다.\n",
    "    - Optimizer\n",
    "    - 손실함수\n",
    "    - 평가지표"
   ]
  },
  {
   "cell_type": "code",
   "execution_count": 35,
   "metadata": {
    "ExecuteTime": {
     "end_time": "2023-02-16T06:39:07.605477Z",
     "start_time": "2023-02-16T06:39:07.572875Z"
    }
   },
   "outputs": [],
   "source": [
    "# optimizer는 adam을 사용한다. 보통 adam을 사용한다. loss function은 categorical_crossentropy를 설정한다.\n",
    "# metrics는 학습 로그와 network을 평가할 때 loss function이 계산한 오차와 같이 출력되는 evaluation index이다.\n",
    "# 성능을 확인하기 위해 사용하는 것이다. metrics는 선택 가능하다.\n",
    "model.compile(optimizer = 'adam', \n",
    "              loss = 'categorical_crossentropy', \n",
    "              metrics = ['accuracy'])"
   ]
  },
  {
   "cell_type": "markdown",
   "metadata": {
    "slideshow": {
     "slide_type": "slide"
    }
   },
   "source": [
    "## 학습 (fit)\n",
    "- model.fit()\n",
    "    - 모델 학습 메소드. \n",
    "    - 학습과정의 Log를 History 객체로 반환한다.\n",
    "- History : train 시 에폭별 평가지표값들을 모아서 제공.    "
   ]
  },
  {
   "cell_type": "code",
   "execution_count": 41,
   "metadata": {
    "ExecuteTime": {
     "end_time": "2023-02-16T06:57:54.306248Z",
     "start_time": "2023-02-16T06:57:31.093639Z"
    }
   },
   "outputs": [
    {
     "name": "stdout",
     "output_type": "stream",
     "text": [
      "Epoch 1/10\n",
      "420/420 [==============================] - 3s 6ms/step - loss: 0.3020 - accuracy: 0.9145 - val_loss: 0.1653 - val_accuracy: 0.9522\n",
      "Epoch 2/10\n",
      "420/420 [==============================] - 2s 5ms/step - loss: 0.1181 - accuracy: 0.9647 - val_loss: 0.1224 - val_accuracy: 0.9648\n",
      "Epoch 3/10\n",
      "420/420 [==============================] - 2s 5ms/step - loss: 0.0767 - accuracy: 0.9769 - val_loss: 0.1021 - val_accuracy: 0.9696\n",
      "Epoch 4/10\n",
      "420/420 [==============================] - 2s 6ms/step - loss: 0.0523 - accuracy: 0.9839 - val_loss: 0.1072 - val_accuracy: 0.9671\n",
      "Epoch 5/10\n",
      "420/420 [==============================] - 2s 5ms/step - loss: 0.0388 - accuracy: 0.9879 - val_loss: 0.1072 - val_accuracy: 0.9696\n",
      "Epoch 6/10\n",
      "420/420 [==============================] - 2s 5ms/step - loss: 0.0300 - accuracy: 0.9908 - val_loss: 0.1043 - val_accuracy: 0.9702\n",
      "Epoch 7/10\n",
      "420/420 [==============================] - 2s 5ms/step - loss: 0.0208 - accuracy: 0.9936 - val_loss: 0.0999 - val_accuracy: 0.9732\n",
      "Epoch 8/10\n",
      "420/420 [==============================] - 2s 5ms/step - loss: 0.0152 - accuracy: 0.9956 - val_loss: 0.1201 - val_accuracy: 0.9701\n",
      "Epoch 9/10\n",
      "420/420 [==============================] - 2s 5ms/step - loss: 0.0162 - accuracy: 0.9948 - val_loss: 0.1109 - val_accuracy: 0.9720\n",
      "Epoch 10/10\n",
      "420/420 [==============================] - 2s 6ms/step - loss: 0.0138 - accuracy: 0.9955 - val_loss: 0.1162 - val_accuracy: 0.9739\n"
     ]
    }
   ],
   "source": [
    "history = model.fit(X_train, y_train, \n",
    "                    epochs = 10, \n",
    "                    batch_size = 100, \n",
    "                    validation_split = 0.3)"
   ]
  },
  {
   "cell_type": "markdown",
   "metadata": {
    "slideshow": {
     "slide_type": "slide"
    }
   },
   "source": [
    "##### History 시각화"
   ]
  },
  {
   "cell_type": "code",
   "execution_count": 43,
   "metadata": {
    "ExecuteTime": {
     "end_time": "2023-02-16T07:39:34.653337Z",
     "start_time": "2023-02-16T07:39:34.633793Z"
    }
   },
   "outputs": [
    {
     "name": "stdout",
     "output_type": "stream",
     "text": [
      "<class 'keras.callbacks.History'>\n"
     ]
    }
   ],
   "source": [
    "print(type(history))"
   ]
  },
  {
   "cell_type": "code",
   "execution_count": 44,
   "metadata": {
    "ExecuteTime": {
     "end_time": "2023-02-16T07:40:18.543032Z",
     "start_time": "2023-02-16T07:40:18.532953Z"
    }
   },
   "outputs": [
    {
     "name": "stdout",
     "output_type": "stream",
     "text": [
      "학습 epoch list: [0, 1, 2, 3, 4, 5, 6, 7, 8, 9]\n",
      "epoch 수와 epoch 당 step 수: {'verbose': 1, 'epochs': 10, 'steps': 420}\n"
     ]
    }
   ],
   "source": [
    "print('학습 epoch list:', history.epoch)\n",
    "print('epoch 수와 epoch 당 step 수:', history.params)"
   ]
  },
  {
   "cell_type": "code",
   "execution_count": 45,
   "metadata": {
    "ExecuteTime": {
     "end_time": "2023-02-16T07:41:01.194750Z",
     "start_time": "2023-02-16T07:41:01.177662Z"
    }
   },
   "outputs": [
    {
     "data": {
      "text/plain": [
       "{'loss': [0.301982581615448,\n",
       "  0.11813441663980484,\n",
       "  0.07666172832250595,\n",
       "  0.052278559654951096,\n",
       "  0.03883632272481918,\n",
       "  0.02999883145093918,\n",
       "  0.020760908722877502,\n",
       "  0.01515311561524868,\n",
       "  0.01618179865181446,\n",
       "  0.013844050467014313],\n",
       " 'accuracy': [0.9144523739814758,\n",
       "  0.9646904468536377,\n",
       "  0.9768571257591248,\n",
       "  0.9838809370994568,\n",
       "  0.9878809452056885,\n",
       "  0.9908333420753479,\n",
       "  0.9935952425003052,\n",
       "  0.9956190586090088,\n",
       "  0.9948095083236694,\n",
       "  0.9955238103866577],\n",
       " 'val_loss': [0.16531220078468323,\n",
       "  0.12244115024805069,\n",
       "  0.10214415192604065,\n",
       "  0.10720270872116089,\n",
       "  0.10720010846853256,\n",
       "  0.10432559251785278,\n",
       "  0.09993544965982437,\n",
       "  0.12008748203516006,\n",
       "  0.11092406511306763,\n",
       "  0.11621467769145966],\n",
       " 'val_accuracy': [0.9522222280502319,\n",
       "  0.9647777676582336,\n",
       "  0.9695555567741394,\n",
       "  0.9670555591583252,\n",
       "  0.9696111083030701,\n",
       "  0.9701666831970215,\n",
       "  0.9731666445732117,\n",
       "  0.9701111316680908,\n",
       "  0.972000002861023,\n",
       "  0.9738888740539551]}"
      ]
     },
     "execution_count": 45,
     "metadata": {},
     "output_type": "execute_result"
    }
   ],
   "source": [
    "history.history"
   ]
  },
  {
   "cell_type": "code",
   "execution_count": 63,
   "metadata": {
    "ExecuteTime": {
     "end_time": "2023-02-16T07:53:11.023006Z",
     "start_time": "2023-02-16T07:53:10.551082Z"
    }
   },
   "outputs": [
    {
     "data": {
      "image/png": "[encoded data removed]",
      "text/plain": [
       "<Figure size 1500x600 with 2 Axes>"
      ]
     },
     "metadata": {},
     "output_type": "display_data"
    }
   ],
   "source": [
    "plt.figure(figsize = (15, 6))\n",
    "plt.suptitle('Network Evaluation Index', fontsize = 18)\n",
    "\n",
    "plt.subplot(1, 2, 1)\n",
    "plt.plot(history.history['loss'], label = 'train loss', marker = 'o')\n",
    "plt.plot(history.history['val_loss'], label = 'val loss', marker = 'o')\n",
    "plt.title('Loss', fontsize = 15)\n",
    "plt.xticks([0, 1, 2, 3, 4, 5, 6, 7, 8, 9, 10])\n",
    "plt.grid(True)\n",
    "plt.legend()\n",
    "\n",
    "plt.subplot(1, 2, 2)\n",
    "plt.plot(history.history['accuracy'], label = 'train acc', marker = 'o')\n",
    "plt.plot(history.history['val_accuracy'], label = 'val acc', marker = 'o')\n",
    "plt.title('Accuracy', fontsize = 15)\n",
    "plt.xticks([0, 1, 2, 3, 4, 5, 6, 7, 8, 9, 10])\n",
    "plt.grid(True)\n",
    "plt.legend()\n",
    "\n",
    "plt.tight_layout()\n",
    "plt.show()"
   ]
  },
  {
   "cell_type": "markdown",
   "metadata": {
    "slideshow": {
     "slide_type": "slide"
    }
   },
   "source": [
    "## 테스트셋 평가"
   ]
  },
  {
   "cell_type": "code",
   "execution_count": 64,
   "metadata": {
    "ExecuteTime": {
     "end_time": "2023-02-16T08:18:01.001771Z",
     "start_time": "2023-02-16T08:18:00.245374Z"
    }
   },
   "outputs": [
    {
     "name": "stdout",
     "output_type": "stream",
     "text": [
      "313/313 [==============================] - 1s 2ms/step - loss: 0.0886 - accuracy: 0.9776\n"
     ]
    }
   ],
   "source": [
    "result = model.evaluate(X_test, y_test)"
   ]
  },
  {
   "cell_type": "code",
   "execution_count": 65,
   "metadata": {
    "ExecuteTime": {
     "end_time": "2023-02-16T08:18:33.884574Z",
     "start_time": "2023-02-16T08:18:33.877599Z"
    }
   },
   "outputs": [
    {
     "data": {
      "text/plain": [
       "[0.0885714590549469, 0.9775999784469604]"
      ]
     },
     "execution_count": 65,
     "metadata": {},
     "output_type": "execute_result"
    }
   ],
   "source": [
    "result"
   ]
  },
  {
   "cell_type": "markdown",
   "metadata": {
    "slideshow": {
     "slide_type": "slide"
    }
   },
   "source": [
    "## 새로운 데이터 추론\n",
    "- 새로운 데이터를 추론하기 전에 학습데이터에 했던 전처리과정을 동일하게 적용 한 뒤 추론한다."
   ]
  },
  {
   "cell_type": "markdown",
   "metadata": {
    "slideshow": {
     "slide_type": "fragment"
    }
   },
   "source": [
    "### 추론 메소드\n",
    "- predict()\n",
    "    - **분류:** 각 클래스 별 확률 반환\n",
    "    - **회귀:** 최종 예측 결과\n",
    "- 분류문제일때 predict() 결과에서 class label 출력하기    \n",
    "    - 이진 분류(binary classification)\n",
    "        - `numpy.where(model.predict(x) > 0.5, 1, 0).astype(\"int32\")`\n",
    "    - 다중클래스 분류(multi-class classification)\n",
    "        - `numpy.argmax(model.predict(x), axis=1)`"
   ]
  },
  {
   "cell_type": "code",
   "execution_count": 77,
   "metadata": {
    "ExecuteTime": {
     "end_time": "2023-02-16T08:42:35.113297Z",
     "start_time": "2023-02-16T08:42:35.096177Z"
    }
   },
   "outputs": [],
   "source": [
    "X_new = X_test[:3]"
   ]
  },
  {
   "cell_type": "code",
   "execution_count": 78,
   "metadata": {
    "ExecuteTime": {
     "end_time": "2023-02-16T08:42:35.533470Z",
     "start_time": "2023-02-16T08:42:35.459216Z"
    }
   },
   "outputs": [
    {
     "name": "stdout",
     "output_type": "stream",
     "text": [
      "1/1 [==============================] - 0s 21ms/step\n"
     ]
    }
   ],
   "source": [
    "pred = model.predict(X_new)"
   ]
  },
  {
   "cell_type": "code",
   "execution_count": 68,
   "metadata": {
    "ExecuteTime": {
     "end_time": "2023-02-16T08:25:54.233776Z",
     "start_time": "2023-02-16T08:25:54.221775Z"
    }
   },
   "outputs": [
    {
     "name": "stdout",
     "output_type": "stream",
     "text": [
      "(3, 10)\n"
     ]
    },
    {
     "data": {
      "text/plain": [
       "array([[8.7999377e-09, 7.3348336e-09, 2.3698199e-07, 9.2377206e-07,\n",
       "        6.9926114e-12, 3.0917666e-10, 1.3503952e-12, 9.9999785e-01,\n",
       "        8.6146713e-08, 9.2212787e-07],\n",
       "       [6.5487199e-12, 6.0667713e-07, 9.9999940e-01, 8.0308390e-12,\n",
       "        4.1468708e-17, 5.7091769e-14, 6.8396343e-12, 4.4302569e-12,\n",
       "        2.2141233e-11, 1.3858733e-17],\n",
       "       [7.6998776e-07, 9.9945158e-01, 7.6786819e-06, 2.1238481e-08,\n",
       "        6.1686183e-06, 1.7731452e-07, 6.1281767e-06, 5.1076326e-04,\n",
       "        1.6727648e-05, 1.2980651e-07]], dtype=float32)"
      ]
     },
     "execution_count": 68,
     "metadata": {},
     "output_type": "execute_result"
    }
   ],
   "source": [
    "print(pred.shape)\n",
    "pred"
   ]
  },
  {
   "cell_type": "code",
   "execution_count": 71,
   "metadata": {
    "ExecuteTime": {
     "end_time": "2023-02-16T08:26:51.428898Z",
     "start_time": "2023-02-16T08:26:51.418929Z"
    }
   },
   "outputs": [
    {
     "data": {
      "text/plain": [
       "array([7, 2, 1], dtype=int64)"
      ]
     },
     "execution_count": 71,
     "metadata": {},
     "output_type": "execute_result"
    }
   ],
   "source": [
    "np.argmax(pred, axis = 1)"
   ]
  },
  {
   "cell_type": "code",
   "execution_count": null,
   "metadata": {},
   "outputs": [],
   "source": [
    "# 실행 결과 첫 번째 data는 7, 두 번째 data는 2, 세 번째 data는 1이라는 것을 알 수 있다."
   ]
  },
  {
   "cell_type": "code",
   "execution_count": 73,
   "metadata": {
    "ExecuteTime": {
     "end_time": "2023-02-16T08:28:03.491097Z",
     "start_time": "2023-02-16T08:28:03.477026Z"
    }
   },
   "outputs": [
    {
     "data": {
      "text/plain": [
       "array([7, 2, 1], dtype=int64)"
      ]
     },
     "execution_count": 73,
     "metadata": {},
     "output_type": "execute_result"
    }
   ],
   "source": [
    "np.argmax(y_test[:3], axis = 1)"
   ]
  },
  {
   "cell_type": "markdown",
   "metadata": {},
   "source": [
    "# TODO"
   ]
  },
  {
   "cell_type": "markdown",
   "metadata": {},
   "source": [
    "1. OpenCV로 숫자 영상을 읽는다.\n",
    "2. 28 X 28로 resize한다.\n",
    "3. network를 이용해 추론한다."
   ]
  },
  {
   "cell_type": "code",
   "execution_count": null,
   "metadata": {},
   "outputs": [],
   "source": []
  },
  {
   "cell_type": "code",
   "execution_count": null,
   "metadata": {},
   "outputs": [],
   "source": []
  }
 ],
 "metadata": {
  "kernelspec": {
   "display_name": "Python 3 (ipykernel)",
   "language": "python",
   "name": "python3"
  },
  "language_info": {
   "codemirror_mode": {
    "name": "ipython",
    "version": 3
   },
   "file_extension": ".py",
   "mimetype": "text/x-python",
   "name": "python",
   "nbconvert_exporter": "python",
   "pygments_lexer": "ipython3",
   "version": "3.9.16"
  },
  "toc": {
   "base_numbering": 1,
   "nav_menu": {},
   "number_sections": false,
   "sideBar": true,
   "skip_h1_title": false,
   "title_cell": "Table of Contents",
   "title_sidebar": "Contents",
   "toc_cell": false,
   "toc_position": {},
   "toc_section_display": true,
   "toc_window_display": false
  },
  "varInspector": {
   "cols": {
    "lenName": 16,
    "lenType": 16,
    "lenVar": 40
   },
   "kernels_config": {
    "python": {
     "delete_cmd_postfix": "",
     "delete_cmd_prefix": "del ",
     "library": "var_list.py",
     "varRefreshCmd": "print(var_dic_list())"
    },
    "r": {
     "delete_cmd_postfix": ") ",
     "delete_cmd_prefix": "rm(",
     "library": "var_list.r",
     "varRefreshCmd": "cat(var_dic_list()) "
    }
   },
   "types_to_exclude": [
    "module",
    "function",
    "builtin_function_or_method",
    "instance",
    "_Feature"
   ],
   "window_display": false
  }
 },
 "nbformat": 4,
 "nbformat_minor": 2
}
