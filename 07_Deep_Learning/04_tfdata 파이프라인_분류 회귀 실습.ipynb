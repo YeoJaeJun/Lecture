{
 "cells": [
  {
   "cell_type": "code",
   "execution_count": null,
   "metadata": {},
   "outputs": [],
   "source": [
    "# 문제 유형별로 network를 만드는 방법을 익혀보자."
   ]
  },
  {
   "cell_type": "markdown",
   "metadata": {
    "slideshow": {
     "slide_type": "slide"
    }
   },
   "source": [
    "# tf.data 모듈\n",
    "- data를 처리하기 위한 pipeline을 제작할 수 있도록 해주는 module이다.\n",
    "    - 모델 학습/평가를 위한 데이터셋을 제공(feeding)하기 위한 모듈\n",
    "   - raw dataset 에서 입력을 위한 **전처리**, **배치 크키**, **shuffling**등을 한번에 처리할 수 있게 한다.\n",
    "   - raw data set을 한번에 preprocessing해주는 pipeline을 제공하는 module이다.\n",
    "- tf.data.Dataset 추상클래스에서 상속된 여러가지 클래스들을 제공\n",
    "    - 입력 소스의 제공 형태, 어떤 처리를 하는지에 따라 다양한 하위클래스들이 제공된다."
   ]
  },
  {
   "cell_type": "markdown",
   "metadata": {
    "slideshow": {
     "slide_type": "fragment"
    }
   },
   "source": [
    "## Dataset API 사용\n",
    "1. **Dataset 생성**\n",
    "    - raw dataset을 지정 (Loading)\n",
    "    - from_tensor_slices(), from_generator() 클래스 메소드, tf.data.TFRecordDataset 클래스등를 사용해 메모리나 파일에 있는 데이터를 Dataset으로 만든다.\n",
    "    - **from_tensor_slices()**: 메모리의 리스트, 넘파이배열, 텐서플로 자료형에서 데이터를 생성한다.\n",
    "    - pipeline으로 data를 읽어오는 역할을 한다."
   ]
  },
  {
   "cell_type": "markdown",
   "metadata": {
    "slideshow": {
     "slide_type": "fragment"
    }
   },
   "source": [
    "2. **제공 데이터 전처리**\n",
    "    - **map(함수)**: Dataset이 제공하는 원소를 처리해서 변환된 원소를 제공하도록 한다.\n",
    "        - 함수: 원소를 어떻게 변환할 지 정의한 함수를 매개변수로 전달한다.\n",
    "            - 매개변수: Dataset이 제공하는 원소를 받을 변수. \n",
    "            - 반환값: Dataset이 제공한 원소를 변경처리한 값.\n",
    "    - **filter(함수)**: Dataset이 제공하는 원소중 특정 조건을 만족하는(True)인 원소들만 제공한다.\n",
    "        - 함수: 원소가 특정조건을 만족하는지 여부를 확인하는 로직을 정의한 함수를 매개변수로 전달한다.\n",
    "            - 매개변수: Dataset이 제공하는 원소를 받을 변수.\n",
    "            - 반환값: Dataset이 제공한 원소가 특정조건을 만족하는지 여부(bool)"
   ]
  },
  {
   "cell_type": "markdown",
   "metadata": {
    "slideshow": {
     "slide_type": "fragment"
    }
   },
   "source": [
    "3. **데이터 제공 설정 관련**\n",
    "    - **batch(size)**: 학습/평가시 한번에 제공할 batch size 지정\n",
    "        - size: int. batch size 지정\n",
    "        - drop_remainder: bool. True일 경우 마지막 제공시 남은 데이터수가 batch size보다 작으면 제공하지 않는다.\n",
    "    - **shuffle(buffer 크기)**: dataset의 원소들의 순서를 섞는다. \n",
    "        - buffer 크기: int. buffer 크기는 섞는 공간의 크기로  **데이터보다 크거나 같으면** 완전셔플, **적으면 일부만 가져와서 섞어** 완전셔플이 안된다.\n",
    "        - 데이터 사이즈가 너무 커서 메모리가 부족할 경우 버퍼크기를 적게 준다.\n",
    "        - 메모리가 충분하다면 데이터의 개수와 동일하게 주면된다."
   ]
  },
  {
   "cell_type": "markdown",
   "metadata": {
    "slideshow": {
     "slide_type": "fragment"
    }
   },
   "source": [
    "- 각 tf.data 함수들은 각 기능에 맞게 데이터를 처리하는 Dataset 객체를 반환한다."
   ]
  },
  {
   "cell_type": "markdown",
   "metadata": {
    "slideshow": {
     "slide_type": "fragment"
    }
   },
   "source": [
    "### Dataset 메소드\n",
    "- take(개수): 지정한 개수만큼의 데이터만 제공한다."
   ]
  },
  {
   "cell_type": "code",
   "execution_count": 1,
   "metadata": {
    "ExecuteTime": {
     "end_time": "2023-02-20T03:36:42.700652Z",
     "start_time": "2023-02-20T03:36:35.235279Z"
    }
   },
   "outputs": [],
   "source": [
    "import tensorflow as tf\n",
    "import numpy as np"
   ]
  },
  {
   "cell_type": "markdown",
   "metadata": {
    "slideshow": {
     "slide_type": "fragment"
    }
   },
   "source": [
    "##### Tensor Type\n",
    ">- TensorFlow의 기본 data structure이다.\n",
    ">- numpy가 ndarray를 이용해 데이터를 관리하듯이 tensorflow는 Tensor를 이용해 데이터를 관리한다.\n",
    ">    - Tesorflow의 모델이 학습, 평가할때 사용하는 데이터셋(train dataset, validation dataset, test dataset)은 tf.Tensor 타입이어야 한다.\n",
    ">        - 학습/평가(model.fit(), model.evaluate()) 할때 ndarray를 입력 데이터셋으로 넣어주면 내부적으로 tf.Tensor로 변형해서 처리.\n",
    ">        - tf.Tensor는 데이터셋을 ndarray로 가지고 있다.\n",
    "> - ndarray를 넣으면 자동으로 tensor type으로 바꿔준다."
   ]
  },
  {
   "cell_type": "code",
   "execution_count": 4,
   "metadata": {
    "ExecuteTime": {
     "end_time": "2023-02-20T03:42:10.461698Z",
     "start_time": "2023-02-20T03:42:10.442870Z"
    }
   },
   "outputs": [
    {
     "data": {
      "text/plain": [
       "<tf.Tensor: shape=(3,), dtype=float32, numpy=array([1., 2., 3.], dtype=float32)>"
      ]
     },
     "execution_count": 4,
     "metadata": {},
     "output_type": "execute_result"
    }
   ],
   "source": [
    "# 간단한 Tensor type의 data를 만들어보자. 쉽게 생각해 numpy의 ndarray를 만드는 것과 같다.\n",
    "t = tf.constant([1, 2, 3], dtype = 'float32')\n",
    "t"
   ]
  },
  {
   "cell_type": "code",
   "execution_count": 6,
   "metadata": {
    "ExecuteTime": {
     "end_time": "2023-02-20T03:42:23.609684Z",
     "start_time": "2023-02-20T03:42:23.600359Z"
    }
   },
   "outputs": [
    {
     "data": {
      "text/plain": [
       "(tensorflow.python.framework.ops.EagerTensor, TensorShape([3]), tf.float32)"
      ]
     },
     "execution_count": 6,
     "metadata": {},
     "output_type": "execute_result"
    }
   ],
   "source": [
    "type(t), t.shape, t.dtype"
   ]
  },
  {
   "cell_type": "code",
   "execution_count": 7,
   "metadata": {
    "ExecuteTime": {
     "end_time": "2023-02-20T03:43:02.279892Z",
     "start_time": "2023-02-20T03:43:02.271871Z"
    }
   },
   "outputs": [
    {
     "data": {
      "text/plain": [
       "array([1., 2., 3.], dtype=float32)"
      ]
     },
     "execution_count": 7,
     "metadata": {},
     "output_type": "execute_result"
    }
   ],
   "source": [
    "# Tensor를 ndarray로 변환하는 방법\n",
    "n = t.numpy()\n",
    "n"
   ]
  },
  {
   "cell_type": "code",
   "execution_count": 8,
   "metadata": {
    "ExecuteTime": {
     "end_time": "2023-02-20T03:43:13.999278Z",
     "start_time": "2023-02-20T03:43:13.985435Z"
    }
   },
   "outputs": [
    {
     "data": {
      "text/plain": [
       "(numpy.ndarray, (3,), dtype('float32'))"
      ]
     },
     "execution_count": 8,
     "metadata": {},
     "output_type": "execute_result"
    }
   ],
   "source": [
    "type(n), n.shape, n.dtype"
   ]
  },
  {
   "cell_type": "code",
   "execution_count": 10,
   "metadata": {
    "ExecuteTime": {
     "end_time": "2023-02-20T03:43:50.225456Z",
     "start_time": "2023-02-20T03:43:50.216795Z"
    }
   },
   "outputs": [
    {
     "data": {
      "text/plain": [
       "<tf.Tensor: shape=(10,), dtype=int32, numpy=array([0, 1, 2, 3, 4, 5, 6, 7, 8, 9])>"
      ]
     },
     "execution_count": 10,
     "metadata": {},
     "output_type": "execute_result"
    }
   ],
   "source": [
    "# ndarray 혹은 list를 Tensor로 변환하는 방법\n",
    "# tf.constant는 np.array와 같은 것이다.\n",
    "\n",
    "tf.constant(np.arange(10))"
   ]
  },
  {
   "cell_type": "code",
   "execution_count": 12,
   "metadata": {
    "ExecuteTime": {
     "end_time": "2023-02-20T03:44:07.707137Z",
     "start_time": "2023-02-20T03:44:07.696057Z"
    }
   },
   "outputs": [
    {
     "data": {
      "text/plain": [
       "<tf.Tensor: shape=(3,), dtype=float32, numpy=array([1., 2., 3.], dtype=float32)>"
      ]
     },
     "execution_count": 12,
     "metadata": {},
     "output_type": "execute_result"
    }
   ],
   "source": [
    "tf.convert_to_tensor(n)"
   ]
  },
  {
   "cell_type": "markdown",
   "metadata": {
    "slideshow": {
     "slide_type": "slide"
    }
   },
   "source": [
    "## Dataset 예제"
   ]
  },
  {
   "cell_type": "code",
   "execution_count": null,
   "metadata": {},
   "outputs": [],
   "source": [
    "# TensorSliceDataset은 data를 가지고 있지 않다. 메모리 상에 저장된 ndarray를 읽어오는 것 뿐이다.\n",
    "# 이 점을 분명히 알고 있어야 한다. TensorSliceDataset은 data를 가지고 있지 않다.\n",
    "# pipeline의 data를 읽어오는 역할을 수행한다."
   ]
  },
  {
   "cell_type": "code",
   "execution_count": 13,
   "metadata": {
    "ExecuteTime": {
     "end_time": "2023-02-20T05:08:15.927109Z",
     "start_time": "2023-02-20T05:08:15.906131Z"
    }
   },
   "outputs": [
    {
     "data": {
      "text/plain": [
       "array([0, 1, 2, 3, 4, 5, 6, 7, 8, 9])"
      ]
     },
     "execution_count": 13,
     "metadata": {},
     "output_type": "execute_result"
    }
   ],
   "source": [
    "# 0 ~ 9의 정수를 input data로 설정해 처리 과정을 확인해보자.\n",
    "raw_data1 = np.arange(10)\n",
    "raw_data1"
   ]
  },
  {
   "cell_type": "code",
   "execution_count": 22,
   "metadata": {
    "ExecuteTime": {
     "end_time": "2023-02-20T05:19:59.010812Z",
     "start_time": "2023-02-20T05:19:59.000857Z"
    }
   },
   "outputs": [
    {
     "name": "stdout",
     "output_type": "stream",
     "text": [
      "<class 'tensorflow.python.data.ops.from_tensor_slices_op.TensorSliceDataset'>\n"
     ]
    }
   ],
   "source": [
    "# Dataset을 생성해보자. 대상 raw data set이 메모리에 있는 ndarray일 때만 가능하다.\n",
    "# ndarray data set을 Dataset pipeline으로 읽어오는 역할을 하는 것이 TensorSliceDataset이다.\n",
    "# 읽어오는 순간 data는 Tensor type으로 변환된다.\n",
    "dataset1 = tf.data.Dataset.from_tensor_slices(raw_data1)\n",
    "print(type(dataset1))"
   ]
  },
  {
   "cell_type": "code",
   "execution_count": 23,
   "metadata": {
    "ExecuteTime": {
     "end_time": "2023-02-20T05:19:59.648393Z",
     "start_time": "2023-02-20T05:19:59.635725Z"
    }
   },
   "outputs": [
    {
     "name": "stdout",
     "output_type": "stream",
     "text": [
      "tf.Tensor(0, shape=(), dtype=int32)\n",
      "tf.Tensor(1, shape=(), dtype=int32)\n",
      "tf.Tensor(2, shape=(), dtype=int32)\n",
      "tf.Tensor(3, shape=(), dtype=int32)\n",
      "tf.Tensor(4, shape=(), dtype=int32)\n",
      "tf.Tensor(5, shape=(), dtype=int32)\n",
      "tf.Tensor(6, shape=(), dtype=int32)\n",
      "tf.Tensor(7, shape=(), dtype=int32)\n",
      "tf.Tensor(8, shape=(), dtype=int32)\n",
      "tf.Tensor(9, shape=(), dtype=int32)\n"
     ]
    }
   ],
   "source": [
    "# Dataset은 iterable type이다. 그래서 fon in문으로 처리가 가능하다.\n",
    "for data in dataset1:\n",
    "    print(data)"
   ]
  },
  {
   "cell_type": "code",
   "execution_count": 24,
   "metadata": {
    "ExecuteTime": {
     "end_time": "2023-02-20T05:20:03.762464Z",
     "start_time": "2023-02-20T05:20:03.738123Z"
    }
   },
   "outputs": [
    {
     "name": "stdout",
     "output_type": "stream",
     "text": [
      "tf.Tensor(0, shape=(), dtype=int32)\n",
      "tf.Tensor(1, shape=(), dtype=int32)\n",
      "tf.Tensor(2, shape=(), dtype=int32)\n"
     ]
    }
   ],
   "source": [
    "# dataset에서 element를 원하는 개수만큼만 조회하고자 할 때 .take()를 사용한다.\n",
    "# 이때 원하는 개수를 정수로 입력한다. 값을 미리 확인해볼 때 주로 사용한다.\n",
    "for data in dataset1.take(3):\n",
    "    print(data)"
   ]
  },
  {
   "cell_type": "markdown",
   "metadata": {
    "slideshow": {
     "slide_type": "slide"
    }
   },
   "source": [
    "##### x, y 묶어서 제공\n",
    "- 두개 이상의 데이터셋을 묶어서 제공할 경우 Tuple로 묶어준다.\n",
    "    - Dataset이 feeding 할 때는 같은 index의 값들을 tuple로 묶어서 제공 (zip()과 동일)"
   ]
  },
  {
   "cell_type": "code",
   "execution_count": 20,
   "metadata": {
    "ExecuteTime": {
     "end_time": "2023-02-20T05:18:10.364524Z",
     "start_time": "2023-02-20T05:18:10.356842Z"
    }
   },
   "outputs": [
    {
     "name": "stdout",
     "output_type": "stream",
     "text": [
      "[0 1 2 3 4 5 6 7 8 9] 10\n",
      "[10 11 12 13 14 15 16 17 18 19] 10\n"
     ]
    }
   ],
   "source": [
    "raw_data2 = np.arange(10, 20)\n",
    "print(raw_data1, len(raw_data1))\n",
    "print(raw_data2, len(raw_data2))"
   ]
  },
  {
   "cell_type": "code",
   "execution_count": 25,
   "metadata": {
    "ExecuteTime": {
     "end_time": "2023-02-20T05:20:25.865552Z",
     "start_time": "2023-02-20T05:20:25.835754Z"
    }
   },
   "outputs": [
    {
     "name": "stdout",
     "output_type": "stream",
     "text": [
      "(<tf.Tensor: shape=(), dtype=int32, numpy=0>, <tf.Tensor: shape=(), dtype=int32, numpy=10>)\n",
      "(<tf.Tensor: shape=(), dtype=int32, numpy=1>, <tf.Tensor: shape=(), dtype=int32, numpy=11>)\n",
      "(<tf.Tensor: shape=(), dtype=int32, numpy=2>, <tf.Tensor: shape=(), dtype=int32, numpy=12>)\n"
     ]
    }
   ],
   "source": [
    "dataset2 = tf.data.Dataset.from_tensor_slices( (raw_data1, raw_data2) )\n",
    "\n",
    "for data in dataset2.take(3):\n",
    "    print(data)"
   ]
  },
  {
   "cell_type": "code",
   "execution_count": null,
   "metadata": {},
   "outputs": [],
   "source": [
    "# 하나의 tuple 안에 두 개의 Tensor가 들어있는 형식으로 결과가 반환된다.\n",
    "# 두 dataset의 같은 index의 값들을 tuple로 묶어서 반환한다."
   ]
  },
  {
   "cell_type": "code",
   "execution_count": 26,
   "metadata": {
    "ExecuteTime": {
     "end_time": "2023-02-20T05:21:59.853848Z",
     "start_time": "2023-02-20T05:21:59.837832Z"
    }
   },
   "outputs": [
    {
     "name": "stdout",
     "output_type": "stream",
     "text": [
      "tf.Tensor(0, shape=(), dtype=int32) tf.Tensor(10, shape=(), dtype=int32)\n",
      "tf.Tensor(1, shape=(), dtype=int32) tf.Tensor(11, shape=(), dtype=int32)\n",
      "tf.Tensor(2, shape=(), dtype=int32) tf.Tensor(12, shape=(), dtype=int32)\n",
      "tf.Tensor(3, shape=(), dtype=int32) tf.Tensor(13, shape=(), dtype=int32)\n",
      "tf.Tensor(4, shape=(), dtype=int32) tf.Tensor(14, shape=(), dtype=int32)\n",
      "tf.Tensor(5, shape=(), dtype=int32) tf.Tensor(15, shape=(), dtype=int32)\n",
      "tf.Tensor(6, shape=(), dtype=int32) tf.Tensor(16, shape=(), dtype=int32)\n",
      "tf.Tensor(7, shape=(), dtype=int32) tf.Tensor(17, shape=(), dtype=int32)\n",
      "tf.Tensor(8, shape=(), dtype=int32) tf.Tensor(18, shape=(), dtype=int32)\n",
      "tf.Tensor(9, shape=(), dtype=int32) tf.Tensor(19, shape=(), dtype=int32)\n"
     ]
    }
   ],
   "source": [
    "for x, y in dataset2:\n",
    "    print(x, y, sep = ' ')"
   ]
  },
  {
   "cell_type": "markdown",
   "metadata": {
    "slideshow": {
     "slide_type": "slide"
    }
   },
   "source": [
    "##### shuffle\n",
    "- 데이터셋을 섞는다."
   ]
  },
  {
   "cell_type": "code",
   "execution_count": 27,
   "metadata": {
    "ExecuteTime": {
     "end_time": "2023-02-20T05:24:09.826891Z",
     "start_time": "2023-02-20T05:24:09.794436Z"
    }
   },
   "outputs": [
    {
     "name": "stdout",
     "output_type": "stream",
     "text": [
      "tf.Tensor(0, shape=(), dtype=int32)\n",
      "tf.Tensor(1, shape=(), dtype=int32)\n",
      "tf.Tensor(2, shape=(), dtype=int32)\n",
      "tf.Tensor(3, shape=(), dtype=int32)\n",
      "tf.Tensor(4, shape=(), dtype=int32)\n",
      "tf.Tensor(5, shape=(), dtype=int32)\n",
      "tf.Tensor(6, shape=(), dtype=int32)\n",
      "tf.Tensor(7, shape=(), dtype=int32)\n",
      "tf.Tensor(8, shape=(), dtype=int32)\n",
      "tf.Tensor(9, shape=(), dtype=int32)\n"
     ]
    }
   ],
   "source": [
    "raw_data = range(10)\n",
    "dataset = tf.data.Dataset.from_tensor_slices(raw_data)\n",
    "for data in dataset:\n",
    "    print(data)"
   ]
  },
  {
   "cell_type": "code",
   "execution_count": 59,
   "metadata": {
    "ExecuteTime": {
     "end_time": "2023-02-20T05:45:25.579248Z",
     "start_time": "2023-02-20T05:45:25.572185Z"
    }
   },
   "outputs": [
    {
     "name": "stdout",
     "output_type": "stream",
     "text": [
      "<class 'tensorflow.python.data.ops.dataset_ops.ShuffleDataset'>\n"
     ]
    }
   ],
   "source": [
    "dataset_shuffle = dataset.shuffle(10)\n",
    "\n",
    "print(type(dataset_shuffl))"
   ]
  },
  {
   "cell_type": "code",
   "execution_count": 60,
   "metadata": {
    "ExecuteTime": {
     "end_time": "2023-02-20T05:45:26.309339Z",
     "start_time": "2023-02-20T05:45:26.304357Z"
    }
   },
   "outputs": [],
   "source": [
    "# shuffle을 사용하면 ShuffleDataset type으로 Dataset을 바꾼다."
   ]
  },
  {
   "cell_type": "code",
   "execution_count": 61,
   "metadata": {
    "ExecuteTime": {
     "end_time": "2023-02-20T05:45:26.943495Z",
     "start_time": "2023-02-20T05:45:26.918726Z"
    }
   },
   "outputs": [
    {
     "name": "stdout",
     "output_type": "stream",
     "text": [
      "tf.Tensor(3, shape=(), dtype=int32)\n",
      "tf.Tensor(4, shape=(), dtype=int32)\n",
      "tf.Tensor(6, shape=(), dtype=int32)\n",
      "tf.Tensor(8, shape=(), dtype=int32)\n",
      "tf.Tensor(5, shape=(), dtype=int32)\n",
      "tf.Tensor(9, shape=(), dtype=int32)\n",
      "tf.Tensor(7, shape=(), dtype=int32)\n",
      "tf.Tensor(1, shape=(), dtype=int32)\n",
      "tf.Tensor(2, shape=(), dtype=int32)\n",
      "tf.Tensor(0, shape=(), dtype=int32)\n"
     ]
    }
   ],
   "source": [
    "for data in dataset_shuffle:\n",
    "    print(data)"
   ]
  },
  {
   "cell_type": "code",
   "execution_count": 44,
   "metadata": {
    "ExecuteTime": {
     "end_time": "2023-02-20T05:37:20.768262Z",
     "start_time": "2023-02-20T05:37:20.754045Z"
    }
   },
   "outputs": [],
   "source": [
    "# ShuffleDataset 역시 data를 가지고 있지 않다. Dataset으로부터 data를 읽어와 data의 순서를 섞어 출력하는 것일 뿐이다.\n",
    "# method를 chainning하여 하나의 pipeline으로 만드는 것이다.\n",
    "# 그리고 이 pipeline을 network에 전달한다."
   ]
  },
  {
   "cell_type": "markdown",
   "metadata": {
    "slideshow": {
     "slide_type": "slide"
    }
   },
   "source": [
    "##### batch\n",
    "- drop_remainder: boolean(기본-False)\n",
    "    - batch로 제공할 데이터의 개수가 설정한 batch_size 보다 적으면 제공하지 않는다.\n",
    "    - Train dataset을 만들때 True로 설정하여 항상 일정한 batch size로 학습할 수 있도록 한다. drop 되는 데이터는 다른 epoch을 반복할 때 사용된다."
   ]
  },
  {
   "cell_type": "code",
   "execution_count": 49,
   "metadata": {
    "ExecuteTime": {
     "end_time": "2023-02-20T05:38:03.085277Z",
     "start_time": "2023-02-20T05:38:03.079088Z"
    }
   },
   "outputs": [
    {
     "name": "stdout",
     "output_type": "stream",
     "text": [
      "<class 'tensorflow.python.data.ops.dataset_ops.BatchDataset'>\n"
     ]
    }
   ],
   "source": [
    "dataset_batch = dataset.batch(5)\n",
    "print(type(dataset_batch))"
   ]
  },
  {
   "cell_type": "code",
   "execution_count": 50,
   "metadata": {
    "ExecuteTime": {
     "end_time": "2023-02-20T05:38:18.559463Z",
     "start_time": "2023-02-20T05:38:18.555184Z"
    }
   },
   "outputs": [],
   "source": [
    "# BatchDataset이 만들어진 것을 확인할 수 있다."
   ]
  },
  {
   "cell_type": "code",
   "execution_count": 52,
   "metadata": {
    "ExecuteTime": {
     "end_time": "2023-02-20T05:38:37.281034Z",
     "start_time": "2023-02-20T05:38:37.263896Z"
    }
   },
   "outputs": [
    {
     "name": "stdout",
     "output_type": "stream",
     "text": [
      "tf.Tensor([0 1 2 3 4], shape=(5,), dtype=int32)\n",
      "tf.Tensor([5 6 7 8 9], shape=(5,), dtype=int32)\n"
     ]
    }
   ],
   "source": [
    "for data in dataset_batch:\n",
    "    print(data)"
   ]
  },
  {
   "cell_type": "code",
   "execution_count": 53,
   "metadata": {
    "ExecuteTime": {
     "end_time": "2023-02-20T05:38:58.315649Z",
     "start_time": "2023-02-20T05:38:58.302495Z"
    }
   },
   "outputs": [],
   "source": [
    "# 입력한 개수만큼 data를 묶어 반환한다."
   ]
  },
  {
   "cell_type": "code",
   "execution_count": 54,
   "metadata": {
    "ExecuteTime": {
     "end_time": "2023-02-20T05:39:29.504205Z",
     "start_time": "2023-02-20T05:39:29.483187Z"
    }
   },
   "outputs": [
    {
     "name": "stdout",
     "output_type": "stream",
     "text": [
      "tf.Tensor([0 1 2], shape=(3,), dtype=int32)\n",
      "tf.Tensor([3 4 5], shape=(3,), dtype=int32)\n",
      "tf.Tensor([6 7 8], shape=(3,), dtype=int32)\n",
      "tf.Tensor([9], shape=(1,), dtype=int32)\n"
     ]
    }
   ],
   "source": [
    "dataset_batch = dataset.batch(3)\n",
    "for data in dataset_batch:\n",
    "    print(data)"
   ]
  },
  {
   "cell_type": "code",
   "execution_count": null,
   "metadata": {},
   "outputs": [],
   "source": [
    "# 딱 맞아떨어지지 않는 경우 위와 같이 남는 data는 따로 반환한다."
   ]
  },
  {
   "cell_type": "code",
   "execution_count": 55,
   "metadata": {
    "ExecuteTime": {
     "end_time": "2023-02-20T05:40:30.446923Z",
     "start_time": "2023-02-20T05:40:30.415994Z"
    }
   },
   "outputs": [
    {
     "name": "stdout",
     "output_type": "stream",
     "text": [
      "tf.Tensor([0 1 2], shape=(3,), dtype=int32)\n",
      "tf.Tensor([3 4 5], shape=(3,), dtype=int32)\n",
      "tf.Tensor([6 7 8], shape=(3,), dtype=int32)\n"
     ]
    }
   ],
   "source": [
    "dataset_batch = dataset.batch(3, drop_remainder = True)\n",
    "for data in dataset_batch:\n",
    "    print(data)"
   ]
  },
  {
   "cell_type": "code",
   "execution_count": null,
   "metadata": {},
   "outputs": [],
   "source": [
    "# parameter drop_remainder를 True로 지정하면 남는 data는 버리고 반환한다.\n",
    "# 읽어 올 data개수가 batch_size보다 작으면 제공하지 않는다.\n",
    "# train data set을 생성할 때 설정한다.\n",
    "# 무조건 하지는 않지만 보통의 경우 train data set을 생성할 때 drop_remainder를 True로 설정한다.\n",
    "# shuffle과 같이 사용해 남는 data를 사용하지 않는 일은 없도록 한다."
   ]
  },
  {
   "cell_type": "markdown",
   "metadata": {
    "slideshow": {
     "slide_type": "slide"
    }
   },
   "source": [
    "##### repeat"
   ]
  },
  {
   "cell_type": "code",
   "execution_count": null,
   "metadata": {},
   "outputs": [],
   "source": [
    "# 지정한 횟수만큼 data를 반복해서 제공한다. 기본값은 1이다."
   ]
  },
  {
   "cell_type": "code",
   "execution_count": 58,
   "metadata": {
    "ExecuteTime": {
     "end_time": "2023-02-20T05:44:31.954835Z",
     "start_time": "2023-02-20T05:44:31.947327Z"
    }
   },
   "outputs": [
    {
     "name": "stdout",
     "output_type": "stream",
     "text": [
      "<class 'tensorflow.python.data.ops.dataset_ops.RepeatDataset'>\n"
     ]
    }
   ],
   "source": [
    "dataset_repeat = dataset.repeat(2)\n",
    "print(type(dataset_repeat))"
   ]
  },
  {
   "cell_type": "code",
   "execution_count": 57,
   "metadata": {
    "ExecuteTime": {
     "end_time": "2023-02-20T05:43:53.458531Z",
     "start_time": "2023-02-20T05:43:53.440915Z"
    }
   },
   "outputs": [
    {
     "name": "stdout",
     "output_type": "stream",
     "text": [
      "tf.Tensor(0, shape=(), dtype=int32)\n",
      "tf.Tensor(1, shape=(), dtype=int32)\n",
      "tf.Tensor(2, shape=(), dtype=int32)\n",
      "tf.Tensor(3, shape=(), dtype=int32)\n",
      "tf.Tensor(4, shape=(), dtype=int32)\n",
      "tf.Tensor(5, shape=(), dtype=int32)\n",
      "tf.Tensor(6, shape=(), dtype=int32)\n",
      "tf.Tensor(7, shape=(), dtype=int32)\n",
      "tf.Tensor(8, shape=(), dtype=int32)\n",
      "tf.Tensor(9, shape=(), dtype=int32)\n",
      "tf.Tensor(0, shape=(), dtype=int32)\n",
      "tf.Tensor(1, shape=(), dtype=int32)\n",
      "tf.Tensor(2, shape=(), dtype=int32)\n",
      "tf.Tensor(3, shape=(), dtype=int32)\n",
      "tf.Tensor(4, shape=(), dtype=int32)\n",
      "tf.Tensor(5, shape=(), dtype=int32)\n",
      "tf.Tensor(6, shape=(), dtype=int32)\n",
      "tf.Tensor(7, shape=(), dtype=int32)\n",
      "tf.Tensor(8, shape=(), dtype=int32)\n",
      "tf.Tensor(9, shape=(), dtype=int32)\n"
     ]
    }
   ],
   "source": [
    "for data in dataset_repeat:\n",
    "    print(data)"
   ]
  },
  {
   "cell_type": "code",
   "execution_count": null,
   "metadata": {},
   "outputs": [],
   "source": [
    "# 횟수를 2로 지정해서 각 data의 반환을 2번씩 반복한다."
   ]
  },
  {
   "cell_type": "code",
   "execution_count": 65,
   "metadata": {
    "ExecuteTime": {
     "end_time": "2023-02-20T05:49:57.391632Z",
     "start_time": "2023-02-20T05:49:57.375987Z"
    }
   },
   "outputs": [],
   "source": [
    "# 위 과정들은 한 줄로 작성할 수 있다.\n",
    "# 아래와 같은 하나의 data preprocessing pipeline을 만드는 것이다.\n",
    "# 순서가 바뀌면 data의 구성이 바뀐다. 순서에 주의하면서 Dataset의 method를 사용하도록 한다.\n",
    "raw_data = np.arange(10)\n",
    "dataset = tf.data.Dataset.from_tensor_slices(raw_data).shuffle(10).batch(3, drop_remainder = True).repeat(2)"
   ]
  },
  {
   "cell_type": "code",
   "execution_count": 66,
   "metadata": {
    "ExecuteTime": {
     "end_time": "2023-02-20T05:49:57.781452Z",
     "start_time": "2023-02-20T05:49:57.773690Z"
    }
   },
   "outputs": [
    {
     "name": "stdout",
     "output_type": "stream",
     "text": [
      "<class 'tensorflow.python.data.ops.dataset_ops.RepeatDataset'>\n"
     ]
    }
   ],
   "source": [
    "print(type(dataset))"
   ]
  },
  {
   "cell_type": "code",
   "execution_count": 67,
   "metadata": {
    "ExecuteTime": {
     "end_time": "2023-02-20T05:49:58.277260Z",
     "start_time": "2023-02-20T05:49:58.257500Z"
    }
   },
   "outputs": [
    {
     "name": "stdout",
     "output_type": "stream",
     "text": [
      "tf.Tensor([0 3 1], shape=(3,), dtype=int32)\n",
      "tf.Tensor([6 7 9], shape=(3,), dtype=int32)\n",
      "tf.Tensor([8 5 4], shape=(3,), dtype=int32)\n",
      "tf.Tensor([1 7 9], shape=(3,), dtype=int32)\n",
      "tf.Tensor([5 3 6], shape=(3,), dtype=int32)\n",
      "tf.Tensor([4 0 8], shape=(3,), dtype=int32)\n"
     ]
    }
   ],
   "source": [
    "for data in dataset:\n",
    "    print(data)"
   ]
  },
  {
   "cell_type": "code",
   "execution_count": null,
   "metadata": {},
   "outputs": [],
   "source": [
    "# 실행 결과를 살펴보면 repeat을 한 번 수행할 때마다 shuffle 역시 한 번 수행하는 것을 알 수 있다."
   ]
  },
  {
   "cell_type": "markdown",
   "metadata": {
    "slideshow": {
     "slide_type": "slide"
    }
   },
   "source": [
    "##### map"
   ]
  },
  {
   "cell_type": "code",
   "execution_count": 71,
   "metadata": {
    "ExecuteTime": {
     "end_time": "2023-02-20T06:15:17.370123Z",
     "start_time": "2023-02-20T06:15:17.352932Z"
    }
   },
   "outputs": [
    {
     "name": "stdout",
     "output_type": "stream",
     "text": [
      "<class 'tensorflow.python.data.ops.dataset_ops.MapDataset'>\n"
     ]
    }
   ],
   "source": [
    "# data에 일괄적인 처리를 할 때 사용한다. map 안에 처리 함수로 lambda 식은 사용할 수 없다.\n",
    "raw_data = np.arange(10)\n",
    "dataset = tf.data.Dataset.from_tensor_slices(raw_data)\n",
    "\n",
    "def twice(x):\n",
    "    return x * 2\n",
    "\n",
    "dataset_map = dataset.map(twice)\n",
    "print(type(dataset_map))"
   ]
  },
  {
   "cell_type": "code",
   "execution_count": 72,
   "metadata": {
    "ExecuteTime": {
     "end_time": "2023-02-20T06:15:26.337811Z",
     "start_time": "2023-02-20T06:15:26.308391Z"
    },
    "scrolled": true
   },
   "outputs": [
    {
     "name": "stdout",
     "output_type": "stream",
     "text": [
      "tf.Tensor(0, shape=(), dtype=int32)\n",
      "tf.Tensor(2, shape=(), dtype=int32)\n",
      "tf.Tensor(4, shape=(), dtype=int32)\n",
      "tf.Tensor(6, shape=(), dtype=int32)\n",
      "tf.Tensor(8, shape=(), dtype=int32)\n",
      "tf.Tensor(10, shape=(), dtype=int32)\n",
      "tf.Tensor(12, shape=(), dtype=int32)\n",
      "tf.Tensor(14, shape=(), dtype=int32)\n",
      "tf.Tensor(16, shape=(), dtype=int32)\n",
      "tf.Tensor(18, shape=(), dtype=int32)\n"
     ]
    }
   ],
   "source": [
    "for data in dataset_map:\n",
    "    print(data)"
   ]
  },
  {
   "cell_type": "code",
   "execution_count": 74,
   "metadata": {
    "ExecuteTime": {
     "end_time": "2023-02-20T06:19:15.190917Z",
     "start_time": "2023-02-20T06:19:15.114376Z"
    }
   },
   "outputs": [
    {
     "name": "stdout",
     "output_type": "stream",
     "text": [
      "(<tf.Tensor: shape=(), dtype=int32, numpy=0>, <tf.Tensor: shape=(), dtype=int32, numpy=20>)\n",
      "(<tf.Tensor: shape=(), dtype=int32, numpy=2>, <tf.Tensor: shape=(), dtype=int32, numpy=21>)\n",
      "(<tf.Tensor: shape=(), dtype=int32, numpy=4>, <tf.Tensor: shape=(), dtype=int32, numpy=22>)\n",
      "(<tf.Tensor: shape=(), dtype=int32, numpy=6>, <tf.Tensor: shape=(), dtype=int32, numpy=23>)\n",
      "(<tf.Tensor: shape=(), dtype=int32, numpy=8>, <tf.Tensor: shape=(), dtype=int32, numpy=24>)\n",
      "(<tf.Tensor: shape=(), dtype=int32, numpy=10>, <tf.Tensor: shape=(), dtype=int32, numpy=25>)\n",
      "(<tf.Tensor: shape=(), dtype=int32, numpy=12>, <tf.Tensor: shape=(), dtype=int32, numpy=26>)\n",
      "(<tf.Tensor: shape=(), dtype=int32, numpy=14>, <tf.Tensor: shape=(), dtype=int32, numpy=27>)\n",
      "(<tf.Tensor: shape=(), dtype=int32, numpy=16>, <tf.Tensor: shape=(), dtype=int32, numpy=28>)\n",
      "(<tf.Tensor: shape=(), dtype=int32, numpy=18>, <tf.Tensor: shape=(), dtype=int32, numpy=29>)\n"
     ]
    }
   ],
   "source": [
    "# map은 여러 개의 data를 하나로 묶은 Dataset instance에도 적용 가능하다.\n",
    "\n",
    "dataset = tf.data.Dataset.from_tensor_slices( (np.arange(10), np.arange(10, 20)) )\n",
    "\n",
    "def func(x, y):\n",
    "    return x*2, y + 10\n",
    "\n",
    "dataset_map = dataset.map(func)\n",
    "\n",
    "for data in dataset_map:\n",
    "    print(data)"
   ]
  },
  {
   "cell_type": "markdown",
   "metadata": {
    "slideshow": {
     "slide_type": "slide"
    }
   },
   "source": [
    "##### filter"
   ]
  },
  {
   "cell_type": "code",
   "execution_count": 76,
   "metadata": {
    "ExecuteTime": {
     "end_time": "2023-02-20T06:20:53.063099Z",
     "start_time": "2023-02-20T06:20:52.992026Z"
    }
   },
   "outputs": [
    {
     "name": "stdout",
     "output_type": "stream",
     "text": [
      "tf.Tensor(0, shape=(), dtype=int32)\n",
      "tf.Tensor(2, shape=(), dtype=int32)\n",
      "tf.Tensor(4, shape=(), dtype=int32)\n",
      "tf.Tensor(6, shape=(), dtype=int32)\n",
      "tf.Tensor(8, shape=(), dtype=int32)\n"
     ]
    }
   ],
   "source": [
    "# filter에는 boolean type을 반환하는 함수를 넣어야 한다.\n",
    "def filter_func(x):\n",
    "    return x % 2 == 0\n",
    "\n",
    "dataset = tf.data.Dataset.from_tensor_slices(np.arange(10))\n",
    "dataset_filter = dataset.filter(filter_func)\n",
    "\n",
    "for data in dataset_filter:\n",
    "    print(data)"
   ]
  },
  {
   "cell_type": "markdown",
   "metadata": {
    "slideshow": {
     "slide_type": "slide"
    }
   },
   "source": [
    "# 문제 유형별 MLP 네트워크\n",
    "- MLP(Multi Layer Perceptron), ANN(Artificial Neural Network), DNN(Deep Neural Network)\n",
    "    - Fully Connected Layer로 구성된 가장 기본적인 Deep Learning network를 말한다."
   ]
  },
  {
   "cell_type": "code",
   "execution_count": 77,
   "metadata": {
    "ExecuteTime": {
     "end_time": "2023-02-20T06:26:29.739099Z",
     "start_time": "2023-02-20T06:26:06.439285Z"
    }
   },
   "outputs": [
    {
     "name": "stdout",
     "output_type": "stream",
     "text": [
      "Collecting scikit-learn\n",
      "  Using cached scikit_learn-1.2.1-cp39-cp39-win_amd64.whl (8.4 MB)\n",
      "Collecting threadpoolctl>=2.0.0\n",
      "  Using cached threadpoolctl-3.1.0-py3-none-any.whl (14 kB)\n",
      "Requirement already satisfied: numpy>=1.17.3 in c:\\users\\8roke\\anaconda3\\envs\\tf\\lib\\site-packages (from scikit-learn) (1.24.2)\n",
      "Collecting scipy>=1.3.2\n",
      "  Downloading scipy-1.10.1-cp39-cp39-win_amd64.whl (42.5 MB)\n",
      "     --------------------------------------- 42.5/42.5 MB 18.2 MB/s eta 0:00:00\n",
      "Collecting joblib>=1.1.1\n",
      "  Using cached joblib-1.2.0-py3-none-any.whl (297 kB)\n",
      "Installing collected packages: threadpoolctl, scipy, joblib, scikit-learn\n",
      "Successfully installed joblib-1.2.0 scikit-learn-1.2.1 scipy-1.10.1 threadpoolctl-3.1.0\n"
     ]
    }
   ],
   "source": [
    "!pip install scikit-learn"
   ]
  },
  {
   "cell_type": "markdown",
   "metadata": {
    "slideshow": {
     "slide_type": "fragment"
    }
   },
   "source": [
    "# Regression(회귀)\n",
    "\n",
    "## Boston Housing Dataset\n",
    "보스턴 주택가격 dataset은 다음과 같은 속성을 바탕으로 해당 타운 주택 가격의 중앙값을 예측하는 문제.\n",
    "- CRIM: 범죄율\n",
    "- ZN: 25,000 평방피트당 주거지역 비율\n",
    "- INDUS: 비소매 상업지구 비율\n",
    "- CHAS: 찰스강에 인접해 있는지 여부(인접:1, 아니면:0)\n",
    "- NOX: 일산화질소 농도(단위: 0.1ppm)\n",
    "- RM: 주택당 방의 수\n",
    "- AGE: 1940년 이전에 건설된 주택의 비율\n",
    "- DIS: 5개의 보스턴 직업고용센터와의 거리(가중 평균)\n",
    "- RAD: 고속도로 접근성\n",
    "- TAX: 재산세율\n",
    "- PTRATIO: 학생/교사 비율\n",
    "- B: 흑인 비율\n",
    "- LSTAT: 하위 계층 비율\n",
    "<br><br>\n",
    "- **Target**\n",
    "    - MEDV: 타운의 주택가격 중앙값(단위: 1,000달러)"
   ]
  },
  {
   "cell_type": "code",
   "execution_count": 1,
   "metadata": {
    "ExecuteTime": {
     "end_time": "2023-02-20T08:11:26.306100Z",
     "start_time": "2023-02-20T08:11:08.768424Z"
    }
   },
   "outputs": [],
   "source": [
    "import numpy as np\n",
    "import matplotlib.pyplot as plt\n",
    "\n",
    "from sklearn.model_selection import train_test_split\n",
    "\n",
    "import tensorflow as tf\n",
    "from tensorflow import keras\n",
    "from tensorflow.keras import layers\n",
    "\n",
    "from sklearn.preprocessing import StandardScaler\n",
    "\n",
    "import random"
   ]
  },
  {
   "cell_type": "code",
   "execution_count": 2,
   "metadata": {
    "ExecuteTime": {
     "end_time": "2023-02-20T08:11:38.587057Z",
     "start_time": "2023-02-20T08:11:38.568100Z"
    }
   },
   "outputs": [],
   "source": [
    "# random seed 값 설정\n",
    "np.random.seed(0)\n",
    "tf.random.set_seed(0)\n",
    "random.seed(0)"
   ]
  },
  {
   "cell_type": "markdown",
   "metadata": {
    "slideshow": {
     "slide_type": "slide"
    }
   },
   "source": [
    "##### 데이터 로딩"
   ]
  },
  {
   "cell_type": "code",
   "execution_count": 3,
   "metadata": {
    "ExecuteTime": {
     "end_time": "2023-02-20T08:11:39.611493Z",
     "start_time": "2023-02-20T08:11:39.559157Z"
    }
   },
   "outputs": [
    {
     "name": "stdout",
     "output_type": "stream",
     "text": [
      "(404, 13) (404,)\n",
      "(102, 13) (102,)\n"
     ]
    }
   ],
   "source": [
    "(train_X, y_train), (test_X, y_test) = keras.datasets.boston_housing.load_data()\n",
    "\n",
    "print(train_X.shape, y_train.shape)\n",
    "print(test_X.shape, y_test.shape)"
   ]
  },
  {
   "cell_type": "code",
   "execution_count": 4,
   "metadata": {
    "ExecuteTime": {
     "end_time": "2023-02-20T08:11:40.174141Z",
     "start_time": "2023-02-20T08:11:40.157011Z"
    }
   },
   "outputs": [],
   "source": [
    "train_X, val_X, y_train, y_val = train_test_split(train_X, y_train, test_size = 0.2, random_state = 0)"
   ]
  },
  {
   "cell_type": "code",
   "execution_count": 5,
   "metadata": {
    "ExecuteTime": {
     "end_time": "2023-02-20T08:11:40.954025Z",
     "start_time": "2023-02-20T08:11:40.930945Z"
    }
   },
   "outputs": [
    {
     "name": "stdout",
     "output_type": "stream",
     "text": [
      "(323, 13) (323,)\n",
      "(81, 13) (81,)\n",
      "(102, 13) (102,)\n"
     ]
    }
   ],
   "source": [
    "print(train_X.shape, y_train.shape)\n",
    "print(val_X.shape, y_val.shape)\n",
    "print(test_X.shape, y_test.shape)"
   ]
  },
  {
   "cell_type": "code",
   "execution_count": 6,
   "metadata": {
    "ExecuteTime": {
     "end_time": "2023-02-20T08:11:41.858083Z",
     "start_time": "2023-02-20T08:11:41.835887Z"
    }
   },
   "outputs": [
    {
     "data": {
      "text/plain": [
       "array([  8.98296,   0.     ,  18.1    ,   1.     ,   0.77   ,   6.212  ,\n",
       "        97.4    ,   2.1222 ,  24.     , 666.     ,  20.2    , 377.73   ,\n",
       "        17.6    ])"
      ]
     },
     "execution_count": 6,
     "metadata": {},
     "output_type": "execute_result"
    }
   ],
   "source": [
    "train_X[0]"
   ]
  },
  {
   "cell_type": "code",
   "execution_count": 7,
   "metadata": {
    "ExecuteTime": {
     "end_time": "2023-02-20T08:11:42.388958Z",
     "start_time": "2023-02-20T08:11:42.368261Z"
    }
   },
   "outputs": [
    {
     "data": {
      "text/plain": [
       "(13,)"
      ]
     },
     "execution_count": 7,
     "metadata": {},
     "output_type": "execute_result"
    }
   ],
   "source": [
    "train_X[0].shape"
   ]
  },
  {
   "cell_type": "code",
   "execution_count": 8,
   "metadata": {
    "ExecuteTime": {
     "end_time": "2023-02-20T08:11:42.903415Z",
     "start_time": "2023-02-20T08:11:42.888825Z"
    }
   },
   "outputs": [
    {
     "data": {
      "text/plain": [
       "17.8"
      ]
     },
     "execution_count": 8,
     "metadata": {},
     "output_type": "execute_result"
    }
   ],
   "source": [
    "y_train[0]"
   ]
  },
  {
   "cell_type": "markdown",
   "metadata": {
    "slideshow": {
     "slide_type": "slide"
    }
   },
   "source": [
    "##### 하이퍼파라미터, 변수 정의"
   ]
  },
  {
   "cell_type": "code",
   "execution_count": 9,
   "metadata": {
    "ExecuteTime": {
     "end_time": "2023-02-20T08:12:12.492479Z",
     "start_time": "2023-02-20T08:12:12.473256Z"
    }
   },
   "outputs": [],
   "source": [
    "# hyper parameter와 변수는 미리 한번에 설정하는 것이 관라하는 데에 편하다.\n",
    "\n",
    "# 학습률 alpha 정의\n",
    "# gradient descent에서 사용할 값으로 0 ~ 1 사이의 실수를 정의한다. optimizer를 생성할 때 사용한다.\n",
    "LEARNING_RATE = 0.001\n",
    "\n",
    "# epoch 수 정의\n",
    "N_EPOCH = 200\n",
    "\n",
    "# train Dataset의 batch_size 정의\n",
    "N_BATCH = 323\n",
    "\n",
    "# vlidation Dataset / evaluation의 batch_size 정의\n",
    "N_BATCH_VAL = 50\n",
    "\n",
    "# test Dataset의 batch_size 정의\n",
    "N_BATCH_TEST = 50"
   ]
  },
  {
   "cell_type": "markdown",
   "metadata": {
    "slideshow": {
     "slide_type": "fragment"
    }
   },
   "source": [
    "##### X, y 전처리\n",
    "- MLP는 선형모델을 기반으로 하므로 Feature scaling을 해준다.\n",
    "- 본 문제는 regression이므로 y는 그대로 둔다."
   ]
  },
  {
   "cell_type": "code",
   "execution_count": 10,
   "metadata": {
    "ExecuteTime": {
     "end_time": "2023-02-20T08:12:13.151518Z",
     "start_time": "2023-02-20T08:12:13.127437Z"
    }
   },
   "outputs": [],
   "source": [
    "scaler = StandardScaler()\n",
    "\n",
    "X_train = scaler.fit_transform(train_X)\n",
    "X_val = scaler.transform(val_X)\n",
    "X_test = scaler.transform(test_X)"
   ]
  },
  {
   "cell_type": "code",
   "execution_count": 11,
   "metadata": {
    "ExecuteTime": {
     "end_time": "2023-02-20T08:12:13.338534Z",
     "start_time": "2023-02-20T08:12:13.313919Z"
    }
   },
   "outputs": [
    {
     "data": {
      "text/plain": [
       "(1.700632172990952e-15, 1.0)"
      ]
     },
     "execution_count": 11,
     "metadata": {},
     "output_type": "execute_result"
    }
   ],
   "source": [
    "X_train.mean(), X_train.std()"
   ]
  },
  {
   "cell_type": "markdown",
   "metadata": {
    "slideshow": {
     "slide_type": "slide"
    }
   },
   "source": [
    "##### Dataset 생성\n",
    "\n",
    "- validation/test set의 pipe line은 동일하게 구성한다.\n",
    "- train dataset은 shuffle을 추가하고 batch에 drop_remainder=True를 설정한다.\n",
    "- map, filter 를 pipe line에 추가할 경우 train/validation/test set에 모두 동일하게 적용한다."
   ]
  },
  {
   "cell_type": "code",
   "execution_count": 12,
   "metadata": {
    "ExecuteTime": {
     "end_time": "2023-02-20T08:12:13.779686Z",
     "start_time": "2023-02-20T08:12:13.760040Z"
    }
   },
   "outputs": [],
   "source": [
    "# train Dataset은 shuffle을 해야하지만 validation / test Dataset은 shuffle을 할 필요가 없다.\n",
    "# 어차피 결과의 평균으로 network를 평가하기 때문이다.\n",
    "\n",
    "# train Dataset은 batch에서 drop_remainder = True로 설정해야 하지만 vlidation / test Dataset은 그렇게 설정하지 않는다."
   ]
  },
  {
   "cell_type": "code",
   "execution_count": 13,
   "metadata": {
    "ExecuteTime": {
     "end_time": "2023-02-20T08:12:14.091577Z",
     "start_time": "2023-02-20T08:12:13.982719Z"
    }
   },
   "outputs": [],
   "source": [
    "train_dataset = tf.data.Dataset.from_tensor_slices((X_train, y_train)).shuffle(X_train.shape[0]).batch(N_BATCH, drop_remainder = True)\n",
    "val_dataset = tf.data.Dataset.from_tensor_slices((X_val, y_val)).batch(N_BATCH_VAL)\n",
    "test_dataset = tf.data.Dataset.from_tensor_slices((X_test, y_test)).batch(N_BATCH_TEST)"
   ]
  },
  {
   "cell_type": "code",
   "execution_count": 14,
   "metadata": {
    "ExecuteTime": {
     "end_time": "2023-02-20T08:12:14.185726Z",
     "start_time": "2023-02-20T08:12:14.165385Z"
    }
   },
   "outputs": [
    {
     "name": "stdout",
     "output_type": "stream",
     "text": [
      "1 epoch당 train Dataset의 step 수: 1\n",
      "1 epoch당 validation Dataset의 step 수: 2\n",
      "1 epoch당 test Dataset의 step 수: 3\n"
     ]
    }
   ],
   "source": [
    "print('1 epoch당 train Dataset의 step 수:', len(train_dataset))\n",
    "print('1 epoch당 validation Dataset의 step 수:', len(val_dataset))\n",
    "print('1 epoch당 test Dataset의 step 수:', len(test_dataset))"
   ]
  },
  {
   "cell_type": "code",
   "execution_count": 15,
   "metadata": {
    "ExecuteTime": {
     "end_time": "2023-02-20T08:12:14.374249Z",
     "start_time": "2023-02-20T08:12:14.360654Z"
    }
   },
   "outputs": [],
   "source": [
    "# X_train은 data point의 수가 404개였다. batch_size를 400으로 설정했기 때문에 1 epoch을 실행할 때 1 step을 실행한다.\n",
    "# X_test는 data point의 수가 81개였다. batch_size를 50으로 설정했기 때문에 1 epoch을 실행할 때 2 step을 실행한다.\n",
    "# X_test는 data point의 수가 102개였다. batch_size를 50으로 설정했기 때문에 1 epoch을 실행할 때 3 step을 실행한다."
   ]
  },
  {
   "cell_type": "markdown",
   "metadata": {
    "slideshow": {
     "slide_type": "slide"
    }
   },
   "source": [
    "##### 모델 구현\n",
    "\n",
    "1. 모델 객체 생성 - Sequential\n",
    "2. 모델에 Layer들 추가\n",
    "    - Input Layer 추가\n",
    "        - 입력 데이터의 shape을 지정한다.\n",
    "        1. InputLayer 객체를 생성해서 추가한다.\n",
    "        2. 첫번째 Hidden Layer에 input_shape 매개변수에 shape을 지정하여 추가한다.\n",
    "    - Hidden Layer들 추가\n",
    "        - Layer의 개수와 Layer의 Unit의 개수는 튜닝대상으로 성능에 영향을 준다.\n",
    "        - 활성함수는 ReLU 를 사용한다.\n",
    "        - Layer의 개수와 Unit 개수가 많을 수록 복잡한 모델, 적을 수록 단순한 모델이된다.\n",
    "    - Output Layer 추가\n",
    "        - 풀려는 문제에 따라 unit개수와 각 활성함수를 지정한다.\n",
    "        - 보통 regression 문제에서는 activation function을 설정하지 않는다. parameter activation의 기본값은 None이므로 아무런 설정을 하지 않아도 된다.\n",
    "        - 값의 범위를 맞추기 위해 sigmoid function이나 hyperbolic tangent function을 사용하기도 한다.\n",
    "            - sigmoid funcion은 출력 값이 0 ~ 1인 경우 사용한다.\n",
    "            - hyperbolic tangent function은 출력 값이 -1 ~ 1인 경우 사용한다."
   ]
  },
  {
   "cell_type": "code",
   "execution_count": 16,
   "metadata": {
    "ExecuteTime": {
     "end_time": "2023-02-20T08:12:14.774296Z",
     "start_time": "2023-02-20T08:12:14.753500Z"
    }
   },
   "outputs": [],
   "source": [
    "# InputLayer는 Hidden Layer의 첫 번째 lyaer에 input_shape을 parameter로 설정함으로써 생략할 수 있다.\n",
    "# activation function역시 각 layer에 parameter로 추가함으로써 직접 layer를 activation function layer를 설정하지 않아도 된다."
   ]
  },
  {
   "cell_type": "code",
   "execution_count": 17,
   "metadata": {
    "ExecuteTime": {
     "end_time": "2023-02-20T08:12:14.979395Z",
     "start_time": "2023-02-20T08:12:14.963743Z"
    }
   },
   "outputs": [],
   "source": [
    "# model을 생성하는 함수를 정의해 사용한다. 관리를 좀 더 편하게 하기 위함이다.\n",
    "def get_model_boston(lr = 0.01):\n",
    "    model = keras.Sequential()\n",
    "    \n",
    "    # Network 정의\n",
    "    # Hidden Layer - Input Layer는 Hidden Layer의 첫 번째 layer에 같이 설정\n",
    "    model.add(layers.Dense(units = 32, activation = 'relu', input_shape = (13, )))\n",
    "    model.add(layers.Dense(units = 16, activation = 'relu'))\n",
    "    model.add(layers.Dense(units = 8, activation = 'relu'))\n",
    "    # Ouput Layer\n",
    "    model.add(layers.Dense(units = 1))\n",
    "    \n",
    "    # Network Compile\n",
    "    model.compile(optimizer = keras.optimizers.Adam(learning_rate = lr), \n",
    "                  loss = 'mse')\n",
    "    \n",
    "    return model"
   ]
  },
  {
   "cell_type": "code",
   "execution_count": 18,
   "metadata": {
    "ExecuteTime": {
     "end_time": "2023-02-20T08:12:15.453804Z",
     "start_time": "2023-02-20T08:12:15.184936Z"
    }
   },
   "outputs": [
    {
     "name": "stdout",
     "output_type": "stream",
     "text": [
      "Model: \"sequential\"\n",
      "_________________________________________________________________\n",
      " Layer (type)                Output Shape              Param #   \n",
      "=================================================================\n",
      " dense (Dense)               (None, 32)                448       \n",
      "                                                                 \n",
      " dense_1 (Dense)             (None, 16)                528       \n",
      "                                                                 \n",
      " dense_2 (Dense)             (None, 8)                 136       \n",
      "                                                                 \n",
      " dense_3 (Dense)             (None, 1)                 9         \n",
      "                                                                 \n",
      "=================================================================\n",
      "Total params: 1,121\n",
      "Trainable params: 1,121\n",
      "Non-trainable params: 0\n",
      "_________________________________________________________________\n"
     ]
    }
   ],
   "source": [
    "# 위 함수를 이용해 network를 생성해보자.\n",
    "# model_boston = get_model_boston(LEARNING_RATE)\n",
    "model_boston = get_model_boston()\n",
    "model_boston.summary()"
   ]
  },
  {
   "cell_type": "code",
   "execution_count": 19,
   "metadata": {
    "ExecuteTime": {
     "end_time": "2023-02-20T08:12:16.287976Z",
     "start_time": "2023-02-20T08:12:15.702054Z"
    }
   },
   "outputs": [
    {
     "data": {
      "image/png": "[encoded data removed]",
      "text/plain": [
       "<IPython.core.display.Image object>"
      ]
     },
     "execution_count": 19,
     "metadata": {},
     "output_type": "execute_result"
    }
   ],
   "source": [
    "keras.utils.plot_model(model_boston, show_shapes = True)"
   ]
  },
  {
   "cell_type": "markdown",
   "metadata": {
    "slideshow": {
     "slide_type": "slide"
    }
   },
   "source": [
    "##### 학습(Train)"
   ]
  },
  {
   "cell_type": "code",
   "execution_count": 20,
   "metadata": {
    "ExecuteTime": {
     "end_time": "2023-02-20T08:12:33.742321Z",
     "start_time": "2023-02-20T08:12:17.043513Z"
    },
    "collapsed": true
   },
   "outputs": [
    {
     "name": "stdout",
     "output_type": "stream",
     "text": [
      "Epoch 1/200\n",
      "1/1 [==============================] - 3s 3s/step - loss: 602.3062 - val_loss: 532.8664\n",
      "Epoch 2/200\n",
      "1/1 [==============================] - 0s 52ms/step - loss: 593.8774 - val_loss: 526.0972\n",
      "Epoch 3/200\n",
      "1/1 [==============================] - 0s 56ms/step - loss: 586.3717 - val_loss: 518.1393\n",
      "Epoch 4/200\n",
      "1/1 [==============================] - 0s 58ms/step - loss: 578.0090 - val_loss: 509.2076\n",
      "Epoch 5/200\n",
      "1/1 [==============================] - 0s 56ms/step - loss: 568.0285 - val_loss: 499.1311\n",
      "Epoch 6/200\n",
      "1/1 [==============================] - 0s 55ms/step - loss: 556.5242 - val_loss: 487.4049\n",
      "Epoch 7/200\n",
      "1/1 [==============================] - 0s 54ms/step - loss: 543.1180 - val_loss: 473.5567\n",
      "Epoch 8/200\n",
      "1/1 [==============================] - 0s 55ms/step - loss: 527.2007 - val_loss: 457.4460\n",
      "Epoch 9/200\n",
      "1/1 [==============================] - 0s 53ms/step - loss: 508.2335 - val_loss: 438.5789\n",
      "Epoch 10/200\n",
      "1/1 [==============================] - 0s 53ms/step - loss: 485.9183 - val_loss: 417.1409\n",
      "Epoch 11/200\n",
      "1/1 [==============================] - 0s 56ms/step - loss: 460.3509 - val_loss: 392.9846\n",
      "Epoch 12/200\n",
      "1/1 [==============================] - 0s 57ms/step - loss: 431.2022 - val_loss: 365.9146\n",
      "Epoch 13/200\n",
      "1/1 [==============================] - 0s 57ms/step - loss: 398.4094 - val_loss: 336.2569\n",
      "Epoch 14/200\n",
      "1/1 [==============================] - 0s 56ms/step - loss: 362.1962 - val_loss: 304.3318\n",
      "Epoch 15/200\n",
      "1/1 [==============================] - 0s 54ms/step - loss: 323.1721 - val_loss: 270.8487\n",
      "Epoch 16/200\n",
      "1/1 [==============================] - 0s 56ms/step - loss: 282.1431 - val_loss: 237.1470\n",
      "Epoch 17/200\n",
      "1/1 [==============================] - 0s 58ms/step - loss: 240.7115 - val_loss: 204.8280\n",
      "Epoch 18/200\n",
      "1/1 [==============================] - 0s 56ms/step - loss: 200.9792 - val_loss: 176.0425\n",
      "Epoch 19/200\n",
      "1/1 [==============================] - 0s 57ms/step - loss: 165.8156 - val_loss: 153.1559\n",
      "Epoch 20/200\n",
      "1/1 [==============================] - 0s 59ms/step - loss: 138.8674 - val_loss: 137.8919\n",
      "Epoch 21/200\n",
      "1/1 [==============================] - 0s 53ms/step - loss: 123.4640 - val_loss: 130.3812\n",
      "Epoch 22/200\n",
      "1/1 [==============================] - 0s 56ms/step - loss: 120.6541 - val_loss: 128.2946\n",
      "Epoch 23/200\n",
      "1/1 [==============================] - 0s 57ms/step - loss: 127.4710 - val_loss: 126.9240\n",
      "Epoch 24/200\n",
      "1/1 [==============================] - 0s 57ms/step - loss: 136.1382 - val_loss: 121.1441\n",
      "Epoch 25/200\n",
      "1/1 [==============================] - 0s 51ms/step - loss: 137.9226 - val_loss: 110.0332\n",
      "Epoch 26/200\n",
      "1/1 [==============================] - 0s 52ms/step - loss: 129.9529 - val_loss: 95.6159\n",
      "Epoch 27/200\n",
      "1/1 [==============================] - 0s 52ms/step - loss: 114.9497 - val_loss: 80.8792\n",
      "Epoch 28/200\n",
      "1/1 [==============================] - 0s 58ms/step - loss: 97.3910 - val_loss: 68.3053\n",
      "Epoch 29/200\n",
      "1/1 [==============================] - 0s 52ms/step - loss: 80.9938 - val_loss: 58.8269\n",
      "Epoch 30/200\n",
      "1/1 [==============================] - 0s 50ms/step - loss: 67.9917 - val_loss: 52.3220\n",
      "Epoch 31/200\n",
      "1/1 [==============================] - 0s 56ms/step - loss: 58.8721 - val_loss: 48.2182\n",
      "Epoch 32/200\n",
      "1/1 [==============================] - 0s 55ms/step - loss: 53.1879 - val_loss: 45.2692\n",
      "Epoch 33/200\n",
      "1/1 [==============================] - 0s 53ms/step - loss: 49.4899 - val_loss: 42.6099\n",
      "Epoch 34/200\n",
      "1/1 [==============================] - 0s 44ms/step - loss: 46.5623 - val_loss: 39.7728\n",
      "Epoch 35/200\n",
      "1/1 [==============================] - 0s 44ms/step - loss: 43.8256 - val_loss: 36.6504\n",
      "Epoch 36/200\n",
      "1/1 [==============================] - 0s 51ms/step - loss: 41.0255 - val_loss: 33.3825\n",
      "Epoch 37/200\n",
      "1/1 [==============================] - 0s 52ms/step - loss: 38.2017 - val_loss: 30.3770\n",
      "Epoch 38/200\n",
      "1/1 [==============================] - 0s 53ms/step - loss: 35.6410 - val_loss: 28.1199\n",
      "Epoch 39/200\n",
      "1/1 [==============================] - 0s 53ms/step - loss: 33.7053 - val_loss: 26.9353\n",
      "Epoch 40/200\n",
      "1/1 [==============================] - 0s 51ms/step - loss: 32.6431 - val_loss: 26.7544\n",
      "Epoch 41/200\n",
      "1/1 [==============================] - 0s 54ms/step - loss: 32.3397 - val_loss: 27.0144\n",
      "Epoch 42/200\n",
      "1/1 [==============================] - 0s 68ms/step - loss: 32.2088 - val_loss: 27.0007\n",
      "Epoch 43/200\n",
      "1/1 [==============================] - 0s 47ms/step - loss: 31.6366 - val_loss: 26.4235\n",
      "Epoch 44/200\n",
      "1/1 [==============================] - 0s 47ms/step - loss: 30.4487 - val_loss: 25.3869\n",
      "Epoch 45/200\n",
      "1/1 [==============================] - 0s 53ms/step - loss: 28.9352 - val_loss: 24.3041\n",
      "Epoch 46/200\n",
      "1/1 [==============================] - 0s 56ms/step - loss: 27.5480 - val_loss: 23.4564\n",
      "Epoch 47/200\n",
      "1/1 [==============================] - 0s 57ms/step - loss: 26.5900 - val_loss: 22.9363\n",
      "Epoch 48/200\n",
      "1/1 [==============================] - 0s 59ms/step - loss: 26.0672 - val_loss: 22.6228\n",
      "Epoch 49/200\n",
      "1/1 [==============================] - 0s 57ms/step - loss: 25.7707 - val_loss: 22.3314\n",
      "Epoch 50/200\n",
      "1/1 [==============================] - 0s 56ms/step - loss: 25.4349 - val_loss: 21.9467\n",
      "Epoch 51/200\n",
      "1/1 [==============================] - 0s 51ms/step - loss: 24.8998 - val_loss: 21.4599\n",
      "Epoch 52/200\n",
      "1/1 [==============================] - 0s 57ms/step - loss: 24.1588 - val_loss: 20.9396\n",
      "Epoch 53/200\n",
      "1/1 [==============================] - 0s 54ms/step - loss: 23.3323 - val_loss: 20.5061\n",
      "Epoch 54/200\n",
      "1/1 [==============================] - 0s 52ms/step - loss: 22.5582 - val_loss: 20.2396\n",
      "Epoch 55/200\n",
      "1/1 [==============================] - 0s 53ms/step - loss: 21.9418 - val_loss: 20.0768\n",
      "Epoch 56/200\n",
      "1/1 [==============================] - 0s 53ms/step - loss: 21.4771 - val_loss: 19.8899\n",
      "Epoch 57/200\n",
      "1/1 [==============================] - 0s 54ms/step - loss: 21.0682 - val_loss: 19.5471\n",
      "Epoch 58/200\n",
      "1/1 [==============================] - 0s 53ms/step - loss: 20.5804 - val_loss: 19.0080\n",
      "Epoch 59/200\n",
      "1/1 [==============================] - 0s 55ms/step - loss: 19.9639 - val_loss: 18.3370\n",
      "Epoch 60/200\n",
      "1/1 [==============================] - 0s 51ms/step - loss: 19.2704 - val_loss: 17.6339\n",
      "Epoch 61/200\n",
      "1/1 [==============================] - 0s 49ms/step - loss: 18.5989 - val_loss: 17.0155\n",
      "Epoch 62/200\n",
      "1/1 [==============================] - 0s 52ms/step - loss: 18.0304 - val_loss: 16.5078\n",
      "Epoch 63/200\n",
      "1/1 [==============================] - 0s 50ms/step - loss: 17.5804 - val_loss: 16.0828\n",
      "Epoch 64/200\n",
      "1/1 [==============================] - 0s 50ms/step - loss: 17.2102 - val_loss: 15.6821\n",
      "Epoch 65/200\n",
      "1/1 [==============================] - 0s 54ms/step - loss: 16.8559 - val_loss: 15.2842\n",
      "Epoch 66/200\n",
      "1/1 [==============================] - 0s 55ms/step - loss: 16.4889 - val_loss: 14.8893\n",
      "Epoch 67/200\n",
      "1/1 [==============================] - 0s 70ms/step - loss: 16.1143 - val_loss: 14.5346\n",
      "Epoch 68/200\n",
      "1/1 [==============================] - 0s 46ms/step - loss: 15.7711 - val_loss: 14.2528\n",
      "Epoch 69/200\n",
      "1/1 [==============================] - 0s 54ms/step - loss: 15.4904 - val_loss: 14.0435\n",
      "Epoch 70/200\n",
      "1/1 [==============================] - 0s 50ms/step - loss: 15.2678 - val_loss: 13.8788\n",
      "Epoch 71/200\n",
      "1/1 [==============================] - 0s 53ms/step - loss: 15.0692 - val_loss: 13.7260\n",
      "Epoch 72/200\n",
      "1/1 [==============================] - 0s 55ms/step - loss: 14.8529 - val_loss: 13.5625\n",
      "Epoch 73/200\n",
      "1/1 [==============================] - 0s 54ms/step - loss: 14.5981 - val_loss: 13.3855\n",
      "Epoch 74/200\n",
      "1/1 [==============================] - 0s 54ms/step - loss: 14.3189 - val_loss: 13.2083\n",
      "Epoch 75/200\n",
      "1/1 [==============================] - 0s 55ms/step - loss: 14.0445 - val_loss: 13.0387\n",
      "Epoch 76/200\n",
      "1/1 [==============================] - 0s 52ms/step - loss: 13.7988 - val_loss: 12.8691\n",
      "Epoch 77/200\n",
      "1/1 [==============================] - 0s 51ms/step - loss: 13.5810 - val_loss: 12.6903\n",
      "Epoch 78/200\n",
      "1/1 [==============================] - 0s 56ms/step - loss: 13.3785 - val_loss: 12.4981\n",
      "Epoch 79/200\n",
      "1/1 [==============================] - 0s 44ms/step - loss: 13.1733 - val_loss: 12.3019\n",
      "Epoch 80/200\n",
      "1/1 [==============================] - 0s 51ms/step - loss: 12.9621 - val_loss: 12.1110\n",
      "Epoch 81/200\n"
     ]
    },
    {
     "name": "stdout",
     "output_type": "stream",
     "text": [
      "1/1 [==============================] - 0s 43ms/step - loss: 12.7555 - val_loss: 11.9407\n",
      "Epoch 82/200\n",
      "1/1 [==============================] - 0s 52ms/step - loss: 12.5724 - val_loss: 11.8079\n",
      "Epoch 83/200\n",
      "1/1 [==============================] - 0s 52ms/step - loss: 12.4161 - val_loss: 11.7031\n",
      "Epoch 84/200\n",
      "1/1 [==============================] - 0s 53ms/step - loss: 12.2801 - val_loss: 11.6121\n",
      "Epoch 85/200\n",
      "1/1 [==============================] - 0s 50ms/step - loss: 12.1475 - val_loss: 11.5254\n",
      "Epoch 86/200\n",
      "1/1 [==============================] - 0s 51ms/step - loss: 12.0071 - val_loss: 11.4441\n",
      "Epoch 87/200\n",
      "1/1 [==============================] - 0s 56ms/step - loss: 11.8601 - val_loss: 11.3656\n",
      "Epoch 88/200\n",
      "1/1 [==============================] - 0s 57ms/step - loss: 11.7113 - val_loss: 11.3021\n",
      "Epoch 89/200\n",
      "1/1 [==============================] - 0s 54ms/step - loss: 11.5706 - val_loss: 11.2571\n",
      "Epoch 90/200\n",
      "1/1 [==============================] - 0s 59ms/step - loss: 11.4383 - val_loss: 11.2259\n",
      "Epoch 91/200\n",
      "1/1 [==============================] - 0s 56ms/step - loss: 11.3094 - val_loss: 11.2019\n",
      "Epoch 92/200\n",
      "1/1 [==============================] - 0s 48ms/step - loss: 11.1785 - val_loss: 11.1769\n",
      "Epoch 93/200\n",
      "1/1 [==============================] - 0s 54ms/step - loss: 11.0451 - val_loss: 11.1517\n",
      "Epoch 94/200\n",
      "1/1 [==============================] - 0s 54ms/step - loss: 10.9140 - val_loss: 11.1267\n",
      "Epoch 95/200\n",
      "1/1 [==============================] - 0s 52ms/step - loss: 10.7897 - val_loss: 11.0969\n",
      "Epoch 96/200\n",
      "1/1 [==============================] - 0s 52ms/step - loss: 10.6727 - val_loss: 11.0540\n",
      "Epoch 97/200\n",
      "1/1 [==============================] - 0s 55ms/step - loss: 10.5648 - val_loss: 11.0012\n",
      "Epoch 98/200\n",
      "1/1 [==============================] - 0s 54ms/step - loss: 10.4611 - val_loss: 10.9401\n",
      "Epoch 99/200\n",
      "1/1 [==============================] - 0s 49ms/step - loss: 10.3588 - val_loss: 10.8841\n",
      "Epoch 100/200\n",
      "1/1 [==============================] - 0s 52ms/step - loss: 10.2586 - val_loss: 10.8400\n",
      "Epoch 101/200\n",
      "1/1 [==============================] - 0s 56ms/step - loss: 10.1625 - val_loss: 10.8051\n",
      "Epoch 102/200\n",
      "1/1 [==============================] - 0s 54ms/step - loss: 10.0687 - val_loss: 10.7735\n",
      "Epoch 103/200\n",
      "1/1 [==============================] - 0s 54ms/step - loss: 9.9774 - val_loss: 10.7494\n",
      "Epoch 104/200\n",
      "1/1 [==============================] - 0s 53ms/step - loss: 9.8887 - val_loss: 10.7318\n",
      "Epoch 105/200\n",
      "1/1 [==============================] - 0s 55ms/step - loss: 9.8005 - val_loss: 10.7163\n",
      "Epoch 106/200\n",
      "1/1 [==============================] - 0s 54ms/step - loss: 9.7136 - val_loss: 10.7008\n",
      "Epoch 107/200\n",
      "1/1 [==============================] - 0s 53ms/step - loss: 9.6292 - val_loss: 10.6803\n",
      "Epoch 108/200\n",
      "1/1 [==============================] - 0s 58ms/step - loss: 9.5486 - val_loss: 10.6517\n",
      "Epoch 109/200\n",
      "1/1 [==============================] - 0s 52ms/step - loss: 9.4698 - val_loss: 10.6142\n",
      "Epoch 110/200\n",
      "1/1 [==============================] - 0s 51ms/step - loss: 9.3920 - val_loss: 10.5706\n",
      "Epoch 111/200\n",
      "1/1 [==============================] - 0s 53ms/step - loss: 9.3169 - val_loss: 10.5295\n",
      "Epoch 112/200\n",
      "1/1 [==============================] - 0s 52ms/step - loss: 9.2451 - val_loss: 10.4966\n",
      "Epoch 113/200\n",
      "1/1 [==============================] - 0s 55ms/step - loss: 9.1752 - val_loss: 10.4746\n",
      "Epoch 114/200\n",
      "1/1 [==============================] - 0s 57ms/step - loss: 9.1070 - val_loss: 10.4640\n",
      "Epoch 115/200\n",
      "1/1 [==============================] - 0s 57ms/step - loss: 9.0397 - val_loss: 10.4600\n",
      "Epoch 116/200\n",
      "1/1 [==============================] - 0s 46ms/step - loss: 8.9724 - val_loss: 10.4611\n",
      "Epoch 117/200\n",
      "1/1 [==============================] - 0s 52ms/step - loss: 8.9063 - val_loss: 10.4642\n",
      "Epoch 118/200\n",
      "1/1 [==============================] - 0s 51ms/step - loss: 8.8413 - val_loss: 10.4660\n",
      "Epoch 119/200\n",
      "1/1 [==============================] - 0s 51ms/step - loss: 8.7770 - val_loss: 10.4676\n",
      "Epoch 120/200\n",
      "1/1 [==============================] - 0s 51ms/step - loss: 8.7139 - val_loss: 10.4678\n",
      "Epoch 121/200\n",
      "1/1 [==============================] - 0s 53ms/step - loss: 8.6521 - val_loss: 10.4655\n",
      "Epoch 122/200\n",
      "1/1 [==============================] - 0s 52ms/step - loss: 8.5913 - val_loss: 10.4627\n",
      "Epoch 123/200\n",
      "1/1 [==============================] - 0s 54ms/step - loss: 8.5311 - val_loss: 10.4622\n",
      "Epoch 124/200\n",
      "1/1 [==============================] - 0s 51ms/step - loss: 8.4719 - val_loss: 10.4684\n",
      "Epoch 125/200\n",
      "1/1 [==============================] - 0s 52ms/step - loss: 8.4146 - val_loss: 10.4833\n",
      "Epoch 126/200\n",
      "1/1 [==============================] - 0s 52ms/step - loss: 8.3601 - val_loss: 10.5052\n",
      "Epoch 127/200\n",
      "1/1 [==============================] - 0s 49ms/step - loss: 8.3067 - val_loss: 10.5313\n",
      "Epoch 128/200\n",
      "1/1 [==============================] - 0s 54ms/step - loss: 8.2545 - val_loss: 10.5578\n",
      "Epoch 129/200\n",
      "1/1 [==============================] - 0s 53ms/step - loss: 8.2040 - val_loss: 10.5823\n",
      "Epoch 130/200\n",
      "1/1 [==============================] - 0s 56ms/step - loss: 8.1544 - val_loss: 10.6061\n",
      "Epoch 131/200\n",
      "1/1 [==============================] - 0s 48ms/step - loss: 8.1060 - val_loss: 10.6279\n",
      "Epoch 132/200\n",
      "1/1 [==============================] - 0s 49ms/step - loss: 8.0590 - val_loss: 10.6474\n",
      "Epoch 133/200\n",
      "1/1 [==============================] - 0s 56ms/step - loss: 8.0129 - val_loss: 10.6700\n",
      "Epoch 134/200\n",
      "1/1 [==============================] - 0s 53ms/step - loss: 7.9685 - val_loss: 10.6949\n",
      "Epoch 135/200\n",
      "1/1 [==============================] - 0s 55ms/step - loss: 7.9250 - val_loss: 10.7235\n",
      "Epoch 136/200\n",
      "1/1 [==============================] - 0s 49ms/step - loss: 7.8832 - val_loss: 10.7601\n",
      "Epoch 137/200\n",
      "1/1 [==============================] - 0s 52ms/step - loss: 7.8424 - val_loss: 10.8002\n",
      "Epoch 138/200\n",
      "1/1 [==============================] - 0s 53ms/step - loss: 7.8022 - val_loss: 10.8391\n",
      "Epoch 139/200\n",
      "1/1 [==============================] - 0s 59ms/step - loss: 7.7633 - val_loss: 10.8774\n",
      "Epoch 140/200\n",
      "1/1 [==============================] - 0s 55ms/step - loss: 7.7260 - val_loss: 10.9151\n",
      "Epoch 141/200\n",
      "1/1 [==============================] - 0s 56ms/step - loss: 7.6890 - val_loss: 10.9527\n",
      "Epoch 142/200\n",
      "1/1 [==============================] - 0s 52ms/step - loss: 7.6535 - val_loss: 10.9900\n",
      "Epoch 143/200\n",
      "1/1 [==============================] - 0s 51ms/step - loss: 7.6189 - val_loss: 11.0259\n",
      "Epoch 144/200\n",
      "1/1 [==============================] - 0s 56ms/step - loss: 7.5851 - val_loss: 11.0619\n",
      "Epoch 145/200\n",
      "1/1 [==============================] - 0s 51ms/step - loss: 7.5518 - val_loss: 11.0946\n",
      "Epoch 146/200\n",
      "1/1 [==============================] - 0s 55ms/step - loss: 7.5191 - val_loss: 11.1286\n",
      "Epoch 147/200\n",
      "1/1 [==============================] - 0s 54ms/step - loss: 7.4870 - val_loss: 11.1639\n",
      "Epoch 148/200\n",
      "1/1 [==============================] - 0s 50ms/step - loss: 7.4561 - val_loss: 11.2001\n",
      "Epoch 149/200\n",
      "1/1 [==============================] - 0s 56ms/step - loss: 7.4262 - val_loss: 11.2354\n",
      "Epoch 150/200\n",
      "1/1 [==============================] - 0s 54ms/step - loss: 7.3969 - val_loss: 11.2696\n",
      "Epoch 151/200\n",
      "1/1 [==============================] - 0s 48ms/step - loss: 7.3686 - val_loss: 11.3001\n",
      "Epoch 152/200\n",
      "1/1 [==============================] - 0s 51ms/step - loss: 7.3408 - val_loss: 11.3246\n",
      "Epoch 153/200\n",
      "1/1 [==============================] - 0s 54ms/step - loss: 7.3130 - val_loss: 11.3443\n",
      "Epoch 154/200\n",
      "1/1 [==============================] - 0s 55ms/step - loss: 7.2859 - val_loss: 11.3638\n",
      "Epoch 155/200\n",
      "1/1 [==============================] - 0s 50ms/step - loss: 7.2600 - val_loss: 11.3837\n",
      "Epoch 156/200\n",
      "1/1 [==============================] - 0s 54ms/step - loss: 7.2353 - val_loss: 11.4017\n",
      "Epoch 157/200\n",
      "1/1 [==============================] - 0s 52ms/step - loss: 7.2110 - val_loss: 11.4171\n",
      "Epoch 158/200\n",
      "1/1 [==============================] - 0s 54ms/step - loss: 7.1869 - val_loss: 11.4300\n",
      "Epoch 159/200\n",
      "1/1 [==============================] - 0s 48ms/step - loss: 7.1635 - val_loss: 11.4427\n",
      "Epoch 160/200\n",
      "1/1 [==============================] - 0s 52ms/step - loss: 7.1406 - val_loss: 11.4560\n",
      "Epoch 161/200\n",
      "1/1 [==============================] - 0s 55ms/step - loss: 7.1179 - val_loss: 11.4690\n",
      "Epoch 162/200\n"
     ]
    },
    {
     "name": "stdout",
     "output_type": "stream",
     "text": [
      "1/1 [==============================] - 0s 53ms/step - loss: 7.0957 - val_loss: 11.4814\n",
      "Epoch 163/200\n",
      "1/1 [==============================] - 0s 52ms/step - loss: 7.0738 - val_loss: 11.4924\n",
      "Epoch 164/200\n",
      "1/1 [==============================] - 0s 57ms/step - loss: 7.0522 - val_loss: 11.5005\n",
      "Epoch 165/200\n",
      "1/1 [==============================] - 0s 52ms/step - loss: 7.0312 - val_loss: 11.5069\n",
      "Epoch 166/200\n",
      "1/1 [==============================] - 0s 51ms/step - loss: 7.0104 - val_loss: 11.5128\n",
      "Epoch 167/200\n",
      "1/1 [==============================] - 0s 57ms/step - loss: 6.9896 - val_loss: 11.5191\n",
      "Epoch 168/200\n",
      "1/1 [==============================] - 0s 58ms/step - loss: 6.9694 - val_loss: 11.5225\n",
      "Epoch 169/200\n",
      "1/1 [==============================] - 0s 48ms/step - loss: 6.9495 - val_loss: 11.5280\n",
      "Epoch 170/200\n",
      "1/1 [==============================] - 0s 51ms/step - loss: 6.9298 - val_loss: 11.5369\n",
      "Epoch 171/200\n",
      "1/1 [==============================] - 0s 53ms/step - loss: 6.9104 - val_loss: 11.5507\n",
      "Epoch 172/200\n",
      "1/1 [==============================] - 0s 53ms/step - loss: 6.8919 - val_loss: 11.5679\n",
      "Epoch 173/200\n",
      "1/1 [==============================] - 0s 54ms/step - loss: 6.8739 - val_loss: 11.5854\n",
      "Epoch 174/200\n",
      "1/1 [==============================] - 0s 56ms/step - loss: 6.8561 - val_loss: 11.6008\n",
      "Epoch 175/200\n",
      "1/1 [==============================] - 0s 52ms/step - loss: 6.8386 - val_loss: 11.6103\n",
      "Epoch 176/200\n",
      "1/1 [==============================] - 0s 51ms/step - loss: 6.8215 - val_loss: 11.6139\n",
      "Epoch 177/200\n",
      "1/1 [==============================] - 0s 54ms/step - loss: 6.8047 - val_loss: 11.6152\n",
      "Epoch 178/200\n",
      "1/1 [==============================] - 0s 51ms/step - loss: 6.7881 - val_loss: 11.6161\n",
      "Epoch 179/200\n",
      "1/1 [==============================] - 0s 55ms/step - loss: 6.7718 - val_loss: 11.6188\n",
      "Epoch 180/200\n",
      "1/1 [==============================] - 0s 51ms/step - loss: 6.7557 - val_loss: 11.6251\n",
      "Epoch 181/200\n",
      "1/1 [==============================] - 0s 54ms/step - loss: 6.7398 - val_loss: 11.6331\n",
      "Epoch 182/200\n",
      "1/1 [==============================] - 0s 55ms/step - loss: 6.7243 - val_loss: 11.6387\n",
      "Epoch 183/200\n",
      "1/1 [==============================] - 0s 48ms/step - loss: 6.7087 - val_loss: 11.6399\n",
      "Epoch 184/200\n",
      "1/1 [==============================] - 0s 55ms/step - loss: 6.6931 - val_loss: 11.6385\n",
      "Epoch 185/200\n",
      "1/1 [==============================] - 0s 55ms/step - loss: 6.6774 - val_loss: 11.6355\n",
      "Epoch 186/200\n",
      "1/1 [==============================] - 0s 56ms/step - loss: 6.6623 - val_loss: 11.6356\n",
      "Epoch 187/200\n",
      "1/1 [==============================] - 0s 55ms/step - loss: 6.6476 - val_loss: 11.6376\n",
      "Epoch 188/200\n",
      "1/1 [==============================] - 0s 57ms/step - loss: 6.6330 - val_loss: 11.6385\n",
      "Epoch 189/200\n",
      "1/1 [==============================] - 0s 61ms/step - loss: 6.6186 - val_loss: 11.6357\n",
      "Epoch 190/200\n",
      "1/1 [==============================] - 0s 60ms/step - loss: 6.6045 - val_loss: 11.6299\n",
      "Epoch 191/200\n",
      "1/1 [==============================] - 0s 53ms/step - loss: 6.5906 - val_loss: 11.6231\n",
      "Epoch 192/200\n",
      "1/1 [==============================] - 0s 55ms/step - loss: 6.5767 - val_loss: 11.6168\n",
      "Epoch 193/200\n",
      "1/1 [==============================] - 0s 52ms/step - loss: 6.5631 - val_loss: 11.6122\n",
      "Epoch 194/200\n",
      "1/1 [==============================] - 0s 57ms/step - loss: 6.5496 - val_loss: 11.6117\n",
      "Epoch 195/200\n",
      "1/1 [==============================] - 0s 53ms/step - loss: 6.5362 - val_loss: 11.6123\n",
      "Epoch 196/200\n",
      "1/1 [==============================] - 0s 58ms/step - loss: 6.5231 - val_loss: 11.6091\n",
      "Epoch 197/200\n",
      "1/1 [==============================] - 0s 52ms/step - loss: 6.5101 - val_loss: 11.6036\n",
      "Epoch 198/200\n",
      "1/1 [==============================] - 0s 56ms/step - loss: 6.4971 - val_loss: 11.5967\n",
      "Epoch 199/200\n",
      "1/1 [==============================] - 0s 56ms/step - loss: 6.4843 - val_loss: 11.5957\n",
      "Epoch 200/200\n",
      "1/1 [==============================] - 0s 52ms/step - loss: 6.4720 - val_loss: 11.5995\n"
     ]
    }
   ],
   "source": [
    "# 위에서 train_dataset을 생성했다. 그래서 network를 학습시킬 때 train_dataset을 전달하면 된다.\n",
    "# 다른 설정은 모두 train_dataset에 되어있으므로 epoch만 설정하면 된다.\n",
    "# 그리고 validation Dataset은 validation_data로 지정한다.\n",
    "history_boston = model_boston.fit(train_dataset, \n",
    "                                  epochs = N_EPOCH, \n",
    "                                  validation_data = val_dataset\n",
    "                                  )"
   ]
  },
  {
   "cell_type": "markdown",
   "metadata": {
    "slideshow": {
     "slide_type": "slide"
    }
   },
   "source": [
    "##### 결과 시각화\n",
    "- 학습 시 epoch별 검증 결과를 시각화한다."
   ]
  },
  {
   "cell_type": "code",
   "execution_count": 21,
   "metadata": {
    "ExecuteTime": {
     "end_time": "2023-02-20T08:12:33.781214Z",
     "start_time": "2023-02-20T08:12:33.750816Z"
    }
   },
   "outputs": [
    {
     "data": {
      "text/plain": [
       "dict_keys(['loss', 'val_loss'])"
      ]
     },
     "execution_count": 21,
     "metadata": {},
     "output_type": "execute_result"
    }
   ],
   "source": [
    "history_boston.history.keys()"
   ]
  },
  {
   "cell_type": "code",
   "execution_count": 23,
   "metadata": {
    "ExecuteTime": {
     "end_time": "2023-02-20T08:13:49.451625Z",
     "start_time": "2023-02-20T08:13:48.917429Z"
    },
    "scrolled": false
   },
   "outputs": [
    {
     "data": {
      "image/png": "[encoded data removed]",
      "text/plain": [
       "<Figure size 640x480 with 1 Axes>"
      ]
     },
     "metadata": {},
     "output_type": "display_data"
    }
   ],
   "source": [
    "# history_boston.history를 이용해 epoch별 검증 결과를 확인해보자.\n",
    "plt.plot(history_boston.epoch, history_boston.history['loss'], label = 'Train Dataset')\n",
    "plt.plot(history_boston.epoch, history_boston.history['val_loss'], label = 'Validation Dataset')\n",
    "plt.title('epoch별 model_boston의 MSE loss', fontsize = 15)\n",
    "plt.legend()\n",
    "plt.show()"
   ]
  },
  {
   "cell_type": "code",
   "execution_count": null,
   "metadata": {},
   "outputs": [],
   "source": []
  },
  {
   "cell_type": "code",
   "execution_count": null,
   "metadata": {},
   "outputs": [],
   "source": [
    "# learning rate를 0.1로 키워서 다시해본다.\n"
   ]
  },
  {
   "cell_type": "code",
   "execution_count": null,
   "metadata": {},
   "outputs": [],
   "source": []
  },
  {
   "cell_type": "code",
   "execution_count": null,
   "metadata": {},
   "outputs": [],
   "source": []
  },
  {
   "cell_type": "code",
   "execution_count": null,
   "metadata": {},
   "outputs": [],
   "source": []
  },
  {
   "cell_type": "markdown",
   "metadata": {
    "slideshow": {
     "slide_type": "slide"
    }
   },
   "source": [
    "##### 최종 테스트"
   ]
  },
  {
   "cell_type": "code",
   "execution_count": 24,
   "metadata": {
    "ExecuteTime": {
     "end_time": "2023-02-20T08:14:50.251628Z",
     "start_time": "2023-02-20T08:14:50.192515Z"
    }
   },
   "outputs": [
    {
     "name": "stdout",
     "output_type": "stream",
     "text": [
      "3/3 [==============================] - 0s 4ms/step - loss: 22.2656\n"
     ]
    }
   ],
   "source": [
    "loss = model_boston.evaluate(test_dataset)"
   ]
  },
  {
   "cell_type": "markdown",
   "metadata": {
    "slideshow": {
     "slide_type": "slide"
    }
   },
   "source": [
    "##### 모델 네트워크 저장"
   ]
  },
  {
   "cell_type": "code",
   "execution_count": 25,
   "metadata": {
    "ExecuteTime": {
     "end_time": "2023-02-20T08:14:58.804478Z",
     "start_time": "2023-02-20T08:14:58.795568Z"
    }
   },
   "outputs": [],
   "source": [
    "# 이렇게 생성된 network는 따로 저장하는 것이 나중에 다시 불러서 사용하기에 좋다.\n",
    "\n",
    "import os\n",
    "\n",
    "path = 'saved_model'\n",
    "os.makedirs(path, exist_ok = True)"
   ]
  },
  {
   "cell_type": "code",
   "execution_count": 27,
   "metadata": {
    "ExecuteTime": {
     "end_time": "2023-02-20T08:20:23.792064Z",
     "start_time": "2023-02-20T08:20:23.025318Z"
    }
   },
   "outputs": [
    {
     "name": "stderr",
     "output_type": "stream",
     "text": [
      "WARNING:absl:Found untraced functions such as _update_step_xla while saving (showing 1 of 1). These functions will not be directly callable after loading.\n"
     ]
    },
    {
     "name": "stdout",
     "output_type": "stream",
     "text": [
      "INFO:tensorflow:Assets written to: saved_model\\model_boston\\assets\n"
     ]
    },
    {
     "name": "stderr",
     "output_type": "stream",
     "text": [
      "INFO:tensorflow:Assets written to: saved_model\\model_boston\\assets\n"
     ]
    }
   ],
   "source": [
    "saved_dir = os.path.join(path, 'model_boston')\n",
    "model_boston.save(saved_dir)"
   ]
  },
  {
   "cell_type": "markdown",
   "metadata": {
    "slideshow": {
     "slide_type": "slide"
    }
   },
   "source": [
    "##### 새로운 데이터 추론"
   ]
  },
  {
   "cell_type": "code",
   "execution_count": null,
   "metadata": {},
   "outputs": [],
   "source": [
    "# 저장된 network를 불러와서 추론해보자.\n",
    "saved_model = keras.models.load_model(saved_dir)\n",
    "saved.model.evaluate(test_dataset)"
   ]
  },
  {
   "cell_type": "markdown",
   "metadata": {
    "slideshow": {
     "slide_type": "slide"
    }
   },
   "source": [
    "# 분류 (Classification)\n",
    "\n",
    "## Fashion MNIST Dataset - 다중분류(Multi-Class Classification) 문제"
   ]
  },
  {
   "cell_type": "markdown",
   "metadata": {
    "slideshow": {
     "slide_type": "fragment"
    }
   },
   "source": [
    "10개의 범주(category)와 70,000개의 흑백 이미지로 구성된 [패션 MNIST](https://github.com/zalandoresearch/fashion-mnist) 데이터셋. \n",
    "이미지는 해상도(28x28 픽셀)가 낮고 다음처럼 개별 의류 품목을 나타낸다:\n",
    "\n",
    "<table>\n",
    "  <tr><td>\n",
    "    <img src=\"https://tensorflow.org/images/fashion-mnist-sprite.png\"\n",
    "         alt=\"Fashion MNIST sprite\"  width=\"600\">\n",
    "  </td></tr>\n",
    "  <tr><td align=\"center\">\n",
    "    <b>그림</b> <a href=\"https://github.com/zalandoresearch/fashion-mnist\">패션-MNIST 샘플</a> (Zalando, MIT License).<br/>&nbsp;\n",
    "  </td></tr>\n",
    "</table>"
   ]
  },
  {
   "cell_type": "markdown",
   "metadata": {
    "slideshow": {
     "slide_type": "fragment"
    }
   },
   "source": [
    "이미지는 28x28 크기이며 Gray scale이다. *레이블*(label)은 0에서 9까지의 정수 배열이다. 아래 표는 이미지에 있는 의류의 **클래스**(class)들이다.\n",
    "\n",
    "<table>\n",
    "  <tr>\n",
    "    <th>레이블</th>\n",
    "    <th>클래스</th>\n",
    "  </tr>\n",
    "  <tr>\n",
    "    <td>0</td>\n",
    "    <td>T-shirt/top</td>\n",
    "  </tr>\n",
    "  <tr>\n",
    "    <td>1</td>\n",
    "    <td>Trousers</td>\n",
    "  </tr>\n",
    "    <tr>\n",
    "    <td>2</td>\n",
    "    <td>Pullover</td>\n",
    "  </tr>\n",
    "    <tr>\n",
    "    <td>3</td>\n",
    "    <td>Dress</td>\n",
    "  </tr>\n",
    "    <tr>\n",
    "    <td>4</td>\n",
    "    <td>Coat</td>\n",
    "  </tr>\n",
    "    <tr>\n",
    "    <td>5</td>\n",
    "    <td>Sandal</td>\n",
    "  </tr>\n",
    "    <tr>\n",
    "    <td>6</td>\n",
    "    <td>Shirt</td>\n",
    "  </tr>\n",
    "    <tr>\n",
    "    <td>7</td>\n",
    "    <td>Sneaker</td>\n",
    "  </tr>\n",
    "    <tr>\n",
    "    <td>8</td>\n",
    "    <td>Bag</td>\n",
    "  </tr>\n",
    "    <tr>\n",
    "    <td>9</td>\n",
    "    <td>Ankle boot</td>\n",
    "  </tr>\n",
    "</table>\n",
    "\n",
    "각 이미지는 하나의 레이블에 매핑되어 있다. 데이터셋에 클래스 이름이 들어있지 않기 때문에 나중에 이미지를 출력할 때 사용하기 위해 별도의 변수를 만들어 저장한다."
   ]
  },
  {
   "cell_type": "code",
   "execution_count": 37,
   "metadata": {
    "ExecuteTime": {
     "end_time": "2022-09-26T08:07:20.027628Z",
     "start_time": "2022-09-26T08:07:20.022628Z"
    },
    "slideshow": {
     "slide_type": "fragment"
    }
   },
   "outputs": [],
   "source": [
    "class_names = ['T-shirt/top', 'Trousers', 'Pullover', 'Dress', 'Coat', 'Sandal', 'Shirt', 'Sneaker', 'Bag', 'Ankle boot']"
   ]
  },
  {
   "cell_type": "markdown",
   "metadata": {
    "slideshow": {
     "slide_type": "slide"
    }
   },
   "source": [
    "##### Data 로딩"
   ]
  },
  {
   "cell_type": "code",
   "execution_count": null,
   "metadata": {},
   "outputs": [],
   "source": []
  },
  {
   "cell_type": "markdown",
   "metadata": {
    "slideshow": {
     "slide_type": "fragment"
    }
   },
   "source": [
    "##### validatation dataset set  분리\n",
    "- Train set을 Train/validation set으로 분리"
   ]
  },
  {
   "cell_type": "code",
   "execution_count": null,
   "metadata": {},
   "outputs": [],
   "source": []
  },
  {
   "cell_type": "markdown",
   "metadata": {
    "slideshow": {
     "slide_type": "slide"
    }
   },
   "source": [
    "##### 이미지 확인"
   ]
  },
  {
   "cell_type": "code",
   "execution_count": null,
   "metadata": {},
   "outputs": [],
   "source": []
  },
  {
   "cell_type": "markdown",
   "metadata": {
    "slideshow": {
     "slide_type": "slide"
    }
   },
   "source": [
    "#### 하이퍼파라미터, 변수 설정"
   ]
  },
  {
   "cell_type": "code",
   "execution_count": null,
   "metadata": {},
   "outputs": [],
   "source": []
  },
  {
   "cell_type": "markdown",
   "metadata": {
    "slideshow": {
     "slide_type": "fragment"
    }
   },
   "source": [
    "#### X, y  전처리\n",
    "- y값 처리\n",
    "    - 다중 분류에서 label encoding 형식의 label을 one hot encoding 처리"
   ]
  },
  {
   "cell_type": "code",
   "execution_count": null,
   "metadata": {},
   "outputs": [],
   "source": []
  },
  {
   "cell_type": "markdown",
   "metadata": {
    "slideshow": {
     "slide_type": "fragment"
    }
   },
   "source": [
    "- x값(이미지) 처리\n",
    "    - dtype을 uint8에서 float32로 변환한다.\n",
    "    - 0 ~ 1 정규화. X/255.0으로 나눈다."
   ]
  },
  {
   "cell_type": "code",
   "execution_count": null,
   "metadata": {},
   "outputs": [],
   "source": []
  },
  {
   "cell_type": "markdown",
   "metadata": {
    "slideshow": {
     "slide_type": "slide"
    }
   },
   "source": [
    "##### Dataset 생성"
   ]
  },
  {
   "cell_type": "code",
   "execution_count": null,
   "metadata": {},
   "outputs": [],
   "source": []
  },
  {
   "cell_type": "markdown",
   "metadata": {
    "slideshow": {
     "slide_type": "slide"
    }
   },
   "source": [
    "##### 모델 생성 및 컴파일"
   ]
  },
  {
   "cell_type": "code",
   "execution_count": null,
   "metadata": {},
   "outputs": [],
   "source": []
  },
  {
   "cell_type": "markdown",
   "metadata": {
    "slideshow": {
     "slide_type": "slide"
    }
   },
   "source": [
    "##### Train(학습)"
   ]
  },
  {
   "cell_type": "code",
   "execution_count": null,
   "metadata": {},
   "outputs": [],
   "source": []
  },
  {
   "cell_type": "markdown",
   "metadata": {
    "slideshow": {
     "slide_type": "fragment"
    }
   },
   "source": [
    "##### 결과 시각화\n",
    "- 학습 시 epoch별 검증 결과를 시각화한다."
   ]
  },
  {
   "cell_type": "code",
   "execution_count": null,
   "metadata": {},
   "outputs": [],
   "source": []
  },
  {
   "cell_type": "markdown",
   "metadata": {
    "slideshow": {
     "slide_type": "slide"
    }
   },
   "source": [
    "#### 최종평가"
   ]
  },
  {
   "cell_type": "code",
   "execution_count": null,
   "metadata": {},
   "outputs": [],
   "source": []
  },
  {
   "cell_type": "markdown",
   "metadata": {
    "slideshow": {
     "slide_type": "fragment"
    }
   },
   "source": [
    "#### 모델저장"
   ]
  },
  {
   "cell_type": "code",
   "execution_count": null,
   "metadata": {},
   "outputs": [],
   "source": []
  },
  {
   "cell_type": "markdown",
   "metadata": {
    "slideshow": {
     "slide_type": "slide"
    }
   },
   "source": [
    "#### 새로운 데이터 추론"
   ]
  },
  {
   "cell_type": "code",
   "execution_count": null,
   "metadata": {},
   "outputs": [],
   "source": []
  },
  {
   "cell_type": "markdown",
   "metadata": {
    "slideshow": {
     "slide_type": "slide"
    }
   },
   "source": [
    "## 위스콘신 유방암 데이터셋 - 이진분류(Binary Classification) 문제\n",
    "\n",
    "- **이진 분류 문제 처리 모델의 두가지 방법**\n",
    "    1. positive(1)일 확률을 출력하도록 구현\n",
    "        - output layer: units=1, activation='sigmoid'\n",
    "        - loss: binary_crossentropy\n",
    "    2. negative(0)일 확률과 positive(1)일 확률을 출력하도록 구현 => 다중분류 처리 방식으로 해결\n",
    "        - output layer: units=2, activation='softmax', y(정답)은 one hot encoding 처리\n",
    "        - loss: categorical_crossentropy\n",
    "        \n",
    "- 위스콘신 대학교에서 제공한 종양의 악성/양성여부 분류를 위한 데이터셋\n",
    "- Feature\n",
    "    - 종양에 대한 다양한 측정값들\n",
    "- Target의 class\n",
    "    - 0 - malignant(악성종양)\n",
    "    - 1 - benign(양성종양)"
   ]
  },
  {
   "cell_type": "code",
   "execution_count": null,
   "metadata": {},
   "outputs": [],
   "source": []
  },
  {
   "cell_type": "markdown",
   "metadata": {
    "slideshow": {
     "slide_type": "slide"
    }
   },
   "source": [
    "##### 데이터 로딩, train/validation/test set 나누기"
   ]
  },
  {
   "cell_type": "code",
   "execution_count": null,
   "metadata": {},
   "outputs": [],
   "source": []
  },
  {
   "cell_type": "markdown",
   "metadata": {
    "slideshow": {
     "slide_type": "slide"
    }
   },
   "source": [
    "#### 하이퍼파라미터, 변수 정의"
   ]
  },
  {
   "cell_type": "code",
   "execution_count": null,
   "metadata": {},
   "outputs": [],
   "source": []
  },
  {
   "cell_type": "markdown",
   "metadata": {
    "slideshow": {
     "slide_type": "fragment"
    }
   },
   "source": [
    "#### 데이터 전처리\n",
    "- y (label) 처리\n",
    "    - 이진 분류\n",
    "        - 양성의 확률을 출력하도록 모델을 구성하는 경우 그대로 사용.\n",
    "        - 양성일 확률, 음성일 확률을 출력하도록 모델을 구성하는 경우(다중분류 방식으로 처리) one hot encoding 처리한다.\n",
    "- X (feature) 처리\n",
    "    - 문자열(범주형): one hot encoding\n",
    "    - 연속형(수치형): feature scaling"
   ]
  },
  {
   "cell_type": "code",
   "execution_count": null,
   "metadata": {},
   "outputs": [],
   "source": []
  },
  {
   "cell_type": "markdown",
   "metadata": {
    "slideshow": {
     "slide_type": "slide"
    }
   },
   "source": [
    "#### Dataset 생성\n"
   ]
  },
  {
   "cell_type": "code",
   "execution_count": null,
   "metadata": {},
   "outputs": [],
   "source": []
  },
  {
   "cell_type": "markdown",
   "metadata": {
    "slideshow": {
     "slide_type": "slide"
    }
   },
   "source": [
    "#### model 생성, 컴파일"
   ]
  },
  {
   "cell_type": "code",
   "execution_count": null,
   "metadata": {},
   "outputs": [],
   "source": []
  },
  {
   "cell_type": "markdown",
   "metadata": {
    "slideshow": {
     "slide_type": "slide"
    }
   },
   "source": [
    "#### Train(학습)"
   ]
  },
  {
   "cell_type": "code",
   "execution_count": null,
   "metadata": {},
   "outputs": [],
   "source": []
  },
  {
   "cell_type": "markdown",
   "metadata": {
    "slideshow": {
     "slide_type": "fragment"
    }
   },
   "source": [
    "#### 결과 시각화"
   ]
  },
  {
   "cell_type": "code",
   "execution_count": null,
   "metadata": {},
   "outputs": [],
   "source": []
  },
  {
   "cell_type": "markdown",
   "metadata": {
    "slideshow": {
     "slide_type": "slide"
    }
   },
   "source": [
    "#### 최종평가"
   ]
  },
  {
   "cell_type": "code",
   "execution_count": null,
   "metadata": {},
   "outputs": [],
   "source": []
  },
  {
   "cell_type": "markdown",
   "metadata": {
    "slideshow": {
     "slide_type": "fragment"
    }
   },
   "source": [
    "#### 모델저장"
   ]
  },
  {
   "cell_type": "code",
   "execution_count": null,
   "metadata": {},
   "outputs": [],
   "source": []
  },
  {
   "cell_type": "markdown",
   "metadata": {
    "slideshow": {
     "slide_type": "slide"
    }
   },
   "source": [
    "#### 새로운 데이터 추론"
   ]
  },
  {
   "cell_type": "code",
   "execution_count": null,
   "metadata": {},
   "outputs": [],
   "source": []
  },
  {
   "cell_type": "markdown",
   "metadata": {},
   "source": [
    "##### 모델출력결과 후처리"
   ]
  },
  {
   "cell_type": "code",
   "execution_count": null,
   "metadata": {},
   "outputs": [],
   "source": []
  }
 ],
 "metadata": {
  "kernelspec": {
   "display_name": "Python 3 (ipykernel)",
   "language": "python",
   "name": "python3"
  },
  "language_info": {
   "codemirror_mode": {
    "name": "ipython",
    "version": 3
   },
   "file_extension": ".py",
   "mimetype": "text/x-python",
   "name": "python",
   "nbconvert_exporter": "python",
   "pygments_lexer": "ipython3",
   "version": "3.9.16"
  },
  "toc": {
   "base_numbering": 1,
   "nav_menu": {},
   "number_sections": false,
   "sideBar": true,
   "skip_h1_title": false,
   "title_cell": "Table of Contents",
   "title_sidebar": "Contents",
   "toc_cell": false,
   "toc_position": {},
   "toc_section_display": true,
   "toc_window_display": false
  },
  "varInspector": {
   "cols": {
    "lenName": 16,
    "lenType": 16,
    "lenVar": 40
   },
   "kernels_config": {
    "python": {
     "delete_cmd_postfix": "",
     "delete_cmd_prefix": "del ",
     "library": "var_list.py",
     "varRefreshCmd": "print(var_dic_list())"
    },
    "r": {
     "delete_cmd_postfix": ") ",
     "delete_cmd_prefix": "rm(",
     "library": "var_list.r",
     "varRefreshCmd": "cat(var_dic_list()) "
    }
   },
   "types_to_exclude": [
    "module",
    "function",
    "builtin_function_or_method",
    "instance",
    "_Feature"
   ],
   "window_display": false
  }
 },
 "nbformat": 4,
 "nbformat_minor": 2
}
