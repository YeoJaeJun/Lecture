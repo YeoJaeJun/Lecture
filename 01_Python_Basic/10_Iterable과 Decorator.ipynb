{
 "cells": [
  {
   "cell_type": "markdown",
   "id": "562c702d",
   "metadata": {
    "slideshow": {
     "slide_type": "slide"
    }
   },
   "source": [
    "# 1. Iterator\n",
    "\n",
    "- **Iterable**\n",
    "    - 여러개의 데이터를 하나씩 또는 한 단위씩 제공하는 객체.\n",
    "    - Iterator객체를 반환하는 `__iter__()` 특수 메소드를 정의해야 한다.\n",
    "        - `__iter__()`는 `iter(Iterable)` 내장함수에 의해 호출된다. \n",
    "- **Iterator**\n",
    "    - 자신을 생성한 Iterable의 값들을 하나씩 또는 한 단위씩 제공하는 객체\n",
    "    - Iterable의 값을 제공하는 `__next__()` 특수 메소드를 정의한다.\n",
    "        - `__next__()` 는 `next(Iterator)` 내정함수에 의해 호출된다.\n",
    "        - 더 이상 제공할 값이 없을 경우 **StopIteration** Exception을 발생시켜야 한다."
   ]
  },
  {
   "cell_type": "code",
   "execution_count": 1,
   "id": "c7d5c4b6",
   "metadata": {
    "slideshow": {
     "slide_type": "fragment"
    }
   },
   "outputs": [],
   "source": [
    "# iterable과 iterator를 구현해보자.\n",
    "\n",
    "# 먼저 list를 만든다. list는 iterable type이다.\n",
    "# 이때 만들어지는 list_interator 는 list의 iterator"
   ]
  },
  {
   "cell_type": "code",
   "execution_count": 3,
   "id": "ee687287",
   "metadata": {},
   "outputs": [
    {
     "name": "stdout",
     "output_type": "stream",
     "text": [
      "<class 'list_iterator'>\n"
     ]
    }
   ],
   "source": [
    "l = [1, 2, 3]\n",
    "l_iterator = iter(l)     # iterator를 조회한다. list가 가진 값들을 하나씩 제공해주는 역할을 한다. l.__iter__() 가 호출된 것\n",
    "print(type(l_iterator))"
   ]
  },
  {
   "cell_type": "code",
   "execution_count": 5,
   "id": "90173a68",
   "metadata": {},
   "outputs": [
    {
     "name": "stdout",
     "output_type": "stream",
     "text": [
      "1\n"
     ]
    }
   ],
   "source": [
    "# list element들을 list iterator를 이용해서 하나씩 조회한다.\n",
    "print(next(l_iterator))     # l_iterator.__next__() 가 호출된 것이다."
   ]
  },
  {
   "cell_type": "code",
   "execution_count": 6,
   "id": "52e4a315",
   "metadata": {},
   "outputs": [
    {
     "name": "stdout",
     "output_type": "stream",
     "text": [
      "2\n"
     ]
    }
   ],
   "source": [
    "print(next(l_iterator))"
   ]
  },
  {
   "cell_type": "code",
   "execution_count": 7,
   "id": "9c1019a2",
   "metadata": {},
   "outputs": [
    {
     "name": "stdout",
     "output_type": "stream",
     "text": [
      "3\n"
     ]
    }
   ],
   "source": [
    "print(next(l_iterator))"
   ]
  },
  {
   "cell_type": "code",
   "execution_count": 8,
   "id": "31c5e6b5",
   "metadata": {
    "scrolled": true
   },
   "outputs": [
    {
     "ename": "StopIteration",
     "evalue": "",
     "output_type": "error",
     "traceback": [
      "\u001b[1;31m---------------------------------------------------------------------------\u001b[0m",
      "\u001b[1;31mStopIteration\u001b[0m                             Traceback (most recent call last)",
      "\u001b[1;32m~\\AppData\\Local\\Temp\\ipykernel_24348\\2903310822.py\u001b[0m in \u001b[0;36m<module>\u001b[1;34m\u001b[0m\n\u001b[1;32m----> 1\u001b[1;33m \u001b[0mprint\u001b[0m\u001b[1;33m(\u001b[0m\u001b[0mnext\u001b[0m\u001b[1;33m(\u001b[0m\u001b[0ml_iterator\u001b[0m\u001b[1;33m)\u001b[0m\u001b[1;33m)\u001b[0m\u001b[1;33m\u001b[0m\u001b[1;33m\u001b[0m\u001b[0m\n\u001b[0m",
      "\u001b[1;31mStopIteration\u001b[0m: "
     ]
    }
   ],
   "source": [
    "print(next(l_iterator))"
   ]
  },
  {
   "cell_type": "code",
   "execution_count": null,
   "id": "d1fbc1f7",
   "metadata": {},
   "outputs": [],
   "source": [
    "# 값이 더 이상 없기 때문에 위와 같이 StopIteration이 발생한다."
   ]
  },
  {
   "cell_type": "code",
   "execution_count": null,
   "id": "35f5693a",
   "metadata": {},
   "outputs": [],
   "source": []
  },
  {
   "cell_type": "code",
   "execution_count": 13,
   "id": "bd90ef00",
   "metadata": {},
   "outputs": [],
   "source": [
    "# iterator를 이용해 for in 문을 구현해보자. 이를 위해 for_in 함수를 만들자.\n",
    "def for_in(iterable):\n",
    "    \"\"\"\n",
    "    iterable의 값을 모두 출력하는 함수 -> for in 문을 구현한다.\n",
    "    \"\"\"\n",
    "    iterator = iter(iterable)\n",
    "    while True:\n",
    "        try:\n",
    "            v = next(iterator)\n",
    "            print(v)\n",
    "        except StopIteration:     # StopIteration exception이 발생하면 break하고 반복문을 중단한다.\n",
    "            break"
   ]
  },
  {
   "cell_type": "code",
   "execution_count": 14,
   "id": "d4657ce5",
   "metadata": {},
   "outputs": [
    {
     "name": "stdout",
     "output_type": "stream",
     "text": [
      "1\n",
      "2\n",
      "3\n"
     ]
    }
   ],
   "source": [
    "for_in(l)"
   ]
  },
  {
   "cell_type": "code",
   "execution_count": null,
   "id": "bfcb1aeb",
   "metadata": {},
   "outputs": [],
   "source": [
    "# iterable과 iterator를 구현\n",
    "# iterable과 iterator를 다른 class로 구현하는 방법"
   ]
  },
  {
   "cell_type": "code",
   "execution_count": null,
   "id": "53062669",
   "metadata": {},
   "outputs": [],
   "source": [
    "# iterable"
   ]
  },
  {
   "cell_type": "code",
   "execution_count": 22,
   "id": "9237b1f6",
   "metadata": {},
   "outputs": [],
   "source": [
    "class MyIterable:\n",
    "    \n",
    "    def __init__(self, *args):\n",
    "        \"\"\"\n",
    "        *args: 제공해줄 원소들을 가변 인자로 받는다.\n",
    "        \"\"\"\n",
    "        self.values = args\n",
    "    \n",
    "    def __str__(self):\n",
    "        \"\"\"\n",
    "        제공할 원소들을 가진 tuple을 문자열로 반환한다.\n",
    "        \"\"\"\n",
    "        return str(self.values)\n",
    "    \n",
    "    def __iter__(self):\n",
    "        \"\"\"\n",
    "        iterable은 __iter__()를 반드시 재정의해야 한다.\n",
    "        iterator instance를 생성해서 반환하도록 처리한다.\n",
    "        \"\"\"\n",
    "        return MyIterator(self.values)     # MyIterator가 MyIterable의 values 를 사용할 수 있도록 전달한다."
   ]
  },
  {
   "cell_type": "code",
   "execution_count": 23,
   "id": "58490bd7",
   "metadata": {},
   "outputs": [],
   "source": [
    "class MyIterator:\n",
    "    \n",
    "    def __init__(self, values):\n",
    "        \"\"\"\n",
    "        iterator의 initializer에서 iterable의 원소들을 받아야 한다.\n",
    "        iterable instance 또는 그 element들을 받도록 처리한다.\n",
    "        \"\"\"\n",
    "        self.values = values\n",
    "        self.index = 0     # 몇번째 원소까지 제공했는지 상태를 저장할 attribute이다.\n",
    "    \n",
    "    def __next__(self):\n",
    "        \"\"\"\n",
    "        next(iterator) 했을 때 호출되는 method이다.\n",
    "        다음 원소를 제공하고, 제공할 다음 원소가 없으면 StopIteration Exception을 발생시킨다.\n",
    "        \"\"\"\n",
    "        # self.values의 값을 하나씩 조회해서 return 한다.\n",
    "        if len(self.values) <= self.index:\n",
    "            raise StopIteration()\n",
    "        ret_value =  self.values[self.index]\n",
    "        self.index += 1\n",
    "        return ret_value"
   ]
  },
  {
   "cell_type": "code",
   "execution_count": 25,
   "id": "8816276f",
   "metadata": {},
   "outputs": [
    {
     "name": "stdout",
     "output_type": "stream",
     "text": [
      "(1, 2, 3, 4)\n"
     ]
    },
    {
     "data": {
      "text/plain": [
       "__main__.MyIterator"
      ]
     },
     "execution_count": 25,
     "metadata": {},
     "output_type": "execute_result"
    }
   ],
   "source": [
    "mi = MyIterable(1, 2, 3, 4)\n",
    "print(mi)\n",
    "# iterable로부터 iterator를 생성\n",
    "mi_iter = iter(mi)\n",
    "type(mi_iter)"
   ]
  },
  {
   "cell_type": "code",
   "execution_count": 26,
   "id": "1f122398",
   "metadata": {},
   "outputs": [
    {
     "data": {
      "text/plain": [
       "1"
      ]
     },
     "execution_count": 26,
     "metadata": {},
     "output_type": "execute_result"
    }
   ],
   "source": [
    "next(mi_iter)"
   ]
  },
  {
   "cell_type": "code",
   "execution_count": 27,
   "id": "1038050b",
   "metadata": {},
   "outputs": [
    {
     "data": {
      "text/plain": [
       "2"
      ]
     },
     "execution_count": 27,
     "metadata": {},
     "output_type": "execute_result"
    }
   ],
   "source": [
    "next(mi_iter)"
   ]
  },
  {
   "cell_type": "code",
   "execution_count": 28,
   "id": "67bb2549",
   "metadata": {},
   "outputs": [
    {
     "data": {
      "text/plain": [
       "3"
      ]
     },
     "execution_count": 28,
     "metadata": {},
     "output_type": "execute_result"
    }
   ],
   "source": [
    "next(mi_iter)"
   ]
  },
  {
   "cell_type": "code",
   "execution_count": 29,
   "id": "7f72477c",
   "metadata": {},
   "outputs": [
    {
     "data": {
      "text/plain": [
       "4"
      ]
     },
     "execution_count": 29,
     "metadata": {},
     "output_type": "execute_result"
    }
   ],
   "source": [
    "next(mi_iter)"
   ]
  },
  {
   "cell_type": "code",
   "execution_count": 30,
   "id": "f13c9e97",
   "metadata": {},
   "outputs": [
    {
     "ename": "StopIteration",
     "evalue": "",
     "output_type": "error",
     "traceback": [
      "\u001b[1;31m---------------------------------------------------------------------------\u001b[0m",
      "\u001b[1;31mStopIteration\u001b[0m                             Traceback (most recent call last)",
      "\u001b[1;32m~\\AppData\\Local\\Temp\\ipykernel_24348\\4283121322.py\u001b[0m in \u001b[0;36m<module>\u001b[1;34m\u001b[0m\n\u001b[1;32m----> 1\u001b[1;33m \u001b[0mnext\u001b[0m\u001b[1;33m(\u001b[0m\u001b[0mmi_iter\u001b[0m\u001b[1;33m)\u001b[0m\u001b[1;33m\u001b[0m\u001b[1;33m\u001b[0m\u001b[0m\n\u001b[0m",
      "\u001b[1;32m~\\AppData\\Local\\Temp\\ipykernel_24348\\3501879554.py\u001b[0m in \u001b[0;36m__next__\u001b[1;34m(self)\u001b[0m\n\u001b[0;32m     16\u001b[0m         \u001b[1;31m# self.values의 값을 하나씩 조회해서 return 한다.\u001b[0m\u001b[1;33m\u001b[0m\u001b[1;33m\u001b[0m\u001b[0m\n\u001b[0;32m     17\u001b[0m         \u001b[1;32mif\u001b[0m \u001b[0mlen\u001b[0m\u001b[1;33m(\u001b[0m\u001b[0mself\u001b[0m\u001b[1;33m.\u001b[0m\u001b[0mvalues\u001b[0m\u001b[1;33m)\u001b[0m \u001b[1;33m<=\u001b[0m \u001b[0mself\u001b[0m\u001b[1;33m.\u001b[0m\u001b[0mindex\u001b[0m\u001b[1;33m:\u001b[0m\u001b[1;33m\u001b[0m\u001b[1;33m\u001b[0m\u001b[0m\n\u001b[1;32m---> 18\u001b[1;33m             \u001b[1;32mraise\u001b[0m \u001b[0mStopIteration\u001b[0m\u001b[1;33m(\u001b[0m\u001b[1;33m)\u001b[0m\u001b[1;33m\u001b[0m\u001b[1;33m\u001b[0m\u001b[0m\n\u001b[0m\u001b[0;32m     19\u001b[0m         \u001b[0mret_value\u001b[0m \u001b[1;33m=\u001b[0m  \u001b[0mself\u001b[0m\u001b[1;33m.\u001b[0m\u001b[0mvalues\u001b[0m\u001b[1;33m[\u001b[0m\u001b[0mself\u001b[0m\u001b[1;33m.\u001b[0m\u001b[0mindex\u001b[0m\u001b[1;33m]\u001b[0m\u001b[1;33m\u001b[0m\u001b[1;33m\u001b[0m\u001b[0m\n\u001b[0;32m     20\u001b[0m         \u001b[0mself\u001b[0m\u001b[1;33m.\u001b[0m\u001b[0mindex\u001b[0m \u001b[1;33m+=\u001b[0m \u001b[1;36m1\u001b[0m\u001b[1;33m\u001b[0m\u001b[1;33m\u001b[0m\u001b[0m\n",
      "\u001b[1;31mStopIteration\u001b[0m: "
     ]
    }
   ],
   "source": [
    "next(mi_iter)"
   ]
  },
  {
   "cell_type": "code",
   "execution_count": null,
   "id": "8071bed1",
   "metadata": {},
   "outputs": [],
   "source": [
    "# 내가 설정한대로 StopIteration이 발생한다."
   ]
  },
  {
   "cell_type": "code",
   "execution_count": 32,
   "id": "87e63b01",
   "metadata": {},
   "outputs": [
    {
     "name": "stdout",
     "output_type": "stream",
     "text": [
      "A\n",
      "B\n",
      "C\n"
     ]
    }
   ],
   "source": [
    "for v in MyIterable(\"A\", \"B\", \"C\"):\n",
    "    print(v)"
   ]
  },
  {
   "cell_type": "code",
   "execution_count": null,
   "id": "8bd220ed",
   "metadata": {},
   "outputs": [],
   "source": [
    "# iterable과 iterator를 같은 class로 구현하는 방법"
   ]
  },
  {
   "cell_type": "code",
   "execution_count": 1,
   "id": "8ce97428",
   "metadata": {},
   "outputs": [],
   "source": [
    "class MyIterableIterator:\n",
    "    \n",
    "    def __init__(self, *args):\n",
    "        \"\"\"\n",
    "        *args: 제공해줄 원소들을 가변 인자로 받는다.\n",
    "        \"\"\"\n",
    "        self.values = args\n",
    "        self.index = 0\n",
    "    \n",
    "    def __str__(self):\n",
    "        \"\"\"\n",
    "        제공할 원소들을 가진 tuple을 문자열로 반환한다.\n",
    "        \"\"\"\n",
    "        return str(self.values)\n",
    "    \n",
    "    def __iter__(self):\n",
    "        \"\"\"\n",
    "        iterable은 __iter__()를 반드시 재정의해야 한다.\n",
    "        iterator instance를 생성해서 반환하도록 처리한다.\n",
    "        \"\"\"\n",
    "        return self\n",
    "    \n",
    "    def __next__(self):\n",
    "        \"\"\"\n",
    "        next(iterator) 했을 때 호출되는 method이다.\n",
    "        다음 원소를 제공하고, 제공할 다음 원소가 없으면 StopIteration Exception을 발생시킨다.\n",
    "        \"\"\"\n",
    "        # self.values의 값을 하나씩 조회해서 return 한다.\n",
    "        if len(self.values) <= self.index:\n",
    "            raise StopIteration()\n",
    "        ret_value =  self.values[self.index]\n",
    "        self.index += 1\n",
    "        return ret_value"
   ]
  },
  {
   "cell_type": "code",
   "execution_count": 2,
   "id": "73ae7232",
   "metadata": {},
   "outputs": [],
   "source": [
    "# __iter__(self)에서 위에서는 return MyIterator(self.values)를 했다.\n",
    "# 하지만 여기서는 self만 하면 된다."
   ]
  },
  {
   "cell_type": "code",
   "execution_count": 3,
   "id": "6abf4a11",
   "metadata": {},
   "outputs": [
    {
     "name": "stdout",
     "output_type": "stream",
     "text": [
      "1\t2\t3\t4\t5\t6\t7\t"
     ]
    }
   ],
   "source": [
    "for v in MyIterableIterator(1, 2, 3, 4, 5, 6, 7):\n",
    "    print(v, end = '\\t')"
   ]
  },
  {
   "cell_type": "code",
   "execution_count": 9,
   "id": "9030e17e",
   "metadata": {},
   "outputs": [
    {
     "name": "stdout",
     "output_type": "stream",
     "text": [
      "<class '__main__.MyIterableIterator'>\n",
      "<class '__main__.MyIterableIterator'>\n"
     ]
    }
   ],
   "source": [
    "mi = MyIterableIterator(1, 2, 3, 4, 5)\n",
    "print(type(mi))\n",
    "mi_iter = iter(mi)\n",
    "print(type(mi_iter))"
   ]
  },
  {
   "cell_type": "code",
   "execution_count": 5,
   "id": "ec8cb6f7",
   "metadata": {},
   "outputs": [],
   "source": [
    "# 실행 결과 같은 class인 것을 확인할 수 있다."
   ]
  },
  {
   "cell_type": "code",
   "execution_count": 6,
   "id": "677391c7",
   "metadata": {},
   "outputs": [],
   "source": [
    "# 아래 코드를 실행해보자."
   ]
  },
  {
   "cell_type": "code",
   "execution_count": 7,
   "id": "f8e53043",
   "metadata": {},
   "outputs": [
    {
     "ename": "TypeError",
     "evalue": "'MyIterableIterator' object is not subscriptable",
     "output_type": "error",
     "traceback": [
      "\u001b[1;31m---------------------------------------------------------------------------\u001b[0m",
      "\u001b[1;31mTypeError\u001b[0m                                 Traceback (most recent call last)",
      "\u001b[1;32m~\\AppData\\Local\\Temp\\ipykernel_25240\\370961605.py\u001b[0m in \u001b[0;36m<module>\u001b[1;34m\u001b[0m\n\u001b[1;32m----> 1\u001b[1;33m \u001b[0mmi\u001b[0m\u001b[1;33m[\u001b[0m\u001b[1;36m0\u001b[0m\u001b[1;33m]\u001b[0m\u001b[1;33m\u001b[0m\u001b[1;33m\u001b[0m\u001b[0m\n\u001b[0m",
      "\u001b[1;31mTypeError\u001b[0m: 'MyIterableIterator' object is not subscriptable"
     ]
    }
   ],
   "source": [
    "mi[0]"
   ]
  },
  {
   "cell_type": "code",
   "execution_count": null,
   "id": "d18684e6",
   "metadata": {},
   "outputs": [],
   "source": [
    "# index를 이용해 값을 출력하려 했으나 위와 같은 exception이 발생한다.\n",
    "# not subscriptable이다. 이를 해결하기 위해 아래 과정을 거친다.\n",
    "# indexer 연산자 -> __getitem__() 재정의. (iterable에 재정의)\n",
    "# 아래와 같이 수정한다."
   ]
  },
  {
   "cell_type": "code",
   "execution_count": 12,
   "id": "91804a9e",
   "metadata": {},
   "outputs": [],
   "source": [
    "class MyIterableIterator:\n",
    "    \n",
    "    def __init__(self, *args):\n",
    "        \"\"\"\n",
    "        *args: 제공해줄 원소들을 가변 인자로 받는다.\n",
    "        \"\"\"\n",
    "        self.values = args\n",
    "        self.index = 0\n",
    "    \n",
    "    def __str__(self):\n",
    "        \"\"\"\n",
    "        제공할 원소들을 가진 tuple을 문자열로 반환한다.\n",
    "        \"\"\"\n",
    "        return str(self.values)\n",
    "    \n",
    "    def __iter__(self):\n",
    "        \"\"\"\n",
    "        iterable은 __iter__()를 반드시 재정의해야 한다.\n",
    "        iterator instance를 생성해서 반환하도록 처리한다.\n",
    "        \"\"\"\n",
    "        return self\n",
    "    \n",
    "    def __next__(self):\n",
    "        \"\"\"\n",
    "        next(iterator) 했을 때 호출되는 method이다.\n",
    "        다음 원소를 제공하고, 제공할 다음 원소가 없으면 StopIteration Exception을 발생시킨다.\n",
    "        \"\"\"\n",
    "        # self.values의 값을 하나씩 조회해서 return 한다.\n",
    "        if len(self.values) <= self.index:\n",
    "            raise StopIteration()\n",
    "        ret_value =  self.values[self.index]\n",
    "        self.index += 1\n",
    "        return ret_value\n",
    "    \n",
    "    def __getitem__(self, index):\n",
    "        # instance[index]: self에는 instance가 들어가고 index에는 index가 들어간다.\n",
    "        return self.values[index]"
   ]
  },
  {
   "cell_type": "code",
   "execution_count": 13,
   "id": "d75ebadb",
   "metadata": {},
   "outputs": [
    {
     "name": "stdout",
     "output_type": "stream",
     "text": [
      "<class '__main__.MyIterableIterator'>\n",
      "<class '__main__.MyIterableIterator'>\n"
     ]
    }
   ],
   "source": [
    "mi = MyIterableIterator(1, 2, 3, 4, 5)\n",
    "print(type(mi))\n",
    "mi_iter = iter(mi)\n",
    "print(type(mi_iter))"
   ]
  },
  {
   "cell_type": "code",
   "execution_count": 14,
   "id": "79d738f8",
   "metadata": {},
   "outputs": [
    {
     "data": {
      "text/plain": [
       "1"
      ]
     },
     "execution_count": 14,
     "metadata": {},
     "output_type": "execute_result"
    }
   ],
   "source": [
    "mi[0]"
   ]
  },
  {
   "cell_type": "code",
   "execution_count": 15,
   "id": "b6fd6a89",
   "metadata": {},
   "outputs": [],
   "source": [
    "# 범위를 벗어나는 index를 대입시켜 본다."
   ]
  },
  {
   "cell_type": "code",
   "execution_count": 16,
   "id": "1b4c0ca7",
   "metadata": {},
   "outputs": [
    {
     "ename": "IndexError",
     "evalue": "tuple index out of range",
     "output_type": "error",
     "traceback": [
      "\u001b[1;31m---------------------------------------------------------------------------\u001b[0m",
      "\u001b[1;31mIndexError\u001b[0m                                Traceback (most recent call last)",
      "\u001b[1;32m~\\AppData\\Local\\Temp\\ipykernel_25240\\3620236164.py\u001b[0m in \u001b[0;36m<module>\u001b[1;34m\u001b[0m\n\u001b[1;32m----> 1\u001b[1;33m \u001b[0mmi\u001b[0m\u001b[1;33m[\u001b[0m\u001b[1;36m100\u001b[0m\u001b[1;33m]\u001b[0m\u001b[1;33m\u001b[0m\u001b[1;33m\u001b[0m\u001b[0m\n\u001b[0m",
      "\u001b[1;32m~\\AppData\\Local\\Temp\\ipykernel_25240\\3693729228.py\u001b[0m in \u001b[0;36m__getitem__\u001b[1;34m(self, index)\u001b[0m\n\u001b[0;32m     35\u001b[0m     \u001b[1;32mdef\u001b[0m \u001b[0m__getitem__\u001b[0m\u001b[1;33m(\u001b[0m\u001b[0mself\u001b[0m\u001b[1;33m,\u001b[0m \u001b[0mindex\u001b[0m\u001b[1;33m)\u001b[0m\u001b[1;33m:\u001b[0m\u001b[1;33m\u001b[0m\u001b[1;33m\u001b[0m\u001b[0m\n\u001b[0;32m     36\u001b[0m         \u001b[1;31m# instance[index]: self에는 instance가 들어가고 index에는 index가 들어간다.\u001b[0m\u001b[1;33m\u001b[0m\u001b[1;33m\u001b[0m\u001b[0m\n\u001b[1;32m---> 37\u001b[1;33m         \u001b[1;32mreturn\u001b[0m \u001b[0mself\u001b[0m\u001b[1;33m.\u001b[0m\u001b[0mvalues\u001b[0m\u001b[1;33m[\u001b[0m\u001b[0mindex\u001b[0m\u001b[1;33m]\u001b[0m\u001b[1;33m\u001b[0m\u001b[1;33m\u001b[0m\u001b[0m\n\u001b[0m",
      "\u001b[1;31mIndexError\u001b[0m: tuple index out of range"
     ]
    }
   ],
   "source": [
    "mi[100]"
   ]
  },
  {
   "cell_type": "code",
   "execution_count": 45,
   "id": "a7f89cc0",
   "metadata": {},
   "outputs": [],
   "source": [
    "# 위와 같이 IndexError가 발생한다."
   ]
  },
  {
   "cell_type": "markdown",
   "id": "ad311a49",
   "metadata": {
    "slideshow": {
     "slide_type": "subslide"
    }
   },
   "source": [
    "## 1.1. for in 문 Iterable의 값을 순환반복하는 과정\n",
    "\n",
    "1. 반복 조회할 iterable객체의 __iter__() 를 호출 하여 Iterator를 구한다.\n",
    "1. 매 반복마다 Iterator의 __next__() 를 호출하여 다음 원소를 조회한다.\n",
    "1. 모든 원소들이 다 제공해 StopIteration Exception이 발생하면 반복문을 멈추고 빠져나온다."
   ]
  },
  {
   "cell_type": "code",
   "execution_count": null,
   "id": "0117087f",
   "metadata": {
    "slideshow": {
     "slide_type": "fragment"
    }
   },
   "outputs": [],
   "source": []
  },
  {
   "cell_type": "markdown",
   "id": "5323e175",
   "metadata": {
    "slideshow": {
     "slide_type": "subslide"
    }
   },
   "source": [
    "## 1.2. Generator\n",
    "- Iterable과 Iterator를 합친 기능을 함수 형태로 구현(정의)한 것을 generator라고 한다.\n",
    "    - 제공할 값들을 미리 메모리에 올리지 않고 로직을 통해 값들을 호출자가 필요할 때 마다 제공할 때 유용하다.\n",
    "- 제너레이터 함수에서 값을 반환\n",
    "    - **yield 반환값**\n",
    "        - 반환값을 가지고 호출한 곳으로 돌아간다. 현재 상태(돌아가기 직전 상태)를 기억하면서 돌아간다. \n",
    "            - 값을 반환하고 일시정지 상태라고 생각하면 된다.\n",
    "        - 다음 실행시점에 yield 구문 다음 부터 실행된다.\n",
    "    - **return \\[valuye\\]**\n",
    "        - generator 함수 종료\n",
    "        - StopIteration 발생시킨다.\n",
    "- Generator 의 원소 조회\n",
    "    - next(Generator객체)"
   ]
  },
  {
   "cell_type": "code",
   "execution_count": null,
   "id": "fc5b63d6",
   "metadata": {},
   "outputs": [],
   "source": [
    "# generator의 yield 기능을 확인하기 위해 아래와 같은 간단한 generator를 작성한다."
   ]
  },
  {
   "cell_type": "code",
   "execution_count": 19,
   "id": "4df6590b",
   "metadata": {
    "slideshow": {
     "slide_type": "fragment"
    }
   },
   "outputs": [],
   "source": [
    "def test_gen(num = 0):\n",
    "    print(\"1.\", num)\n",
    "    num += 10\n",
    "    yield num\n",
    "    print(\"2.\", num)\n",
    "    num += 20\n",
    "    yield num"
   ]
  },
  {
   "cell_type": "code",
   "execution_count": 17,
   "id": "226e7f06",
   "metadata": {},
   "outputs": [],
   "source": [
    "# 만약 yield가 아니라 return이었다면 첫 번째에 값을 반환하고 함수가 끝났을 것이다."
   ]
  },
  {
   "cell_type": "code",
   "execution_count": 20,
   "id": "cf278680",
   "metadata": {},
   "outputs": [
    {
     "data": {
      "text/plain": [
       "<generator object test_gen at 0x0000019BDC0D42E0>"
      ]
     },
     "execution_count": 20,
     "metadata": {},
     "output_type": "execute_result"
    }
   ],
   "source": [
    "test_gen(20)"
   ]
  },
  {
   "cell_type": "code",
   "execution_count": null,
   "id": "712c393d",
   "metadata": {},
   "outputs": [],
   "source": [
    "# 함수처럼 만들었지만 함수처럼 호출했을 때 값이 반환되지 않는다.\n",
    "# generator를 호출한다는 것은 generator instance를 생성하는 것이다.\n",
    "# generator를 호출할 때는 next() 함수를 이용한다."
   ]
  },
  {
   "cell_type": "code",
   "execution_count": 25,
   "id": "782b4dea",
   "metadata": {},
   "outputs": [
    {
     "name": "stdout",
     "output_type": "stream",
     "text": [
      "1. 20\n"
     ]
    },
    {
     "data": {
      "text/plain": [
       "30"
      ]
     },
     "execution_count": 25,
     "metadata": {},
     "output_type": "execute_result"
    }
   ],
   "source": [
    "gen = test_gen(20)\n",
    "next(gen)"
   ]
  },
  {
   "cell_type": "code",
   "execution_count": 26,
   "id": "79879b10",
   "metadata": {},
   "outputs": [],
   "source": [
    "# 첫 번째 yield까지 처리한다."
   ]
  },
  {
   "cell_type": "code",
   "execution_count": 27,
   "id": "f514a419",
   "metadata": {},
   "outputs": [
    {
     "name": "stdout",
     "output_type": "stream",
     "text": [
      "2. 30\n"
     ]
    },
    {
     "data": {
      "text/plain": [
       "50"
      ]
     },
     "execution_count": 27,
     "metadata": {},
     "output_type": "execute_result"
    }
   ],
   "source": [
    "next(gen)"
   ]
  },
  {
   "cell_type": "code",
   "execution_count": null,
   "id": "79103cd8",
   "metadata": {},
   "outputs": [],
   "source": [
    "# 첫 번째 yield 다음부터 두 번째 yield까지 처리한다."
   ]
  },
  {
   "cell_type": "code",
   "execution_count": 28,
   "id": "1a318cc3",
   "metadata": {},
   "outputs": [
    {
     "ename": "StopIteration",
     "evalue": "",
     "output_type": "error",
     "traceback": [
      "\u001b[1;31m---------------------------------------------------------------------------\u001b[0m",
      "\u001b[1;31mStopIteration\u001b[0m                             Traceback (most recent call last)",
      "\u001b[1;32m~\\AppData\\Local\\Temp\\ipykernel_25240\\4293081279.py\u001b[0m in \u001b[0;36m<module>\u001b[1;34m\u001b[0m\n\u001b[1;32m----> 1\u001b[1;33m \u001b[0mnext\u001b[0m\u001b[1;33m(\u001b[0m\u001b[0mgen\u001b[0m\u001b[1;33m)\u001b[0m\u001b[1;33m\u001b[0m\u001b[1;33m\u001b[0m\u001b[0m\n\u001b[0m",
      "\u001b[1;31mStopIteration\u001b[0m: "
     ]
    }
   ],
   "source": [
    "next(gen)"
   ]
  },
  {
   "cell_type": "code",
   "execution_count": null,
   "id": "e78d5430",
   "metadata": {},
   "outputs": [],
   "source": [
    "# 더 이상 실행할 코드가 없으면 StopIteration Exception이 발생한다."
   ]
  },
  {
   "cell_type": "code",
   "execution_count": null,
   "id": "dfdbbccc",
   "metadata": {},
   "outputs": [],
   "source": [
    "# generator instance 역시 반복문에 사용할 수 있다."
   ]
  },
  {
   "cell_type": "code",
   "execution_count": 29,
   "id": "50e2f61d",
   "metadata": {},
   "outputs": [
    {
     "name": "stdout",
     "output_type": "stream",
     "text": [
      "1. 100\n",
      "110\n",
      "2. 110\n",
      "130\n"
     ]
    }
   ],
   "source": [
    "for v in test_gen(100):\n",
    "    print(v)"
   ]
  },
  {
   "cell_type": "code",
   "execution_count": null,
   "id": "fc6d9f32",
   "metadata": {},
   "outputs": [],
   "source": [
    "# generator를 이용해 range() 함수를 구현해보자."
   ]
  },
  {
   "cell_type": "code",
   "execution_count": 30,
   "id": "4ca6300e",
   "metadata": {},
   "outputs": [],
   "source": [
    "def my_range(start, end = None, step = 1):\n",
    "    if end == None:\n",
    "        end = start\n",
    "        start = 0\n",
    "    \n",
    "    while True:\n",
    "        if start >= end:\n",
    "            break\n",
    "        yield start\n",
    "        start += step"
   ]
  },
  {
   "cell_type": "code",
   "execution_count": 32,
   "id": "b4c193f5",
   "metadata": {},
   "outputs": [
    {
     "data": {
      "text/plain": [
       "<generator object my_range at 0x0000019BDC0D4DD0>"
      ]
     },
     "execution_count": 32,
     "metadata": {},
     "output_type": "execute_result"
    }
   ],
   "source": [
    "my_range(5, 8)"
   ]
  },
  {
   "cell_type": "code",
   "execution_count": 33,
   "id": "066b2341",
   "metadata": {},
   "outputs": [],
   "source": [
    "# 위와 같이 generator instance를 만들었다."
   ]
  },
  {
   "cell_type": "code",
   "execution_count": 41,
   "id": "f1b8025c",
   "metadata": {},
   "outputs": [],
   "source": [
    "gen = my_range(5, 8)"
   ]
  },
  {
   "cell_type": "code",
   "execution_count": 42,
   "id": "a2f9f925",
   "metadata": {},
   "outputs": [
    {
     "name": "stdout",
     "output_type": "stream",
     "text": [
      "5\n"
     ]
    }
   ],
   "source": [
    "print(next(gen))"
   ]
  },
  {
   "cell_type": "code",
   "execution_count": 43,
   "id": "88b35e18",
   "metadata": {},
   "outputs": [
    {
     "name": "stdout",
     "output_type": "stream",
     "text": [
      "6\n"
     ]
    }
   ],
   "source": [
    "print(next(gen))"
   ]
  },
  {
   "cell_type": "code",
   "execution_count": 44,
   "id": "560d5237",
   "metadata": {},
   "outputs": [
    {
     "name": "stdout",
     "output_type": "stream",
     "text": [
      "7\n"
     ]
    }
   ],
   "source": [
    "print(next(gen))"
   ]
  },
  {
   "cell_type": "code",
   "execution_count": 45,
   "id": "2e607fed",
   "metadata": {},
   "outputs": [
    {
     "ename": "StopIteration",
     "evalue": "",
     "output_type": "error",
     "traceback": [
      "\u001b[1;31m---------------------------------------------------------------------------\u001b[0m",
      "\u001b[1;31mStopIteration\u001b[0m                             Traceback (most recent call last)",
      "\u001b[1;32m~\\AppData\\Local\\Temp\\ipykernel_25240\\2955553870.py\u001b[0m in \u001b[0;36m<module>\u001b[1;34m\u001b[0m\n\u001b[1;32m----> 1\u001b[1;33m \u001b[0mprint\u001b[0m\u001b[1;33m(\u001b[0m\u001b[0mnext\u001b[0m\u001b[1;33m(\u001b[0m\u001b[0mgen\u001b[0m\u001b[1;33m)\u001b[0m\u001b[1;33m)\u001b[0m\u001b[1;33m\u001b[0m\u001b[1;33m\u001b[0m\u001b[0m\n\u001b[0m",
      "\u001b[1;31mStopIteration\u001b[0m: "
     ]
    }
   ],
   "source": [
    "print(next(gen))"
   ]
  },
  {
   "cell_type": "code",
   "execution_count": 46,
   "id": "f61b46e2",
   "metadata": {},
   "outputs": [],
   "source": [
    "# 범위보다 많이 실행하면 위와 같이 StopIteration Exception이 발생한다."
   ]
  },
  {
   "cell_type": "code",
   "execution_count": 50,
   "id": "3489b73e",
   "metadata": {},
   "outputs": [
    {
     "name": "stdout",
     "output_type": "stream",
     "text": [
      "1\t11\t21\t31\t41\t51\t61\t71\t81\t91\t"
     ]
    }
   ],
   "source": [
    "for i in my_range(1, 100, 10):\n",
    "    print(i, end = \"\\t\")"
   ]
  },
  {
   "cell_type": "code",
   "execution_count": 51,
   "id": "e3057ff5",
   "metadata": {},
   "outputs": [
    {
     "name": "stdout",
     "output_type": "stream",
     "text": [
      "0\t1\t2\t3\t4\t"
     ]
    }
   ],
   "source": [
    "for i in my_range(5):\n",
    "    print(i, end = \"\\t\")"
   ]
  },
  {
   "cell_type": "code",
   "execution_count": null,
   "id": "3c9fa60e",
   "metadata": {},
   "outputs": [],
   "source": [
    "# 실제 range 역시 genterator이다."
   ]
  },
  {
   "cell_type": "code",
   "execution_count": null,
   "id": "a85b338d",
   "metadata": {},
   "outputs": [],
   "source": []
  },
  {
   "cell_type": "code",
   "execution_count": null,
   "id": "956c3a35",
   "metadata": {},
   "outputs": [],
   "source": [
    "# generator를 더 편리하게 쉽게 짧게 표현한 것에 generator comprehension이다."
   ]
  },
  {
   "cell_type": "markdown",
   "id": "ae6dec96",
   "metadata": {
    "slideshow": {
     "slide_type": "subslide"
    }
   },
   "source": [
    "### 1.2.1. Generator 표현식 (Generator Comprehension)\n",
    "- 컴프리헨션구문을 **( )** 로 묶어 표현한다.\n",
    "- 컴프리헨션 구문안의 Iterable의 원소들을 처리해서 제공하는 generator 표현식\n",
    "- Generator Comprehension 은 반복 가능한 객체만 만들고 실제 원소에 대한 요청이 왔을 때 값을 생성한다.\n",
    "    - 메모리 효율이 다른 Comprehension들 보다 좋다."
   ]
  },
  {
   "cell_type": "code",
   "execution_count": null,
   "id": "b89545a4",
   "metadata": {},
   "outputs": [],
   "source": [
    "# comprehension 복습"
   ]
  },
  {
   "cell_type": "code",
   "execution_count": 83,
   "id": "9d5f5acc",
   "metadata": {
    "slideshow": {
     "slide_type": "fragment"
    }
   },
   "outputs": [
    {
     "data": {
      "text/plain": [
       "[0, 1, 2, 3, 4, 5, 6, 7, 8, 9]"
      ]
     },
     "execution_count": 83,
     "metadata": {},
     "output_type": "execute_result"
    }
   ],
   "source": [
    "[ i for i in range(10) ]"
   ]
  },
  {
   "cell_type": "code",
   "execution_count": 54,
   "id": "9a202391",
   "metadata": {},
   "outputs": [],
   "source": [
    "# generator comprehension"
   ]
  },
  {
   "cell_type": "code",
   "execution_count": 58,
   "id": "5a435873",
   "metadata": {},
   "outputs": [
    {
     "name": "stdout",
     "output_type": "stream",
     "text": [
      "<class 'generator'>\n"
     ]
    }
   ],
   "source": [
    "gen = ( i for i in range(10) )\n",
    "print(type(gen))"
   ]
  },
  {
   "cell_type": "code",
   "execution_count": 59,
   "id": "bcc3519d",
   "metadata": {},
   "outputs": [
    {
     "name": "stdout",
     "output_type": "stream",
     "text": [
      "0\t1\t2\t3\t4\t5\t6\t7\t8\t9\t"
     ]
    }
   ],
   "source": [
    "for i in gen:\n",
    "    print(i, end = '\\t')"
   ]
  },
  {
   "cell_type": "code",
   "execution_count": 60,
   "id": "242d8b0a",
   "metadata": {},
   "outputs": [
    {
     "name": "stdout",
     "output_type": "stream",
     "text": [
      "0\t2\t4\t6\t8\t"
     ]
    }
   ],
   "source": [
    "gen = ( i for i in range(10) if i % 2 == 0)\n",
    "for i in gen:\n",
    "    print(i, end = '\\t')"
   ]
  },
  {
   "cell_type": "code",
   "execution_count": 61,
   "id": "deb8668e",
   "metadata": {},
   "outputs": [
    {
     "name": "stdout",
     "output_type": "stream",
     "text": [
      "20\t22\t24\t26\t28\t"
     ]
    }
   ],
   "source": [
    "gen = ( i + 20 for i in range(10) if i % 2 == 0)\n",
    "for i in gen:\n",
    "    print(i, end = '\\t')"
   ]
  },
  {
   "cell_type": "code",
   "execution_count": null,
   "id": "5ac68502",
   "metadata": {},
   "outputs": [],
   "source": [
    "# list comprehension과 generator comprehension은 뭐가 다를까.\n",
    "# generator comprehension은 logic만 가지기 때문에 메모리 저장 측면에서 좀 더 효율적이다."
   ]
  },
  {
   "cell_type": "markdown",
   "id": "929f0230",
   "metadata": {
    "slideshow": {
     "slide_type": "slide"
    }
   },
   "source": [
    "# 2. Decorator (장식자)\n",
    "\n",
    "## 2.1. 파이썬에서 함수는 일급 시민(first class citizen) 이다.\n",
    "- 일급 시민 (first class citizen) 이란\n",
    "    1. 변수에 대입 할 수 있다.\n",
    "    2. Argument로 사용할 수 있다.\n",
    "    3. 함수나 메소드의 반환값으로 사용 할 수 있다.\n",
    "    "
   ]
  },
  {
   "cell_type": "markdown",
   "id": "b46580f2",
   "metadata": {
    "slideshow": {
     "slide_type": "subslide"
    }
   },
   "source": [
    "## 2.2. 지역함수(Local Function) 란\n",
    "- 함수 안에 정의 한 함수를 말한다.\n",
    "    - 중첩 함수(Nested function) 이라고도 한다.\n",
    "- 지역함수가 선언된 함수를 **outer function** 지역함수는 **inner function** 이라고 한다. \n",
    "- inner function은 outer function의 지역변수를 자유롭게 사용할 수 있다.\n",
    "- 기본적으로 inner function은 outer function 안에서만 호출 할 수있다.\n",
    "- 단 outer function이 정의된 inner function을 return value로 반환하면 밖에서도 호출 할 수 있다."
   ]
  },
  {
   "cell_type": "markdown",
   "id": "766a1432",
   "metadata": {
    "slideshow": {
     "slide_type": "fragment"
    }
   },
   "source": [
    "## 2.3. Closure (클로저)\n",
    "- 지역함수(Inner function)를 정의한 Outer function이 종료되어도 지역함수가 종료될 때까지 outer function의 지역변수들은 메모리에 계속 유지 되어 inner function에서 사용할 수 있다. \n",
    "- 파이썬 실행환경은 inner function이 종료될때 까지 outer function의 지역변수들(parameter포함)을 사용할 수 있도록 저장하는 공간이 **closure**이다."
   ]
  },
  {
   "cell_type": "code",
   "execution_count": null,
   "id": "4e5374ca",
   "metadata": {},
   "outputs": [],
   "source": [
    "# closure의 개념을 간단한 함수 정의로 확인해보자."
   ]
  },
  {
   "cell_type": "code",
   "execution_count": 76,
   "id": "0001effe",
   "metadata": {
    "slideshow": {
     "slide_type": "fragment"
    }
   },
   "outputs": [],
   "source": [
    "def outer():\n",
    "    outer_var = \"outer function의 local variable\"\n",
    "    \n",
    "    def inner(num):\n",
    "        inner_var = \"inner function의 local variable\"\n",
    "        print(\"inner function의 parameter num:\", num)\n",
    "        print(inner_var)\n",
    "        print(outer_var)\n",
    "    \n",
    "    return inner"
   ]
  },
  {
   "cell_type": "code",
   "execution_count": null,
   "id": "a07cd5eb",
   "metadata": {},
   "outputs": [],
   "source": [
    "# inner 함수를 반환한다. 이때 괄호를 제외해야 한다. 그래야 함수 자체를 반환할 수 있다."
   ]
  },
  {
   "cell_type": "code",
   "execution_count": 77,
   "id": "c0cb6ee8",
   "metadata": {},
   "outputs": [
    {
     "data": {
      "text/plain": [
       "<function __main__.outer.<locals>.inner(num)>"
      ]
     },
     "execution_count": 77,
     "metadata": {},
     "output_type": "execute_result"
    }
   ],
   "source": [
    "outer()"
   ]
  },
  {
   "cell_type": "code",
   "execution_count": 79,
   "id": "c47f4b17",
   "metadata": {},
   "outputs": [],
   "source": [
    "# 출력은 위와 같이 된다. 그래서 변수에 대입한 후 사용해본다."
   ]
  },
  {
   "cell_type": "code",
   "execution_count": 80,
   "id": "13919489",
   "metadata": {},
   "outputs": [
    {
     "name": "stdout",
     "output_type": "stream",
     "text": [
      "inner function의 parameter num: 300\n",
      "inner function의 local variable\n",
      "outer function의 local variable\n"
     ]
    }
   ],
   "source": [
    "func = outer()\n",
    "func(300)"
   ]
  },
  {
   "cell_type": "code",
   "execution_count": null,
   "id": "0e8ac46f",
   "metadata": {},
   "outputs": [],
   "source": [
    "# 첫 번째 line에서 outer() 함수는 종료된다. 하지만 두 번째 line에서 큰 문제 없이 실행된다.\n",
    "# 이것이 closure이다."
   ]
  },
  {
   "cell_type": "markdown",
   "id": "b58a1e1d",
   "metadata": {
    "slideshow": {
     "slide_type": "slide"
    }
   },
   "source": [
    "## 2.4. Decorator (장식자)\n",
    "- 기존의 함수를 수정하지 않고 그 함수 전/후에 실행되는 구문을 추가할 수 있도록 하는 함수를 말한다.\n",
    "- 기존 함수코드를 수정하지 않고 새로운 기능의 추가를 쉽게 해준다.\n",
    "- 함수의 전/후처리 하는 구문을 **필요하면 붙이고 필요 없으면 쉽게 제거할 수 있다**\n",
    "\n",
    "![개요](images/ch10_01.png)"
   ]
  },
  {
   "cell_type": "markdown",
   "id": "aaf6447c",
   "metadata": {
    "slideshow": {
     "slide_type": "subslide"
    }
   },
   "source": [
    "### 2.4.1. Decorator 구현 및 사용\n",
    "\n",
    "- 구현\n",
    "    1. 전/후처리 기능을 추가할 함수를 parameter로 받는다.\n",
    "    2. 그 함수 호출 전후로 추가할 기능을 작성한 **지역함수**를 정의한다.\n",
    "    3. `2`번의 함수를 반환한다.\n",
    "```python\n",
    "def decorator(func):\n",
    "    def wrapper([parameter]): # decorator 적용할 함수에 파라미터를 전달할 경우 parameter 변수들을 선언\n",
    "        # 전처리\n",
    "        func()\n",
    "        # 후처리\n",
    "    return wrapper \n",
    "```\n",
    "\n",
    "- 호출\n",
    "    - `@decorator이름`를 적용하고자하는 함수 선언전에 기술한다.\n",
    "```python\n",
    "@decorator\n",
    "def caller([parameter]):\n",
    "    ...\n",
    "```"
   ]
  },
  {
   "cell_type": "code",
   "execution_count": 100,
   "id": "82f0e859",
   "metadata": {
    "slideshow": {
     "slide_type": "fragment"
    }
   },
   "outputs": [],
   "source": [
    "def a():\n",
    "    print(\"안녕하세요.\")\n",
    "\n",
    "def b():\n",
    "    print(\"반갑습니다.\")"
   ]
  },
  {
   "cell_type": "code",
   "execution_count": 101,
   "id": "22eaf72a",
   "metadata": {},
   "outputs": [],
   "source": [
    "# 함수 a와 b를 위와 같이 간단히 정의했다. 출력되는 구문 위 아래에 dash 구분자를 넣고자 한다. 이때 decorator를 사용해보자."
   ]
  },
  {
   "cell_type": "code",
   "execution_count": 102,
   "id": "28f0852c",
   "metadata": {},
   "outputs": [],
   "source": [
    "# parameter func는 함수 전후 처리를 추가할 original function이다."
   ]
  },
  {
   "cell_type": "code",
   "execution_count": 103,
   "id": "779ab477",
   "metadata": {},
   "outputs": [],
   "source": [
    "def dash_decorator(func):\n",
    "    # parameter func: 함수 전후 처리를 추가할 original function\n",
    "    def wrapper():\n",
    "        print(\"-\" * 20)     # 전처리\n",
    "        func()\n",
    "        print(\"-\" * 20)     # 후처리\n",
    "    \n",
    "    return wrapper"
   ]
  },
  {
   "cell_type": "code",
   "execution_count": null,
   "id": "d29659cf",
   "metadata": {},
   "outputs": [],
   "source": [
    "# decorator 사용 방법 1."
   ]
  },
  {
   "cell_type": "code",
   "execution_count": 108,
   "id": "e62dd6b5",
   "metadata": {},
   "outputs": [
    {
     "name": "stdout",
     "output_type": "stream",
     "text": [
      "<class 'function'>\n"
     ]
    }
   ],
   "source": [
    "w_a = dash_decorator(a)\n",
    "print(type(w_a))"
   ]
  },
  {
   "cell_type": "code",
   "execution_count": 107,
   "id": "bdba40f7",
   "metadata": {},
   "outputs": [
    {
     "name": "stdout",
     "output_type": "stream",
     "text": [
      "--------------------\n",
      "안녕하세요.\n",
      "--------------------\n"
     ]
    }
   ],
   "source": [
    "w_a()"
   ]
  },
  {
   "cell_type": "code",
   "execution_count": 110,
   "id": "b97b2d34",
   "metadata": {},
   "outputs": [
    {
     "name": "stdout",
     "output_type": "stream",
     "text": [
      "--------------------\n",
      "반갑습니다.\n",
      "--------------------\n"
     ]
    }
   ],
   "source": [
    "w_b = dash_decorator(b)\n",
    "w_b()"
   ]
  },
  {
   "cell_type": "code",
   "execution_count": null,
   "id": "6a9b9abb",
   "metadata": {},
   "outputs": [],
   "source": []
  },
  {
   "cell_type": "code",
   "execution_count": null,
   "id": "693ffd04",
   "metadata": {},
   "outputs": [],
   "source": [
    "# decorator 사용 방법 2."
   ]
  },
  {
   "cell_type": "code",
   "execution_count": 118,
   "id": "2e036adc",
   "metadata": {},
   "outputs": [],
   "source": [
    "@dash_decorator\n",
    "def a():\n",
    "    print(\"안녕하세요.\")"
   ]
  },
  {
   "cell_type": "code",
   "execution_count": 119,
   "id": "d51159e1",
   "metadata": {},
   "outputs": [],
   "source": [
    "@dash_decorator\n",
    "def b():\n",
    "    print(\"반갑습니다.\")"
   ]
  },
  {
   "cell_type": "code",
   "execution_count": 120,
   "id": "9610e7cb",
   "metadata": {},
   "outputs": [
    {
     "name": "stdout",
     "output_type": "stream",
     "text": [
      "--------------------\n",
      "안녕하세요.\n",
      "--------------------\n"
     ]
    }
   ],
   "source": [
    "a()"
   ]
  },
  {
   "cell_type": "code",
   "execution_count": 116,
   "id": "eab844b2",
   "metadata": {},
   "outputs": [
    {
     "name": "stdout",
     "output_type": "stream",
     "text": [
      "--------------------\n",
      "반갑습니다.\n",
      "--------------------\n"
     ]
    }
   ],
   "source": [
    "b()"
   ]
  },
  {
   "cell_type": "code",
   "execution_count": null,
   "id": "90d1edb9",
   "metadata": {},
   "outputs": [],
   "source": [
    "# 함수 a와 b를 호출하면 각 함수를 dash_decorator() 함수의 argument로 전달해서 호출하고 반환되는 inner function을 실행시켜라.\n",
    "# 라는 뜻이다.\n",
    "# 위 코드는 dash_decorator를 실행시키는 것이다. 이때 parameter는 각 함수이다.\n",
    "# 이때 dash_decorator에서는 wrapper라는 inner function에서 전후 처리를 실행한다.\n",
    "# 그리고 이 함수 자체를 return 한다.\n",
    "# 이것이 decorator이고 decorator의 실행 순서이다."
   ]
  },
  {
   "cell_type": "code",
   "execution_count": null,
   "id": "87a82885",
   "metadata": {},
   "outputs": [],
   "source": [
    "# 기능을 추가하고 삭제하는 것이 굉장히 쉽다. 다른 기능으로 바꾸는 것 역시 쉽게 가능하다."
   ]
  },
  {
   "cell_type": "code",
   "execution_count": 121,
   "id": "aec5f324",
   "metadata": {},
   "outputs": [],
   "source": [
    "@dash_decorator\n",
    "def greeting(name):\n",
    "    print(f\"{name} 님, 환영합니다.\")"
   ]
  },
  {
   "cell_type": "code",
   "execution_count": 122,
   "id": "fd415133",
   "metadata": {},
   "outputs": [
    {
     "ename": "TypeError",
     "evalue": "wrapper() takes 0 positional arguments but 1 was given",
     "output_type": "error",
     "traceback": [
      "\u001b[1;31m---------------------------------------------------------------------------\u001b[0m",
      "\u001b[1;31mTypeError\u001b[0m                                 Traceback (most recent call last)",
      "\u001b[1;32m~\\AppData\\Local\\Temp\\ipykernel_25240\\2002081648.py\u001b[0m in \u001b[0;36m<module>\u001b[1;34m\u001b[0m\n\u001b[1;32m----> 1\u001b[1;33m \u001b[0mgreeting\u001b[0m\u001b[1;33m(\u001b[0m\u001b[1;34m\"홍길동\"\u001b[0m\u001b[1;33m)\u001b[0m\u001b[1;33m\u001b[0m\u001b[1;33m\u001b[0m\u001b[0m\n\u001b[0m",
      "\u001b[1;31mTypeError\u001b[0m: wrapper() takes 0 positional arguments but 1 was given"
     ]
    }
   ],
   "source": [
    "greeting(\"홍길동\")"
   ]
  },
  {
   "cell_type": "code",
   "execution_count": null,
   "id": "0490ea36",
   "metadata": {},
   "outputs": [],
   "source": [
    "# wrapper에 parameter가 없어 error가 발생한다. 아래와 같이 수정할 수 있다."
   ]
  },
  {
   "cell_type": "code",
   "execution_count": null,
   "id": "13d87956",
   "metadata": {},
   "outputs": [],
   "source": []
  },
  {
   "cell_type": "code",
   "execution_count": 125,
   "id": "13096874",
   "metadata": {},
   "outputs": [],
   "source": [
    "def dash_decorator(func):\n",
    "    def wrapper(name):\n",
    "        print(\"-\" * 20)\n",
    "        func(name)\n",
    "        print(\"-\" * 20)\n",
    "        \n",
    "    return wrapper"
   ]
  },
  {
   "cell_type": "code",
   "execution_count": 126,
   "id": "138ef0ec",
   "metadata": {},
   "outputs": [],
   "source": [
    "@dash_decorator\n",
    "def greeting(name):\n",
    "    print(f\"{name} 님, 환영합니다.\")"
   ]
  },
  {
   "cell_type": "code",
   "execution_count": 127,
   "id": "3838d519",
   "metadata": {
    "scrolled": true
   },
   "outputs": [
    {
     "name": "stdout",
     "output_type": "stream",
     "text": [
      "--------------------\n",
      "홍길동 님, 환영합니다.\n",
      "--------------------\n"
     ]
    }
   ],
   "source": [
    "greeting(\"홍길동\")"
   ]
  },
  {
   "cell_type": "code",
   "execution_count": null,
   "id": "26f5ba53",
   "metadata": {},
   "outputs": [],
   "source": [
    "# 둘 다를 동시에 할 수는 없을까?"
   ]
  },
  {
   "cell_type": "code",
   "execution_count": 134,
   "id": "6994781a",
   "metadata": {},
   "outputs": [],
   "source": [
    "def dash_decorator(func):\n",
    "    def wrapper(name = None):\n",
    "        print(\"-\" * 20)\n",
    "        if name == None:\n",
    "            func()\n",
    "        else:\n",
    "            func(name)\n",
    "        print(\"-\" * 20)\n",
    "        \n",
    "    return wrapper"
   ]
  },
  {
   "cell_type": "code",
   "execution_count": 135,
   "id": "bc1b9479",
   "metadata": {},
   "outputs": [],
   "source": [
    "@dash_decorator\n",
    "def a():\n",
    "    print(\"안녕하세요.\")"
   ]
  },
  {
   "cell_type": "code",
   "execution_count": 136,
   "id": "771cedf8",
   "metadata": {},
   "outputs": [
    {
     "name": "stdout",
     "output_type": "stream",
     "text": [
      "--------------------\n",
      "안녕하세요.\n",
      "--------------------\n"
     ]
    }
   ],
   "source": [
    "a()"
   ]
  },
  {
   "cell_type": "markdown",
   "id": "6121017a",
   "metadata": {
    "slideshow": {
     "slide_type": "skip"
    }
   },
   "source": [
    "# TODO\n",
    "함수가 실행된 실행시간(초)을 재는 decorator"
   ]
  },
  {
   "cell_type": "markdown",
   "id": "75b9d60c",
   "metadata": {},
   "source": [
    "- debuging 할 때 시간 재는 활동을 자주 한다. 병목 현상이 일어나는 부분을 알기 위해서!\n",
    "- 프로그램에서 함수를 여러 개 실행할 때 시간이 오래 걸린다면 각 함수마다의 시간을 재곤 한다.\n",
    "- 이때 함수의 main logic에 시간을 재는 알고리즘을 작성한다면 상당히 비효율적이다.\n",
    "- 그래서 decorator를 사용하는 것이다."
   ]
  },
  {
   "cell_type": "code",
   "execution_count": null,
   "id": "a7680e09",
   "metadata": {},
   "outputs": [],
   "source": [
    "# 알아둘 것 time module"
   ]
  },
  {
   "cell_type": "code",
   "execution_count": 5,
   "id": "22f52d36",
   "metadata": {
    "slideshow": {
     "slide_type": "skip"
    }
   },
   "outputs": [
    {
     "data": {
      "text/plain": [
       "1672791224.827406"
      ]
     },
     "execution_count": 5,
     "metadata": {},
     "output_type": "execute_result"
    }
   ],
   "source": [
    "import time\n",
    "\n",
    "time.time()      # 현재 시간을 Timestamp 형식으로 알려준다.\n",
    "# Timestamp는 1970년 1월 1일 0시 0분 0초부터 얼마나 지났는지를 초로 반환해주는 것이다."
   ]
  },
  {
   "cell_type": "code",
   "execution_count": null,
   "id": "5a3d4b34",
   "metadata": {},
   "outputs": [],
   "source": [
    "# time.sleep()     # 입력한 숫자만큼 일시 정지한 후 다음 구문을 실행하라."
   ]
  },
  {
   "cell_type": "code",
   "execution_count": 187,
   "id": "8d1bf1f2",
   "metadata": {},
   "outputs": [
    {
     "name": "stdout",
     "output_type": "stream",
     "text": [
      "1\n",
      "2\n"
     ]
    }
   ],
   "source": [
    "print(1)\n",
    "time.sleep(5)     # 위 구문을 실행한 후 5초 동안 일시 정지한 후 다음 구문을 실행하라.\n",
    "print(2)"
   ]
  },
  {
   "cell_type": "code",
   "execution_count": 2,
   "id": "2d339eda",
   "metadata": {},
   "outputs": [],
   "source": [
    "def test1():\n",
    "    print(1)\n",
    "    time.sleep(3)\n",
    "    print(2)"
   ]
  },
  {
   "cell_type": "code",
   "execution_count": 3,
   "id": "80a79305",
   "metadata": {},
   "outputs": [],
   "source": [
    "# 아래와 같이 시간을 잴 수 있다."
   ]
  },
  {
   "cell_type": "code",
   "execution_count": 6,
   "id": "ea535ad7",
   "metadata": {
    "scrolled": true
   },
   "outputs": [
    {
     "name": "stdout",
     "output_type": "stream",
     "text": [
      "1\n",
      "2\n",
      "3.000917673110962\n"
     ]
    }
   ],
   "source": [
    "start = time.time()\n",
    "test1()\n",
    "stop = time.time()\n",
    "print(stop - start)"
   ]
  },
  {
   "cell_type": "code",
   "execution_count": 17,
   "id": "ef6699d3",
   "metadata": {},
   "outputs": [],
   "source": [
    "def timechecker_decorator(func):\n",
    "    def wrapper():\n",
    "        start = time.time()\n",
    "        func()\n",
    "        stop = time.time()\n",
    "        print(f\"함수가 실행되는 데 걸린 시간은 {round(stop - start, 2)}초입니다.\")\n",
    "    return wrapper"
   ]
  },
  {
   "cell_type": "code",
   "execution_count": 18,
   "id": "a189a8c5",
   "metadata": {},
   "outputs": [],
   "source": [
    "@timechecker_decorator\n",
    "def greeting():\n",
    "    print(\"안녕하세요.\")\n",
    "    time.sleep(3)\n",
    "    print(\"반갑습니다.\")"
   ]
  },
  {
   "cell_type": "code",
   "execution_count": 19,
   "id": "be9117e6",
   "metadata": {},
   "outputs": [
    {
     "name": "stdout",
     "output_type": "stream",
     "text": [
      "안녕하세요.\n",
      "반갑습니다.\n",
      "함수가 실행되는 데 걸린 시간은 3.01초입니다.\n"
     ]
    }
   ],
   "source": [
    "greeting()"
   ]
  }
 ],
 "metadata": {
  "kernelspec": {
   "display_name": "Python 3 (ipykernel)",
   "language": "python",
   "name": "python3"
  },
  "language_info": {
   "codemirror_mode": {
    "name": "ipython",
    "version": 3
   },
   "file_extension": ".py",
   "mimetype": "text/x-python",
   "name": "python",
   "nbconvert_exporter": "python",
   "pygments_lexer": "ipython3",
   "version": "3.9.13"
  },
  "toc": {
   "base_numbering": 1,
   "nav_menu": {},
   "number_sections": true,
   "sideBar": true,
   "skip_h1_title": false,
   "title_cell": "Table of Contents",
   "title_sidebar": "Contents",
   "toc_cell": false,
   "toc_position": {},
   "toc_section_display": true,
   "toc_window_display": false
  },
  "varInspector": {
   "cols": {
    "lenName": 16,
    "lenType": 16,
    "lenVar": 40
   },
   "kernels_config": {
    "python": {
     "delete_cmd_postfix": "",
     "delete_cmd_prefix": "del ",
     "library": "var_list.py",
     "varRefreshCmd": "print(var_dic_list())"
    },
    "r": {
     "delete_cmd_postfix": ") ",
     "delete_cmd_prefix": "rm(",
     "library": "var_list.r",
     "varRefreshCmd": "cat(var_dic_list()) "
    }
   },
   "types_to_exclude": [
    "module",
    "function",
    "builtin_function_or_method",
    "instance",
    "_Feature"
   ],
   "window_display": false
  }
 },
 "nbformat": 4,
 "nbformat_minor": 5
}
