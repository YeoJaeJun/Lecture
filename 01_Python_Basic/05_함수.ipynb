{
 "cells": [
  {
   "cell_type": "markdown",
   "metadata": {
    "slideshow": {
     "slide_type": "slide"
    }
   },
   "source": [
    "# 1. 함수란\n",
    "- 함수란 입력변수와 출력변수간의 대응 관계를 정의한 것을 말한다.\n",
    "- 프로그램에서 함수란 하나의 작업, 기능, 동작을 처리하기 위한 사용자 정의 연산자라고 할 수 있다.\n",
    "    - 함수는 값을 입력(Input)을 받아서 처리후 처리결과를 출력(Output)하는 일련의 과정을 정의한 것을 말한다.\n",
    "    - 만들어진 함수는 동일한 작업이 필요할 때 마다 재사용될 수 있다.\n",
    "    - 함수를 구현해 파이썬 실행환경에 등록하는 것을 **함수를 정의(define)한다** 라고 한다.\n",
    "    - 정의된 함수를 사용하는 것을 **함수를 호출(call)한다** 라고 한다.\n",
    "    - 파이썬에서 함수는 일급 시민 객체(First Class Citizen Object)이다.\n",
    "    \n",
    "> - **일급 시민 객체란**   \n",
    ">    – 변수에 할당할 수 있고, 함수의 입력값으로 전달할 수 있고, 함수의 반환 값으로 반환할 수 있는 객체를 말한다."
   ]
  },
  {
   "cell_type": "markdown",
   "metadata": {
    "slideshow": {
     "slide_type": "slide"
    }
   },
   "source": [
    "## 1.1. 함수 만들기\n",
    "- 함수의 정의\n",
    "    - 새로운 함수를 만드는 것을 함수의 정의라고 한다.\n",
    "    - 함수를 구현하고 그것을 파이썬 실행환경에 새로운 기능으로 등록하는 과정을 말한다."
   ]
  },
  {
   "cell_type": "markdown",
   "metadata": {
    "slideshow": {
     "slide_type": "fragment"
    }
   },
   "source": [
    "- 함수 구현\n",
    "    - 함수의 선언부와 구현부로 나누어진다\n",
    "        - 함수의 선언부(Header) : 함수의 이름과 입력값을 받을 변수(Parameter, 매개변수)를 지정한다.\n",
    "        - 함수의 구현부(Body) : 함수가 호출 되었을 때 실행할 실행문들을 순서대로 작성한다."
   ]
  },
  {
   "cell_type": "markdown",
   "metadata": {
    "slideshow": {
     "slide_type": "fragment"
    }
   },
   "source": [
    "   \n",
    "``` python\n",
    "def 함수이름( [변수, 변수, ..]):  # 선언 부(Header)\n",
    "    # 구현 부(body)\n",
    "    실행구문1\n",
    "    실행구문2\n",
    "    실행구문3\n",
    "    …\n",
    "    [return [결과값]]\n",
    "```\n",
    "- 함수 선언 마지막에는 `:` 을 넣어 구현부와 구분한다.\n",
    "- Parameter(매개변수)는 argument(호출하는 곳에서 전달하는 함수의 입력값)를 받기 위한 변수로 0개 이상 선언할 수 있다.\n",
    "- 함수의 실행구문은 코드블록으로 들여쓰기로 블록을 묶어준다. \n",
    "    - 들여쓰기는 보통 공백 4칸을 사용한다.\n",
    "- 함수의 처리 결과값이 있을 경우 **return 구문**을 넣고 없을 경우 return은 생략할 수 있다.\n",
    "- **함수이름 관례**\n",
    "    - 함수이름은 보통 동사형으로 만든다.\n",
    "    - 모두 소문자로 하고 여러단어로 구성할 경우 각 단어들을 `_`로 연결한다. (변수와 동일)"
   ]
  },
  {
   "cell_type": "code",
   "execution_count": 15,
   "metadata": {
    "slideshow": {
     "slide_type": "fragment"
    }
   },
   "outputs": [],
   "source": [
    "# 함수 정의\n",
    "\n",
    "def greeting():     # header(선언부) - parameter가 없는 함수\n",
    "    # body(구현부)\n",
    "    print(\"안녕하세요.\")\n",
    "    print(\"반갑습니다.\")\n",
    "    # 반환 값(return value)이 없는 함수"
   ]
  },
  {
   "cell_type": "code",
   "execution_count": 17,
   "metadata": {},
   "outputs": [
    {
     "name": "stdout",
     "output_type": "stream",
     "text": [
      "안녕하세요.\n",
      "반갑습니다.\n"
     ]
    }
   ],
   "source": [
    "# 함수 호출\n",
    "# [반환 값을 저장할 변수 = ] 함수 이름( [argument] )\n",
    "\n",
    "greeting()\n",
    "\n",
    "# 함수는 python에 등록한 후 사용할 수 있다. 함수 선언 필수."
   ]
  },
  {
   "cell_type": "code",
   "execution_count": 3,
   "metadata": {},
   "outputs": [],
   "source": [
    "# parameter가 있는 함수 -> parameter : 호출하는 쪽(caller)에 전달받을 값(argument)을 저장할 변수(개수 제한 X)\n",
    "\n",
    "def greeting(name):\n",
    "    print(f\"{name} 님, 안녕하세요.\")\n",
    "    print(\"반갑습니다.\")"
   ]
  },
  {
   "cell_type": "code",
   "execution_count": 4,
   "metadata": {},
   "outputs": [
    {
     "name": "stdout",
     "output_type": "stream",
     "text": [
      "홍길동 님, 안녕하세요.\n",
      "반갑습니다.\n"
     ]
    }
   ],
   "source": [
    "greeting(\"홍길동\")"
   ]
  },
  {
   "cell_type": "code",
   "execution_count": 27,
   "metadata": {},
   "outputs": [],
   "source": [
    "def greeting3(name, age):\n",
    "    print(f\"{age} 세의 {name} 님, 안녕하세요.\")\n",
    "    print(\"반갑습니다.\")"
   ]
  },
  {
   "cell_type": "code",
   "execution_count": 28,
   "metadata": {},
   "outputs": [
    {
     "name": "stdout",
     "output_type": "stream",
     "text": [
      "30 세의 홍길동 님, 안녕하세요.\n",
      "반갑습니다.\n"
     ]
    }
   ],
   "source": [
    "greeting3(\"홍길동\", 30)"
   ]
  },
  {
   "cell_type": "markdown",
   "metadata": {
    "slideshow": {
     "slide_type": "subslide"
    }
   },
   "source": [
    "### 1.1.1. return value(반환값)\n",
    "- 함수가 호출받아 처리한 결과값으로 호출한 곳으로 반환하는 값이다.\n",
    "- 함수 구현부에 return \\[값\\] 구문을 사용해 반환한다.\n",
    "    - **return**\n",
    "        - 함수가 정상적으로 끝났고 호출한곳으로 돌아간다.\n",
    "        - 보통은 함수 구현의 마지막에 넣지만 경우에 따라 중간에 올 수 있다.\n",
    "    - return 반환값\n",
    "        - 호출한 곳으로 값을 가지고 돌아간다. (반환한다)\n",
    "        - 반환값이 없을 경우 None을 반환한다.\n",
    "        - 함수에 return 구문이 없을 경우 마지막에 return None이 실행된다.\n",
    "- 여러개의 값을 return 하는 경우 자료구조로 묶어서 전달해야한다.\n",
    "    - 함수는 한개의 값만 반환할 수 있다. "
   ]
  },
  {
   "cell_type": "code",
   "execution_count": 5,
   "metadata": {
    "slideshow": {
     "slide_type": "fragment"
    }
   },
   "outputs": [],
   "source": [
    "# return 값이 있는 함수\n",
    "\n",
    "def greeting(name):\n",
    "    txt = f\"{name} 님, 안녕하세요. 반갑습니다.\"\n",
    "    return txt     # 호출한 곳(caller)으로 txt 변수 값을 가지고 돌아가라."
   ]
  },
  {
   "cell_type": "code",
   "execution_count": 6,
   "metadata": {},
   "outputs": [
    {
     "name": "stdout",
     "output_type": "stream",
     "text": [
      "홍길동 님, 안녕하세요. 반갑습니다.\n"
     ]
    }
   ],
   "source": [
    "txt = greeting(\"홍길동\")\n",
    "print(txt)"
   ]
  },
  {
   "cell_type": "code",
   "execution_count": 47,
   "metadata": {},
   "outputs": [
    {
     "name": "stdout",
     "output_type": "stream",
     "text": [
      "안녕하세요.\n",
      "반갑습니다.\n",
      "None\n"
     ]
    }
   ],
   "source": [
    "return_value = greeting()\n",
    "print(return_value)     # return 값이 설정되지 않은 함수는 None 값을 return 한다."
   ]
  },
  {
   "cell_type": "code",
   "execution_count": 62,
   "metadata": {},
   "outputs": [],
   "source": [
    "# return 값이 여러 개인 함수\n",
    "\n",
    "def calculate(num1, num2):\n",
    "    r1 = num1 + num2\n",
    "    r2 = num1 - num2\n",
    "    r3 = num1 * num2\n",
    "    r4 = num1 / num2\n",
    "    \n",
    "    return r1, r2, r3, r4     # 값을 여러 개 return. tuple로 묶어서 봔환. 다른 자료 구조로 return하는 것도 가능.\n",
    "#    return [r1, r2, r3, r4]     # 리스트로 묶어서 반환.\n",
    "#    return {\"plus\" : r1, \"minus\" : r2, \"multiply\" : r3, \"divide\" : r4}     # 딕셔너리로 묶어서 봔환."
   ]
  },
  {
   "cell_type": "code",
   "execution_count": 59,
   "metadata": {},
   "outputs": [
    {
     "name": "stdout",
     "output_type": "stream",
     "text": [
      "(30, -10, 200, 0.5)\n",
      "값이 여러 개인 경우 return되는 값의 default type은 <class 'tuple'> 이다.\n"
     ]
    }
   ],
   "source": [
    "result = calculate(10, 20)\n",
    "print(result)\n",
    "print(f\"값이 여러 개인 경우 return되는 값의 default type은 {type(result)} 이다.\")"
   ]
  },
  {
   "cell_type": "code",
   "execution_count": 60,
   "metadata": {},
   "outputs": [
    {
     "name": "stdout",
     "output_type": "stream",
     "text": [
      "70 -10 1200 0.75\n"
     ]
    }
   ],
   "source": [
    "# 여러 개의 값을 호출할 때 tuple 대입을 통해서 호출하는 것도 가능하다.\n",
    "\n",
    "r1, r2, r3, r4 = calculate(30, 40)\n",
    "print(r1, r2, r3, r4)"
   ]
  },
  {
   "cell_type": "code",
   "execution_count": 74,
   "metadata": {},
   "outputs": [],
   "source": [
    "def divide(num1, num2):\n",
    "    if num2 == 0:\n",
    "        print(\"오류. 0으로 나누기는 불가능 합니다.\")     # 에러 로그\n",
    "        return None     # None은 생략 가능. return 다음에 구문이 있어도 실행되지 않는다.\n",
    "    \n",
    "    return num1 / num2"
   ]
  },
  {
   "cell_type": "code",
   "execution_count": 68,
   "metadata": {},
   "outputs": [
    {
     "name": "stdout",
     "output_type": "stream",
     "text": [
      "오류. 0으로 나누기는 불가능 합니다.\n",
      "None\n"
     ]
    }
   ],
   "source": [
    "result = divide(10, 0)\n",
    "print(result)"
   ]
  },
  {
   "cell_type": "code",
   "execution_count": 71,
   "metadata": {},
   "outputs": [
    {
     "name": "stdout",
     "output_type": "stream",
     "text": [
      "0.5\n"
     ]
    }
   ],
   "source": [
    "result = divide(10, 20)\n",
    "print(result)"
   ]
  },
  {
   "cell_type": "markdown",
   "metadata": {
    "slideshow": {
     "slide_type": "slide"
    }
   },
   "source": [
    "## 1.2. Parameter (매개변수)\n",
    " \n",
    "### 1.2.1. 기본값이 있는 Parameter\n",
    "- 매개변수에 값을 대입하는 구문을 작성하면 호출할 때 argument 가 넘어오지 않으면 대입해놓은 기본값을 사용한다.\n",
    "- 함수 정의시 기본값 없는 매개변수, 있는 매개변수를 같이 선언할 수 있다.\n",
    "    - **이때 기본값 없는 매개변수들을 선언하고 그 다음에 기본값 있는 매개변수들을 선언한다.** "
   ]
  },
  {
   "cell_type": "code",
   "execution_count": 82,
   "metadata": {
    "slideshow": {
     "slide_type": "fragment"
    }
   },
   "outputs": [],
   "source": [
    "# 함수 parameter에 기본 값이 없는 경우\n",
    "\n",
    "def print_info(name):     # 기본 값이 없으므로 parameter에는 반드시 값이 대입되어야 한다.\n",
    "    print(f\"이름 : {name}\")"
   ]
  },
  {
   "cell_type": "code",
   "execution_count": null,
   "metadata": {},
   "outputs": [],
   "source": [
    "print_info(\"홍길동\")     # argument가 입력되지 않으면 오류가 발생한다."
   ]
  },
  {
   "cell_type": "code",
   "execution_count": 7,
   "metadata": {},
   "outputs": [
    {
     "ename": "NameError",
     "evalue": "name 'print_info' is not defined",
     "output_type": "error",
     "traceback": [
      "\u001b[1;31m---------------------------------------------------------------------------\u001b[0m",
      "\u001b[1;31mNameError\u001b[0m                                 Traceback (most recent call last)",
      "\u001b[1;32m~\\AppData\\Local\\Temp\\ipykernel_45696\\2713983242.py\u001b[0m in \u001b[0;36m<module>\u001b[1;34m\u001b[0m\n\u001b[1;32m----> 1\u001b[1;33m \u001b[0mprint_info\u001b[0m\u001b[1;33m(\u001b[0m\u001b[1;33m)\u001b[0m\u001b[1;33m\u001b[0m\u001b[1;33m\u001b[0m\u001b[0m\n\u001b[0m",
      "\u001b[1;31mNameError\u001b[0m: name 'print_info' is not defined"
     ]
    }
   ],
   "source": [
    "print_info()"
   ]
  },
  {
   "cell_type": "code",
   "execution_count": 85,
   "metadata": {},
   "outputs": [],
   "source": [
    "# 함수 parameter에 기본 값이 있는 경우\n",
    "\n",
    "def print_info2(name = None):\n",
    "    if name == None:\n",
    "        print(\"이름이 없습니다.\")\n",
    "        return\n",
    "    print(f\"이름 : {name}\")"
   ]
  },
  {
   "cell_type": "code",
   "execution_count": 86,
   "metadata": {},
   "outputs": [
    {
     "name": "stdout",
     "output_type": "stream",
     "text": [
      "이름 : 홍길동\n",
      "이름이 없습니다.\n"
     ]
    }
   ],
   "source": [
    "print_info2(\"홍길동\")\n",
    "print_info2()"
   ]
  },
  {
   "cell_type": "code",
   "execution_count": 87,
   "metadata": {},
   "outputs": [
    {
     "ename": "SyntaxError",
     "evalue": "non-default argument follows default argument (2120335191.py, line 1)",
     "output_type": "error",
     "traceback": [
      "\u001b[1;36m  File \u001b[1;32m\"C:\\Users\\8roke\\AppData\\Local\\Temp\\ipykernel_41812\\2120335191.py\"\u001b[1;36m, line \u001b[1;32m1\u001b[0m\n\u001b[1;33m    def print_info3(ID, name, address = None, age, email = None):\u001b[0m\n\u001b[1;37m                                                   ^\u001b[0m\n\u001b[1;31mSyntaxError\u001b[0m\u001b[1;31m:\u001b[0m non-default argument follows default argument\n"
     ]
    }
   ],
   "source": [
    "def print_info3(ID, name, address = None, age, email = None):\n",
    "    print(ID, name, address, age, email)"
   ]
  },
  {
   "cell_type": "code",
   "execution_count": 89,
   "metadata": {},
   "outputs": [],
   "source": [
    "def print_info3(ID, name, age, address = None, email = None):\n",
    "    print(ID, name, address, age, email)"
   ]
  },
  {
   "cell_type": "code",
   "execution_count": 91,
   "metadata": {},
   "outputs": [
    {
     "name": "stdout",
     "output_type": "stream",
     "text": [
      "HGD 홍길동 None 30 None\n",
      "HGD 홍길동 서울 30 None\n",
      "HGD 홍길동 서울 30 hgd@gmail.com\n"
     ]
    }
   ],
   "source": [
    "print_info3(\"HGD\", \"홍길동\", 30)\n",
    "print_info3(\"HGD\", \"홍길동\", 30, \"서울\")\n",
    "print_info3(\"HGD\", \"홍길동\", 30, \"서울\", \"hgd@gmail.com\")"
   ]
  },
  {
   "cell_type": "markdown",
   "metadata": {
    "slideshow": {
     "slide_type": "subslide"
    }
   },
   "source": [
    "### 1.2.2. Positional argument와 Keyword argument \n",
    "- Argument는 함수/메소드를 호출할 때 전달하는 입력값을 말한다.\n",
    "    - Argument는 전달하는 값이고 Parameter는 그 값을 저장하는 변수\n",
    "- Positional argument\n",
    "    -  함수 호출 할때 argument(전달인자)를 Parameter  순서에 맞춰 값을 넣어서 호출.\n",
    "- keyword  argument \n",
    "    - 함수 호출할 때 argument를 `Parameter변수명 = 전달할값` 형식으로 선언해서 어떤 parameter에 어떤 값을 전달할 것인지 지정해서 호출.\n",
    "    - 순서와 상관없이 호출하는 것이 가능.\n",
    "    - parameter가 많고 대부분 기본값이 있는 함수 호출 할 때 뒤 쪽에 선언된 parameter에만 값을 전달하고 싶을 경우 유용하다."
   ]
  },
  {
   "cell_type": "code",
   "execution_count": 92,
   "metadata": {
    "slideshow": {
     "slide_type": "fragment"
    }
   },
   "outputs": [],
   "source": [
    "def test_func(a, b, c, d, e, f, g):\n",
    "    print(a, b, c, d, e, f, g, sep = \", \")"
   ]
  },
  {
   "cell_type": "code",
   "execution_count": 93,
   "metadata": {},
   "outputs": [
    {
     "name": "stdout",
     "output_type": "stream",
     "text": [
      "10, 20, 30, 40, 50, 60, 70\n"
     ]
    }
   ],
   "source": [
    "test_func(10, 20, 30, 40, 50, 60, 70)     # postional argument 방식 호출"
   ]
  },
  {
   "cell_type": "code",
   "execution_count": 94,
   "metadata": {},
   "outputs": [
    {
     "name": "stdout",
     "output_type": "stream",
     "text": [
      "100, 500, 700, 200, 400, 100, 900\n"
     ]
    }
   ],
   "source": [
    "test_func(a = 100, b = 500, c = 700, d = 200, e = 400, f = 100, g = 900)     # keyword argument 방식 호출. 순서 무관."
   ]
  },
  {
   "cell_type": "code",
   "execution_count": 95,
   "metadata": {},
   "outputs": [],
   "source": [
    "def test_func2(a = 0, b = 0, c = 0, d = 0, e = 0, f = 0, g = 0):\n",
    "    print(a, b, c, d, e, f, g, sep = \", \")"
   ]
  },
  {
   "cell_type": "code",
   "execution_count": 96,
   "metadata": {},
   "outputs": [
    {
     "name": "stdout",
     "output_type": "stream",
     "text": [
      "0, 0, 0, 0, 0, 0, 0\n"
     ]
    }
   ],
   "source": [
    "test_func2()"
   ]
  },
  {
   "cell_type": "code",
   "execution_count": 98,
   "metadata": {},
   "outputs": [
    {
     "name": "stdout",
     "output_type": "stream",
     "text": [
      "0, 0, 0, 0, 0, 0, 10\n"
     ]
    }
   ],
   "source": [
    "# parameter g의 값만 대입하고, 나머지는 default로 호출\n",
    "\n",
    "test_func2(g = 10)     # keyword argument 방식으로 g 값 설정."
   ]
  },
  {
   "cell_type": "markdown",
   "metadata": {
    "slideshow": {
     "slide_type": "subslide"
    }
   },
   "source": [
    "### 1.2.3. 가변인자 (Var args) 파라미터\n",
    "- 호출하는 쪽에서 argument로 0 ~ n개의 값을 나열해서 여러개의 값들을 전달하면 **tuple이나 dictionary로 묶어서** 받을 수있도록 선언하는 parameter\n",
    "    - positial argument로 전달하는 것과 keyword argument로 전달되는 값을 받는 두가지 방식이 있다.\n",
    "- \\*변수명: **positional argument**를 개수와 상관없이 하나의 변수로 받을 수 있도록 선언하는 가변인자.\n",
    "    - 전달된 값들은 tuple로 받아서 처리한다.\n",
    "    - 관례적으로 변수명은 \\*args 를 사용한다.\n",
    "- \\*\\*변수명: **keyword argument**를 개수와 상관없이 하나의 변수로 받을 수 있도록 선언하는 가변인자.\n",
    "    - 전달된 값들은 dictionary로 받아서 처리한다.\n",
    "    - 관례적으로 변수명은 \\*\\*kwargs 를 사용한다.\n",
    "- 하나의 함수에 가변인자는 \\* 하나, \\*\\* 두개짜리 각각 한개씩만 선언할 수 있다.\n",
    "- 일반 parmeter들과 같이 사용할 경우 일반 parameter를 먼저 선언하고 가변인자를 나중에 선언한다.\n",
    "    - 두 종류의 가변인자를 같이 선언할 때는 \\*변수명 가변인자를 먼저 선언한다."
   ]
  },
  {
   "cell_type": "code",
   "execution_count": 106,
   "metadata": {},
   "outputs": [],
   "source": [
    "# 전달해 줘야 하는 값의 개수가 가변인 경우 자료 구조 argument로 값을 받아야 한다.\n",
    "\n",
    "# 누적 합계를 구하는 함수\n",
    "# argument의 개수에 제한을 두지 않고 함수 설정을 하기를 원함.\n",
    "\n",
    "def summation(nums):     # 자료 구조(list, tuple)를 parameter로 받아서 누적 합계 계산\n",
    "    result = 0\n",
    "    for i in nums:\n",
    "        result += i\n",
    "    return result"
   ]
  },
  {
   "cell_type": "code",
   "execution_count": 109,
   "metadata": {},
   "outputs": [
    {
     "name": "stdout",
     "output_type": "stream",
     "text": [
      "3\n",
      "15\n"
     ]
    }
   ],
   "source": [
    "r = summation([1, 2])\n",
    "print(r)\n",
    "\n",
    "r = summation([1, 2, 3, 4, 5])\n",
    "print(r)"
   ]
  },
  {
   "cell_type": "code",
   "execution_count": 8,
   "metadata": {},
   "outputs": [],
   "source": [
    "# 가변인자 * 사용 예시\n",
    "# 이때는 positional argument로 argument를 입력한다.\n",
    "\n",
    "# parameter 앞에 *을 붙여 가변 인자로 설정\n",
    "# argument에 여러 개의 값을 전달하더라도 *을 통해 tuple로 묶어서 받는다.\n",
    "# 위의 경우와 달리 함수를 호출할 때 값을 자료 구조로 묶어서 전달하지 않아도 된다.\n",
    "\n",
    "def summation(*nums):     # 가변인자 : *nums\n",
    "    print(type(nums))\n",
    "    result = 0\n",
    "    for i in nums:\n",
    "        result += i\n",
    "    return result"
   ]
  },
  {
   "cell_type": "code",
   "execution_count": 9,
   "metadata": {},
   "outputs": [
    {
     "name": "stdout",
     "output_type": "stream",
     "text": [
      "<class 'tuple'>\n"
     ]
    },
    {
     "data": {
      "text/plain": [
       "15"
      ]
     },
     "execution_count": 9,
     "metadata": {},
     "output_type": "execute_result"
    }
   ],
   "source": [
    "summation(1, 2, 3, 4, 5)"
   ]
  },
  {
   "cell_type": "code",
   "execution_count": 10,
   "metadata": {},
   "outputs": [],
   "source": [
    "# 가변인자 ** 사용 예시\n",
    "# 이때는 keyowrd argument로 argument를 입력한다.\n",
    "\n",
    "# parameter 앞에 **을 붙여 가변 인자로 설정\n",
    "# argument에 여러 개의 값을 전달하더라도 *을 통해 dictonary로 묶어서 받을 수 있다.\n",
    "\n",
    "def print_info(**info):\n",
    "    print(type(info), info)"
   ]
  },
  {
   "cell_type": "code",
   "execution_count": 11,
   "metadata": {},
   "outputs": [
    {
     "name": "stdout",
     "output_type": "stream",
     "text": [
      "<class 'dict'> {}\n",
      "<class 'dict'> {'name': '홍길동', 'age': 20}\n"
     ]
    }
   ],
   "source": [
    "print_info()\n",
    "print_info(name = \"홍길동\", age = 20)"
   ]
  },
  {
   "cell_type": "code",
   "execution_count": 3,
   "metadata": {},
   "outputs": [],
   "source": [
    "def test_func(a, b, c, *args):\n",
    "    print(a, b, c, args)"
   ]
  },
  {
   "cell_type": "code",
   "execution_count": 4,
   "metadata": {},
   "outputs": [
    {
     "name": "stdout",
     "output_type": "stream",
     "text": [
      "10 20 30 (40, 50, 60, 70)\n"
     ]
    }
   ],
   "source": [
    "test_func(10, 20, 30, 40, 50, 60, 70)     # 40부터는 자동으로 tuple로 묶인다."
   ]
  },
  {
   "cell_type": "code",
   "execution_count": 12,
   "metadata": {},
   "outputs": [],
   "source": [
    "def test_func(a, b, c, *args, **kwargs):\n",
    "    print(a, b, c, args, kwargs)"
   ]
  },
  {
   "cell_type": "code",
   "execution_count": 13,
   "metadata": {},
   "outputs": [
    {
     "name": "stdout",
     "output_type": "stream",
     "text": [
      "10 20 30 (40, 50, 60, 70) {'A': 10, 'B': 20, 'C': 30}\n"
     ]
    }
   ],
   "source": [
    "test_func(10, 20, 30, 40, 50, 60, 70, A = 10, B = 20, C = 30)     # 자동으로 tuple과 dictonary로 묶인다."
   ]
  },
  {
   "cell_type": "code",
   "execution_count": 15,
   "metadata": {},
   "outputs": [],
   "source": [
    "tup = (100, 200, 300, 400, 500)\n",
    "dic = {\"A\" : 10, \"B\" : 20, \"C\" : 30}"
   ]
  },
  {
   "cell_type": "code",
   "execution_count": 16,
   "metadata": {},
   "outputs": [
    {
     "name": "stdout",
     "output_type": "stream",
     "text": [
      "1 2 3 ((100, 200, 300, 400, 500), {'A': 10, 'B': 20, 'C': 30}) {}\n"
     ]
    }
   ],
   "source": [
    "# test_func2()를 호출하면서 *args에 tup를 **kwargs에는 dic 값을 전달.\n",
    "\n",
    "test_func(1, 2, 3, tup, dic)\n",
    "# *args에 tup와 dic가 각각 하나의 원소로 들어가 새로운 하나의 tuple을 만든다. 내가 원하는 형태가 아니다."
   ]
  },
  {
   "cell_type": "code",
   "execution_count": 17,
   "metadata": {},
   "outputs": [
    {
     "name": "stdout",
     "output_type": "stream",
     "text": [
      "1 2 3 (100, 200, 300, 400, 500) {'A': 10, 'B': 20, 'C': 30}\n"
     ]
    }
   ],
   "source": [
    "# test_func2()를 호출하면서 *args에 tup를 **kwargs에는 dic 값을 전달.\n",
    "\n",
    "test_func(1, 2, 3, *tup, **dic)\n",
    "# 내가 원하는 형태로 만들기 위해 parameter에 전달할 argument의 list/tuple 앞에는 *을 붙이고, dictonary 앞에는 **를 붙인다.\n",
    "# 이는 list/tuple과 dictonary를 풀어서 parameter에 넣는 것이다."
   ]
  },
  {
   "cell_type": "markdown",
   "metadata": {},
   "source": [
    "- 즉 가변인자는 tuple로 받는 가변인자와 dictonary로 받는 가변인자가 있다.\n",
    "- 관례적으로 함수 선언할 때 \\*args와 \\*\\*kwargs로 쓴다.\n",
    "- 이 두 가변인자는 같이 쓰일 수 있으나, 같은 가변인자를 여러 개 쓸 수 없다.\n",
    "- 일반 parmeter들과 같이 사용할 경우 일반 parameter를 먼저 선언하고 가변인자를 나중에 선언한다."
   ]
  },
  {
   "cell_type": "markdown",
   "metadata": {
    "slideshow": {
     "slide_type": "slide"
    }
   },
   "source": [
    "# 2. 변수의 유효범위\n",
    "\n",
    "- 전역변수 (global variable)\n",
    "    - 함수 밖에 선언 된 변수\n",
    "    - 모든 함수들이 공통적으로 사용할 수 있다.\n",
    "    - 하나의 함수에서 값을 변경하면 그 변한 값이 모든 함수에 영향을 주기 때문에 함부로 변경하지 않는다.\n",
    "    - 함수내에서 전역변수에 값을 대입하기 위해서는 global 키워드를 이용해 사용할 것을 미리 선언해야 한다.\n",
    "        - global로 선언하지 않으면 이름이 동일한 지역변수가 된다. \n",
    "        - 조회할 경우에는 상관없다.\n",
    "- 지역변수 (local variable)\n",
    "    - 함수안에 선언된 변수\n",
    "    - 선언된 그 함수 안에서만 사용할 수 있다."
   ]
  },
  {
   "cell_type": "code",
   "execution_count": 54,
   "metadata": {
    "slideshow": {
     "slide_type": "fragment"
    }
   },
   "outputs": [],
   "source": [
    "name = \"홍길동\"     # global 변수 선언. 이 global 변수는 아래의 모든 함수들이 조회해서 사용할 수 있다.\n",
    "\n",
    "def func1():\n",
    "    age = 10     # local 변수 선언. 이 local 변수는 func1에서만 조회해서 사용할 수 있다.\n",
    "    print(name, age)\n",
    "    \n",
    "def func2():\n",
    "    age = 20     # local 변수 선언. 이 지local 수는 func2에서만 조회해서 사용할 수 있다.\n",
    "    print(name, age)\n",
    "    \n",
    "def func3():\n",
    "    print(age)     # global 변수 age는 없다. func3 안의 local 변수 age 역시 없다. 따라서 아래 실행에서 오류가 발생한다.\n",
    "    \n",
    "# local 변수끼리는 같은 이름을 사용해도 무관하다. 서로 다른 지역(함수)에서만 사용하기 때문이다.\n",
    "\n",
    "def func4():\n",
    "    name = \"이순신\"     # func4의 local 변수는 global 변수를 바꾸지 못한다. global 변수 name에 새로운 값을 할당한 local 변수.\n",
    "    print(\"func4\", name)\n",
    "    \n",
    "# 함수 안에서 정의된 변수는 어떤 경우에서든 local 변수이다.\n",
    "\n",
    "address = \"서울\"\n",
    "\n",
    "def func5():\n",
    "    # global 변수 name의 값을 변경\n",
    "    global name, address     # global : 이 함수에서 변수를 사용하면 global 변수를 가리키는 것이라고 선언.\n",
    "    name = \"유관순\"     # global 변수의 값 변경.\n",
    "    address = \"인천\"\n",
    "    print(name, address)\n",
    "    \n",
    "# 아래 실행에서 첫번째 func1()에서는 변화가 없지만 두번째 func1()에서 결과가 바뀐다는 것을 확인할 수 있다.\n",
    "\n",
    "# 하지만 웬만한 경우에서는 global 변수를 함수 내에서 global을 통해 바꾸는 것은 추천하지 않는다.\n",
    "# 코드의 불안정 떄문."
   ]
  },
  {
   "cell_type": "code",
   "execution_count": 52,
   "metadata": {},
   "outputs": [
    {
     "name": "stdout",
     "output_type": "stream",
     "text": [
      "홍길동 10\n",
      "홍길동 20\n",
      "func4 이순신\n",
      "유관순 인천\n",
      "유관순 10\n"
     ]
    }
   ],
   "source": [
    "func1()\n",
    "func2()\n",
    "# func3()\n",
    "func4()\n",
    "func5()\n",
    "func1()"
   ]
  },
  {
   "cell_type": "markdown",
   "metadata": {
    "slideshow": {
     "slide_type": "slide"
    }
   },
   "source": [
    "# 3. 함수는 일급시민객체 => 함수는 값이다!\n",
    "- 일급시민객체\n",
    "    1. 변수에 대입 할 수 있다.\n",
    "    1. 함수 호출할때 argument로 사용할 수 있다.\n",
    "    1. 함수의 return 값으로 사용할 수 있다.\n"
   ]
  },
  {
   "cell_type": "code",
   "execution_count": 20,
   "metadata": {
    "slideshow": {
     "slide_type": "fragment"
    }
   },
   "outputs": [
    {
     "name": "stdout",
     "output_type": "stream",
     "text": [
      "Hello World\n",
      "None\n",
      "Hello World\n"
     ]
    }
   ],
   "source": [
    "def hello():\n",
    "    print(\"Hello World\")\n",
    "\n",
    "v = hello()     # 함수 호출. 반환 값을 변수 v에 대입. 이때 함수에 return 값이 없으므로 v에는 None이 대입된다.\n",
    "print(v)\n",
    "\n",
    "# 아래 실행의 Hello World는 위 v = hello()에서 hello()에 의한 실행 결과이고\n",
    "# None은 v이다.\n",
    "# 함수에서 return 값을 정하지 않았으므로 결과에서 None 값이 출력된다.\n",
    "\n",
    "my_hello = hello     # 함수 hello를 my_hello에 대입. 이는 함수 hello()가 새로운 이름 my_hello를 가지는 것.\n",
    "my_hello()     # 이와 같이 실행하면 함수 hello()의 실행 결과와 같은 결과를 보여준다."
   ]
  },
  {
   "cell_type": "markdown",
   "metadata": {},
   "source": [
    "- 함수를 호출할 때 argument로 사용하는 예시"
   ]
  },
  {
   "cell_type": "code",
   "execution_count": 100,
   "metadata": {},
   "outputs": [],
   "source": [
    "def plus(num1, num2):\n",
    "    # 함수에 값을 어떻게 처리할 지 방법에 대한 로직이 있다.\n",
    "    return num1 + num2"
   ]
  },
  {
   "cell_type": "code",
   "execution_count": 99,
   "metadata": {},
   "outputs": [
    {
     "data": {
      "text/plain": [
       "3"
      ]
     },
     "execution_count": 99,
     "metadata": {},
     "output_type": "execute_result"
    }
   ],
   "source": [
    "plus(1, 2)"
   ]
  },
  {
   "cell_type": "code",
   "execution_count": 111,
   "metadata": {},
   "outputs": [],
   "source": [
    "def nums(func):     # 함수의 parameter로 다른 함수를 불러온다.\n",
    "    # 처리할 값은 함수가 가지고 있다. 하지만 어떻게 처리할 지 방법에 대한 로직이 없다.\n",
    "    num1, num2 = 10, 20\n",
    "    result = func(num1, num2)     # 불러온 함수로 값을 처리한다.\n",
    "    print(\"계산 결과 : \", result)"
   ]
  },
  {
   "cell_type": "code",
   "execution_count": 112,
   "metadata": {},
   "outputs": [],
   "source": [
    "def plus(n1, n2):\n",
    "    return n1 + n2\n",
    "\n",
    "def minus(n1, n2):\n",
    "    return n1 - n2\n",
    "\n",
    "def greater_than(n1, n2):\n",
    "    return n1 > n2"
   ]
  },
  {
   "cell_type": "code",
   "execution_count": 113,
   "metadata": {},
   "outputs": [
    {
     "name": "stdout",
     "output_type": "stream",
     "text": [
      "계산 결과 :  30\n",
      "계산 결과 :  -10\n",
      "계산 결과 :  False\n"
     ]
    }
   ],
   "source": [
    "nums(plus)\n",
    "nums(minus)\n",
    "nums(greater_than)"
   ]
  },
  {
   "cell_type": "markdown",
   "metadata": {
    "slideshow": {
     "slide_type": "slide"
    }
   },
   "source": [
    "## 3.1. 람다식/람다표현식 (Lambda Expression)\n",
    "- 함수를 하나의 식을 이용해서 정의할때 사용하는 표현식(구문).\n",
    "- 값을 입력받아서 **간단한 처리 결과**를 반환하는 간단한 함수를 표현식으로 정의할 수 있다.\n",
    "    - 처리결과를 return 하는 구문을 하나의 명령문으로 처리할 수 있을때 람다식을 사용할 수 있다. => return x + y\n",
    "- 구문\n",
    "```python\n",
    "lambda 매개변수[, 매개변수, ...] : 명령문(구문)\n",
    "```\n",
    "- 명령문(구문)은 하나의 실행문만 가능하다.\n",
    "- 명령문(구문)이 처리한 결과를 리턴해준다.\n",
    "- **람다식은 함수의 매개변수로 함수를 전달하는 일회성 함수를 만들때 주로 사용한다.**"
   ]
  },
  {
   "cell_type": "code",
   "execution_count": 128,
   "metadata": {},
   "outputs": [
    {
     "data": {
      "text/plain": [
       "30"
      ]
     },
     "execution_count": 128,
     "metadata": {},
     "output_type": "execute_result"
    }
   ],
   "source": [
    "def plus(n1, n2):\n",
    "    return n1 + n2\n",
    "\n",
    "# 위 plus 함수를 lambda로 표현하는 방법은 아래와 같다.\n",
    "r_plus = lambda n1, n2 : n1 + n2\n",
    "r_plus(10, 20)"
   ]
  },
  {
   "cell_type": "code",
   "execution_count": 129,
   "metadata": {},
   "outputs": [
    {
     "data": {
      "text/plain": [
       "False"
      ]
     },
     "execution_count": 129,
     "metadata": {},
     "output_type": "execute_result"
    }
   ],
   "source": [
    "r_greater_than = lambda n1, n2 : n1 > n2\n",
    "r_greater_than(10, 20)"
   ]
  },
  {
   "cell_type": "code",
   "execution_count": 130,
   "metadata": {},
   "outputs": [],
   "source": [
    "def nums(func):\n",
    "    num1, num2 = 10, 20\n",
    "    result = func(num1, num2)\n",
    "    print(\"계산 결과 : \", result)"
   ]
  },
  {
   "cell_type": "code",
   "execution_count": 131,
   "metadata": {},
   "outputs": [
    {
     "name": "stdout",
     "output_type": "stream",
     "text": [
      "계산 결과 :  30\n"
     ]
    }
   ],
   "source": [
    "nums(lambda n1, n2 : n1 + n2)"
   ]
  },
  {
   "cell_type": "markdown",
   "metadata": {
    "slideshow": {
     "slide_type": "slide"
    }
   },
   "source": [
    "### 3.1.1. iterable 관련 함수에서 함수를 매개변수로 받아 처리하는 함수들\n",
    "- sorted(iterable, reverse=False, key=None)\n",
    "    - 정렬처리\n",
    "    - 매개변수\n",
    "        - reverse: True - 내림차순, False - 오름차순(기본)\n",
    "        - key: 함수 \n",
    "            - Parameter로 iterable의 각 원소를 받는 함수.\n",
    "            - 정렬을 할 때 iterable의 원소기준으로 정렬하는 것이 아니라 이 함수가 반환하는 값을 기준으로 정렬\n",
    "- filter(함수, Iterable)\n",
    "    - Iterable의 원소들 중에서 특정 조건을 만족하는 원소들만 걸러주는 함수\n",
    "    - 함수\n",
    "        - 어떻게 걸러낼 것인지 조건을 정의. 매개변수 1개, 반환값 bool\n",
    "        - 원소 하나 하나를 함수에 전달해 True를 반환하는 것만 반환\n",
    "- map(함수, Iterable)\n",
    "    - Iterable의 원소들 하나 하나를 처리(변형)해서 그 결과를 반환\n",
    "    - 함수\n",
    "        - 원소들을 어떻게 처리할지 정의. 매개변수 1개. 반환값: 처리 결과\n",
    "- **filter/map 반환타입**: generator 형태로 반환 된다. (리스트가 아님)"
   ]
  },
  {
   "cell_type": "markdown",
   "metadata": {},
   "source": [
    "- sorted 사용법"
   ]
  },
  {
   "cell_type": "code",
   "execution_count": 132,
   "metadata": {},
   "outputs": [
    {
     "data": {
      "text/plain": [
       "['A', 'aaa', 'b', 'ba', 'c', '안녕하세요']"
      ]
     },
     "execution_count": 132,
     "metadata": {},
     "output_type": "execute_result"
    }
   ],
   "source": [
    "l = [\"aaa\", \"c\", \"b\", \"ba\", \"A\", \"안녕하세요\"]\n",
    "sorted(l)"
   ]
  },
  {
   "cell_type": "code",
   "execution_count": 135,
   "metadata": {},
   "outputs": [],
   "source": [
    "def sort_elem(word):\n",
    "    return len(word)"
   ]
  },
  {
   "cell_type": "code",
   "execution_count": 137,
   "metadata": {},
   "outputs": [
    {
     "data": {
      "text/plain": [
       "['c', 'b', 'A', 'ba', 'aaa', '안녕하세요']"
      ]
     },
     "execution_count": 137,
     "metadata": {},
     "output_type": "execute_result"
    }
   ],
   "source": [
    "# 위 list를 글자 수 순서로 정렬하고자 한다.\n",
    "\n",
    "sorted(l, key = sort_elem)     # sort_elem 함수에 list를 넣은 값을 이용해 즉, 원소의 길이(숫자)를 이용해 정렬한다.\n",
    "# 위 결과는 key = len을 넣어도 같게 나온다."
   ]
  },
  {
   "cell_type": "markdown",
   "metadata": {},
   "source": [
    "- filter 사용법\n",
    "    - Iterable의 원소들 중에서 특정 조건을 만족하는 원소들만 걸러주는 함수"
   ]
  },
  {
   "cell_type": "code",
   "execution_count": 185,
   "metadata": {},
   "outputs": [
    {
     "data": {
      "text/plain": [
       "[2, 4, 6, 8]"
      ]
     },
     "execution_count": 185,
     "metadata": {},
     "output_type": "execute_result"
    }
   ],
   "source": [
    "# list에서 특정 조건을 가지고 있는 원소들만 조회하는 방법\n",
    "\n",
    "nums = list(range(1, 10))\n",
    "\n",
    "# for in 문 이용\n",
    "result_for = []\n",
    "for v in nums:\n",
    "    if v % 2 == 0:\n",
    "        result_for.append(v)\n",
    "\n",
    "result_for"
   ]
  },
  {
   "cell_type": "code",
   "execution_count": 184,
   "metadata": {},
   "outputs": [
    {
     "data": {
      "text/plain": [
       "[2, 4, 6, 8]"
      ]
     },
     "execution_count": 184,
     "metadata": {},
     "output_type": "execute_result"
    }
   ],
   "source": [
    "# 컴프리헨션 이용\n",
    "result_comp = [ v for v in nums if v % 2 == 0 ]\n",
    "result_comp"
   ]
  },
  {
   "cell_type": "code",
   "execution_count": 187,
   "metadata": {},
   "outputs": [
    {
     "name": "stdout",
     "output_type": "stream",
     "text": [
      "2\n",
      "4\n",
      "6\n",
      "8\n"
     ]
    }
   ],
   "source": [
    "# filter 이용\n",
    "def func(num):\n",
    "    return num % 2 == 0\n",
    "\n",
    "result_filt = filter(func, nums)\n",
    "for v in result_filt:\n",
    "    print(v)\n",
    "    \n",
    "# filter는 'filter'라는 class를 가진다.\n",
    "# iterable한 자료구조에서 함수의 조건을 만족하는 원소를 하나씩 확인해 True일 때만 그 값을 반환한다."
   ]
  },
  {
   "cell_type": "code",
   "execution_count": 191,
   "metadata": {},
   "outputs": [
    {
     "name": "stdout",
     "output_type": "stream",
     "text": [
      "2\n",
      "4\n",
      "6\n",
      "8\n"
     ]
    }
   ],
   "source": [
    "result_filt = filter(lambda x : x % 2 == 0, nums)\n",
    "for v in result_filt:\n",
    "    print(v)"
   ]
  },
  {
   "cell_type": "markdown",
   "metadata": {},
   "source": [
    "- map 사용법\n",
    "    - Iterable의 원소들 하나 하나를 처리(변형)해서 그 결과를 반환"
   ]
  },
  {
   "cell_type": "code",
   "execution_count": 193,
   "metadata": {},
   "outputs": [
    {
     "name": "stdout",
     "output_type": "stream",
     "text": [
      "0.1\n",
      "0.2\n",
      "0.3\n",
      "0.4\n",
      "0.5\n",
      "0.6\n",
      "0.7\n",
      "0.8\n",
      "0.9\n"
     ]
    }
   ],
   "source": [
    "for v in map(lambda num : num / 10, nums):\n",
    "    print(v)"
   ]
  },
  {
   "cell_type": "code",
   "execution_count": 194,
   "metadata": {},
   "outputs": [
    {
     "data": {
      "text/plain": [
       "[0.1, 0.2, 0.3, 0.4, 0.5, 0.6, 0.7, 0.8, 0.9]"
      ]
     },
     "execution_count": 194,
     "metadata": {},
     "output_type": "execute_result"
    }
   ],
   "source": [
    "# 위 실행은 컴프리헨션을 통해서도 구현할 수 있다.\n",
    "[ v / 10 for v in nums ]"
   ]
  },
  {
   "cell_type": "markdown",
   "metadata": {
    "slideshow": {
     "slide_type": "subslide"
    }
   },
   "source": [
    "# 4. docstring\n",
    "- 함수에 대한 설명\n",
    "- 함수의 구현부의 첫번째에 여러줄 문자열로 작성한다.\n",
    "- 함수 매개변수/리턴타입에 대한 힌트(주석)"
   ]
  },
  {
   "cell_type": "code",
   "execution_count": 213,
   "metadata": {
    "slideshow": {
     "slide_type": "fragment"
    }
   },
   "outputs": [],
   "source": [
    "def greeting(name:str, age:int, address:str) -> str:\n",
    "# parameter에서 Type Hint를 알려줄 수 있다. 화살표를 통해 결과 값 Type Hint를 알려줄 수 있다.\n",
    "# 기본값이 있는 경우 ex) address:str = \"서울\" 과 같이 적는다.\n",
    "# docstring 달아놓는 습관 가지기!!!\n",
    "\n",
    "    \"\"\"\n",
    "    함수에 대한 설명\n",
    "    parameter:\n",
    "        변수명: 데이터 타입 - 설명\n",
    "        name: str - 설명\n",
    "        age: str - 설명\n",
    "        address: str - 설명\n",
    "    return:\n",
    "        return 타입 - return 값에 대한 설명\n",
    "        str - 설명\n",
    "    raise:\n",
    "        함수 실행 도중 발생 가능성이 있는 Exception 타입 설명\n",
    "        TypeError: 설명\n",
    "    \"\"\"\n",
    "    \n",
    "    return f\"{address}에 사는 {age} 세의 {name} 님, 안녕하세요!\""
   ]
  },
  {
   "cell_type": "code",
   "execution_count": 211,
   "metadata": {},
   "outputs": [
    {
     "name": "stdout",
     "output_type": "stream",
     "text": [
      "Help on function greeting in module __main__:\n",
      "\n",
      "greeting(name: str, age: int, address: str) -> str\n",
      "    함수에 대한 설명\n",
      "    parameter:\n",
      "        변수명: 데이터 타입 - 설명\n",
      "        name: str - 설명\n",
      "        age: str - 설명\n",
      "        address: str - 설명\n",
      "    return:\n",
      "        return 타입 - return 값에 대한 설명\n",
      "        str - 설명\n",
      "    raise:\n",
      "        함수 실행 도중 발생 가능성이 있는 Exception 타입 설명\n",
      "        TypeError: 설명\n",
      "\n"
     ]
    }
   ],
   "source": [
    "# help() 명령어를 사용하면 함수에 대한 docstring을 볼 수 있다.\n",
    "\n",
    "help(greeting)"
   ]
  },
  {
   "cell_type": "code",
   "execution_count": 208,
   "metadata": {},
   "outputs": [],
   "source": [
    "greeting?     # 함수? 를 이용해 팝업 창을 통해 확인한다."
   ]
  },
  {
   "cell_type": "code",
   "execution_count": null,
   "metadata": {},
   "outputs": [],
   "source": [
    "greeting     # shift + tab을 눌러 팝업 창을 통해 확인한다."
   ]
  },
  {
   "cell_type": "markdown",
   "metadata": {
    "slideshow": {
     "slide_type": "subslide"
    }
   },
   "source": [
    "### 4.1.1. pass 키워드(예약어)\n",
    "- 빈 구현부를 만들때 사용\n",
    "    - 코드블럭을 하는 일 없이 채울 때 사용\n",
    "    - `...` 을 대신 사용할 수 있다."
   ]
  },
  {
   "cell_type": "code",
   "execution_count": 21,
   "metadata": {},
   "outputs": [],
   "source": [
    "# 함수를 정의하고 구현부에 아무 내용을 넣지 않으면 Error가 발생한다.\n",
    "# 이때 pass 혹은 ...을 넣어 Error 발생을 방지할 수 있다.\n",
    "# 이는 지금 당장은 구현부를 채우지 않지만 나중에 채우고자 할 때 사용한다.\n",
    "# 함수 뿐만이 아니라 여러 구문(for in, while, if 등)에서 사용할 수 있다.\n",
    "\n",
    "def test1():\n",
    "    pass\n",
    "\n",
    "def test2():\n",
    "    pass\n",
    "\n",
    "def test3():\n",
    "    pass"
   ]
  },
  {
   "cell_type": "code",
   "execution_count": 22,
   "metadata": {},
   "outputs": [],
   "source": [
    "test1()\n",
    "test2()\n",
    "test3()"
   ]
  },
  {
   "cell_type": "code",
   "execution_count": 218,
   "metadata": {},
   "outputs": [],
   "source": [
    "a = 10\n",
    "\n",
    "if a > 5:\n",
    "    pass\n",
    "else:print(a)\n",
    "    \n",
    "# run을 해도 아무런 결과가 나타나지 않는다."
   ]
  },
  {
   "cell_type": "markdown",
   "metadata": {
    "slideshow": {
     "slide_type": "skip"
    }
   },
   "source": [
    "# TODO"
   ]
  },
  {
   "cell_type": "code",
   "execution_count": 1,
   "metadata": {
    "slideshow": {
     "slide_type": "skip"
    }
   },
   "outputs": [
    {
     "name": "stdout",
     "output_type": "stream",
     "text": [
      "숫자 입력 : 3\n",
      "3 X 1 = 3\n",
      "3 X 2 = 6\n",
      "3 X 3 = 9\n",
      "3 X 4 = 12\n",
      "3 X 5 = 15\n",
      "3 X 6 = 18\n",
      "3 X 7 = 21\n",
      "3 X 8 = 24\n",
      "3 X 9 = 27\n"
     ]
    }
   ],
   "source": [
    "# 1. 사용자가 입력한 단의 구구단을 출력하는 함수를 구현(매개변수로 단을 받는다.)\n",
    "\n",
    "num = int(input(\"숫자 입력 : \"))\n",
    "\n",
    "def multiplication_table(num:int):\n",
    "    \"\"\"\n",
    "    숫자를 입력받아서 구구단을 출력하는 함수.\n",
    "    parameter:\n",
    "        num: int - 출력할 단을 입력받는다.\n",
    "    return:\n",
    "        None\n",
    "    raise:\n",
    "        None\n",
    "    \"\"\"\n",
    "    for i in range(1, 10):\n",
    "        print(f\"{num} X {i} = {num * i}\")\n",
    "\n",
    "multiplication_table(num)"
   ]
  },
  {
   "cell_type": "code",
   "execution_count": 230,
   "metadata": {
    "slideshow": {
     "slide_type": "skip"
    }
   },
   "outputs": [
    {
     "name": "stdout",
     "output_type": "stream",
     "text": [
      "시작 정수와 끝 정수 입력 : 1, 20\n",
      "1부터 20까지의 합은 210입니다.\n"
     ]
    }
   ],
   "source": [
    "# 2. 시작 정수, 끝 정수를 받아 그 사이의 모든 정수의 합을 구해서 반환하는 함수를 구현\n",
    "# (ex: 1, 20 => 1에서 20 사이의 모든 정수의 합계)\n",
    "\n",
    "n1, n2 = map(int, input(\"시작 정수와 끝 정수 입력 : \").split(\", \"))\n",
    "\n",
    "def submmation(num_first: int, num_last: int) -> int:\n",
    "    \"\"\"\n",
    "    시작 정수와 끝 정수를 입력받아 그 사이의 모든 정수의 합을 구해 반환하는 함수.\n",
    "    parameter:\n",
    "        num_first: int - 범위의 시작 값\n",
    "        num_last: int - 범위의 마지막 값\n",
    "    return:\n",
    "        int - 범위의 값을 누적한 합계를 반환\n",
    "    raise:\n",
    "        None\n",
    "    example:\n",
    "        >> submmation(1, 10)\n",
    "        55\n",
    "    \"\"\"\n",
    "    sum = 0\n",
    "    for i in range(num_first, num_last + 1):\n",
    "        sum += i\n",
    "    return print(f\"{num_first}부터 {num_last}까지의 합은 {sum}입니다.\")\n",
    "\n",
    "submmation(n1, n2)"
   ]
  },
  {
   "cell_type": "code",
   "execution_count": 294,
   "metadata": {
    "slideshow": {
     "slide_type": "skip"
    }
   },
   "outputs": [
    {
     "name": "stdout",
     "output_type": "stream",
     "text": [
      "시작 정수 입력 : \n",
      "끝 정수 입력 : \n",
      "0부터 10까지의 합은 55입니다.\n"
     ]
    }
   ],
   "source": [
    "# 3. 2번 문제에서 시작을 받지 않은 경우 0을, 끝 정수를 받지 않으면 10이 들어가도록 구현을 변경\n",
    "\n",
    "n1 = input(\"시작 정수 입력 : \")\n",
    "n2 = input(\"끝 정수 입력 : \")\n",
    "\n",
    "def submmation(num_first, num_last):\n",
    "    if num_first == \"\":\n",
    "        num_first = 0\n",
    "    if num_last == \"\":\n",
    "        num_last = 10\n",
    "    \n",
    "    sum = 0\n",
    "    for i in range(int(num_first), int(num_last) + 1):\n",
    "        sum += i\n",
    "    return print(f\"{num_first}부터 {num_last}까지의 합은 {sum}입니다.\")\n",
    "\n",
    "submmation(num_first = n1, num_last = n2)"
   ]
  },
  {
   "cell_type": "code",
   "execution_count": 25,
   "metadata": {},
   "outputs": [],
   "source": [
    "def submmation(num_first = 0, num_last = 10):\n",
    "    return sum(range(num_first, num_last + 1))"
   ]
  },
  {
   "cell_type": "code",
   "execution_count": 26,
   "metadata": {},
   "outputs": [
    {
     "data": {
      "text/plain": [
       "55"
      ]
     },
     "execution_count": 26,
     "metadata": {},
     "output_type": "execute_result"
    }
   ],
   "source": [
    "submmation()"
   ]
  },
  {
   "cell_type": "code",
   "execution_count": 28,
   "metadata": {},
   "outputs": [],
   "source": [
    "def accumulate(**kwargs):\n",
    "# 가변인자를 사용할 경우에는 docstring을 필수로 잘 달아줘야 한다.\n",
    "    start = kwargs[\"start\"]\n",
    "    stop = kwargs[\"stop\"]\n",
    "    operator = kwargs[\"operator\"]\n",
    "    result = None\n",
    "    if operator == \"+\":\n",
    "        result = sum(range(star, stop + 1))\n",
    "    elif operator == \"x\":\n",
    "        result = 1\n",
    "        for i in range(start, stop + 1):\n",
    "            result *= i\n",
    "    \n",
    "    return result"
   ]
  },
  {
   "cell_type": "code",
   "execution_count": 29,
   "metadata": {},
   "outputs": [
    {
     "data": {
      "text/plain": [
       "120"
      ]
     },
     "execution_count": 29,
     "metadata": {},
     "output_type": "execute_result"
    }
   ],
   "source": [
    "accumulate(start = 1, stop = 5, operator = \"x\")"
   ]
  },
  {
   "cell_type": "code",
   "execution_count": 11,
   "metadata": {
    "slideshow": {
     "slide_type": "skip"
    }
   },
   "outputs": [
    {
     "name": "stdout",
     "output_type": "stream",
     "text": [
      "몸무게(kg)와 키(cm) 입력 : 70, 170\n",
      "정상입니다. BMI 지수 :  24.22\n"
     ]
    }
   ],
   "source": [
    "# 4. 체질량 지수는 비만도를 나타내는 지수로 키가 a m 이고 몸무게가 b kg일때 b/(a**2) 로 구한다.\n",
    "# 체질량 지수가\n",
    "#- 18.5 미만이면 저체중\n",
    "#- 18.5이상 25미만이면 정상 \n",
    "#- 25이상이면 과체중\n",
    "#- 30이상이면 비만으로 하는데\n",
    "#몸무게와 키를 매개변수로 받아 비만인지 과체중인지 반환하는 함수를 구현하시오.\n",
    "\n",
    "weight, height = map(float, input(\"몸무게(kg)와 키(cm) 입력 : \").split(\", \"))\n",
    "\n",
    "def BMI(weight: float, height: float) -> float:\n",
    "    \"\"\"\n",
    "    BMI 지수를 계산해서 비만도 정도를 알려주는 함수\n",
    "    parameter:\n",
    "        weight: float - 몸무게를 kg으로 입력받는다.\n",
    "        height: float - 키를 cm으로 입력받는다.\n",
    "    return:\n",
    "        str - 비만도와 BMI 지수를 문자열로 출력한다.\n",
    "    raise:\n",
    "        None\n",
    "    \"\"\"\n",
    "    height /= 100\n",
    "    if weight <= 0 or height <= 0:\n",
    "        return print(\"오류. 몸무게와 키는 0보다 커야 합니다.\")\n",
    "    \n",
    "    body_mass = weight / (height ** 2)\n",
    "    if body_mass < 18.5:\n",
    "        return print(f\"저체중입니다. BMI 지수 : {body_mass: .2f}\")\n",
    "    elif body_mass < 25:\n",
    "        return print(f\"정상입니다. BMI 지수 : {body_mass: .2f}\")\n",
    "    elif body_mass < 30:\n",
    "        return print(f\"과체중입니다. BMI 지수 : {body_mass: .2f}\")\n",
    "    else:\n",
    "        return print(f\"비만입니다. BMI 지수 : {body_mass: .2f}\")\n",
    "\n",
    "BMI(weight, height)"
   ]
  },
  {
   "cell_type": "code",
   "execution_count": 14,
   "metadata": {},
   "outputs": [
    {
     "name": "stdout",
     "output_type": "stream",
     "text": [
      "몸무게(kg)와 키(cm) 입력 : 70, 170\n",
      "정상입니다. BMI 지수 :  24.22\n"
     ]
    }
   ],
   "source": [
    "weight, height = map(float, input(\"몸무게(kg)와 키(cm) 입력 : \").split(\", \"))\n",
    "\n",
    "\n",
    "def BMI(weight: float, height: float) -> float:\n",
    "    \"\"\"\n",
    "    BMI 지수를 계산해서 비만도 정도를 알려주는 함수\n",
    "    parameter:\n",
    "        weight: float - 몸무게를 kg으로 입력받는다.\n",
    "        height: float - 키를 cm으로 입력받는다.\n",
    "    return:\n",
    "        str - 비만도와 BMI 지수를 문자열로 출력한다.\n",
    "    raise:\n",
    "        None\n",
    "    \"\"\"\n",
    "    height /= 100\n",
    "    if weight <= 0 or height <= 0:\n",
    "        return print(\"오류. 몸무게와 키는 0보다 커야 합니다.\")\n",
    "    \n",
    "    bmi = weight / (height ** 2)\n",
    "    if bmi < 18.5:\n",
    "        result = \"저체중\"\n",
    "    elif bmi < 25:\n",
    "        result = \"정상\"\n",
    "    elif bmi < 30:\n",
    "        result = \"과체중\"\n",
    "    else:\n",
    "        result = \"비만\"\n",
    "    \n",
    "    return print(f\"{result}입니다. BMI 지수 : {bmi: .2f}\")\n",
    "    \n",
    "BMI(weight, height)"
   ]
  },
  {
   "cell_type": "code",
   "execution_count": 30,
   "metadata": {
    "slideshow": {
     "slide_type": "skip"
    }
   },
   "outputs": [
    {
     "name": "stdout",
     "output_type": "stream",
     "text": [
      "1 20 3 21 "
     ]
    }
   ],
   "source": [
    "# 람다식\n",
    "#5. filter()를 이용해 다음 리스트에서 양수만 추출히 리스트를 구현\n",
    "ex1 = [1, -10, -2, 20, 3, -5, -7, 21]\n",
    "\n",
    "for num in filter(lambda x : x > 0, ex1):\n",
    "    print(num, end = ' ')"
   ]
  },
  {
   "cell_type": "code",
   "execution_count": 24,
   "metadata": {},
   "outputs": [
    {
     "name": "stdout",
     "output_type": "stream",
     "text": [
      "[1, 20, 3, 21]\n"
     ]
    }
   ],
   "source": [
    "result = filter(lambda x : x > 0 , ex1)\n",
    "print(list(result))"
   ]
  },
  {
   "cell_type": "code",
   "execution_count": 25,
   "metadata": {},
   "outputs": [
    {
     "data": {
      "text/plain": [
       "[1, 20, 3, 21]"
      ]
     },
     "execution_count": 25,
     "metadata": {},
     "output_type": "execute_result"
    }
   ],
   "source": [
    "# 컴프리헨션 사용\n",
    "[ v for v in ex1 if v > 0 ]"
   ]
  },
  {
   "cell_type": "code",
   "execution_count": 26,
   "metadata": {
    "slideshow": {
     "slide_type": "skip"
    }
   },
   "outputs": [
    {
     "name": "stdout",
     "output_type": "stream",
     "text": [
      "[100, 4, 25, 49]\n"
     ]
    }
   ],
   "source": [
    "#6. filter()와 map()을 이용해 다음 리스트에서 음수만 추출한 뒤 그 제곱한 값들을 가지는 리스트를 구현\n",
    "ex2 = [1, -10, -2, 20, 3, -5, -7, 21]\n",
    "\n",
    "ex2_filt = filter(lambda x : x < 0, ex2)\n",
    "ex2_filt_map = map(lambda x : x**2, ex2_filt)\n",
    "print([ num for num in ex2_filt_map ])"
   ]
  },
  {
   "cell_type": "code",
   "execution_count": 27,
   "metadata": {},
   "outputs": [
    {
     "data": {
      "text/plain": [
       "[100, 4, 25, 49]"
      ]
     },
     "execution_count": 27,
     "metadata": {},
     "output_type": "execute_result"
    }
   ],
   "source": [
    "f = filter(lambda x : x < 0, ex2)\n",
    "m = map(lambda y : y**2, f)\n",
    "list(m)"
   ]
  },
  {
   "cell_type": "code",
   "execution_count": 28,
   "metadata": {},
   "outputs": [
    {
     "data": {
      "text/plain": [
       "[100, 4, 25, 49]"
      ]
     },
     "execution_count": 28,
     "metadata": {},
     "output_type": "execute_result"
    }
   ],
   "source": [
    "mm = map(lambda y : y**2, filter(lambda x : x < 0, ex2))\n",
    "list(mm)"
   ]
  }
 ],
 "metadata": {
  "kernelspec": {
   "display_name": "Python 3 (ipykernel)",
   "language": "python",
   "name": "python3"
  },
  "language_info": {
   "codemirror_mode": {
    "name": "ipython",
    "version": 3
   },
   "file_extension": ".py",
   "mimetype": "text/x-python",
   "name": "python",
   "nbconvert_exporter": "python",
   "pygments_lexer": "ipython3",
   "version": "3.9.13"
  },
  "toc": {
   "base_numbering": 1,
   "nav_menu": {},
   "number_sections": true,
   "sideBar": true,
   "skip_h1_title": false,
   "title_cell": "Table of Contents",
   "title_sidebar": "Contents",
   "toc_cell": false,
   "toc_position": {},
   "toc_section_display": true,
   "toc_window_display": false
  },
  "varInspector": {
   "cols": {
    "lenName": 16,
    "lenType": 16,
    "lenVar": 40
   },
   "kernels_config": {
    "python": {
     "delete_cmd_postfix": "",
     "delete_cmd_prefix": "del ",
     "library": "var_list.py",
     "varRefreshCmd": "print(var_dic_list())"
    },
    "r": {
     "delete_cmd_postfix": ") ",
     "delete_cmd_prefix": "rm(",
     "library": "var_list.r",
     "varRefreshCmd": "cat(var_dic_list()) "
    }
   },
   "types_to_exclude": [
    "module",
    "function",
    "builtin_function_or_method",
    "instance",
    "_Feature"
   ],
   "window_display": false
  }
 },
 "nbformat": 4,
 "nbformat_minor": 4
}
