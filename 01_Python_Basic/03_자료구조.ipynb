{
 "cells": [
  {
   "cell_type": "markdown",
   "id": "da193321",
   "metadata": {
    "slideshow": {
     "slide_type": "slide"
    }
   },
   "source": [
    "# 1. 자료구조란\n",
    "\n",
    "- 여러 개의 값들을 모아서 관리하는 데이터 타입.\n",
    "    - 한 개의 변수는 한 개의 값 밖에는 가지지 못한다. 그러나 하나의 변수로 여러 개의 값 묶어서 저장해 관리해야 할 경우가 있다. \n",
    "    - 예) 고객의 정보의 경우 이름, 나이, 주소, 전화번호 등 여러개의 값이 모여서 하나의 값이 된다. \n",
    "- 파이썬은 데이터를 모으는 방식에 따라 다음과 같이 4개의 타입을 제공한다.\n",
    "    - List: 순서가 있으며 중복된 값들을 모으는 것을 허용하고 구성하는 값들(원소)을 변경할 수 있다.\n",
    "    - Tuple: 순서가 있으며 중복된 값들을 모으는 것을 허용하는데 구성하는 값들을 변경할 수 없다.\n",
    "    - Dictionary: key-value 형태로 값들을 저장해 관리한다.\n",
    "    - Set: 중복을 허용하지 않고 값들의 순서가 없다.\n",
    "- 원소, 성분, 요소, element\n",
    "    - 자료구조의 값들을 구성하는 개별 값들을 말한다.\n",
    "    - len(자료구조) 함수\n",
    "        - 자료구조 내의 원소의 개수를 반환한다."
   ]
  },
  {
   "cell_type": "markdown",
   "id": "74fc67f8",
   "metadata": {},
   "source": [
    "|자료구조| ordered | mutable | changeable | indexing | 구문 | 특징 |\n",
    "|-------|----------|---------|-----------|----------|----|----|\n",
    "|List|O|O|O|O|[값, 값, 값]||\n",
    "|Tuple|O|O|X|O|1. (값, 값, 값)<br>2. 값, 값, 값|함수에 넣을 때는 반드시 괄호 튜플 사용<br>원소가 1개 일때는 마지막에 쉼표 붙여주기|\n",
    "|Dictionary|X|key:X, value:O|O|O|1. {키 : 값, 키 : 값, 키 : 값}<br>2. dict(key=value, key=value)|key값은 불변(Immutable)의 값들만 사용 가능|\n",
    "|Set|X|X|O|X|{값, 값, 값}|{}(빈 중괄호는 dictionary)"
   ]
  },
  {
   "cell_type": "markdown",
   "id": "84431cfd",
   "metadata": {
    "slideshow": {
     "slide_type": "slide"
    }
   },
   "source": [
    "# 2. List (리스트)\n",
    "\n",
    "- 값을 순서대로 모아서 관리하는 자료구조. 원소(element)들을 순번을 이용해 식별한다.\n",
    "    - 각각의 원소가 어떤 값인지를 순번을 가지고 식별하기 때문에 순서가 매우 중요하다. 즉 같은 값에 대해 순서가 바뀌면 안된다.\n",
    "- 각 원소들은 순번을 index라고 하며 값을 조회하거나 변경할 때 index를 이용해 식별한다.\n",
    "    - index는 문자열과 마찮가지로 양수 index와 음수 index 두개가 각 값에 생긴다.\n",
    "    - 양수 index는 앞에서부터 음수 index는 뒤에서 부터 값을 식별할 때 사용하는 것이 편리하다.\n",
    "- 중복된 값들을 저장할 수 있다.\n",
    "- 각 원소들의 데이터 타입은 달라도 상관없다.\n",
    "    - 보통은 같은 타입의 데이터를 모은다.\n",
    "- 리스트를 구성하는 원소들을 변경할 수 있다. (추가, 삭제, 변경이 가능)\n",
    "\n",
    "## 2.1. List 생성 구문\n",
    "```python\n",
    "[값, 값, 값, ..]\n",
    "```"
   ]
  },
  {
   "cell_type": "code",
   "execution_count": null,
   "id": "efc59691",
   "metadata": {
    "ExecuteTime": {
     "end_time": "2022-12-18T00:22:24.071490Z",
     "start_time": "2022-12-18T00:22:23.651455Z"
    },
    "slideshow": {
     "slide_type": "fragment"
    }
   },
   "outputs": [],
   "source": []
  },
  {
   "cell_type": "markdown",
   "id": "08d634bf",
   "metadata": {
    "slideshow": {
     "slide_type": "subslide"
    }
   },
   "source": [
    "## 2.2. Indexing과 Slicing을 이용한 원소(element) 조회 및 변경\n",
    "\n",
    "### 2.2.1. Indexing\n",
    "- 하나의 원소를 조회하거나 변경할 때 사용\n",
    "- 리스트\\[index\\] \n",
    "    - index의 원소를 조회\n",
    "- 리스트\\[index\\] = 값\n",
    "    - index의 원소를 변경"
   ]
  },
  {
   "cell_type": "markdown",
   "id": "ab5a40cb",
   "metadata": {
    "slideshow": {
     "slide_type": "fragment"
    }
   },
   "source": [
    "### 2.2.2. Slicing\n",
    "- 범위로 조회하거나 그 범위의 값들을 변경한다.\n",
    "- 기본구문: **리스트\\[ 시작 index : 종료 index : 간격\\]**\n",
    "    - 시작 index ~ (종료 index – 1)\n",
    "    - 간격을 지정하면 간격만큼 index를 증/감한다. (생략 시 1이 기본 간격)\n",
    "- **0번 index 부터 조회 할 경우 시작 index는 생략가능**\n",
    "    - 리스트 \\[ : 5\\] => 0 ~ 4 까지 조회\n",
    "- **마지막 index까지 (끝까지) 조회 할 경우 종료 index는 생략 가능**\n",
    "    - 리스트\\[2 : \\] => 2번 index 에서 끝까지\n",
    "- **명시적으로 간격을 줄 경우**\n",
    "    - 리스트\\[ : : 3 \\] => 0, 3, 6, 9.. index의 값 조회\n",
    "    - 리스트\\[1 : 9 : 2\\] => 1, 3, 5, 7 index의 값 조회\n",
    "- **시작 index > 종료 index, 간격을 음수로 하면 역으로 반환한다.(Reverse)**\n",
    "    - 리스트\\[5: 1: -1\\] => 5, 4, 3, 2 index의 값 조회\n",
    "    - 리스트\\[: : -1\\]  => 마지막 index ~ 0번 index 까지 의미. Reverse 한다.\n",
    "\n",
    "#### 2.2.2.1. slicing을 이용한 값 변경\n",
    "- slicing 을 이용할 경우 slicing된 원소 개수와 동일한 개수의 값들을 대입한다.\n",
    "    - `리스트[1:5] = 10,20,30,40` : index 1, 2, 3, 4의 값을 10, 20, 30, 40으로 변경"
   ]
  },
  {
   "cell_type": "code",
   "execution_count": 22,
   "id": "5d462776",
   "metadata": {
    "slideshow": {
     "slide_type": "fragment"
    }
   },
   "outputs": [
    {
     "name": "stdout",
     "output_type": "stream",
     "text": [
      "2\n",
      "7\n"
     ]
    }
   ],
   "source": [
    "l = [0, 1, 2, 3, 4, 5, 6, 7, 8, 9]\n",
    "# indexing - 한 개의 값 조회\n",
    "print(l[2]) # 앞에서 세 번째 값\n",
    "print(l[-3]) # 뒤에서 세번째 값"
   ]
  },
  {
   "cell_type": "code",
   "execution_count": 23,
   "id": "1963b57a",
   "metadata": {},
   "outputs": [
    {
     "name": "stdout",
     "output_type": "stream",
     "text": [
      "[0, 100, 2, 3, 4, 5, 6, 7, 8, 9]\n",
      "[0, 100, 2, 3, 4, 5, 6, 7, 800, 9]\n"
     ]
    }
   ],
   "source": [
    "# 변경\n",
    "l[1] = 100\n",
    "print(l)\n",
    "l[-2] = 800\n",
    "print(l)"
   ]
  },
  {
   "cell_type": "code",
   "execution_count": 1,
   "id": "600a6954",
   "metadata": {},
   "outputs": [
    {
     "name": "stdout",
     "output_type": "stream",
     "text": [
      "[2, 4, 6]\n",
      "[2, 3, 4, 5, 6]\n",
      "[0, 1, 2, 3, 4, 5, 6]\n",
      "[4, 5, 6, 7, 8, 9]\n",
      "[4, 7]\n",
      "[8, 7, 6, 5, 4, 3]\n",
      "[9, 8, 7, 6, 5, 4, 3, 2, 1, 0]\n"
     ]
    }
   ],
   "source": [
    "# slicing : 범위로 여러 개의 원소 조회\n",
    "l = [0, 1, 2, 3, 4, 5, 6, 7, 8, 9]\n",
    "\n",
    "print(l[2:7:2])\n",
    "print(l[2:7])\n",
    "print(l[:7])\n",
    "print(l[4:])\n",
    "print(l[4::3])\n",
    "print(l[8:2:-1])\n",
    "print(l[::-1])"
   ]
  },
  {
   "cell_type": "markdown",
   "id": "a4f9fe12",
   "metadata": {
    "slideshow": {
     "slide_type": "slide"
    }
   },
   "source": [
    "## 2.3. List 연산자\n",
    "- 리스트 + 리스트\n",
    "    - 두 리스트의 원소들을 합친 리스트를 반환한다.\n",
    "- 리스트 * 정수\n",
    "    - 같은 리스트의 원소들을 정수번 합친 리스트를 반환한다.   \n",
    "- in, not in 연산자\n",
    "    - 값 in 리스트\n",
    "        - 리스트의 원소로 값이 **있으면** True, 없으면 False 반환\n",
    "    - 값 not in 리스트\n",
    "        - 리스트의 원소로 값이 **없으면** True, 있으면 False 반환  \n",
    "- len(리스트)\n",
    "    - 리스트 내의 원소수를 반환.        "
   ]
  },
  {
   "cell_type": "code",
   "execution_count": 31,
   "id": "f085e817",
   "metadata": {
    "ExecuteTime": {
     "end_time": "2022-12-17T14:17:03.293505Z",
     "start_time": "2022-12-17T14:17:03.285501Z"
    },
    "slideshow": {
     "slide_type": "fragment"
    }
   },
   "outputs": [
    {
     "name": "stdout",
     "output_type": "stream",
     "text": [
      "[1, 2, 3, 10, 20, 30]\n"
     ]
    }
   ],
   "source": [
    "a = [1, 2, 3]\n",
    "b = [10, 20, 30]\n",
    "c = a + b\n",
    "print(c)"
   ]
  },
  {
   "cell_type": "code",
   "execution_count": 36,
   "id": "857e955b",
   "metadata": {},
   "outputs": [
    {
     "name": "stdout",
     "output_type": "stream",
     "text": [
      "[1, 2, 3, 1, 2, 3, 1, 2, 3, 1, 2, 3, 1, 2, 3]\n"
     ]
    }
   ],
   "source": [
    "d = a * 5\n",
    "print(d)"
   ]
  },
  {
   "cell_type": "code",
   "execution_count": 43,
   "id": "36abb206",
   "metadata": {},
   "outputs": [
    {
     "name": "stdout",
     "output_type": "stream",
     "text": [
      "True\n",
      "False\n",
      "False\n"
     ]
    }
   ],
   "source": [
    "print(10 in c)\n",
    "print(10 not in c)\n",
    "print(100 in c)"
   ]
  },
  {
   "cell_type": "code",
   "execution_count": 45,
   "id": "14e6eb11",
   "metadata": {},
   "outputs": [
    {
     "name": "stdout",
     "output_type": "stream",
     "text": [
      "False\n",
      "True\n"
     ]
    }
   ],
   "source": [
    "print([1, 2] in c)\n",
    "print(1 in c and 2 in c)"
   ]
  },
  {
   "cell_type": "markdown",
   "id": "f90af754",
   "metadata": {
    "slideshow": {
     "slide_type": "slide"
    }
   },
   "source": [
    "## 2.4. 중첩 리스트 (Nested List)\n",
    "- List가 원소로 List를 가지는 것을 말한다.\n",
    "    - List를 포함한 모든 자료구조 타입들도 다 값이므로 다른 자료구조의 원소로 들어갈 수 있다.    "
   ]
  },
  {
   "cell_type": "code",
   "execution_count": 53,
   "id": "01bede57",
   "metadata": {
    "slideshow": {
     "slide_type": "fragment"
    }
   },
   "outputs": [
    {
     "name": "stdout",
     "output_type": "stream",
     "text": [
      "[[1, 2, 3], [4, 5, 6], [7, 8, 9]]\n"
     ]
    }
   ],
   "source": [
    "l = [[1, 2, 3], [4, 5, 6], [7, 8, 9]]\n",
    "print(l)"
   ]
  },
  {
   "cell_type": "code",
   "execution_count": 56,
   "id": "84619399",
   "metadata": {},
   "outputs": [
    {
     "name": "stdout",
     "output_type": "stream",
     "text": [
      "3\n"
     ]
    }
   ],
   "source": [
    "print(len(l))"
   ]
  },
  {
   "cell_type": "code",
   "execution_count": 57,
   "id": "8e822e85",
   "metadata": {},
   "outputs": [
    {
     "name": "stdout",
     "output_type": "stream",
     "text": [
      "2 9\n"
     ]
    }
   ],
   "source": [
    "print(l[0][1], l[2][2])"
   ]
  },
  {
   "cell_type": "markdown",
   "id": "29ff0e07",
   "metadata": {
    "slideshow": {
     "slide_type": "slide"
    }
   },
   "source": [
    "## 2.5. List 대입\n",
    "리스트의 원소들을 각각 다른 변수에 대입하는 표현식"
   ]
  },
  {
   "cell_type": "code",
   "execution_count": 58,
   "id": "ba39d005",
   "metadata": {},
   "outputs": [
    {
     "name": "stdout",
     "output_type": "stream",
     "text": [
      "1, 2, 3\n"
     ]
    }
   ],
   "source": [
    "l = [1, 2, 3]\n",
    "num1, num2, num3 = l\n",
    "print(num1, num2, num3, sep = ', ')"
   ]
  },
  {
   "cell_type": "markdown",
   "id": "99080499",
   "metadata": {},
   "source": [
    "## 2.6. List 주요 메소드\n",
    "|Method|설명|\n",
    "|:-|-|\n",
    "|append(value)|value를 추가한다.|\n",
    "|extend(List)|List의 element들을 추가한다.|\n",
    "|sort(\\[reverse=False\\])|element들을 오름차순 정렬한다. reverse=True로 하면 내림차순 정렬한다.|\n",
    "|insert(index, 삽입할값)|지정한 index에 '삽입할 값'을 삽입한다.|\n",
    "|remove(삭제할값)|'삭제할 값'과 같은 값의 element를 삭제한다.|\n",
    "|index(찾을값\\[, 시작index\\])|'찾을 값'의 index를 반환한다.|\n",
    "|pop(\\[index\\])|index의 값을 반환하면서 삭제한다. index를 생략하면 가장 마지막 값을 반환하며 삭제한다.|\n",
    "|count(값)|'값'이 list의 element로 몇 개 있는지 반환한다.|\n",
    "|clear()|list 안의 모든 element들을 삭제한다.|\n",
    "\n"
   ]
  },
  {
   "cell_type": "code",
   "execution_count": 61,
   "id": "30ca0113",
   "metadata": {},
   "outputs": [
    {
     "name": "stdout",
     "output_type": "stream",
     "text": [
      "[1, 2, 3, 10]\n"
     ]
    }
   ],
   "source": [
    "# .append(value) - list에 원소 추가. 한 번에 하나씩만 추가.\n",
    "\n",
    "l = [1, 2, 3]\n",
    "l.append(10)\n",
    "print(l)"
   ]
  },
  {
   "cell_type": "code",
   "execution_count": 62,
   "id": "9f63fac5",
   "metadata": {},
   "outputs": [
    {
     "name": "stdout",
     "output_type": "stream",
     "text": [
      "[1, 2, 3, 10, 100, 200, 300]\n"
     ]
    }
   ],
   "source": [
    "# .extend(list) - list에 list의 원소 추가. 여러 개의 원소 추가 가능.\n",
    "\n",
    "l.extend([100, 200, 300])\n",
    "print(l)"
   ]
  },
  {
   "cell_type": "code",
   "execution_count": 2,
   "id": "23f4523b",
   "metadata": {},
   "outputs": [
    {
     "name": "stdout",
     "output_type": "stream",
     "text": [
      "[5, 2, 8, 4, 9, 0, 3, 1, 7, 6]\n",
      "[0, 1, 2, 3, 4, 5, 6, 7, 8, 9]\n",
      "[9, 8, 7, 6, 5, 4, 3, 2, 1, 0]\n"
     ]
    }
   ],
   "source": [
    "# .sort() - list의 원소들을 오름차순으로 정렬. reverse = True 입력 시 내림차순으로 정렬.\n",
    "\n",
    "l = [5, 2, 8, 4, 9, 0, 3, 1, 7, 6]\n",
    "print(l)\n",
    "l.sort()\n",
    "print(l)\n",
    "l.sort(reverse = True)\n",
    "print(l)"
   ]
  },
  {
   "cell_type": "code",
   "execution_count": 4,
   "id": "81694d98",
   "metadata": {},
   "outputs": [
    {
     "name": "stdout",
     "output_type": "stream",
     "text": [
      "[0, 1, 2, 3, 4, 5, 6, 7, 8, 9]\n",
      "[5, 2, 8, 4, 9, 0, 3, 1, 7, 6]\n"
     ]
    }
   ],
   "source": [
    "# 정렬 함수 sorted() default : 오름차순. sorted( , reverse = True) : 내림차순.\n",
    "# 모든 자료를 정렬한다. 하지만 메소드와는 달리 객체 자체를 변화시키는 게 아니라 변화된 결과만을 출력한다.\n",
    "\n",
    "l = [5, 2, 8, 4, 9, 0, 3, 1, 7, 6]\n",
    "print(sorted(l)) # ll을 정렬한 결과를 출력. 객체 변화 없음.\n",
    "print(l)"
   ]
  },
  {
   "cell_type": "code",
   "execution_count": 47,
   "id": "5f82f05e",
   "metadata": {},
   "outputs": [],
   "source": [
    "# 객체를 변화시키는지 아닌지 알 수 있는 방법\n",
    "# print 함수를 사용하지 않고 메소드나 함수를 사용했을 때 결과를 출력하면 객체 변화가 없지만 결과를 출력하지 않으면 객체 변화"
   ]
  },
  {
   "cell_type": "code",
   "execution_count": 5,
   "id": "53f0540a",
   "metadata": {},
   "outputs": [
    {
     "name": "stdout",
     "output_type": "stream",
     "text": [
      "[5, 2, 1000, 8, 4, 9, 0, 3, 1, 7, 6]\n"
     ]
    }
   ],
   "source": [
    "# .insert(index, value) - 원하는 index에 원하는 요소 입력. 값이 치환되는 것 아님.\n",
    "\n",
    "l = [5, 2, 8, 4, 9, 0, 3, 1, 7, 6]\n",
    "l.insert(2, 1000)\n",
    "print(l)"
   ]
  },
  {
   "cell_type": "code",
   "execution_count": 6,
   "id": "768d9790",
   "metadata": {},
   "outputs": [
    {
     "name": "stdout",
     "output_type": "stream",
     "text": [
      "[1, 1, 1, 1, 1]\n"
     ]
    }
   ],
   "source": [
    "# .remove(value) - 원하는 값의 원소 삭제.\n",
    "\n",
    "# 값을 이용해 삭제하는 방법. 없는 값을 삭제할 때 error 발생.\n",
    "l = [1, 1, 1, 1, 1, 1]\n",
    "l.remove(1)\n",
    "print(l)"
   ]
  },
  {
   "cell_type": "code",
   "execution_count": 7,
   "id": "5cbd1072",
   "metadata": {},
   "outputs": [
    {
     "name": "stdout",
     "output_type": "stream",
     "text": [
      "[5, 2, 8, 4, 9, 0, 3, 1, 7, 6]\n",
      "[5, 2, 4, 9, 0, 3, 1, 7, 6]\n"
     ]
    }
   ],
   "source": [
    "# del list[index] - 원하는 index의 원소 삭제.\n",
    "\n",
    "# index를 이용해 삭제하는 방법\n",
    "\n",
    "l = [5, 2, 8, 4, 9, 0, 3, 1, 7, 6]\n",
    "print(l)\n",
    "del l[2]\n",
    "print(l)"
   ]
  },
  {
   "cell_type": "code",
   "execution_count": 8,
   "id": "b1aedf79",
   "metadata": {},
   "outputs": [
    {
     "name": "stdout",
     "output_type": "stream",
     "text": [
      "[5, 2, 8, 4, 9, 0, 3, 1, 7, 6]\n",
      "7\n",
      "7\n"
     ]
    }
   ],
   "source": [
    "# .index(value, index)\n",
    "# - value만 입력했을 시 원하는 값의 index 반환.\n",
    "# - value와 index를 모두 입력했을 시 index 범위 내의 원하는 값의 index 반환.\n",
    "\n",
    "# 원하는 값의 index 반환. 앞에서 부터 실행한 후 값 반환.\n",
    "\n",
    "l = [5, 2, 8, 4, 9, 0, 3, 1, 7, 6]\n",
    "print(l)\n",
    "print(l.index(1))\n",
    "print(l.index(1, 3)) # index 3부터 원하는 값 1을 찾기 시작."
   ]
  },
  {
   "cell_type": "code",
   "execution_count": 9,
   "id": "a7559075",
   "metadata": {},
   "outputs": [
    {
     "name": "stdout",
     "output_type": "stream",
     "text": [
      "l =  [1, 2, 3, 4, 5, 6, 7, 8, 9] \n",
      "\n",
      "l.pop() =  9\n",
      ".pop() 실행 :  [1, 2, 3, 4, 5, 6, 7, 8] \n",
      "\n",
      "l.pop(3) =  4\n",
      ".pop.(3) 실행 :  [1, 2, 3, 5, 6, 7, 8]\n"
     ]
    }
   ],
   "source": [
    "# .pop(index) - index의 값을 삭제한 후 삭제한 원소 값 반환. index가 없을 경우 맨 마지막 값 삭제 후 그 값 반환.\n",
    "\n",
    "l = [1, 2, 3, 4, 5, 6, 7, 8, 9]\n",
    "print(\"l = \", l, \"\\n\")\n",
    "\n",
    "print(\"l.pop() = \", l.pop())\n",
    "print(\".pop() 실행 : \", l, \"\\n\")\n",
    "\n",
    "print(\"l.pop(3) = \", l.pop(3))\n",
    "print(\".pop.(3) 실행 : \", l)"
   ]
  },
  {
   "cell_type": "code",
   "execution_count": 10,
   "id": "9e31938a",
   "metadata": {},
   "outputs": [
    {
     "name": "stdout",
     "output_type": "stream",
     "text": [
      "1\n"
     ]
    }
   ],
   "source": [
    "# .count(value) - list 내에 원하는 값의 갯수 반환.\n",
    "\n",
    "l = [5, 2, 8, 4, 9, 0, 3, 1, 7, 6]\n",
    "print(l.count(1))"
   ]
  },
  {
   "cell_type": "code",
   "execution_count": 11,
   "id": "abfc25bd",
   "metadata": {},
   "outputs": [
    {
     "name": "stdout",
     "output_type": "stream",
     "text": [
      "[5, 2, 8, 4, 9, 0, 3, 1, 7, 6]\n",
      "[]\n",
      "0\n"
     ]
    }
   ],
   "source": [
    "# .clear() - list 안의 모든 원소 삭제\n",
    "\n",
    "l = [5, 2, 8, 4, 9, 0, 3, 1, 7, 6]\n",
    "print(l)\n",
    "l.clear()\n",
    "print(l)\n",
    "print(len(l))"
   ]
  },
  {
   "cell_type": "code",
   "execution_count": 12,
   "id": "1a45c488",
   "metadata": {},
   "outputs": [
    {
     "data": {
      "text/plain": [
       "['*', '3', 'A', 'a', '가']"
      ]
     },
     "execution_count": 12,
     "metadata": {},
     "output_type": "execute_result"
    }
   ],
   "source": [
    "# 여러 종류의 문자들이 섞여 있을 때 정렬 순서.\n",
    "# ASCII 코드\n",
    "\n",
    "l = [\"A\", \"a\", \"가\", \"3\", \"*\"]\n",
    "sorted(l)"
   ]
  },
  {
   "cell_type": "markdown",
   "id": "5b28f033",
   "metadata": {
    "slideshow": {
     "slide_type": "slide"
    }
   },
   "source": [
    "# 3. Tuple (튜플)\n",
    "- List와 같이 순서대로 원소들을 관리한다. 단 저장된 원소를 변경할 수 없다.\n",
    "- Tuple 은 각 위치(Index) 마다 정해진 의미가 있고 그 값이 한번 설정되면 바뀌지 않는 경우에 사용한다. \n",
    "    - Tuple은 값의 변경되지 않으므로 안전하다.\n",
    "    \n",
    "## 3.1. Tuple 생성\n",
    "- `(value, value, value, ...)`\n",
    "- 소괄호를 생략할 수 있다.\n",
    "- 원소가 하나인 Tuple 표현식\n",
    "    - `(value,)` 또는 `value,` \n",
    "        - 값 뒤에 `,` 를 붙여준다. `,`를 붙이지 않으면 ( )가 연산자 우선순위 괄호가 된다.\n",
    "        - ex) (10)은 정수 10을 의미한다. (10,)은 원소가 하나인 Tuple을 의미한다."
   ]
  },
  {
   "cell_type": "code",
   "execution_count": 93,
   "id": "4f3e1eb6",
   "metadata": {},
   "outputs": [
    {
     "name": "stdout",
     "output_type": "stream",
     "text": [
      "<class 'int'>\n",
      "<class 'tuple'>\n"
     ]
    }
   ],
   "source": [
    "# 원소가 하나인 Tuple을 만들고 싶을 때 원소 뒤에 ','를 꼭 붙여야 한다.\n",
    "\n",
    "A = (10)\n",
    "B = (10,)\n",
    "\n",
    "print(type(A))\n",
    "print(type(B))"
   ]
  },
  {
   "cell_type": "code",
   "execution_count": 86,
   "id": "17099a9e",
   "metadata": {
    "slideshow": {
     "slide_type": "fragment"
    }
   },
   "outputs": [
    {
     "name": "stdout",
     "output_type": "stream",
     "text": [
      "(1, 2, 3, 4, 5)\n",
      "('A', 'B', 'C', 'D', 'E')\n",
      "('A', 10, True)\n"
     ]
    }
   ],
   "source": [
    "t1 = (1, 2, 3, 4, 5)\n",
    "t2 = (\"A\", \"B\", \"C\", \"D\", \"E\")\n",
    "t3 = (\"A\", 10, True)\n",
    "\n",
    "print(t1)\n",
    "print(t2)\n",
    "print(t3)"
   ]
  },
  {
   "cell_type": "code",
   "execution_count": 84,
   "id": "5f8f166a",
   "metadata": {},
   "outputs": [
    {
     "name": "stdout",
     "output_type": "stream",
     "text": [
      "<class 'tuple'>\n"
     ]
    },
    {
     "data": {
      "text/plain": [
       "tuple"
      ]
     },
     "execution_count": 84,
     "metadata": {},
     "output_type": "execute_result"
    }
   ],
   "source": [
    "print(type(t1))\n",
    "type(t1)"
   ]
  },
  {
   "cell_type": "markdown",
   "id": "16954356",
   "metadata": {
    "slideshow": {
     "slide_type": "slide"
    }
   },
   "source": [
    "## 3.2. Indexing과 Slicing을 이용한 원소(element) 조회\n",
    "- 리스트와 동일하다.\n",
    "- 단 튜플은 조회만 가능하고 원소를 변경할 수 없다."
   ]
  },
  {
   "cell_type": "code",
   "execution_count": 88,
   "id": "6c5b9b2c",
   "metadata": {
    "slideshow": {
     "slide_type": "fragment"
    }
   },
   "outputs": [],
   "source": [
    "t = (0, 1, 2, 3, 4, 5, 6, 7, 8, 9)"
   ]
  },
  {
   "cell_type": "code",
   "execution_count": 91,
   "id": "0703f21b",
   "metadata": {},
   "outputs": [
    {
     "data": {
      "text/plain": [
       "(0, 5, 8)"
      ]
     },
     "execution_count": 91,
     "metadata": {},
     "output_type": "execute_result"
    }
   ],
   "source": [
    "t[0], t[5], t[8] # 이것 역시 tuple. 괄호를 생략했을 뿐."
   ]
  },
  {
   "cell_type": "code",
   "execution_count": 13,
   "id": "3722ba42",
   "metadata": {},
   "outputs": [
    {
     "ename": "TypeError",
     "evalue": "'tuple' object does not support item assignment",
     "output_type": "error",
     "traceback": [
      "\u001b[1;31m---------------------------------------------------------------------------\u001b[0m",
      "\u001b[1;31mTypeError\u001b[0m                                 Traceback (most recent call last)",
      "\u001b[1;32m~\\AppData\\Local\\Temp\\ipykernel_1192\\1268443982.py\u001b[0m in \u001b[0;36m<module>\u001b[1;34m\u001b[0m\n\u001b[0;32m      1\u001b[0m \u001b[0mt\u001b[0m \u001b[1;33m=\u001b[0m \u001b[1;33m(\u001b[0m\u001b[1;36m0\u001b[0m\u001b[1;33m,\u001b[0m \u001b[1;36m1\u001b[0m\u001b[1;33m,\u001b[0m \u001b[1;36m2\u001b[0m\u001b[1;33m,\u001b[0m \u001b[1;36m3\u001b[0m\u001b[1;33m,\u001b[0m \u001b[1;36m4\u001b[0m\u001b[1;33m,\u001b[0m \u001b[1;36m5\u001b[0m\u001b[1;33m,\u001b[0m \u001b[1;36m6\u001b[0m\u001b[1;33m,\u001b[0m \u001b[1;36m7\u001b[0m\u001b[1;33m,\u001b[0m \u001b[1;36m8\u001b[0m\u001b[1;33m,\u001b[0m \u001b[1;36m9\u001b[0m\u001b[1;33m)\u001b[0m\u001b[1;33m\u001b[0m\u001b[1;33m\u001b[0m\u001b[0m\n\u001b[1;32m----> 2\u001b[1;33m \u001b[0mt\u001b[0m\u001b[1;33m[\u001b[0m\u001b[1;36m0\u001b[0m\u001b[1;33m]\u001b[0m \u001b[1;33m=\u001b[0m \u001b[1;36m100\u001b[0m\u001b[1;33m\u001b[0m\u001b[1;33m\u001b[0m\u001b[0m\n\u001b[0m",
      "\u001b[1;31mTypeError\u001b[0m: 'tuple' object does not support item assignment"
     ]
    }
   ],
   "source": [
    "t = (0, 1, 2, 3, 4, 5, 6, 7, 8, 9)\n",
    "t[0] = 100"
   ]
  },
  {
   "cell_type": "code",
   "execution_count": 106,
   "id": "24ce03f2",
   "metadata": {},
   "outputs": [
    {
     "name": "stdout",
     "output_type": "stream",
     "text": [
      "(2, 4, 6)\n",
      "(0, 2, 4, 6, 8)\n",
      "(2, 3, 4)\n",
      "(9, 8, 7, 6, 5, 4, 3, 2, 1, 0)\n"
     ]
    }
   ],
   "source": [
    "# slicing\n",
    "\n",
    "t = (0, 1, 2, 3, 4, 5, 6, 7, 8, 9)\n",
    "print(t[2:8:2])\n",
    "print(t[::2])\n",
    "print(t[2:5])\n",
    "print(t[::-1])"
   ]
  },
  {
   "cell_type": "markdown",
   "id": "135101f3",
   "metadata": {
    "slideshow": {
     "slide_type": "slide"
    }
   },
   "source": [
    "## 3.3. Tuple 연산자\n",
    "- tuple + tuple\n",
    "    - 두 tuple의 원소들을 합친 tuple을 반환한다.\n",
    "- tuple * 정수\n",
    "    - 같은 tuple의 원소들을 정수번 합친 tuple를 반환한다.  \n",
    "- in, not in 연산자\n",
    "    - 값 in tuple\n",
    "        - tuple의 원소로 값이 **있으면** True, 없으면 False 반환\n",
    "    - 값 not in tuple\n",
    "        - tuple의 원소로 값이 **없으면** True, 있으면 False 반환    \n",
    "- len(tuple)\n",
    "    - tuple의 원소 개수 반환        "
   ]
  },
  {
   "cell_type": "code",
   "execution_count": 14,
   "id": "5903e00f",
   "metadata": {
    "slideshow": {
     "slide_type": "fragment"
    }
   },
   "outputs": [
    {
     "name": "stdout",
     "output_type": "stream",
     "text": [
      "(1, 2, 3, 4, 5)\n",
      "('A', 'B', 'C', 'D', 'E')\n",
      "(1, 2, 3, 4, 5, 'A', 'B', 'C', 'D', 'E')\n"
     ]
    }
   ],
   "source": [
    "t1 = (1, 2, 3, 4, 5)\n",
    "t2 = (\"A\", \"B\", \"C\", \"D\", \"E\")\n",
    "t3 = (\"A\", 10, True)\n",
    "\n",
    "print(t1)\n",
    "print(t2)\n",
    "result1 = t1 + t2\n",
    "print(result1)"
   ]
  },
  {
   "cell_type": "code",
   "execution_count": 110,
   "id": "7e770f7d",
   "metadata": {},
   "outputs": [
    {
     "name": "stdout",
     "output_type": "stream",
     "text": [
      "(1, 2, 3, 4, 5, 1, 2, 3, 4, 5, 1, 2, 3, 4, 5)\n"
     ]
    }
   ],
   "source": [
    "result2 = t1 * 3\n",
    "print(result2)"
   ]
  },
  {
   "cell_type": "code",
   "execution_count": 113,
   "id": "685beba8",
   "metadata": {},
   "outputs": [
    {
     "name": "stdout",
     "output_type": "stream",
     "text": [
      "False\n",
      "True\n",
      "True\n",
      "False\n"
     ]
    }
   ],
   "source": [
    "print(\"B\" in t1)\n",
    "print(\"B\" not in t1)\n",
    "print(\"B\" in t2)\n",
    "print(\"B\" not in t2)"
   ]
  },
  {
   "cell_type": "code",
   "execution_count": 114,
   "id": "a95f301b",
   "metadata": {},
   "outputs": [
    {
     "name": "stdout",
     "output_type": "stream",
     "text": [
      "5\n",
      "5\n",
      "3\n"
     ]
    }
   ],
   "source": [
    "print(len(t1))\n",
    "print(len(t2))\n",
    "print(len(t3))"
   ]
  },
  {
   "cell_type": "code",
   "execution_count": 115,
   "id": "ffd47132",
   "metadata": {},
   "outputs": [
    {
     "name": "stdout",
     "output_type": "stream",
     "text": [
      "(1, 2, 3) ('A', 'B', 'C') ('.', ',')\n"
     ]
    }
   ],
   "source": [
    "# 튜플 대입\n",
    "\n",
    "a, b, c = (1, 2, 3), (\"A\", \"B\", \"C\"), (\".\", \",\")\n",
    "print(a, b, c)"
   ]
  },
  {
   "cell_type": "markdown",
   "id": "89803fdd",
   "metadata": {
    "slideshow": {
     "slide_type": "subslide"
    }
   },
   "source": [
    "## 3.4. Tuple의 주요 메소드\n",
    "|Method|설명|\n",
    "|:-|-|\n",
    "|index(찾을 값 \\[, 시작index\\])|'찾을 값'의 index를 반환한다.|\n",
    "|count(값)|입력한 '값'을 가진 element의 갯수를 반환한다.|"
   ]
  },
  {
   "cell_type": "code",
   "execution_count": 123,
   "id": "b7261421",
   "metadata": {},
   "outputs": [
    {
     "name": "stdout",
     "output_type": "stream",
     "text": [
      "원소 3의 index :  2\n"
     ]
    }
   ],
   "source": [
    "# .index(value, index) - 원하는 값의 index를 반환.\n",
    "\n",
    "t = (1, 2, 3, 4, 5)\n",
    "print(\"원소 3의 index : \", t.index(3))"
   ]
  },
  {
   "cell_type": "code",
   "execution_count": 122,
   "id": "c7935872",
   "metadata": {},
   "outputs": [
    {
     "name": "stdout",
     "output_type": "stream",
     "text": [
      "값이 3인 원소의 갯수 :  1\n"
     ]
    }
   ],
   "source": [
    "# .count(value) - 원하는 값의 갯수를 반환.\n",
    "\n",
    "print(\"값이 3인 원소의 갯수 : \", t.count(3))"
   ]
  },
  {
   "cell_type": "markdown",
   "id": "e6c196f5",
   "metadata": {
    "slideshow": {
     "slide_type": "slide"
    }
   },
   "source": [
    "# 4. Dictionary\n",
    "- 값을 키(key)-값(value) 쌍으로 묶어서 저장하는 자료구조이다.\n",
    "    - 리스트나 튜플의 index의 역할을 하는 key를 직접 지정한다.\n",
    "    - 서로 의미가 다른 값들을 하나로 묶을 때 그 값의 의미를 key로 가질 수 있는 dictionary를 사용한다.\n",
    "        - cf) 값의 의미가 같을 경우 List나 Tuple을 사용한다.\n",
    "    - key-value 쌍으로 묶은 데이터 한개를 **item 또는 entry**라고 한다.\n",
    "    \n",
    "## 4.1. Dictionary 생성\n",
    "- 구문\n",
    "    1. `{ 키 : 값, 키 : 값, 키 : 값 }`\n",
    "    2. dict(key=value, key=value) 함수 이용\n",
    "    - 키(key)는 불변(Immutable)의 값들만 사용 가능하다. (숫자, 문자열, 튜플) 일반적으로 문자열을 사용한다.\n",
    "    - dict() 함수를 사용할 경우 key는 변수로 정의한다\n",
    "    - ex) {\"name\" : \"홍길동\", \"age\" : 30}은 dict(name = \"홍길동\", age = 30)로 표현된다."
   ]
  },
  {
   "cell_type": "code",
   "execution_count": 136,
   "id": "d9d37f28",
   "metadata": {
    "slideshow": {
     "slide_type": "fragment"
    }
   },
   "outputs": [
    {
     "name": "stdout",
     "output_type": "stream",
     "text": [
      "{'사과': 10, '귤': 20, '배': 15, '복숭아': 30, '수박': 40}\n"
     ]
    }
   ],
   "source": [
    "# 과일 종류에 따른 갯수를 dictionary로 저장.\n",
    "\n",
    "fruit_counts = {\"사과\" : 10, \"귤\" : 20, \"배\" : 15, \"복숭아\" : 30, \"수박\" : 40}\n",
    "print(fruit_counts)"
   ]
  },
  {
   "cell_type": "code",
   "execution_count": 143,
   "id": "6fbcb964",
   "metadata": {},
   "outputs": [
    {
     "name": "stdout",
     "output_type": "stream",
     "text": [
      "{'이름': '홍길동', '나이': 20, '주소': '서울', '직업': '학생'}\n"
     ]
    }
   ],
   "source": [
    "# 고객의 정보 저장.\n",
    "\n",
    "customer_1 = {\"이름\" : \"홍길동\", \"나이\" : 20, \"주소\" : \"서울\", \"직업\" : \"학생\"}\n",
    "print(customer_1)"
   ]
  },
  {
   "cell_type": "code",
   "execution_count": 142,
   "id": "b9feb03b",
   "metadata": {},
   "outputs": [
    {
     "name": "stdout",
     "output_type": "stream",
     "text": [
      "{'이름': '이순신', '나이': 30, '주소': '서울', '직업': '교사'}\n"
     ]
    }
   ],
   "source": [
    "# dict 함수 이용.\n",
    "\n",
    "customer_2 = dict(이름 = \"이순신\", 나이 = 30, 주소 = \"서울\", 직업 = \"교사\")\n",
    "print(customer_2)"
   ]
  },
  {
   "cell_type": "code",
   "execution_count": 140,
   "id": "3a199166",
   "metadata": {},
   "outputs": [
    {
     "name": "stdout",
     "output_type": "stream",
     "text": [
      "{'이름': '이순신'}\n"
     ]
    }
   ],
   "source": [
    "# key는 중복될 수 없다. 중복 될 시 뒤의 값을 덮어쓴다.\n",
    "\n",
    "d = {\"이름\" : \"홍길동\", \"이름\" : \"이순신\"}\n",
    "print(d)"
   ]
  },
  {
   "cell_type": "markdown",
   "id": "f8c87bd3",
   "metadata": {
    "slideshow": {
     "slide_type": "subslide"
    }
   },
   "source": [
    "## 4.2. Dictionary 원소 조회 및 변경\n",
    "- 조회: index에 key값을 식별자로 지정한다.\n",
    "    - dictionary\\[ key \\]\n",
    "    - 없는 키로 조회 시 KeyError 발생\n",
    "- 변경\n",
    "    - dictionary\\[ key \\] = 값\n",
    "    - 있는 key값에 값을 대입하면 변경이고 없는 key 일 경우는 새로운 item을 추가하는 것이다."
   ]
  },
  {
   "cell_type": "code",
   "execution_count": 146,
   "id": "459db630",
   "metadata": {
    "slideshow": {
     "slide_type": "fragment"
    }
   },
   "outputs": [
    {
     "name": "stdout",
     "output_type": "stream",
     "text": [
      "이름 : 홍길동\n",
      "직업 : 학생\n"
     ]
    }
   ],
   "source": [
    "customer_1 = {\"이름\" : \"홍길동\", \"나이\" : 20, \"주소\" : \"서울\", \"직업\" : \"학생\"}\n",
    "print(\"이름 :\", customer_1[\"이름\"])\n",
    "print(\"직업 :\", customer_1[\"직업\"])"
   ]
  },
  {
   "cell_type": "code",
   "execution_count": 148,
   "id": "6931b530",
   "metadata": {},
   "outputs": [
    {
     "name": "stdout",
     "output_type": "stream",
     "text": [
      "{'이름': '홍길동', '나이': 30, '주소': '서울', '직업': '학생', '키': 180}\n"
     ]
    }
   ],
   "source": [
    "customer_1[\"나이\"] = 30\n",
    "customer_1[\"키\"] = 180\n",
    "print(customer_1)"
   ]
  },
  {
   "cell_type": "markdown",
   "id": "d5aade1e",
   "metadata": {
    "slideshow": {
     "slide_type": "slide"
    }
   },
   "source": [
    "## 4.3. Dictionary 연산자\n",
    "\n",
    "- in, not in 연산자\n",
    "    - 값 in dictionary\n",
    "        - dictionary의 **Key**로 값이 **있으면** True, 없으면 False 반환\n",
    "    - 값 not in tuple\n",
    "        - dictionary의 **Key**로 값이 **없으면** True, 있으면 False 반환    \n",
    "- len(dictionary)\n",
    "    - dictionary의 **Item의 개수** 반환        "
   ]
  },
  {
   "cell_type": "code",
   "execution_count": 151,
   "id": "4a7c9061",
   "metadata": {
    "slideshow": {
     "slide_type": "fragment"
    }
   },
   "outputs": [
    {
     "name": "stdout",
     "output_type": "stream",
     "text": [
      "True\n",
      "4\n"
     ]
    }
   ],
   "source": [
    "customer_1 = {\"이름\" : \"홍길동\", \"나이\" : 20, \"주소\" : \"서울\", \"직업\" : \"학생\"}\n",
    "print(\"주소\" in customer_1)\n",
    "print(len(customer_1))"
   ]
  },
  {
   "cell_type": "markdown",
   "id": "9f620ec1",
   "metadata": {
    "slideshow": {
     "slide_type": "slide"
    }
   },
   "source": [
    "## 4.4. Dictionary 주요 메소드\n",
    "\n",
    "|Method|설명|\n",
    "|:-|-|\n",
    "|get(key\\[, 기본값\\])|key의 item의 값을 반환한다. 단 key가 없을 경우 None 또는 기본값을 반환한다.|\n",
    "|pop(key)|key의 item의 값을 반환하면서 dictionary에서 삭제한다. 없는 key일 경우 KeyError가 발생한다.|\n",
    "|clear()|dictionary의 모든 item들을 삭제한다.|\n",
    "|del dict\\[key\\]|key의 item을 제거한다.|\n",
    "|items()|item의 key, value를 tuple로 묶어 모아 반환한다.|\n",
    "|keys()|key 값들만 모아 반환한다.|\n",
    "|values()|value 값들만 모아 반환한다.|"
   ]
  },
  {
   "cell_type": "code",
   "execution_count": 3,
   "id": "b91d3a2b",
   "metadata": {},
   "outputs": [
    {
     "name": "stdout",
     "output_type": "stream",
     "text": [
      "홍길동\n",
      "None\n",
      "\n",
      "키는 출력할 수 없음\n",
      "학생\n"
     ]
    }
   ],
   "source": [
    "# .get(key[, 기본값])\n",
    "\n",
    "customer = {\"이름\" : \"홍길동\", \"나이\" : 20, \"주소\" : \"서울\", \"직업\" : \"학생\"}\n",
    "print(customer.get(\"이름\"))\n",
    "print(customer.get(\"키\"))\n",
    "print()\n",
    "\n",
    "# key가 없을 때만 내가 입력한 값을 출력. 값을 입력하지 않으면 None 출력.\n",
    "print(customer.get(\"키\", \"키는 출력할 수 없음\"))\n",
    "print(customer.get(\"직업\"))"
   ]
  },
  {
   "cell_type": "code",
   "execution_count": 167,
   "id": "99d4ee1c",
   "metadata": {},
   "outputs": [
    {
     "name": "stdout",
     "output_type": "stream",
     "text": [
      "학생\n",
      "{'이름': '홍길동', '나이': 20, '주소': '서울'}\n"
     ]
    }
   ],
   "source": [
    "# .pop(key) - key의 item 값을 삭제하면서 value 반환.\n",
    "\n",
    "customer = {\"이름\" : \"홍길동\", \"나이\" : 20, \"주소\" : \"서울\", \"직업\" : \"학생\"}\n",
    "print(customer.pop(\"직업\"))\n",
    "print(customer)"
   ]
  },
  {
   "cell_type": "code",
   "execution_count": 5,
   "id": "350e7ad5",
   "metadata": {
    "slideshow": {
     "slide_type": "fragment"
    }
   },
   "outputs": [
    {
     "name": "stdout",
     "output_type": "stream",
     "text": [
      "{}\n"
     ]
    }
   ],
   "source": [
    "# .clear()\n",
    "\n",
    "customer = {\"이름\" : \"홍길동\", \"나이\" : 20, \"주소\" : \"서울\", \"직업\" : \"학생\"}\n",
    "customer.clear()\n",
    "print(customer)"
   ]
  },
  {
   "cell_type": "code",
   "execution_count": 160,
   "id": "d51e9299",
   "metadata": {},
   "outputs": [
    {
     "name": "stdout",
     "output_type": "stream",
     "text": [
      "{'이름': '홍길동', '나이': 20, '주소': '서울'}\n"
     ]
    }
   ],
   "source": [
    "# del dict[key] - key의 item 제거.\n",
    "\n",
    "customer = {\"이름\" : \"홍길동\", \"나이\" : 20, \"주소\" : \"서울\", \"직업\" : \"학생\"}\n",
    "del customer[\"직업\"]\n",
    "print(customer)"
   ]
  },
  {
   "cell_type": "code",
   "execution_count": 6,
   "id": "662916df",
   "metadata": {},
   "outputs": [
    {
     "name": "stdout",
     "output_type": "stream",
     "text": [
      "dict_items([('이름', '홍길동'), ('나이', 20), ('주소', '서울'), ('직업', '학생')])\n"
     ]
    }
   ],
   "source": [
    "# .items()\n",
    "\n",
    "customer = {\"이름\" : \"홍길동\", \"나이\" : 20, \"주소\" : \"서울\", \"직업\" : \"학생\"}\n",
    "print(customer.items())"
   ]
  },
  {
   "cell_type": "code",
   "execution_count": 179,
   "id": "1e2a84c9",
   "metadata": {},
   "outputs": [
    {
     "name": "stdout",
     "output_type": "stream",
     "text": [
      "dict_keys(['이름', '나이', '주소', '직업'])\n"
     ]
    }
   ],
   "source": [
    "# .keys()\n",
    "\n",
    "customer = {\"이름\" : \"홍길동\", \"나이\" : 20, \"주소\" : \"서울\", \"직업\" : \"학생\"}\n",
    "print(customer.keys())"
   ]
  },
  {
   "cell_type": "code",
   "execution_count": 169,
   "id": "fd50e716",
   "metadata": {},
   "outputs": [
    {
     "name": "stdout",
     "output_type": "stream",
     "text": [
      "dict_values(['홍길동', 20, '서울', '학생'])\n"
     ]
    }
   ],
   "source": [
    "# .values()\n",
    "\n",
    "customer = {\"이름\" : \"홍길동\", \"나이\" : 20, \"주소\" : \"서울\", \"직업\" : \"학생\"}\n",
    "print(customer.values())"
   ]
  },
  {
   "cell_type": "markdown",
   "id": "d97869af",
   "metadata": {
    "slideshow": {
     "slide_type": "slide"
    }
   },
   "source": [
    "# 5. Set \n",
    "\n",
    "- Set은 중복되는 값을 허용하지 않고 순서를 신경 쓰지 않는다.\n",
    "    - 원소를 식별할 수 있는 식별자가 없기 때문에 Set은 indexing과 slicing을 지원하지 않는다\n",
    "\n",
    "## 5.1. Set 생성\n",
    "- 구문\n",
    "    - {값, 값, 값 }\n",
    "\n",
    "> -빈 Dictionary 만들기\n",
    ">    - info = {}\n",
    ">    - 중괄호만 사용하면 빈 set이 아니라 빈 dictionary를 생성하는 것임.\n"
   ]
  },
  {
   "cell_type": "code",
   "execution_count": 182,
   "id": "5c88480a",
   "metadata": {
    "slideshow": {
     "slide_type": "fragment"
    }
   },
   "outputs": [
    {
     "name": "stdout",
     "output_type": "stream",
     "text": [
      "{1, 2, 3, 4}\n",
      "{1, 2, 3, 4, 5, 6, 7, 8, 9}\n"
     ]
    }
   ],
   "source": [
    "# {} - set 생성. set은 중복을 허용하지 않는다.\n",
    "\n",
    "s1 = {1, 2, 3, 4}\n",
    "print(s1)\n",
    "s2 = {1, 2, 3, 4, 1, 3, 2, 4, 7, 5, 4, 8, 6, 4, 3, 2, 2, 9}\n",
    "print(s2)"
   ]
  },
  {
   "cell_type": "code",
   "execution_count": 183,
   "id": "c9193cc7",
   "metadata": {},
   "outputs": [
    {
     "ename": "TypeError",
     "evalue": "'set' object is not subscriptable",
     "output_type": "error",
     "traceback": [
      "\u001b[1;31m---------------------------------------------------------------------------\u001b[0m",
      "\u001b[1;31mTypeError\u001b[0m                                 Traceback (most recent call last)",
      "\u001b[1;32m~\\AppData\\Local\\Temp\\ipykernel_27080\\367963804.py\u001b[0m in \u001b[0;36m<module>\u001b[1;34m\u001b[0m\n\u001b[0;32m      1\u001b[0m \u001b[1;31m# set은 indexing과 slicing을 지원하지 않는다.\u001b[0m\u001b[1;33m\u001b[0m\u001b[1;33m\u001b[0m\u001b[0m\n\u001b[0;32m      2\u001b[0m \u001b[1;33m\u001b[0m\u001b[0m\n\u001b[1;32m----> 3\u001b[1;33m \u001b[0mprint\u001b[0m\u001b[1;33m(\u001b[0m\u001b[0ms1\u001b[0m\u001b[1;33m[\u001b[0m\u001b[1;36m3\u001b[0m\u001b[1;33m]\u001b[0m\u001b[1;33m)\u001b[0m\u001b[1;33m\u001b[0m\u001b[1;33m\u001b[0m\u001b[0m\n\u001b[0m",
      "\u001b[1;31mTypeError\u001b[0m: 'set' object is not subscriptable"
     ]
    }
   ],
   "source": [
    "# set은 indexing과 slicing을 지원하지 않는다.\n",
    "\n",
    "print(s1[3])"
   ]
  },
  {
   "cell_type": "markdown",
   "id": "79cf0f20",
   "metadata": {
    "slideshow": {
     "slide_type": "slide"
    }
   },
   "source": [
    "## 5.2. Set 연산자\n",
    "\n",
    "- in, not in 연산자\n",
    "    - 값 in Set\n",
    "        - Set의 원소로 값이 **있으면** True, 없으면 False 반환\n",
    "    - 값 not in set\n",
    "        - Set의 원소로 값이 **없으면** True, 있으면 False 반환    \n",
    "- len(Set)\n",
    "    - Set의 **원소의 개수** 반환        "
   ]
  },
  {
   "cell_type": "code",
   "execution_count": 8,
   "id": "80be18ad",
   "metadata": {
    "slideshow": {
     "slide_type": "fragment"
    }
   },
   "outputs": [
    {
     "name": "stdout",
     "output_type": "stream",
     "text": [
      "True\n",
      "False\n"
     ]
    }
   ],
   "source": [
    "s = {1, 1, 2, 2, 2, 3, 3, 3, 3}\n",
    "print(3 in s)\n",
    "print(10 in s)"
   ]
  },
  {
   "cell_type": "code",
   "execution_count": 9,
   "id": "1829721b",
   "metadata": {},
   "outputs": [
    {
     "name": "stdout",
     "output_type": "stream",
     "text": [
      "3\n"
     ]
    }
   ],
   "source": [
    "print(len(s))"
   ]
  },
  {
   "cell_type": "markdown",
   "id": "080c2a17",
   "metadata": {
    "slideshow": {
     "slide_type": "slide"
    }
   },
   "source": [
    "## 5.3. Set의 주요 메소드\n",
    "\n",
    "|Method|설명|\n",
    "|-|-|\n",
    "|add(값)|set에 값을 추가한다.|\n",
    "|update(data structure)|data structure 내의 element들을 모두 set에 추가한다.|\n",
    "|pop()|element를 반환하고 set에서 삭제한다.|\n",
    "|remove(값)|값을 찾아서 set에서 삭제한다.|"
   ]
  },
  {
   "cell_type": "code",
   "execution_count": 197,
   "id": "b12f08b0",
   "metadata": {
    "slideshow": {
     "slide_type": "fragment"
    }
   },
   "outputs": [
    {
     "name": "stdout",
     "output_type": "stream",
     "text": [
      "{1, 2, 3, 4, 5, 10}\n"
     ]
    }
   ],
   "source": [
    "# .add(value) - 집합에 값 추가. set은 순서를 가지지 않는다.\n",
    "\n",
    "s = {1, 2, 3, 4, 5}\n",
    "s.add(10)\n",
    "print(s)"
   ]
  },
  {
   "cell_type": "code",
   "execution_count": 198,
   "id": "90e2413a",
   "metadata": {},
   "outputs": [
    {
     "name": "stdout",
     "output_type": "stream",
     "text": [
      "{1, 2, 3, 4, 5, 6, 7, 8, 9, 10}\n",
      "{1, 2, 3, 4, 5, 6, 7, 8, 9, 10, 11, 12, 13}\n",
      "{1, 2, 3, 4, 5, 6, 7, 8, 9, 10, 11, 12, 13, 'B', 'A'}\n"
     ]
    }
   ],
   "source": [
    "# .update(자료구조) - 자료구조 내의 원소들을 모두 집합에 추가.\n",
    "\n",
    "s.update([6, 7, 8, 9])\n",
    "print(s)\n",
    "s.update((11, 12, 13))\n",
    "print(s)\n",
    "s.update({\"A\" : 100, \"B\" : 200})\n",
    "print(s)"
   ]
  },
  {
   "cell_type": "code",
   "execution_count": 199,
   "id": "54ec848e",
   "metadata": {},
   "outputs": [
    {
     "name": "stdout",
     "output_type": "stream",
     "text": [
      "1\n",
      "{2, 3, 4, 5, 6, 7, 8, 9, 10, 11, 12, 13, 'B', 'A'}\n"
     ]
    }
   ],
   "source": [
    "# .pop() - 원소를 삭제하면서 값 반환\n",
    "\n",
    "print(s.pop())\n",
    "print(s)"
   ]
  },
  {
   "cell_type": "code",
   "execution_count": 200,
   "id": "606bfaaa",
   "metadata": {},
   "outputs": [
    {
     "name": "stdout",
     "output_type": "stream",
     "text": [
      "{2, 3, 4, 5, 6, 8, 9, 10, 11, 12, 13, 'B', 'A'}\n"
     ]
    }
   ],
   "source": [
    "# .remove() - 원하는 값의 원소를 삭제.\n",
    "\n",
    "s.remove(7)\n",
    "print(s)"
   ]
  },
  {
   "cell_type": "markdown",
   "id": "33d115cd",
   "metadata": {
    "slideshow": {
     "slide_type": "subslide"
    }
   },
   "source": [
    "## 5.4. Set의 집합연산 연산자 및 메소드\n",
    "\n",
    "- 합집합\n",
    "    - 집합A | 집합B\n",
    "    - 집합A.union(집합B)\n",
    "- 교집합\n",
    "    - 집합A & 집합B\n",
    "    - 집합A.intersection(집합B)\n",
    "- 차집합\n",
    "    - 집합A - 집합B\n",
    "    - 집합A.difference(집합B)"
   ]
  },
  {
   "cell_type": "code",
   "execution_count": 205,
   "id": "64bf5839",
   "metadata": {
    "slideshow": {
     "slide_type": "fragment"
    }
   },
   "outputs": [
    {
     "name": "stdout",
     "output_type": "stream",
     "text": [
      "{1, 2, 3, 4, 5, 6, 7}\n",
      "{3, 4, 5}\n",
      "{1, 2}\n"
     ]
    }
   ],
   "source": [
    "A = {1, 2, 3, 4, 5}\n",
    "B = {3, 4, 5, 6, 7}\n",
    "\n",
    "print(A.union(B))\n",
    "print(A.intersection(B))\n",
    "print(A.difference(B))"
   ]
  },
  {
   "cell_type": "markdown",
   "id": "a3778f41",
   "metadata": {
    "slideshow": {
     "slide_type": "slide"
    }
   },
   "source": [
    "# 6. 자료구조 변환 함수\n",
    "\n",
    "- list(자료구조)\n",
    "    - 대상 자료구조/Iterable을 List로 변환한다.\n",
    "- tuple(자료구조)\n",
    "    - 대상 자료구조/Iterable을 Tuple로 변환\n",
    "- set(자료구조)\n",
    "    - 대상 자료구조/Iterable을 Set으로 변환\n",
    "    - 다른 자료구조의 원소 중 중복을 빼고 조회할 때 set()를 이용해 Set으로 변환한다.\n",
    "- Dictionary로 변환하는 함수는 없다.\n",
    "- 변경할 대상이 Dictionary 일 경우에는 key값들만 모아서 변환한다.\n",
    "\n",
    "> - Iterable\n",
    ">    - 반복가능한 객체. 반복문(for in)을 이용해 일련의 값들을 반복적으로 각각 제공하는 객체를 말한다. \n",
    ">    - 대표적으로 자료구조, 문자열 등이 있다."
   ]
  },
  {
   "cell_type": "code",
   "execution_count": null,
   "id": "07fd6373",
   "metadata": {
    "slideshow": {
     "slide_type": "fragment"
    }
   },
   "outputs": [],
   "source": []
  },
  {
   "cell_type": "markdown",
   "id": "b4671a5d",
   "metadata": {
    "slideshow": {
     "slide_type": "skip"
    }
   },
   "source": [
    "# TODO"
   ]
  },
  {
   "cell_type": "code",
   "execution_count": 10,
   "id": "111b42d7",
   "metadata": {
    "slideshow": {
     "slide_type": "skip"
    }
   },
   "outputs": [],
   "source": [
    "# 문제 1 ~ 7\n",
    "jumsu = [100, 90, 100, 80, 70, 100, 80, 90, 95, 85] \n",
    "# 위 리스트는 학생번호 1번 ~ 10번까지 10명의 시험 점수이다. "
   ]
  },
  {
   "cell_type": "code",
   "execution_count": 11,
   "id": "76c38e10",
   "metadata": {
    "slideshow": {
     "slide_type": "skip"
    }
   },
   "outputs": [
    {
     "name": "stdout",
     "output_type": "stream",
     "text": [
      "(1)\n",
      "80\n",
      "\n"
     ]
    }
   ],
   "source": [
    "#(1)  7번의 점수를 출력하세요 \n",
    "print(\"(1)\")\n",
    "print(jumsu[6])\n",
    "print()"
   ]
  },
  {
   "cell_type": "code",
   "execution_count": 12,
   "id": "07c6326d",
   "metadata": {
    "slideshow": {
     "slide_type": "skip"
    }
   },
   "outputs": [
    {
     "name": "stdout",
     "output_type": "stream",
     "text": [
      "(2)\n",
      "[100, 90, 100, 80, 70]\n",
      "\n"
     ]
    }
   ],
   "source": [
    "#(2)  1번부터 5번까지의 점수를 출력하세요.\n",
    "print(\"(2)\")\n",
    "print(jumsu[0:5])\n",
    "print()"
   ]
  },
  {
   "cell_type": "code",
   "execution_count": 13,
   "id": "5826143f",
   "metadata": {
    "slideshow": {
     "slide_type": "skip"
    }
   },
   "outputs": [
    {
     "name": "stdout",
     "output_type": "stream",
     "text": [
      "(3)\n",
      "[80, 70, 100, 80]\n",
      "\n"
     ]
    }
   ],
   "source": [
    "#(3)  4, 5, 6, 7번의 점수를 출력하세요.\n",
    "print(\"(3)\")\n",
    "print(jumsu[3:7])\n",
    "print()"
   ]
  },
  {
   "cell_type": "code",
   "execution_count": 14,
   "id": "e6dc19e0",
   "metadata": {
    "slideshow": {
     "slide_type": "skip"
    }
   },
   "outputs": [
    {
     "name": "stdout",
     "output_type": "stream",
     "text": [
      "(4)\n",
      "[90, 80, 100, 90, 85]\n",
      "\n"
     ]
    }
   ],
   "source": [
    "#(4) 짝수번째 점수를 출력하세요.\n",
    "print(\"(4)\")\n",
    "print(jumsu[1::2])\n",
    "print()"
   ]
  },
  {
   "cell_type": "code",
   "execution_count": 15,
   "id": "17abaadf",
   "metadata": {
    "slideshow": {
     "slide_type": "skip"
    }
   },
   "outputs": [
    {
     "name": "stdout",
     "output_type": "stream",
     "text": [
      "(5)\n",
      "[100, 100, 70, 80, 95]\n",
      "\n"
     ]
    }
   ],
   "source": [
    "#(5) 홀수번째 점수를 출력하세요.\n",
    "print(\"(5)\")\n",
    "print(jumsu[0::2])\n",
    "print()"
   ]
  },
  {
   "cell_type": "code",
   "execution_count": 16,
   "id": "02443ea6",
   "metadata": {
    "slideshow": {
     "slide_type": "skip"
    }
   },
   "outputs": [
    {
     "name": "stdout",
     "output_type": "stream",
     "text": [
      "(6)\n",
      "[100, 90, 100, 80, 70, 100, 80, 90, 20, 85]\n",
      "\n"
     ]
    }
   ],
   "source": [
    "#(6) 9번의 점수를 20으로 변경하고 전체 출력하세요.\n",
    "print(\"(6)\")\n",
    "jumsu[8] = 20\n",
    "print(jumsu)\n",
    "print()"
   ]
  },
  {
   "cell_type": "code",
   "execution_count": 17,
   "id": "93ecb006",
   "metadata": {
    "slideshow": {
     "slide_type": "skip"
    }
   },
   "outputs": [
    {
     "name": "stdout",
     "output_type": "stream",
     "text": [
      "(7)\n",
      "[100, 70, 80, 20, 85, 90]\n"
     ]
    }
   ],
   "source": [
    "#(7) 중복된 점수는 제거하고 하나씩만 나오도록 출력하세요.\n",
    "print(\"(7)\")\n",
    "print(list(set(jumsu)))"
   ]
  },
  {
   "cell_type": "code",
   "execution_count": 18,
   "id": "635db7f6",
   "metadata": {
    "slideshow": {
     "slide_type": "skip"
    }
   },
   "outputs": [],
   "source": [
    "# 문제 8 ~ 9\n",
    "fruits = [\"복숭아\", \"수박\", \"딸기\"]"
   ]
  },
  {
   "cell_type": "code",
   "execution_count": 19,
   "id": "bb8f3e5f",
   "metadata": {
    "slideshow": {
     "slide_type": "skip"
    }
   },
   "outputs": [
    {
     "name": "stdout",
     "output_type": "stream",
     "text": [
      "(8)\n",
      "['복숭아', '수박', '딸기', '사과', '귤']\n",
      "\n"
     ]
    }
   ],
   "source": [
    "#(8) fruits 리스트에 마지막 원소로 \"사과\", \"귤\"을 추가하세요.\n",
    "print(\"(8)\")\n",
    "fruits.extend([\"사과\", \"귤\"]) # fruits 객체 자체가 변화\n",
    "print(fruits)\n",
    "print()"
   ]
  },
  {
   "cell_type": "code",
   "execution_count": 20,
   "id": "10a96a4e",
   "metadata": {
    "slideshow": {
     "slide_type": "skip"
    }
   },
   "outputs": [
    {
     "name": "stdout",
     "output_type": "stream",
     "text": [
      "(9)\n",
      "['수박', '딸기', '사과', '귤']\n"
     ]
    }
   ],
   "source": [
    "#(9) fruits 리스트에서 \"복숭아\"를 제거하세요.\n",
    "print(\"(9)\")\n",
    "fruits.remove(\"복숭아\")\n",
    "print(fruits)"
   ]
  },
  {
   "cell_type": "code",
   "execution_count": 21,
   "id": "6cc7d53b",
   "metadata": {
    "slideshow": {
     "slide_type": "skip"
    }
   },
   "outputs": [
    {
     "name": "stdout",
     "output_type": "stream",
     "text": [
      "(10)\n",
      "{'이름': '홍길동', '나이': 20, 'email': 'hgd@gmail.com', '취미': ['운동', '독서', '산책'], '결혼 유무': '미혼'}\n",
      "\n"
     ]
    }
   ],
   "source": [
    "# 문제 10 ~ 15\n",
    "#(10)본인의 이름, 나이, email주소, 취미, 결혼유무를 사전(딕셔너리)으로 생성. \n",
    "# 취미는 2개 이상의 값을 넣는다..\n",
    "print(\"(10)\")\n",
    "HGD = {\"이름\" : \"홍길동\", \"나이\" : 20, \"email\" : \"hgd@gmail.com\", \"취미\" : [\"운동\", \"독서\", \"산책\"], \"결혼 유무\" : \"미혼\"}\n",
    "print(HGD)\n",
    "print()"
   ]
  },
  {
   "cell_type": "code",
   "execution_count": 22,
   "id": "7b90cf4a",
   "metadata": {
    "slideshow": {
     "slide_type": "skip"
    }
   },
   "outputs": [
    {
     "name": "stdout",
     "output_type": "stream",
     "text": [
      "(11)\n",
      "홍길동, hgd@gmail.com\n",
      "\n"
     ]
    }
   ],
   "source": [
    "#(11) 위 딕셔너리에서 이름과 email주소를 조회해서 출력하세요.\n",
    "print(\"(11)\")\n",
    "print(HGD[\"이름\"], HGD[\"email\"], sep = ', ')\n",
    "print()"
   ]
  },
  {
   "cell_type": "code",
   "execution_count": 23,
   "id": "8a79ac62",
   "metadata": {
    "slideshow": {
     "slide_type": "skip"
    }
   },
   "outputs": [
    {
     "name": "stdout",
     "output_type": "stream",
     "text": [
      "(12)\n",
      "독서\n",
      "\n"
     ]
    }
   ],
   "source": [
    "#(12) 위 딕셔너리에서 취미중 두번째 취미를 조회해서 출력하세요.\n",
    "print(\"(12)\")\n",
    "print(HGD[\"취미\"][1])\n",
    "print()"
   ]
  },
  {
   "cell_type": "code",
   "execution_count": 24,
   "id": "e15e6d7e",
   "metadata": {
    "slideshow": {
     "slide_type": "skip"
    }
   },
   "outputs": [
    {
     "name": "stdout",
     "output_type": "stream",
     "text": [
      "(13)\n",
      "{'이름': '홍길동', '나이': 20, 'email': 'hgd@gmail.com', '취미': ['운동', '독서', '산책'], '결혼 유무': '미혼', '몸무게': 70, '키': 170}\n",
      "\n"
     ]
    }
   ],
   "source": [
    "#(13) 위 딕셔너리에 몸무게와 키 항목을 추가하세요.\n",
    "print(\"(13)\")\n",
    "HGD[\"몸무게\"] = 70\n",
    "HGD[\"키\"] = 170\n",
    "print(HGD)\n",
    "print()"
   ]
  },
  {
   "cell_type": "code",
   "execution_count": 25,
   "id": "ed671c79",
   "metadata": {
    "slideshow": {
     "slide_type": "skip"
    }
   },
   "outputs": [
    {
     "name": "stdout",
     "output_type": "stream",
     "text": [
      "(14)\n",
      "{'이름': '홍길동', 'email': 'hgd@gmail.com', '취미': ['운동', '독서', '산책'], '결혼 유무': '미혼', '몸무게': 70, '키': 170}\n",
      "\n"
     ]
    }
   ],
   "source": [
    "#(14) 위 딕셔너리에서 나이를 제거하세요.\n",
    "print(\"(14)\")\n",
    "del HGD[\"나이\"]\n",
    "print(HGD)\n",
    "print()"
   ]
  },
  {
   "cell_type": "code",
   "execution_count": 26,
   "id": "12398809",
   "metadata": {
    "slideshow": {
     "slide_type": "skip"
    }
   },
   "outputs": [
    {
     "name": "stdout",
     "output_type": "stream",
     "text": [
      "(15)\n",
      "{'이름': '홍길동', 'email': 'hgd@naver.com', '취미': ['운동', '독서', '산책'], '결혼 유무': '미혼', '몸무게': 70, '키': 170}\n"
     ]
    }
   ],
   "source": [
    "#(15) 위 딕셔너리에서 email 주소를 다른 값으로 변경하세요.\n",
    "print(\"(15)\")\n",
    "HGD[\"email\"] = \"hgd@naver.com\"\n",
    "print(HGD)"
   ]
  }
 ],
 "metadata": {
  "kernelspec": {
   "display_name": "Python 3 (ipykernel)",
   "language": "python",
   "name": "python3"
  },
  "language_info": {
   "codemirror_mode": {
    "name": "ipython",
    "version": 3
   },
   "file_extension": ".py",
   "mimetype": "text/x-python",
   "name": "python",
   "nbconvert_exporter": "python",
   "pygments_lexer": "ipython3",
   "version": "3.9.13"
  },
  "toc": {
   "base_numbering": 1,
   "nav_menu": {},
   "number_sections": true,
   "sideBar": true,
   "skip_h1_title": false,
   "title_cell": "Table of Contents",
   "title_sidebar": "Contents",
   "toc_cell": false,
   "toc_position": {},
   "toc_section_display": true,
   "toc_window_display": false
  },
  "varInspector": {
   "cols": {
    "lenName": 16,
    "lenType": 16,
    "lenVar": 40
   },
   "kernels_config": {
    "python": {
     "delete_cmd_postfix": "",
     "delete_cmd_prefix": "del ",
     "library": "var_list.py",
     "varRefreshCmd": "print(var_dic_list())"
    },
    "r": {
     "delete_cmd_postfix": ") ",
     "delete_cmd_prefix": "rm(",
     "library": "var_list.r",
     "varRefreshCmd": "cat(var_dic_list()) "
    }
   },
   "types_to_exclude": [
    "module",
    "function",
    "builtin_function_or_method",
    "instance",
    "_Feature"
   ],
   "window_display": false
  }
 },
 "nbformat": 4,
 "nbformat_minor": 5
}
