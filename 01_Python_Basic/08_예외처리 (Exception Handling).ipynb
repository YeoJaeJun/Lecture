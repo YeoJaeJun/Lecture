{
 "cells": [
  {
   "cell_type": "markdown",
   "metadata": {
    "slideshow": {
     "slide_type": "slide"
    }
   },
   "source": [
    "# 1. Error\n",
    "\n",
    "- 함수나 메소드가 처리 도중 다음 명령문을 실행할 수 없는 상황\n",
    "- 오류 중 처리가능한 것을 Exception(예외) 라고 한다. 그리고 그 예외를 처리하는 것을 Exception Handling 이라고 한다.\n",
    "- Exception을 처리하면 다음 실행을 진행할 수 있다. 즉 Exception Handling은 발생한 문제에 대해 프로그램을 정상화하는 것이다.\n",
    "\n",
    "![개요](images/ch08_01.png)\n"
   ]
  },
  {
   "cell_type": "markdown",
   "metadata": {
    "slideshow": {
     "slide_type": "slide"
    }
   },
   "source": [
    "## 1.1. Error의 종류\n",
    "- **Python 문법을 어겨서 발생하는 error**\n",
    "    - 코드 상 100% 발생하는 오류\n",
    "    - 코드를 수정해 야한다.\n",
    "    - 보통 이런 오류는 컴파일 방식 언어의 경우 컴파일 때 에러를 내서 수정하도록 한다.\n",
    "- **실행 환경의 문제로 발생하는 error**\n",
    "    - 코드상에서는 Exception의 발생여부를 확신할 수 없다.\n",
    "    - 만약 발생할 경우 어떻게 처리할지를 구현해야 한다."
   ]
  },
  {
   "cell_type": "code",
   "execution_count": null,
   "metadata": {
    "slideshow": {
     "slide_type": "fragment"
    }
   },
   "outputs": [],
   "source": []
  },
  {
   "cell_type": "markdown",
   "metadata": {
    "slideshow": {
     "slide_type": "slide"
    }
   },
   "source": [
    "## 1.2. Exception handling\n",
    "Exception이 발생되어 프로그램이 더이상 실행될 수 없는 상황을 처리(handling)해서 정상화 시키는 작업을 말한다.  \n",
    "try - except 구문을 이용해 처리한다."
   ]
  },
  {
   "cell_type": "markdown",
   "metadata": {
    "slideshow": {
     "slide_type": "fragment"
    }
   },
   "source": [
    "### 1.2.1.  try, except 구문\n",
    "\n",
    "```python\n",
    "try:\n",
    "    Exception 발생가능한 코드 블록\n",
    "except [Exception클래스 이름 [as 변수]] :\n",
    "    처리 코드   \n",
    "```"
   ]
  },
  {
   "cell_type": "markdown",
   "metadata": {
    "slideshow": {
     "slide_type": "fragment"
    }
   },
   "source": [
    "- **try block**\n",
    "    - Exception 발생 가능성 있는 코드와 그 코드와 연결된 코드들을 블록으로 묶는다.\n",
    "        - 연결된 코드란 Exception이 발생하지 않을 때만 실행되는 코드를 말한다.\n",
    "- **except block**\n",
    "    - 발생한 Exception을 처리하는 코드 블록을 작성한다.\n",
    "        - try block의 코드를 실행하다 exception이 발생하면 except block이 실행된다. Exception이 발생하지 않으면 실행되지 않는다.\n",
    "    - try block에서 발생한 모든 Exception을 처리하는 경우 `except:` 로 선언한다.\n",
    "    - try block에서 발생한 특정 Exception만 따로 처리할 경우 `except Exception클래스 이름` 을 선언한다.\n",
    "        - 모든 Exception들은 클래스로 정의 되어 있다. 그 클래스 이름을 적어준다.\n",
    "        - **Exception 들 별로 각각 처리할 수 있으면 이 경우 except 구문(처리구문)을 연속해서 작성하면 된다.**\n",
    "    - try block에서 발생한 특정 Exception만 따로 처리하고 그 Exception이 왜 발생했는지 등의 정보를 사용할 경우 `except Exception 클래스 이름 as 변수명` 으로 선언하고 변수명을 이용해 정보를 조회한다.\n",
    "        "
   ]
  },
  {
   "cell_type": "markdown",
   "metadata": {},
   "source": [
    "- 다른 종류의 exception을 handling 할 때\n",
    "- try block에 exception이 발생 가능성 있는 코드를 적는다.\n",
    "- except block를 각 경우에 대해 따로 만든다. 이를 통해 각 exception에 따라 다른 handling 방법을 구현할 수 잇다.\n",
    "\n",
    "- ex) - try\n",
    "       - 버스가 오지 않는 경우\n",
    "       - 약속 장소가 쉬는 경우\n",
    "      - ecept\n",
    "       - 버스가 오지 않는 경우\n",
    "       - 약속 장소가 쉬는 경우"
   ]
  },
  {
   "cell_type": "code",
   "execution_count": 2,
   "metadata": {
    "slideshow": {
     "slide_type": "fragment"
    }
   },
   "outputs": [
    {
     "name": "stdout",
     "output_type": "stream",
     "text": [
      "프로그램 시작\n",
      "숫자 입력: 10\n",
      "결과 값: 1\n",
      "프로그램 종료\n"
     ]
    }
   ],
   "source": [
    "# try - except 구문\n",
    "\n",
    "print(\"프로그램 시작\")\n",
    "\n",
    "num = int(input(\"숫자 입력: \"))\n",
    "result = 10 // num\n",
    "print(f\"결과 값: {result}\")\n",
    "\n",
    "print(\"프로그램 종료\")"
   ]
  },
  {
   "cell_type": "code",
   "execution_count": 4,
   "metadata": {},
   "outputs": [],
   "source": [
    "# 위 경우에서 만약 num에 아무 값이 대입 안되거나, 0이 대입 되거나, 정수로 바꿀 수 없는 type이 대입 될 때\n",
    "# 아래와 같이 Error가 발생한다."
   ]
  },
  {
   "cell_type": "code",
   "execution_count": 3,
   "metadata": {},
   "outputs": [
    {
     "name": "stdout",
     "output_type": "stream",
     "text": [
      "프로그램 시작\n",
      "숫자 입력: A\n"
     ]
    },
    {
     "ename": "ValueError",
     "evalue": "invalid literal for int() with base 10: 'A'",
     "output_type": "error",
     "traceback": [
      "\u001b[1;31m---------------------------------------------------------------------------\u001b[0m",
      "\u001b[1;31mValueError\u001b[0m                                Traceback (most recent call last)",
      "\u001b[1;32m~\\AppData\\Local\\Temp\\ipykernel_20772\\779581573.py\u001b[0m in \u001b[0;36m<module>\u001b[1;34m\u001b[0m\n\u001b[0;32m      3\u001b[0m \u001b[0mprint\u001b[0m\u001b[1;33m(\u001b[0m\u001b[1;34m\"프로그램 시작\"\u001b[0m\u001b[1;33m)\u001b[0m\u001b[1;33m\u001b[0m\u001b[1;33m\u001b[0m\u001b[0m\n\u001b[0;32m      4\u001b[0m \u001b[1;33m\u001b[0m\u001b[0m\n\u001b[1;32m----> 5\u001b[1;33m \u001b[0mnum\u001b[0m \u001b[1;33m=\u001b[0m \u001b[0mint\u001b[0m\u001b[1;33m(\u001b[0m\u001b[0minput\u001b[0m\u001b[1;33m(\u001b[0m\u001b[1;34m\"숫자 입력: \"\u001b[0m\u001b[1;33m)\u001b[0m\u001b[1;33m)\u001b[0m\u001b[1;33m\u001b[0m\u001b[1;33m\u001b[0m\u001b[0m\n\u001b[0m\u001b[0;32m      6\u001b[0m \u001b[0mresult\u001b[0m \u001b[1;33m=\u001b[0m \u001b[1;36m10\u001b[0m \u001b[1;33m//\u001b[0m \u001b[0mnum\u001b[0m\u001b[1;33m\u001b[0m\u001b[1;33m\u001b[0m\u001b[0m\n\u001b[0;32m      7\u001b[0m \u001b[0mprint\u001b[0m\u001b[1;33m(\u001b[0m\u001b[1;34mf\"결과 값: {result}\"\u001b[0m\u001b[1;33m)\u001b[0m\u001b[1;33m\u001b[0m\u001b[1;33m\u001b[0m\u001b[0m\n",
      "\u001b[1;31mValueError\u001b[0m: invalid literal for int() with base 10: 'A'"
     ]
    }
   ],
   "source": [
    "# try - except 구문\n",
    "\n",
    "print(\"프로그램 시작\")\n",
    "\n",
    "num = int(input(\"숫자 입력: \"))\n",
    "result = 10 // num\n",
    "print(f\"결과 값: {result}\")\n",
    "\n",
    "print(\"프로그램 종료\")"
   ]
  },
  {
   "cell_type": "code",
   "execution_count": null,
   "metadata": {},
   "outputs": [],
   "source": [
    "# 위와 같은 경우에서 우리는 수정을 통해 error를 다룰 수 없다.\n",
    "# 이때 excepion handling이 필요하다. try - except를 이용해 해보자."
   ]
  },
  {
   "cell_type": "code",
   "execution_count": 5,
   "metadata": {},
   "outputs": [
    {
     "name": "stdout",
     "output_type": "stream",
     "text": [
      "프로그램 시작\n",
      "숫자 입력: \n",
      "실행 중 문제가 발생했습니다.\n",
      "프로그램 종료\n"
     ]
    }
   ],
   "source": [
    "# try - except 구문\n",
    "\n",
    "print(\"프로그램 시작\")\n",
    "\n",
    "try:\n",
    "    num = int(input(\"숫자 입력: \"))\n",
    "    result = 10 // num\n",
    "    print(f\"결과 값: {result}\")\n",
    "except:\n",
    "    print(\"실행 중 문제가 발생했습니다.\")\n",
    "\n",
    "    \n",
    "print(\"프로그램 종료\")"
   ]
  },
  {
   "cell_type": "code",
   "execution_count": 6,
   "metadata": {},
   "outputs": [],
   "source": [
    "# 6번 line에서 error가 발생한다. 그래서 except로 넘어가 명령문을 실행하고 다음 명령문을 실행한다.\n",
    "# 위의 단순 error에서는 error가 발생한 부분에서 프로그램을 종료했지만 try - except를 사용하면 프로그램이 끝까지 진행된다."
   ]
  },
  {
   "cell_type": "code",
   "execution_count": null,
   "metadata": {},
   "outputs": [],
   "source": [
    "# try - except 구문\n",
    "\n",
    "print(\"프로그램 시작\")                    # 1\n",
    "\n",
    "try:\n",
    "    num = int(input(\"숫자 입력: \"))       # 2     ValueError exception 발생 가능성있는 코드\n",
    "    result = 10 // num                   # 3     ZeroDivisionError exception 발생 가능성있는 코드\n",
    "    print(f\"결과 값: {result}\")          # 4\n",
    "except:\n",
    "    print(\"실행 중 문제가 발생했습니다.\")  # 5\n",
    "\n",
    "    \n",
    "print(\"프로그램 종료\")                    # 6"
   ]
  },
  {
   "cell_type": "code",
   "execution_count": 9,
   "metadata": {},
   "outputs": [],
   "source": [
    "# exception이 발생하지 않는 경우 실행 순서\n",
    "# 1 - 2 - 3 - 4 - 5 - 6\n",
    "\n",
    "# exception이 발생한 경우 실행 순서 (exception 발생 지점: # 2)\n",
    "# 1 - 2(실행 X. exception 발생) - 5 - 6 \n",
    "\n",
    "# exception이 발생한 경우 실행 순서 (exception 발생 지점: # 3)\n",
    "# 1 - 2 - 3(실행 X. exception 발생) - 5 - 6\n",
    "\n",
    "# 위의 두 경우는 exception의 발생 원인이 다르다. 하지만 같은 처리를 진행한다.\n",
    "# 처리 방법을 다르게 하고 싶을 때 except block를 경우에 따라 다르게 하면 된다.\n",
    "# 이때 주의할 점은 어떤 exception을 처리할지를 except block에 명시해줘야 한다. 그리고 그 명시 이름이 error의 이름이다."
   ]
  },
  {
   "cell_type": "code",
   "execution_count": 11,
   "metadata": {},
   "outputs": [
    {
     "name": "stdout",
     "output_type": "stream",
     "text": [
      "프로그램 시작\n",
      "숫자 입력: A\n",
      "입력받은 값이 숫자가 아닙니다.\n",
      "프로그램 종료\n"
     ]
    }
   ],
   "source": [
    "# try - except 구문\n",
    "\n",
    "print(\"프로그램 시작\")                          # 1\n",
    "\n",
    "try:\n",
    "    num = int(input(\"숫자 입력: \"))            # 2\n",
    "    result = 10 // num                        # 3\n",
    "    print(f\"결과 값: {result}\")               # 4\n",
    "except ValueError:\n",
    "    print(\"입력받은 값이 숫자가 아닙니다.\")     # 5-1\n",
    "except ZeroDivisionError:\n",
    "    print(\"0으로는 숫자를 나눌 수 없습니다.\")   # 5-2 \n",
    "    \n",
    "    \n",
    "print(\"프로그램 종료\")                         # 6"
   ]
  },
  {
   "cell_type": "code",
   "execution_count": null,
   "metadata": {},
   "outputs": [],
   "source": [
    "# 2에서 ValueError 발생 시 실행 순서\n",
    "# 1 - 2(실행 X) - 5-1 - 6\n",
    "\n",
    "# 3에서 ZeroDivsionError 발생 시 실행 순서\n",
    "# 1 - 2 - 3(실행 X) - 5-2 - 6\n",
    "# 이때 바로 5-2로 가는 것은 아니다. 첫번째 except block의 조건을 발생한 error와 비교한다.\n",
    "# 일치하지 않으니 다음 except block로 넘어간다."
   ]
  },
  {
   "cell_type": "code",
   "execution_count": 13,
   "metadata": {},
   "outputs": [
    {
     "name": "stdout",
     "output_type": "stream",
     "text": [
      "프로그램 시작\n",
      "숫자 입력: 10\n",
      "결과 값: 1\n"
     ]
    },
    {
     "ename": "NameError",
     "evalue": "name 'result2' is not defined",
     "output_type": "error",
     "traceback": [
      "\u001b[1;31m---------------------------------------------------------------------------\u001b[0m",
      "\u001b[1;31mNameError\u001b[0m                                 Traceback (most recent call last)",
      "\u001b[1;32m~\\AppData\\Local\\Temp\\ipykernel_20772\\1131209382.py\u001b[0m in \u001b[0;36m<module>\u001b[1;34m\u001b[0m\n\u001b[0;32m      7\u001b[0m     \u001b[0mresult\u001b[0m \u001b[1;33m=\u001b[0m \u001b[1;36m10\u001b[0m \u001b[1;33m//\u001b[0m \u001b[0mnum\u001b[0m                        \u001b[1;31m# 3\u001b[0m\u001b[1;33m\u001b[0m\u001b[1;33m\u001b[0m\u001b[0m\n\u001b[0;32m      8\u001b[0m     \u001b[0mprint\u001b[0m\u001b[1;33m(\u001b[0m\u001b[1;34mf\"결과 값: {result}\"\u001b[0m\u001b[1;33m)\u001b[0m               \u001b[1;31m# 4\u001b[0m\u001b[1;33m\u001b[0m\u001b[1;33m\u001b[0m\u001b[0m\n\u001b[1;32m----> 9\u001b[1;33m     \u001b[0mprint\u001b[0m\u001b[1;33m(\u001b[0m\u001b[0mresult2\u001b[0m\u001b[1;33m)\u001b[0m                           \u001b[1;31m# NameError exception 발생\u001b[0m\u001b[1;33m\u001b[0m\u001b[1;33m\u001b[0m\u001b[0m\n\u001b[0m\u001b[0;32m     10\u001b[0m \u001b[1;32mexcept\u001b[0m \u001b[0mValueError\u001b[0m\u001b[1;33m:\u001b[0m\u001b[1;33m\u001b[0m\u001b[1;33m\u001b[0m\u001b[0m\n\u001b[0;32m     11\u001b[0m     \u001b[0mprint\u001b[0m\u001b[1;33m(\u001b[0m\u001b[1;34m\"입력받은 값이 숫자가 아닙니다.\"\u001b[0m\u001b[1;33m)\u001b[0m     \u001b[1;31m# 5-1\u001b[0m\u001b[1;33m\u001b[0m\u001b[1;33m\u001b[0m\u001b[0m\n",
      "\u001b[1;31mNameError\u001b[0m: name 'result2' is not defined"
     ]
    }
   ],
   "source": [
    "# try - except 구문\n",
    "\n",
    "print(\"프로그램 시작\")                          # 1\n",
    "\n",
    "try:\n",
    "    num = int(input(\"숫자 입력: \"))            # 2     ValueError exception 발생 가능성있는 코드\n",
    "    result = 10 // num                        # 3     ZeroDivisionError exception 발생 가능성있는 코드\n",
    "    print(f\"결과 값: {result}\")               # 4\n",
    "    print(result2)                           # NameError exception 발생\n",
    "except ValueError:\n",
    "    print(\"입력받은 값이 숫자가 아닙니다.\")     # 5-1\n",
    "except ZeroDivisionError:\n",
    "    print(\"0으로는 숫자를 나눌 수 없습니다.\")   # 5-2 \n",
    "    \n",
    "    \n",
    "print(\"프로그램 종료\")                         # 6"
   ]
  },
  {
   "cell_type": "code",
   "execution_count": null,
   "metadata": {},
   "outputs": [],
   "source": [
    "# 위에 새로운 명령문을 작성했다.\n",
    "# NameError가 발생하는데 except에서 처리하지 못해 error가 발생한다.\n",
    "# script file이 길어진다면 발생할 수많은 exception에 대해 except block를 작성하는 데에 무리가 있다.\n",
    "# 그래서 구체적인 handling이 필요한 경우에만 해당 exception에 대한 except block를 작성하고\n",
    "# 나머지는 한 번에 처리하는 것이 효율적이다.\n",
    "# 이때는 아래와 같이 하면 된다. if 문에서 마지막에 else:를 넣는 것처럼 except:만 적고 조건은 적지 않는다.\n",
    "# 그 결과 명시된 error를 제외한 나머지 모든 error는 이 마지막 block에서 handling된다."
   ]
  },
  {
   "cell_type": "code",
   "execution_count": null,
   "metadata": {},
   "outputs": [],
   "source": [
    "# try - except 구문\n",
    "\n",
    "print(\"프로그램 시작\")                          # 1\n",
    "\n",
    "try:\n",
    "    num = int(input(\"숫자 입력: \"))            # 2     ValueError exception 발생 가능성있는 코드\n",
    "    result = 10 // num                        # 3     ZeroDivisionError exception 발생 가능성있는 코드\n",
    "    print(f\"결과 값: {result}\")               # 4\n",
    "    print(result2)                           # NameError exception 발생\n",
    "except ValueError:\n",
    "    print(\"입력받은 값이 숫자가 아닙니다.\")     # 5-1\n",
    "except ZeroDivisionError:\n",
    "    print(\"0으로는 숫자를 나눌 수 없습니다.\")   # 5-2 \n",
    "except:\n",
    "    print(\"ValueError와 ZeroDivisionError를 제외한 나머지 Exception들을 처리하는 except block입니다.\")\n",
    "    \n",
    "print(\"프로그램 종료\")                         # 6"
   ]
  },
  {
   "cell_type": "code",
   "execution_count": null,
   "metadata": {},
   "outputs": [],
   "source": [
    "# 변수를 선언하면 python에서 설정한 메시지를 출력할 수 있다. 그 예시는 아래와 같다."
   ]
  },
  {
   "cell_type": "code",
   "execution_count": 14,
   "metadata": {},
   "outputs": [
    {
     "name": "stdout",
     "output_type": "stream",
     "text": [
      "프로그램 시작\n",
      "숫자 입력: A\n",
      "입력받은 값이 숫자가 아니어서 exception 발생: invalid literal for int() with base 10: 'A'\n",
      "프로그램 종료\n"
     ]
    }
   ],
   "source": [
    "# try - except 구문\n",
    "\n",
    "print(\"프로그램 시작\")                          # 1\n",
    "\n",
    "try:\n",
    "    num = int(input(\"숫자 입력: \"))            # 2     ValueError exception 발생 가능성있는 코드\n",
    "    result = 10 // num                        # 3     ZeroDivisionError exception 발생 가능성있는 코드\n",
    "    print(f\"결과 값: {result}\")               # 4\n",
    "    print(result2)                           # NameError exception 발생\n",
    "except ValueError as ve:\n",
    "    print(\"입력받은 값이 숫자가 아니어서 exception 발생:\", ve)     # 5-1\n",
    "except ZeroDivisionError as ze:\n",
    "    print(\"0으로는 나누기를 할 수 없어 exception 발생:\", ze)   # 5-2 \n",
    "except:\n",
    "    print(\"ValueError와 ZeroDivisionError를 제외한 나머지 Exception들을 처리하는 except block입니다.\")\n",
    "    \n",
    "print(\"프로그램 종료\")                         # 6"
   ]
  },
  {
   "cell_type": "markdown",
   "metadata": {
    "slideshow": {
     "slide_type": "subslide"
    }
   },
   "source": [
    "### 1.2.2. finally 구문\n",
    "\n",
    "- exception 발생 여부, 처리 여부와 관계없이 무조건 실행되는 코드 block\n",
    "    - try 구문에 **반드시 실행되야 하는 코드블록을 작성할때 사용한다.**\n",
    "    - 보통 프로그램이 외부자원과 연결해서 데이터를 주고 받는 작업을 할때 마지막 연결을 종료하는 작업을 finally 블록에 넣는다.\n",
    "- finally 는 except 보다 먼저 올 수 없다.\n",
    "    - 구문순서\n",
    "        1. try - except - finally\n",
    "        1. try - except\n",
    "        1. try - finally\n",
    "- 프로그램은\n",
    "    - 연결 -> input / output -> 연결 닫기\n",
    "    - 의 순서로 진행된다. 이때 연결 닫기는 반드시 실행되어야 한다. 그래서 finally block이 필요하다."
   ]
  },
  {
   "cell_type": "code",
   "execution_count": 18,
   "metadata": {
    "slideshow": {
     "slide_type": "fragment"
    }
   },
   "outputs": [
    {
     "name": "stdout",
     "output_type": "stream",
     "text": [
      "시작\n",
      "1\n",
      "2\n",
      "4\n",
      "종료\n"
     ]
    }
   ],
   "source": [
    "print(\"시작\")\n",
    "\n",
    "try:\n",
    "    print(1)\n",
    "    print(2)\n",
    "except:\n",
    "    print(3)\n",
    "finally:\n",
    "    print(4)\n",
    "    \n",
    "print(\"종료\")"
   ]
  },
  {
   "cell_type": "code",
   "execution_count": 20,
   "metadata": {},
   "outputs": [
    {
     "name": "stdout",
     "output_type": "stream",
     "text": [
      "시작\n",
      "1\n",
      "3\n",
      "4\n",
      "종료\n"
     ]
    }
   ],
   "source": [
    "print(\"시작\")\n",
    "\n",
    "try:\n",
    "    print(1)\n",
    "    a = 10 / 0     # 일부러 error를 발생시켰다.\n",
    "    print(2)\n",
    "except:\n",
    "    print(3)\n",
    "finally:\n",
    "    print(4)\n",
    "    \n",
    "print(\"종료\")"
   ]
  },
  {
   "cell_type": "code",
   "execution_count": null,
   "metadata": {},
   "outputs": [],
   "source": [
    "# 위 두 가지 경우에서 볼 수 있듯 finally block는 무조건 실행된다."
   ]
  },
  {
   "cell_type": "code",
   "execution_count": 21,
   "metadata": {},
   "outputs": [
    {
     "name": "stdout",
     "output_type": "stream",
     "text": [
      "시작\n",
      "1\n",
      "4\n"
     ]
    },
    {
     "ename": "ZeroDivisionError",
     "evalue": "division by zero",
     "output_type": "error",
     "traceback": [
      "\u001b[1;31m---------------------------------------------------------------------------\u001b[0m",
      "\u001b[1;31mZeroDivisionError\u001b[0m                         Traceback (most recent call last)",
      "\u001b[1;32m~\\AppData\\Local\\Temp\\ipykernel_20772\\4146294589.py\u001b[0m in \u001b[0;36m<module>\u001b[1;34m\u001b[0m\n\u001b[0;32m      3\u001b[0m \u001b[1;32mtry\u001b[0m\u001b[1;33m:\u001b[0m\u001b[1;33m\u001b[0m\u001b[1;33m\u001b[0m\u001b[0m\n\u001b[0;32m      4\u001b[0m     \u001b[0mprint\u001b[0m\u001b[1;33m(\u001b[0m\u001b[1;36m1\u001b[0m\u001b[1;33m)\u001b[0m\u001b[1;33m\u001b[0m\u001b[1;33m\u001b[0m\u001b[0m\n\u001b[1;32m----> 5\u001b[1;33m     \u001b[0ma\u001b[0m \u001b[1;33m=\u001b[0m \u001b[1;36m10\u001b[0m \u001b[1;33m/\u001b[0m \u001b[1;36m0\u001b[0m     \u001b[1;31m# 일부러 error를 발생시켰다.\u001b[0m\u001b[1;33m\u001b[0m\u001b[1;33m\u001b[0m\u001b[0m\n\u001b[0m\u001b[0;32m      6\u001b[0m     \u001b[0mprint\u001b[0m\u001b[1;33m(\u001b[0m\u001b[1;36m2\u001b[0m\u001b[1;33m)\u001b[0m\u001b[1;33m\u001b[0m\u001b[1;33m\u001b[0m\u001b[0m\n\u001b[0;32m      7\u001b[0m \u001b[1;32mexcept\u001b[0m \u001b[0mNameError\u001b[0m\u001b[1;33m:\u001b[0m     \u001b[1;31m# exception 조건을 기존과 다르게 설정했다.\u001b[0m\u001b[1;33m\u001b[0m\u001b[1;33m\u001b[0m\u001b[0m\n",
      "\u001b[1;31mZeroDivisionError\u001b[0m: division by zero"
     ]
    }
   ],
   "source": [
    "print(\"시작\")\n",
    "\n",
    "try:\n",
    "    print(1)\n",
    "    a = 10 / 0     # 일부러 error를 발생시켰다.\n",
    "    print(2)\n",
    "except NameError:     # exception 조건을 기존과 다르게 설정했다.\n",
    "    print(3)\n",
    "finally:\n",
    "    print(4)\n",
    "    \n",
    "print(\"종료\")"
   ]
  },
  {
   "cell_type": "code",
   "execution_count": 22,
   "metadata": {},
   "outputs": [],
   "source": [
    "# 위와 같이 error이 발생하지만 exception handling을 잘 하지 못했다.\n",
    "# 그래도 finally block는 정상적으로 실행되었다는 것을 확인할 수 있다."
   ]
  },
  {
   "cell_type": "code",
   "execution_count": 23,
   "metadata": {},
   "outputs": [],
   "source": [
    "# exception이 무엇인지 또 exception을 어떻게 처리할 수 있는지 확인했다.\n",
    "# 이제 exception을 어떻게 발생 시킬 수 있는지 확인해 보자."
   ]
  },
  {
   "cell_type": "code",
   "execution_count": 24,
   "metadata": {},
   "outputs": [],
   "source": [
    "# exception을 만드는 이유는 무엇일까?\n",
    "# exception은 처리 가능한 오류이다. 그래서 exceptino을 발생시키는 이유는 내가 처리할 수 없어서\n",
    "# 다른 곳에서 처리하길 바랄 때 사용한다."
   ]
  },
  {
   "cell_type": "markdown",
   "metadata": {
    "slideshow": {
     "slide_type": "slide"
    }
   },
   "source": [
    "## 1.3. Exception 발생 시키기\n",
    "\n",
    "### 1.3.1. 사용자 정의 Exception class 구현(내가 만든 Exception)\n",
    "\n",
    "- Python은 Exception 상황을 class로 정의해 사용한다.\n",
    "    - Exception이 발생하는 상황과 관련된 attribute들과 method들을 정의한 class\n",
    "    - 상황에 따라 attribute와 method는 다르다.\n",
    "    \n",
    "- 구현\n",
    "    - `Exception` class를 **상속받는다.**\n",
    "        - Python의 모든 error(NameError, ValueError, ZeroDivisionError 등)는 Exception class를 상속받는다.\n",
    "    - class 이름은 Exception 상황을 설명할 수 있는 이름을 준다.\n",
    "\n"
   ]
  },
  {
   "cell_type": "code",
   "execution_count": 45,
   "metadata": {
    "slideshow": {
     "slide_type": "fragment"
    }
   },
   "outputs": [],
   "source": [
    "# 날짜를 다루는 프로그램을 만든다.\n",
    "# 월에 1 ~ 12 외의 값을 대입하려고 할 때 발생시킬 exception 상황을 class로 정의한다.\n",
    "\n",
    "class InvalidMonthException(Exception):     # Exception class 상속\n",
    "    \n",
    "    def __init__(self, invalid_month):\n",
    "        \"\"\"\n",
    "        month에 저장하려는 잘못된 입력값을 받아서 attribute로 저장.\n",
    "        \"\"\"\n",
    "        self.invalid_month = invalid_month\n",
    "            \n",
    "    def __str__(self):\n",
    "        return f\"{self.invalid_month}은(는) 사용할 수 없는 월 값입니다. 1부터 12까지의 수를 입력하세요.\""
   ]
  },
  {
   "cell_type": "markdown",
   "metadata": {
    "slideshow": {
     "slide_type": "slide"
    }
   },
   "source": [
    "### 1.3.2. Exception 발생시키기\n",
    "- 함수나 method가 더 이상 작업을 진행 할 수 없는 조건이 되면 Exception을 강제로 발생시킨다.\n",
    "- **Call Stack Mechanism**\n",
    "    - 발생한 Exception은 처리를 하지 않으면 caller에게 전달된다.\n",
    "        - 발생한 Exception에 대한 처리가 모든 caller에서 안되면 결국 파이썬 실행환경까지 전달되어 프로그램은 비정상적으로 종료 되게 된다."
   ]
  },
  {
   "cell_type": "code",
   "execution_count": 27,
   "metadata": {
    "slideshow": {
     "slide_type": "fragment"
    }
   },
   "outputs": [],
   "source": [
    "# stack이란?\n",
    "# 순서대로 쌓고 순서대로 가져가는 것. 접시 예시.\n",
    "# 그런데 입출구가 하나밖에 없다. 1 - 2 - 3 순서로 들어가면 3 - 2 - 1 순서로 나온다.\n",
    "\n",
    "# 이렇게 쌓이는 메모리를 stack 메모리라고 한다.\n",
    "\n",
    "# 이 과정은 exception에도 똑같이 적용된다."
   ]
  },
  {
   "cell_type": "code",
   "execution_count": null,
   "metadata": {},
   "outputs": [],
   "source": [
    "# exception은 다시 호출한 곳으로 돌아가야 한다.\n",
    "# caller에게 exception으로 인해 일을 수행하지 못했다는 것을 알려서 더 이상 다음 일이 진행되지 않도록 해야한다.\n",
    "# 그래서 exception 발생시키기 과정이 필요하다."
   ]
  },
  {
   "cell_type": "code",
   "execution_count": null,
   "metadata": {},
   "outputs": [],
   "source": [
    "# 정상적으로 끝났던 비정상적으로 끝났던 원래로 돌아가야 한다.\n",
    "# 정상적으로 끝날 때는 return을 사용해 결과를 반환하고, 비정상적으로 끝날 때는 raise를 사용해 exception을 발생시킨다."
   ]
  },
  {
   "cell_type": "markdown",
   "metadata": {
    "slideshow": {
     "slide_type": "subslide"
    }
   },
   "source": [
    "### 1.3.3. raise 구문\n",
    "- Exception을 강제로 발생시킨다.\n",
    "    - 업무 규칙을 어겼거나 다음 명령문을 실행할 수 없는 조건이 되면 진행을 멈추고 caller로 요청에게 작업을 처리 못했음을 알리며 돌아가도록 할때 exception을 발생시킨다.\n",
    "    - 구문\n",
    "    ```python\n",
    "        raise Exception객체\n",
    "    ```\n",
    "- **raise와 return**\n",
    "    - 함수나 메소드에서 return과 raise 구문이 실행되면 모두 caller로 돌아간다.\n",
    "    - return은 정상적으로 끝나서 돌아가는 의미이다. 그래서 처리결과가 있으면 그 값을 가지고 돌아간다.\n",
    "        - caller는 그 다음작업을 이어서 하면 된다.\n",
    "    - raise는 실행도중 문제(Exception)가 생겨 비정상적으로 끝나서 돌아가는 의미이다. 그래서 비정상적인 상황 정보를 가지는 Exception객체를 반환값으로 가지고 돌아간다.\n",
    "    - raise는 왜 비정상적으로 끝났는지 이유를 알려줘야 한다. 그래서 exception을 발생시킨 instance를 반환한다.\n",
    "        - caller는 try - except구문으로 발생한 exception을 처리하여 프로그램을 정상화 하거나 자신도 caller에게 exception을 발생시키는 처리를 한다.\n",
    "        "
   ]
  },
  {
   "cell_type": "code",
   "execution_count": 30,
   "metadata": {},
   "outputs": [],
   "source": [
    "# 위의 InvalidMonthError class와 연결"
   ]
  },
  {
   "cell_type": "code",
   "execution_count": 54,
   "metadata": {},
   "outputs": [],
   "source": [
    "# 월을 처리하는 함수\n",
    "\n",
    "def save_month(month):\n",
    "    # 1 ~ 12월 중 하나를 받아서 저장하는 함수\n",
    "    \n",
    "    if 1 <= month and month <= 12:\n",
    "        print(f\"{month}월을 저장했습니다.\")"
   ]
  },
  {
   "cell_type": "code",
   "execution_count": 36,
   "metadata": {},
   "outputs": [],
   "source": [
    "save_month(20)"
   ]
  },
  {
   "cell_type": "code",
   "execution_count": 37,
   "metadata": {},
   "outputs": [],
   "source": [
    "# 위와 같이 함수를 정의했을 경우 내 목적에는 맞게 함수가 실행되었지만 이는 좋은 방법이 아니다.\n",
    "# 시간 정보(월, 일, 시, 분, 초)를 대입해야 하는데 월 다음의 정보는 save_month()가 정상 처리된 다음에 실행되어야 한다.\n",
    "# 하지만 위와 같이 함수를 정의했을 경우 save_month()가 정상적으로 실행되지 않아도 다음 단계가 실행된다.\n",
    "# 그래서 값을 잘 대입했는지 못했는지를 알려줘야 한다. 그 함수는 다음과 같다."
   ]
  },
  {
   "cell_type": "code",
   "execution_count": 49,
   "metadata": {
    "slideshow": {
     "slide_type": "fragment"
    }
   },
   "outputs": [],
   "source": [
    "# 월을 처리하는 함수\n",
    "\n",
    "def save_month(month):\n",
    "    # 1 ~ 12월 중 하나를 받아서 저장하는 함수\n",
    "    if month < 1 or month > 12:     # 잘못된 월이어서 저장할 수 없는 상황이라면\n",
    "        raise InvalidMonthException(month)     # InvalidMonthException을 발생시킨다.\n",
    "    \n",
    "    print(f\"{month}월을 저장했습니다.\")\n",
    "\n",
    "def save_day():\n",
    "    print(\"날짜를 저장했습니다.\")"
   ]
  },
  {
   "cell_type": "code",
   "execution_count": 47,
   "metadata": {},
   "outputs": [
    {
     "ename": "InvalidMonthException",
     "evalue": "20은(는) 사용할 수 없는 월 값입니다. 1부터 12까지의 수를 입력하세요.",
     "output_type": "error",
     "traceback": [
      "\u001b[1;31m---------------------------------------------------------------------------\u001b[0m",
      "\u001b[1;31mInvalidMonthException\u001b[0m                     Traceback (most recent call last)",
      "\u001b[1;32m~\\AppData\\Local\\Temp\\ipykernel_20772\\3619412652.py\u001b[0m in \u001b[0;36m<module>\u001b[1;34m\u001b[0m\n\u001b[1;32m----> 1\u001b[1;33m \u001b[0msave_month\u001b[0m\u001b[1;33m(\u001b[0m\u001b[1;36m20\u001b[0m\u001b[1;33m)\u001b[0m\u001b[1;33m\u001b[0m\u001b[1;33m\u001b[0m\u001b[0m\n\u001b[0m",
      "\u001b[1;32m~\\AppData\\Local\\Temp\\ipykernel_20772\\3625136049.py\u001b[0m in \u001b[0;36msave_month\u001b[1;34m(month)\u001b[0m\n\u001b[0;32m      4\u001b[0m     \u001b[1;31m# 1 ~ 12월 중 하나를 받아서 저장하는 함수\u001b[0m\u001b[1;33m\u001b[0m\u001b[1;33m\u001b[0m\u001b[0m\n\u001b[0;32m      5\u001b[0m     \u001b[1;32mif\u001b[0m \u001b[0mmonth\u001b[0m \u001b[1;33m<\u001b[0m \u001b[1;36m1\u001b[0m \u001b[1;32mor\u001b[0m \u001b[0mmonth\u001b[0m \u001b[1;33m>\u001b[0m \u001b[1;36m12\u001b[0m\u001b[1;33m:\u001b[0m     \u001b[1;31m# 잘못된 월이어서 저장할 수 없는 상황이라면\u001b[0m\u001b[1;33m\u001b[0m\u001b[1;33m\u001b[0m\u001b[0m\n\u001b[1;32m----> 6\u001b[1;33m         \u001b[1;32mraise\u001b[0m \u001b[0mInvalidMonthException\u001b[0m\u001b[1;33m(\u001b[0m\u001b[0mmonth\u001b[0m\u001b[1;33m)\u001b[0m     \u001b[1;31m# InvalidMonthException을 발생시킨다.\u001b[0m\u001b[1;33m\u001b[0m\u001b[1;33m\u001b[0m\u001b[0m\n\u001b[0m\u001b[0;32m      7\u001b[0m \u001b[1;33m\u001b[0m\u001b[0m\n\u001b[0;32m      8\u001b[0m     \u001b[0mprint\u001b[0m\u001b[1;33m(\u001b[0m\u001b[1;34mf\"{month}월을 저장했습니다.\"\u001b[0m\u001b[1;33m)\u001b[0m\u001b[1;33m\u001b[0m\u001b[1;33m\u001b[0m\u001b[0m\n",
      "\u001b[1;31mInvalidMonthException\u001b[0m: 20은(는) 사용할 수 없는 월 값입니다. 1부터 12까지의 수를 입력하세요."
     ]
    }
   ],
   "source": [
    "save_month(20)"
   ]
  },
  {
   "cell_type": "code",
   "execution_count": 51,
   "metadata": {},
   "outputs": [],
   "source": [
    "# 위와 같이 내가 정의한 Exception이 발생한다. exception이 발생해서 더 이상 진행되지 못하고 정지된다.\n",
    "# exception이 발생했으니 try - except를 통해 처리할 수 있다. 이때 처리는 아래와 같이 명령문이 있는 곳에서 해야 한다."
   ]
  },
  {
   "cell_type": "code",
   "execution_count": 50,
   "metadata": {},
   "outputs": [
    {
     "name": "stdout",
     "output_type": "stream",
     "text": [
      "저장에 실패했습니다.\n",
      "종료\n"
     ]
    }
   ],
   "source": [
    "try:\n",
    "    save_month(20)\n",
    "    save_day()\n",
    "except:\n",
    "    print(\"저장에 실패했습니다.\")\n",
    "    \n",
    "print(\"종료\")"
   ]
  },
  {
   "cell_type": "code",
   "execution_count": null,
   "metadata": {},
   "outputs": [],
   "source": [
    "# save_month() 함수에서 잘못된 값이 입력되면 InvalidMonthException 이 raise된다.\n",
    "# 그래서 except에서 이 exception을 사용할 수 있다."
   ]
  },
  {
   "cell_type": "code",
   "execution_count": 53,
   "metadata": {},
   "outputs": [
    {
     "name": "stdout",
     "output_type": "stream",
     "text": [
      "저장에 실패했습니다. 20은(는) 사용할 수 없는 월 값입니다. 1부터 12까지의 수를 입력하세요.\n",
      "종료\n"
     ]
    }
   ],
   "source": [
    "try:\n",
    "    save_month(20)\n",
    "    save_day()\n",
    "except InvalidMonthException as e:     # e 변수에 raise된 exception instance가 대입된다.\n",
    "    print(\"저장에 실패했습니다.\", e)\n",
    "    \n",
    "print(\"종료\")"
   ]
  },
  {
   "cell_type": "code",
   "execution_count": null,
   "metadata": {},
   "outputs": [],
   "source": []
  },
  {
   "cell_type": "code",
   "execution_count": 55,
   "metadata": {},
   "outputs": [],
   "source": [
    "# NotEnoughStockException class 정의\n",
    "\n",
    "class NotEnoughStockException(Exception):\n",
    "    \n",
    "    def __init__(self, stock_amount, order_amount):\n",
    "        # 재고량, 주문량을 attribute로 저장\n",
    "        self.stock_amount = stock_amount\n",
    "        self.order_amount = order_amount\n",
    "        \n",
    "    def __str__(self):\n",
    "        return f\"재고량보다 많은 양을 주문했습니다. 재고량: {self.stock_amount}, 주문량: {self.order_amount}\""
   ]
  },
  {
   "cell_type": "code",
   "execution_count": 57,
   "metadata": {},
   "outputs": [],
   "source": [
    "# 주문 처리 함수\n",
    "# 주문 갯수를 입력받고 재고량과 비교해 값을 처리한다. 이때 재고량보다 많은 양이 주문되면 함수가 실행되면 안된다.\n",
    "# 그래서 exception class인 NotEnoughStockException 만들어서 처리해야 한다.\n",
    "\n",
    "def order(order_amount):\n",
    "    \"\"\"\n",
    "    주문 처리 함수\n",
    "    parameter:\n",
    "        order_amount: int - 주문량을 입력받는다.\n",
    "    return:\n",
    "        None\n",
    "    raise:\n",
    "        NotEnoughStockException주문량보다 재고량이 적으면 발생하는 exception\n",
    "    \"\"\"\n",
    "    print(\"재고량 조회\")\n",
    "    stock_amount = 10\n",
    "    \n",
    "    print(\"주문 처리\")\n",
    "    print(\"주문 정보 저장\")\n",
    "    stock_amount -= order_amount\n",
    "    \n",
    "    print(\"주문 완료. 남은 재고량:\", stock_amount)"
   ]
  },
  {
   "cell_type": "code",
   "execution_count": 58,
   "metadata": {},
   "outputs": [
    {
     "name": "stdout",
     "output_type": "stream",
     "text": [
      "재고량 조회\n",
      "주문 처리\n",
      "주문 정보 저장\n",
      "주문 완료. 남은 재고량: 5\n"
     ]
    }
   ],
   "source": [
    "order(5)"
   ]
  },
  {
   "cell_type": "code",
   "execution_count": null,
   "metadata": {},
   "outputs": [],
   "source": [
    "# 재고량보다 적은 양을 대입했을 때 정상 작동"
   ]
  },
  {
   "cell_type": "code",
   "execution_count": 59,
   "metadata": {},
   "outputs": [
    {
     "name": "stdout",
     "output_type": "stream",
     "text": [
      "재고량 조회\n",
      "주문 처리\n",
      "주문 정보 저장\n",
      "주문 완료. 남은 재고량: -30\n"
     ]
    }
   ],
   "source": [
    "order(40)"
   ]
  },
  {
   "cell_type": "code",
   "execution_count": 60,
   "metadata": {},
   "outputs": [],
   "source": [
    "# 재고량보다 많은 양을 대입했을 때도 작동 - 잘못됨 exception handling 필요"
   ]
  },
  {
   "cell_type": "code",
   "execution_count": 61,
   "metadata": {},
   "outputs": [],
   "source": [
    "# 주문 처리 함수\n",
    "# 주문 갯수를 입력받고 재고량과 비교해 값을 처리한다. 이때 재고량보다 많은 양이 주문되면 함수가 실행되면 안된다.\n",
    "# 그래서 exception class인 NotEnoughStockException 만들어서 처리해야 한다.\n",
    "\n",
    "def order(order_amount):\n",
    "    \"\"\"\n",
    "    주문 처리 함수\n",
    "    parameter:\n",
    "        order_amount: int - 주문량을 입력받는다.\n",
    "    return:\n",
    "        None\n",
    "    raise:\n",
    "        NotEnoughStockException주문량보다 재고량이 적으면 발생하는 exception\n",
    "    \"\"\"\n",
    "    print(\"재고량 조회\")\n",
    "    stock_amount = 10\n",
    "    if stock_amount < order_amount:\n",
    "        raise NotEnoughStockException(stock_amount, order_amount)     # exception instance를 생성해서 반환.\n",
    "        # 함수에서 return과 같다. 다만 비정상적인 실행에서의 return은 raise이다.\n",
    "    \n",
    "    print(\"주문 처리\")\n",
    "    print(\"주문 정보 저장\")\n",
    "    stock_amount -= order_amount\n",
    "    \n",
    "    print(\"주문 완료. 남은 재고량:\", stock_amount)"
   ]
  },
  {
   "cell_type": "code",
   "execution_count": 62,
   "metadata": {},
   "outputs": [
    {
     "name": "stdout",
     "output_type": "stream",
     "text": [
      "재고량 조회\n"
     ]
    },
    {
     "ename": "NotEnoughStockException",
     "evalue": "재고량보다 많은 양을 주문했습니다. 재고량: 10, 주문량: 40",
     "output_type": "error",
     "traceback": [
      "\u001b[1;31m---------------------------------------------------------------------------\u001b[0m",
      "\u001b[1;31mNotEnoughStockException\u001b[0m                   Traceback (most recent call last)",
      "\u001b[1;32m~\\AppData\\Local\\Temp\\ipykernel_20772\\368344094.py\u001b[0m in \u001b[0;36m<module>\u001b[1;34m\u001b[0m\n\u001b[1;32m----> 1\u001b[1;33m \u001b[0morder\u001b[0m\u001b[1;33m(\u001b[0m\u001b[1;36m40\u001b[0m\u001b[1;33m)\u001b[0m\u001b[1;33m\u001b[0m\u001b[1;33m\u001b[0m\u001b[0m\n\u001b[0m",
      "\u001b[1;32m~\\AppData\\Local\\Temp\\ipykernel_20772\\4229533061.py\u001b[0m in \u001b[0;36morder\u001b[1;34m(order_amount)\u001b[0m\n\u001b[0;32m     16\u001b[0m     \u001b[0mstock_amount\u001b[0m \u001b[1;33m=\u001b[0m \u001b[1;36m10\u001b[0m\u001b[1;33m\u001b[0m\u001b[1;33m\u001b[0m\u001b[0m\n\u001b[0;32m     17\u001b[0m     \u001b[1;32mif\u001b[0m \u001b[0mstock_amount\u001b[0m \u001b[1;33m<\u001b[0m \u001b[0morder_amount\u001b[0m\u001b[1;33m:\u001b[0m\u001b[1;33m\u001b[0m\u001b[1;33m\u001b[0m\u001b[0m\n\u001b[1;32m---> 18\u001b[1;33m         \u001b[1;32mraise\u001b[0m \u001b[0mNotEnoughStockException\u001b[0m\u001b[1;33m(\u001b[0m\u001b[0mstock_amount\u001b[0m\u001b[1;33m,\u001b[0m \u001b[0morder_amount\u001b[0m\u001b[1;33m)\u001b[0m\u001b[1;33m\u001b[0m\u001b[1;33m\u001b[0m\u001b[0m\n\u001b[0m\u001b[0;32m     19\u001b[0m \u001b[1;33m\u001b[0m\u001b[0m\n\u001b[0;32m     20\u001b[0m     \u001b[0mprint\u001b[0m\u001b[1;33m(\u001b[0m\u001b[1;34m\"주문 처리\"\u001b[0m\u001b[1;33m)\u001b[0m\u001b[1;33m\u001b[0m\u001b[1;33m\u001b[0m\u001b[0m\n",
      "\u001b[1;31mNotEnoughStockException\u001b[0m: 재고량보다 많은 양을 주문했습니다. 재고량: 10, 주문량: 40"
     ]
    }
   ],
   "source": [
    "order(40)"
   ]
  },
  {
   "cell_type": "code",
   "execution_count": null,
   "metadata": {},
   "outputs": [],
   "source": [
    "# exception이 잘 실행된다는 것을 확인할 수 있다."
   ]
  },
  {
   "cell_type": "code",
   "execution_count": null,
   "metadata": {},
   "outputs": [],
   "source": []
  },
  {
   "cell_type": "code",
   "execution_count": 63,
   "metadata": {},
   "outputs": [],
   "source": [
    "order?     # 설명을 보고 아래와 같이 내가 원하는 대로 명령문을 구성할 수 있다."
   ]
  },
  {
   "cell_type": "code",
   "execution_count": 66,
   "metadata": {},
   "outputs": [
    {
     "name": "stdout",
     "output_type": "stream",
     "text": [
      "재고량 조회\n",
      "전체 주문 실패. 재고량보다 많은 양을 주문했습니다. 재고량: 10, 주문량: 50\n",
      "재고량 조회\n",
      "주문 처리\n",
      "주문 정보 저장\n",
      "주문 완료. 남은 재고량: 0\n"
     ]
    }
   ],
   "source": [
    "try:\n",
    "    order(50)\n",
    "except NotEnoughStockException as e:\n",
    "    print(\"전체 주문 실패.\", e)\n",
    "    order(e.stock_amount)     # 주문량보다 재고량이 적으니 재고량을 전부 주문한다.\n",
    "        # e라는 instance의 stock_amount 변수를 order 함수에 대입한다."
   ]
  },
  {
   "cell_type": "code",
   "execution_count": null,
   "metadata": {},
   "outputs": [],
   "source": [
    "# 실행 결과 남은 재고량이 0으로 뜬다.\n",
    "# 남아있는 재고량을 모두 주문했기 때문."
   ]
  },
  {
   "cell_type": "code",
   "execution_count": null,
   "metadata": {},
   "outputs": [],
   "source": []
  },
  {
   "cell_type": "code",
   "execution_count": null,
   "metadata": {},
   "outputs": [],
   "source": []
  }
 ],
 "metadata": {
  "kernelspec": {
   "display_name": "Python 3 (ipykernel)",
   "language": "python",
   "name": "python3"
  },
  "language_info": {
   "codemirror_mode": {
    "name": "ipython",
    "version": 3
   },
   "file_extension": ".py",
   "mimetype": "text/x-python",
   "name": "python",
   "nbconvert_exporter": "python",
   "pygments_lexer": "ipython3",
   "version": "3.9.13"
  },
  "toc": {
   "base_numbering": 1,
   "nav_menu": {},
   "number_sections": true,
   "sideBar": true,
   "skip_h1_title": false,
   "title_cell": "Table of Contents",
   "title_sidebar": "Contents",
   "toc_cell": false,
   "toc_position": {},
   "toc_section_display": true,
   "toc_window_display": false
  },
  "varInspector": {
   "cols": {
    "lenName": 16,
    "lenType": 16,
    "lenVar": 40
   },
   "kernels_config": {
    "python": {
     "delete_cmd_postfix": "",
     "delete_cmd_prefix": "del ",
     "library": "var_list.py",
     "varRefreshCmd": "print(var_dic_list())"
    },
    "r": {
     "delete_cmd_postfix": ") ",
     "delete_cmd_prefix": "rm(",
     "library": "var_list.r",
     "varRefreshCmd": "cat(var_dic_list()) "
    }
   },
   "types_to_exclude": [
    "module",
    "function",
    "builtin_function_or_method",
    "instance",
    "_Feature"
   ],
   "window_display": false
  }
 },
 "nbformat": 4,
 "nbformat_minor": 4
}
