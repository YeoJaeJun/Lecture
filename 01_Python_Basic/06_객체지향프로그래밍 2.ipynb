{
 "cells": [
  {
   "cell_type": "code",
   "execution_count": 2,
   "metadata": {},
   "outputs": [],
   "source": [
    "# 캡슐화???\n",
    "\n",
    "# 상속???\n",
    "\n",
    "# 클래스를 만들 때 계속해서 새로운 클래스를 만들 수도 있지만 기존 클래스에서 물려받아서 클래스를 만들 수 있다.\n",
    "# ex) 컴퓨터 클래스 / TV 클래스 는 전자제품 클래스에 묶일 수 있다.\n",
    "# 컴퓨터와 TV는 공통적으로 가져야 하는 attribute(제품명, 가격, 제조사 등)가 있기 때문에 이런 공통점은 전자제품 클래스에서 물려받아서 쓸 수 있다.\n",
    "# 그리고 컴퓨터만 가지고 있는 attribute나 TV만 가지고 있는 attribute는 각자의 클래스에서 정의해 사용할 수 있다.\n",
    "# 이처럼 공통적으로 가지고 있는 attritbute를 기존 클래스에서 물려받는 과정을 상속이라고 한다.\n",
    "# method 역시 마찬가지\n",
    "# 전원을 키고 끄고와 같은 method는 전자제품 클래스에 정의한 후 사용할 수 있다.\n",
    "\n",
    "# 게임으로 비유"
   ]
  },
  {
   "cell_type": "markdown",
   "metadata": {
    "slideshow": {
     "slide_type": "slide"
    }
   },
   "source": [
    "## 2.6. 상속 (Inheritance)\n",
    "\n",
    "- 기존 클래스를 확장하여 새로운 클래스를 구현한다.\n",
    "    - 생성된 객체(instance)가 기존 클래스에 정의된 Attribute나 method를 사용할 수있고 그 외의 추가적인 member들을 가질 수 있는 클래스를 구현하는 방법.\n",
    "- **기반(Base) 클래스, 상위(Super) 클래스, 부모(Parent) 클래스**\n",
    "    - 물려 주는 클래스.\n",
    "    - 상속하는 클래스에 비해 더 추상적인 클래스가 된다. \n",
    "    - 상속하는 클래스의 데이터 타입이 된다.\n",
    "- **파생(Derived) 클래스, 하위(Sub) 클래스, 자식(Child) 클래스**\n",
    "    - 상속하는 클래스.\n",
    "    - 상속을 해준 클래스 보다 좀더 구체적인 클래스가 된다.\n",
    "- 상위 클래스와 하위클래스는 계층관계를 이룬다.\n",
    "\n",
    "\n",
    "- 유지 / 보수가 편하다. 공통적인 attribute / method를 상위 클래스에서 수정하면 하위 클래스  모두 수정되므로 편리하다.\n",
    "\n",
    "- 하위 클래스로 만든 instance는 상위 클래스와 하위 클래스 모두를 type으로 가진다."
   ]
  },
  {
   "cell_type": "markdown",
   "metadata": {
    "slideshow": {
     "slide_type": "subslide"
    }
   },
   "source": [
    "### 2.6.1. 다중상속과 단일 상속\n",
    "- 다중상속\n",
    "    - 하위 클래스가 여러 클래스로부터 상속받을 수 있다.\n",
    "- 단일상속\n",
    "    - 하위 클래스가 하나의 클래스로부터만 상속받을 수 있다.\n",
    "- *당연한 거지만 상위 클래스는 여러 개의 하위 클래스에 상속해 줄 수 있다.*\n",
    "- 파이썬은 다중상속을 지원한다.\n",
    "- MRO (Method Resolution Order)\n",
    "    - 다중상속시 메소드 호출할 때 그 메소드를 찾는 순서. 그 순서는 아래와 같다.\n",
    "    1. 자기 자신\n",
    "    2. 상위클래스(하위에서 상위로 올라간다)\n",
    "        - 다중상속의 경우 먼저 선언한 클래스 부터 찾는다. (왼쪽->오른쪽)\n",
    "        \n",
    "        \n",
    "    - class 자기 자신에게 호출한 method가 있는지 확인한다. 있다면 해당 method를 실행한다.\n",
    "    - 호출한 method가 없다면 상위 클래스로 올라가 해당 method가 있는지 확인한다.\n",
    "    - 이때 발생할 수 있는 문제점은 다음과 같다.\n",
    "    - a 메소드를 호출한다고 할 때 상위 클래스 두 개에 같은 이름을 가진 a 메소드가 있다면 어떤 걸 샐힝할지 몰라 문제가 발생할 수 있다.\n",
    "    - 이런 상황이 다중상속의 문제점이라고 할 수 있다.\n",
    "    - 그래서 Python에서는 method 호출 순서를 정해 놓았다. 그 방법이 MRO 순서 조회이다. MRO는 method를 찾는 순서를 말한다.\n",
    "\n",
    "\n",
    "- MRO 순서 조회 \n",
    "    - Class이름.mro()\n",
    "    \n",
    "    \n",
    "    - 먼저 선언한 클래스에서부터 호출한 method를 찾는다."
   ]
  },
  {
   "cell_type": "code",
   "execution_count": 4,
   "metadata": {
    "slideshow": {
     "slide_type": "fragment"
    }
   },
   "outputs": [],
   "source": [
    "# 클래스의 상속 관계를 확인해 보자.\n",
    "# 먼저 상위 클래스 Person을 만든다.\n",
    "\n",
    "class Person:\n",
    "    \n",
    "    def go(self):\n",
    "        print(\"학교에 간다.\")\n",
    "        \n",
    "        \n",
    "    def eat(self):\n",
    "        print(\"점심을 먹는다.\")"
   ]
  },
  {
   "cell_type": "code",
   "execution_count": 5,
   "metadata": {},
   "outputs": [],
   "source": [
    "# Person을 상속받는 하위 클래스 Student와 Teacher을 만든다.\n",
    "\n",
    "class Student(Person):     # 클래스를 상속받을 때는 이처럼 class sub_class_name(super_class_name): 으로 작성한다.\n",
    "                            # 상속받을 클래스는 여러 개 가능하다.\n",
    "    \n",
    "    def study(self):\n",
    "        print(\"공부를 한다.\")"
   ]
  },
  {
   "cell_type": "code",
   "execution_count": 8,
   "metadata": {},
   "outputs": [],
   "source": [
    "class Teacher(Person):\n",
    "    \n",
    "    def teach(self):\n",
    "        print(\"수업을 가르친다.\")"
   ]
  },
  {
   "cell_type": "code",
   "execution_count": 15,
   "metadata": {},
   "outputs": [],
   "source": [
    "# Student class를 상속받을 class를 하나 더 만든다.\n",
    "\n",
    "class UniversityStudent(Student):\n",
    "    \n",
    "    def drink(self):\n",
    "        print(\"술을 마신다.\")"
   ]
  },
  {
   "cell_type": "code",
   "execution_count": 16,
   "metadata": {
    "scrolled": true
   },
   "outputs": [
    {
     "name": "stdout",
     "output_type": "stream",
     "text": [
      "학교에 간다.\n",
      "음식을 먹는다.\n",
      "수업을 가르친다.\n"
     ]
    }
   ],
   "source": [
    "t = Teacher()\n",
    "t.go()\n",
    "t.eat()\n",
    "t.teach()"
   ]
  },
  {
   "cell_type": "markdown",
   "metadata": {},
   "source": [
    "- 위 실행 결과에서 확인할 수 있듯 Teacher class에는 go / eat method가 없지만 실행된다. 이것이 상속이다."
   ]
  },
  {
   "cell_type": "code",
   "execution_count": 17,
   "metadata": {},
   "outputs": [
    {
     "name": "stdout",
     "output_type": "stream",
     "text": [
      "학교에 간다.\n",
      "음식을 먹는다.\n",
      "공부를 한다.\n",
      "술을 마신다.\n"
     ]
    }
   ],
   "source": [
    "us = UniversityStudent()\n",
    "us.go()\n",
    "us.eat()\n",
    "us.study()\n",
    "us.drink()"
   ]
  },
  {
   "cell_type": "markdown",
   "metadata": {},
   "source": [
    "- 위 실행 결과 역시 마찬가지. UniversityStudent class로 만든 instance는 Person class와 Studnet class의 method를 모두 실행할 수 있다."
   ]
  },
  {
   "cell_type": "code",
   "execution_count": 18,
   "metadata": {},
   "outputs": [
    {
     "ename": "AttributeError",
     "evalue": "'UniversityStudent' object has no attribute 'teach'",
     "output_type": "error",
     "traceback": [
      "\u001b[1;31m---------------------------------------------------------------------------\u001b[0m",
      "\u001b[1;31mAttributeError\u001b[0m                            Traceback (most recent call last)",
      "\u001b[1;32m~\\AppData\\Local\\Temp\\ipykernel_39532\\694460131.py\u001b[0m in \u001b[0;36m<module>\u001b[1;34m\u001b[0m\n\u001b[1;32m----> 1\u001b[1;33m \u001b[0mus\u001b[0m\u001b[1;33m.\u001b[0m\u001b[0mteach\u001b[0m\u001b[1;33m(\u001b[0m\u001b[1;33m)\u001b[0m\u001b[1;33m\u001b[0m\u001b[1;33m\u001b[0m\u001b[0m\n\u001b[0m",
      "\u001b[1;31mAttributeError\u001b[0m: 'UniversityStudent' object has no attribute 'teach'"
     ]
    }
   ],
   "source": [
    "us.teach()"
   ]
  },
  {
   "cell_type": "markdown",
   "metadata": {},
   "source": [
    "- 자기 자신에게도 상위 클래스에게도 없는 method를 호출한 경우 위와 같이 AttributeError가 발생한다."
   ]
  },
  {
   "cell_type": "code",
   "execution_count": 19,
   "metadata": {},
   "outputs": [
    {
     "data": {
      "text/plain": [
       "[__main__.UniversityStudent, __main__.Student, __main__.Person, object]"
      ]
     },
     "execution_count": 19,
     "metadata": {},
     "output_type": "execute_result"
    }
   ],
   "source": [
    "# MRO를 확인해 보자.\n",
    "\n",
    "UniversityStudent.mro()"
   ]
  },
  {
   "cell_type": "markdown",
   "metadata": {},
   "source": [
    "- 위 실행 결과처럼 왼쪽부터 오른쪽 순서로 method를 찾는다"
   ]
  },
  {
   "cell_type": "markdown",
   "metadata": {
    "slideshow": {
     "slide_type": "subslide"
    }
   },
   "source": [
    "### 2.6.2. Method Overriding (메소드 재정의)\n",
    "기반 클래스의 메소드의 구현부를 파생클래스에서 다시 구현하는 것을 말한다.  \n",
    "기반 클래스는 모든 파생클래스들에 적용할 수 있는 추상적인 구현밖에는 못한다.  \n",
    "이 경우 파생클래스에서 그 내용을 자신에 맞게 좀더 구체적으로 재구현할 수 있게 해주는 것을 Method Overriding이라고 한다.  \n",
    "방법은 파행생클래스에서 overriding할 메소드의 선언문은 그래로 사용하고 그 구현부는 재구현하면 된다.  \n",
    "\n",
    "\n",
    "- ex) 위 예시에서 Person은 모두 go를 할 수 있다. 하지만 Student는 스쿨 버스를 이용하고, Teacher은 자가용을 이용한다.\n",
    "- 이러한 상황에서 go라는 method를 하위 클래스에서 해당 클래스에 맞게 구체적으로 다시 구현하는 과정이 필요하다.\n",
    "- 이것이 method overriding이다."
   ]
  },
  {
   "cell_type": "code",
   "execution_count": 36,
   "metadata": {},
   "outputs": [],
   "source": [
    "class Person:\n",
    "    \n",
    "    def go(self):\n",
    "        print(\"학교에 간다.\")\n",
    "        \n",
    "        \n",
    "    def eat(self):\n",
    "        print(\"점심을 먹는다.\")"
   ]
  },
  {
   "cell_type": "code",
   "execution_count": 37,
   "metadata": {},
   "outputs": [],
   "source": [
    "# Studnet는 학교에 스쿨 버스를 타고 간다고 구현하고자 한다.\n",
    "# Teacher는 점심을 밖에 나가서 먹는다고 구현하고자 한다.\n",
    "# method overrinding을 이용해 좀 더 구체적인 구현을 해보자.\n",
    "\n",
    "class Student(Person):\n",
    "    def study(self):\n",
    "        print(\"공부를 한다.\")\n",
    "    def go(self):     # 상위 클래스와 같은 이름을 가진 method를 만든다.\n",
    "        print(\"학교에 스쿨 버스를 타고 간다.\")"
   ]
  },
  {
   "cell_type": "code",
   "execution_count": 38,
   "metadata": {},
   "outputs": [
    {
     "name": "stdout",
     "output_type": "stream",
     "text": [
      "학교에 스쿨 버스를 타고 간다.\n"
     ]
    }
   ],
   "source": [
    "s = Student()\n",
    "s.go()"
   ]
  },
  {
   "cell_type": "markdown",
   "metadata": {},
   "source": [
    "- 위 실행 결과와 같이 구체적인 실행 결과가 출력된다. 하위 클래스인 Student에 있는 method를 우선적으로 실행하는 것이다.\n",
    "- 이렇게 상위 클래스의 method를 하위 클래스에서 덮어쓰는 것을 method overriding이라 한다.\n",
    "- Teacher에서도 똑같이 해보자."
   ]
  },
  {
   "cell_type": "code",
   "execution_count": 39,
   "metadata": {},
   "outputs": [],
   "source": [
    "class Teacher(Person):\n",
    "    def teach(self):\n",
    "        print(\"수업을 가르친다.\")\n",
    "    def eat(self):\n",
    "        print(\"교직원 식당에서 점심을 먹는다.\")"
   ]
  },
  {
   "cell_type": "code",
   "execution_count": 40,
   "metadata": {
    "scrolled": true
   },
   "outputs": [
    {
     "name": "stdout",
     "output_type": "stream",
     "text": [
      "학교에 간다.\n",
      "교직원 식당에서 점심을 먹는다.\n"
     ]
    }
   ],
   "source": [
    "t = Teacher()\n",
    "t.go()\n",
    "t.eat()"
   ]
  },
  {
   "cell_type": "markdown",
   "metadata": {},
   "source": [
    "- go method는 상위 클래스의 것을 사용하고, eat method는 overriding한 것을 사용한다.\n",
    "- 이때 Student 클래스에서 overriding한 go method는 영향을 주지 않는다는 것을 확인할 수 있다."
   ]
  },
  {
   "cell_type": "markdown",
   "metadata": {},
   "source": [
    "- Student class를 새롭게 만들어 보자."
   ]
  },
  {
   "cell_type": "code",
   "execution_count": 41,
   "metadata": {},
   "outputs": [],
   "source": [
    "class Student(Person):\n",
    "    def study(self):\n",
    "        print(\"공부를 한다.\")\n",
    "    def go(self):\n",
    "        print(\"스쿨버스를 탄다.\")\n",
    "        print(\"학교에 간다.\")"
   ]
  },
  {
   "cell_type": "markdown",
   "metadata": {},
   "source": [
    "- 위와 같은 경우 go method의 두번째 구문 print(\"학교에 간다.\")는 상위 클래스에 이미 구현되어 있다.\n",
    "- 그래서 Person class의 go method를 Student class 안에 호출해서 처리할 수 있다.\n",
    "- 즉 추가할 내용만 구현하고 중복되는 내용은 상위 클래스의 method를 받아서 처리한다.\n",
    "- 이 과정은 아래와 같이 구현된다."
   ]
  },
  {
   "cell_type": "markdown",
   "metadata": {
    "slideshow": {
     "slide_type": "subslide"
    }
   },
   "source": [
    "### 2.6.3. super() 내장함수\n",
    "- 파생 클래스에서 기반 클래스의 instance를 반환(return) 해주는 함수\n",
    "- 구문\n",
    "```python\n",
    "super().메소드명() \n",
    "```\n",
    "- 하위 클래스에서 상위 클래스의 Instance 메소드를 호출할 때 – super().메소드()\n",
    "    - 특히 method overriding을 한 클래스에서 기반 클래스의 overriding한 메소드를 호출 할 경우 반드시 `super().메소드() `형식으로 호출해야 한다.\n",
    "- 같은 클래스의 Instance 메소드를 호출할 때는 self.메소드()로 구현한다."
   ]
  },
  {
   "cell_type": "code",
   "execution_count": 44,
   "metadata": {},
   "outputs": [],
   "source": [
    "class Person:\n",
    "    def go(self):\n",
    "        print(\"학교에 간다.\")"
   ]
  },
  {
   "cell_type": "code",
   "execution_count": 47,
   "metadata": {
    "slideshow": {
     "slide_type": "fragment"
    }
   },
   "outputs": [],
   "source": [
    "class Student(Person):\n",
    "    def study(self):\n",
    "        print(\"공부를 한다.\")\n",
    "    def go(self):\n",
    "        print(\"스쿨버스를 탄다.\")\n",
    "        super().go()     # 이때 주의할 점은 self.go()를 하지 않는다는 것이다. self.go()를 할 경우 Student class의 go method를 실행하게 된다."
   ]
  },
  {
   "cell_type": "code",
   "execution_count": 48,
   "metadata": {},
   "outputs": [
    {
     "name": "stdout",
     "output_type": "stream",
     "text": [
      "스쿨버스를 탄다.\n",
      "학교에 간다.\n"
     ]
    }
   ],
   "source": [
    "s = Student()\n",
    "s.go()"
   ]
  },
  {
   "cell_type": "markdown",
   "metadata": {},
   "source": [
    "- 위와 같이 실행된다는 것을 확인할 수 있다."
   ]
  },
  {
   "cell_type": "code",
   "execution_count": 55,
   "metadata": {},
   "outputs": [],
   "source": [
    "class Person:\n",
    "    def __init__(self, name, age, address = None):\n",
    "        self.name = name\n",
    "        self.age = age\n",
    "        self.address = address\n",
    "        \n",
    "    @property\n",
    "    def name(self):\n",
    "        return self.__name\n",
    "    \n",
    "    @name.setter\n",
    "    def name(self, name):\n",
    "        if len(name) >= 2:\n",
    "            self.__name = name\n",
    "            \n",
    "    @property\n",
    "    def age(self):\n",
    "        return self.__age\n",
    "    \n",
    "    @age.setter\n",
    "    def age(self, age):\n",
    "        if age >= 10:\n",
    "            self.__age = age\n",
    "            \n",
    "    # 입력 값을 나이에 더하는 method 생성\n",
    "    def add_age(self, age):\n",
    "        self.age += age\n",
    "        \n",
    "    # Person의 attribute를 하나의 문자열로 만들어서 반환하는 method 생성\n",
    "    def get_info(self):\n",
    "        return f\"이름: {self.name}, 나이: {self.age}, 주소: {self.address}\""
   ]
  },
  {
   "cell_type": "code",
   "execution_count": 72,
   "metadata": {},
   "outputs": [
    {
     "name": "stdout",
     "output_type": "stream",
     "text": [
      "이름: 홍길동, 나이: 20, 주소: 서울\n",
      "이름: 홍길동, 나이: 23, 주소: 서울\n"
     ]
    }
   ],
   "source": [
    "p = Person(\"홍길동\", 20, \"서울\")\n",
    "info = p.get_info()\n",
    "print(info)\n",
    "p.add_age(3)\n",
    "print(p.get_info())"
   ]
  },
  {
   "cell_type": "code",
   "execution_count": 82,
   "metadata": {},
   "outputs": [],
   "source": [
    "# Student class에 Person class는 가지고 있지 않는 attribute를 가지게 한다.\n",
    "\n",
    "class Student(Person):\n",
    "    \n",
    "    def __init__(self, name, age, address, grade):\n",
    "# Studnet class는 Person class를 상속받았으므로 Student class로 instance를 만들 때는 Person class의 attribute argument도 대입해야 한다.\n",
    "# 그래서 __init__()의 parameter에도 그렇게 적어야 한다.\n",
    "        # name, age, address는 상위 클래스에 초기화한다. 그래서 상위 클래스의 __init__()을 호출해야 한다.\n",
    "        super().__init__(name, age, address)     # 상위 클래스의 __init__() method 호출\n",
    "        self.grade = grade\n",
    "        \n",
    "        \n",
    "        \n",
    "        # "
   ]
  },
  {
   "cell_type": "code",
   "execution_count": 83,
   "metadata": {},
   "outputs": [
    {
     "name": "stdout",
     "output_type": "stream",
     "text": [
      "김구 15 서울 10\n"
     ]
    }
   ],
   "source": [
    "s = Student(\"김구\", 15, \"서울\", 10)\n",
    "print(s. name, s.age, s.address, s.grade)"
   ]
  },
  {
   "cell_type": "markdown",
   "metadata": {},
   "source": [
    "- 즉 attribute 역시 공통적인 성질을 가지는 것끼리 묶어서 상위 클래스로부터 상속받아서 사용할 수 있는 것이다.\n",
    "- __init__() 역시 하나의 method이기 때문이다."
   ]
  },
  {
   "cell_type": "markdown",
   "metadata": {},
   "source": [
    "- s instance 안에 Person class 공간과 Student class 공간이 모두 생긴다. attribute 역시 자기 class에 해당 변수가 없으면 상위 class로 넘어가 확인한다. method 처럼 사용하면 된다. 그리고 상위 class의 것을 사용하겠다면 super().   로 적는다.\n",
    "- 하위 클래스에서 적은 super()는 상위 클래스 method의 self로 들어가서 실행된다."
   ]
  },
  {
   "cell_type": "code",
   "execution_count": 65,
   "metadata": {},
   "outputs": [
    {
     "name": "stdout",
     "output_type": "stream",
     "text": [
      "이름: 김구, 나이: 15, 주소: 서울, 성적: 10\n"
     ]
    }
   ],
   "source": [
    "s_info = s.get_info()\n",
    "print(s_info)"
   ]
  },
  {
   "cell_type": "markdown",
   "metadata": {},
   "source": [
    "- 위 실행 결과에서 볼 수 있듯 grade는 빠져있다는 것을 확인할 수 있다.\n",
    "- Student class에 get_info method가 없으니 Person class로 가서 해당 method를 찾아 실행한다.\n",
    "- 그래서 Student class의 grade attribute 값은 출력되지 않는다.\n",
    "- grade attribute 값도 출력하기 위해 method overriding을 이용한다."
   ]
  },
  {
   "cell_type": "code",
   "execution_count": 66,
   "metadata": {},
   "outputs": [],
   "source": [
    "class Student(Person):\n",
    "    \n",
    "    def __init__(self, name, age, address, grade):\n",
    "        super().__init__(name, age, address)\n",
    "        self.grade = grade\n",
    "    \n",
    "    # grade attribute도 출력할 수 있는 Student class에 적합한 method를 overriding한다.\n",
    "    def get_info(self):\n",
    "        # name, age, address는 Person class의 get_info()를 이용해서 조회한다.\n",
    "        i = super().get_info()\n",
    "        return f\"{i}, 성적: {self.grade}\""
   ]
  },
  {
   "cell_type": "code",
   "execution_count": 67,
   "metadata": {},
   "outputs": [
    {
     "name": "stdout",
     "output_type": "stream",
     "text": [
      "이름: 김구, 나이: 15, 주소: 서울, 성적: 10\n"
     ]
    }
   ],
   "source": [
    "s_info = s.get_info()\n",
    "print(s_info)"
   ]
  },
  {
   "cell_type": "markdown",
   "metadata": {},
   "source": [
    "- 앞선 경우와 달리 성적도 출력되는 것을 확인할 수 있다."
   ]
  },
  {
   "cell_type": "markdown",
   "metadata": {},
   "source": [
    "# 태블릿 노트 그림 참고"
   ]
  },
  {
   "cell_type": "code",
   "execution_count": null,
   "metadata": {},
   "outputs": [],
   "source": [
    "# 다중 상속 시 method 호출 순서(MRO)를 확인해 보자.\n",
    "# A_1, A_2 <- B_1 <- C -> B_2"
   ]
  },
  {
   "cell_type": "code",
   "execution_count": 69,
   "metadata": {},
   "outputs": [],
   "source": [
    "class A_1:\n",
    "    pass\n",
    "\n",
    "class A_2:\n",
    "    pass\n",
    "\n",
    "class B_1(A_1, A_2):\n",
    "    pass\n",
    "\n",
    "class B_2:\n",
    "    pass\n",
    "\n",
    "class C(B_1, B_2):\n",
    "    pass"
   ]
  },
  {
   "cell_type": "code",
   "execution_count": 70,
   "metadata": {},
   "outputs": [
    {
     "data": {
      "text/plain": [
       "[__main__.C, __main__.B_1, __main__.A_1, __main__.A_2, __main__.B_2, object]"
      ]
     },
     "execution_count": 70,
     "metadata": {},
     "output_type": "execute_result"
    }
   ],
   "source": [
    "C.mro()"
   ]
  },
  {
   "cell_type": "markdown",
   "metadata": {},
   "source": [
    "- class C의 MRO는 위 실행 결과와 같다.\n",
    "- C에 없으면 B_1을 확인하고 B_1에도 없으면 A_1, A_1에도 없으면 A_2를 확인한다.\n",
    "- 이렇게 했는데도 없으면 B_2를 확인한다."
   ]
  },
  {
   "cell_type": "markdown",
   "metadata": {
    "slideshow": {
     "slide_type": "slide"
    }
   },
   "source": [
    "## 2.7. 객체 관련 유용한 내장 함수, 특수 변수\n",
    "-  **`isinstance(객체, 클래스이름-datatype)`** : bool\n",
    "    - 객체가 두번째 매개변수로 지정한 클래스의 타입이면 True, 아니면 False 반환\n",
    "    - 여러개의 타입여부를 확인할 경우 class이름(type)들을 리스트로 묶어 준다.\n",
    "    - 기반클래스는 파생클래스객체의 타입이 되므로 객체와 그 객체의 기반클래스 비교시 True가 나온다.\n",
    "- **`객체.__dict__`**\n",
    "     - 객체가 가지고 있는 Attribute 변수들과 대입된 값을 dictionary에 넣어 반환\n",
    "- **`객체.__class__`**\n",
    "    - 객체의 타입을 반환"
   ]
  },
  {
   "cell_type": "markdown",
   "metadata": {},
   "source": [
    "- isinstance는 instance가 class의 instance인지 아닌지 bool로 알려준다."
   ]
  },
  {
   "cell_type": "code",
   "execution_count": 79,
   "metadata": {},
   "outputs": [
    {
     "data": {
      "text/plain": [
       "True"
      ]
     },
     "execution_count": 79,
     "metadata": {},
     "output_type": "execute_result"
    }
   ],
   "source": [
    "isinstance(s, Person)\n",
    "isinstance(s, Student)\n",
    "\n",
    "# instance의 type -> instance를 생성한 class와 그 class의 super class\n",
    "# s 라는 instance는 Student와 Person의 instance이다."
   ]
  },
  {
   "cell_type": "code",
   "execution_count": 85,
   "metadata": {},
   "outputs": [
    {
     "data": {
      "text/plain": [
       "True"
      ]
     },
     "execution_count": 85,
     "metadata": {},
     "output_type": "execute_result"
    }
   ],
   "source": [
    "type(s) == Student"
   ]
  },
  {
   "cell_type": "markdown",
   "metadata": {},
   "source": [
    "- 10이라는 instance가 str 또는 int type인지 알아볼 때"
   ]
  },
  {
   "cell_type": "code",
   "execution_count": 88,
   "metadata": {},
   "outputs": [
    {
     "data": {
      "text/plain": [
       "True"
      ]
     },
     "execution_count": 88,
     "metadata": {},
     "output_type": "execute_result"
    }
   ],
   "source": [
    "isinstance(10, (str, int))"
   ]
  },
  {
   "cell_type": "markdown",
   "metadata": {},
   "source": [
    "- 아래와 같이 응용할 수 있다.\n",
    "- parameter로 받은 argument의 type을 알 수 없을 때 원하는 type을 가지는 값만 처리하도록 구현할 수 있다."
   ]
  },
  {
   "cell_type": "code",
   "execution_count": 89,
   "metadata": {},
   "outputs": [],
   "source": [
    "def func(value):\n",
    "    \n",
    "    if isinstance(value, (int, float)):     # if type(value) in [int, float]:      -> 이같은 형태로도 작성할 수 있다.\n",
    "        print(value * 30)\n",
    "    else:\n",
    "        print(\"계산할 수 없습니다.\")"
   ]
  },
  {
   "cell_type": "code",
   "execution_count": 91,
   "metadata": {},
   "outputs": [
    {
     "name": "stdout",
     "output_type": "stream",
     "text": [
      "300\n"
     ]
    }
   ],
   "source": [
    "func(10)"
   ]
  },
  {
   "cell_type": "code",
   "execution_count": 92,
   "metadata": {},
   "outputs": [
    {
     "name": "stdout",
     "output_type": "stream",
     "text": [
      "계산할 수 없습니다.\n"
     ]
    }
   ],
   "source": [
    "func(\"A\")"
   ]
  },
  {
   "cell_type": "code",
   "execution_count": 96,
   "metadata": {},
   "outputs": [
    {
     "data": {
      "text/plain": [
       "{'_Person__name': '김구', '_Person__age': 15, 'address': '서울', 'grade': 10}"
      ]
     },
     "execution_count": 96,
     "metadata": {},
     "output_type": "execute_result"
    }
   ],
   "source": [
    "# s instance의 attribute를 dictonary로 조회할 때\n",
    "\n",
    "s.__dict__"
   ]
  },
  {
   "cell_type": "code",
   "execution_count": 95,
   "metadata": {},
   "outputs": [],
   "source": [
    "# 실행 결과 위에서 설정한 것과 같이 name과 age는 hiding되어 있다는 것을 확인할 수 있다."
   ]
  },
  {
   "cell_type": "code",
   "execution_count": 98,
   "metadata": {},
   "outputs": [
    {
     "data": {
      "text/plain": [
       "(type, __main__.Student)"
      ]
     },
     "execution_count": 98,
     "metadata": {},
     "output_type": "execute_result"
    }
   ],
   "source": [
    "# 객체가 어떤 class의 type인지를 조회.\n",
    "\n",
    "type(s.__class__), s.__class__"
   ]
  },
  {
   "cell_type": "code",
   "execution_count": 99,
   "metadata": {},
   "outputs": [
    {
     "data": {
      "text/plain": [
       "['_Person__name',\n",
       " '_Person__age',\n",
       " 'address',\n",
       " 'grade',\n",
       " '__module__',\n",
       " '__init__',\n",
       " '__doc__',\n",
       " 'name',\n",
       " 'age',\n",
       " 'add_age',\n",
       " 'get_info',\n",
       " '__dict__',\n",
       " '__weakref__',\n",
       " '__repr__',\n",
       " '__hash__',\n",
       " '__str__',\n",
       " '__getattribute__',\n",
       " '__setattr__',\n",
       " '__delattr__',\n",
       " '__lt__',\n",
       " '__le__',\n",
       " '__eq__',\n",
       " '__ne__',\n",
       " '__gt__',\n",
       " '__ge__',\n",
       " '__new__',\n",
       " '__reduce_ex__',\n",
       " '__reduce__',\n",
       " '__subclasshook__',\n",
       " '__init_subclass__',\n",
       " '__format__',\n",
       " '__sizeof__',\n",
       " '__dir__',\n",
       " '__class__']"
      ]
     },
     "execution_count": 99,
     "metadata": {},
     "output_type": "execute_result"
    }
   ],
   "source": [
    "# 객체.__dir__(): instance를 통해서 호출할 수 있는 모든 attribute, method를 list로 반환\n",
    "\n",
    "s.__dir__()     # dir(s)     -> 같은 결과를 보여준다."
   ]
  },
  {
   "cell_type": "code",
   "execution_count": 102,
   "metadata": {},
   "outputs": [],
   "source": [
    "# 내가 만들지 않았는데도 내장되어 있는 attribute, method가 있는 것을 확인할 수 있다. 이런 것들을 special method라고 한다.\n",
    "# special method는 자동으로 만들어진다. 이 special method는 최상위 class인 object에 정의되어 있다."
   ]
  },
  {
   "cell_type": "markdown",
   "metadata": {
    "slideshow": {
     "slide_type": "slide"
    }
   },
   "source": [
    "## 2.8. 특수 메소드\n",
    "\n",
    "\n",
    "### 2.8.1. 특수 메소드란\n",
    "- 특정한 상황에서 사용될 때 자동으로 호출되도록 파이썬 실행환경에 정의된 약속된 메소드들이다. 객체에 특정 기능들을 추가할 때 사용한다.\n",
    "    - 정의한 메소드와 그것을 호출하는 함수가 다르다.\n",
    "         - ex) `__init__()` => 객체 생성할 때 호출 된다.\n",
    "- 메소드 명이 더블 언더스코어로 시작하고 끝난다. \n",
    "    - ex) `__init__(), __str__()`\n",
    "- 매직 메소드(Magic Method), 던더(DUNDER) 메소드라고도 한다.\n",
    "- 특수메소드 종류\n",
    "    - https://docs.python.org/ko/3/reference/datamodel.html#special-method-names"
   ]
  },
  {
   "cell_type": "markdown",
   "metadata": {
    "slideshow": {
     "slide_type": "subslide"
    }
   },
   "source": [
    "### 2.8.2. 주요 특수메소드\n",
    "- **`__init__(self [, …])`**\n",
    "    - Initializer\n",
    "    - 객체 생성시 호출 된다.\n",
    "    - 객체 생성시 Attribute의 값들을 초기화하는 것을 구현한다.\n",
    "    - self 변수로 받은 instance에 Attribute를 설정한다.\n",
    "- **`__call__(self, […])`**\n",
    "    - 객체를 함수처럼 호출하면 실행되는 메소드\n",
    "    - Argument를 받을 Parameter 변수는 self 변수 다음에 필요한대로 선언한다.\n",
    "    - 처리결과를 반환할 경우 `return value` 구문을 넣는다. (필수는 아니다.)\n",
    "\n"
   ]
  },
  {
   "cell_type": "code",
   "execution_count": 105,
   "metadata": {},
   "outputs": [],
   "source": [
    "class Plus:\n",
    "    \n",
    "    def __init__(self, num1, num2):\n",
    "        # 덧셈할 때 사용할 피연산자 두 개를 attribute으로 저장\n",
    "        self.num1 = num1\n",
    "        self.num2 = num2\n",
    "        \n",
    "    def calc(self):\n",
    "        return self.num1 + self.num2"
   ]
  },
  {
   "cell_type": "code",
   "execution_count": 108,
   "metadata": {},
   "outputs": [
    {
     "name": "stdout",
     "output_type": "stream",
     "text": [
      "30\n"
     ]
    }
   ],
   "source": [
    "plus = Plus(10, 20)\n",
    "result = plus.calc()\n",
    "print(result)"
   ]
  },
  {
   "cell_type": "code",
   "execution_count": 111,
   "metadata": {},
   "outputs": [],
   "source": [
    "# 위와 같은 class를 정의했을 때 어차피 이 class는 하나의 기능밖에 처리하지 않는다.\n",
    "# 이와 같은 경우에서 굳이 method로 부를 필요가 있을까? 이런 경우에 사용할 수 있는 게 special method인 __call__()이다.\n",
    "# 아래의 실행으로 확인해 보자."
   ]
  },
  {
   "cell_type": "code",
   "execution_count": 112,
   "metadata": {},
   "outputs": [],
   "source": [
    "class Plus:\n",
    "    \n",
    "    def __init__(self, num1, num2):\n",
    "        self.num1 = num1\n",
    "        self.num2 = num2\n",
    "        \n",
    "    def __call__(self):\n",
    "        return self.num1 + self.num2"
   ]
  },
  {
   "cell_type": "code",
   "execution_count": 116,
   "metadata": {},
   "outputs": [
    {
     "name": "stdout",
     "output_type": "stream",
     "text": [
      "30\n"
     ]
    }
   ],
   "source": [
    "plus = Plus(10, 20)\n",
    "result = plus()     # caller에서 instance를 함수처럼 호출한다.   ->   이때 __call__() method가 호출된다.\n",
    "print(result)"
   ]
  },
  {
   "cell_type": "code",
   "execution_count": 117,
   "metadata": {},
   "outputs": [],
   "source": [
    "# 즉 __call__() 은 instance를 하나의 함수처럼 사용할 수 있게 해준다.\n",
    "# 다른 경우도 확인해보자."
   ]
  },
  {
   "cell_type": "code",
   "execution_count": 118,
   "metadata": {},
   "outputs": [],
   "source": [
    "class Calc:\n",
    "    \n",
    "    def __init__(self, num1, num2):\n",
    "        self.num1 = num1\n",
    "        self.num2 = num2\n",
    "        \n",
    "    def __call__(self, n):     # __call__() 안에 parameter를 설정할 수 있다.\n",
    "        return (self.num1 + self.num2) ** n"
   ]
  },
  {
   "cell_type": "code",
   "execution_count": 121,
   "metadata": {},
   "outputs": [
    {
     "name": "stdout",
     "output_type": "stream",
     "text": [
      "900\n"
     ]
    }
   ],
   "source": [
    "calc = Calc(10, 20)\n",
    "result = calc(2)     # calc가 __call__(self, n) 에서 self로 들어가고 2는 n에 들어간다.\n",
    "print(result)"
   ]
  },
  {
   "cell_type": "code",
   "execution_count": 122,
   "metadata": {},
   "outputs": [],
   "source": [
    "# __call__() 은 instance의 메인 기능을 구현하는 method이다. 즉 instance를 함수처럼 사용할 수 있게 해준다."
   ]
  },
  {
   "cell_type": "markdown",
   "metadata": {
    "slideshow": {
     "slide_type": "subslide"
    }
   },
   "source": [
    "- **`__repr__(self)`**\n",
    "    - representation의 약자로 Instance(객체) 자체를 표현할 수 있는 문자열을 반환한다.\n",
    "        - 보통 객체 생성하는 구문을 문자열로 반환한다.\n",
    "        - 반환된 문자열을 eval() 에 넣으면 동일한 attribute값들을 가진 객체를 생성할 수 있도록 정의한다.\n",
    "    - 내장함수 **repr(instance_name)** 호출할 때 이 메소드가 호출 된다.\n",
    "    - 즉 __repr__()을 직접 호출하는 것이 아니라 repr() 함수를 이용해 호출한다.\n",
    "    - 대화형 IDE(REPL) 에서 객체를 참조하는 변수 출력할 때도 호출된다.\n",
    "> - eval(문자열)\n",
    ">     - 실행 가능한 구문의 문자열을 받아서 실행한다."
   ]
  },
  {
   "cell_type": "code",
   "execution_count": null,
   "metadata": {},
   "outputs": [],
   "source": [
    "# __repr__() 부터 알아보자."
   ]
  },
  {
   "cell_type": "code",
   "execution_count": 125,
   "metadata": {},
   "outputs": [],
   "source": [
    "class Person:\n",
    "    def __init__(self, name, age, address = None):\n",
    "        self.name = name\n",
    "        self.age = age\n",
    "        self.address = address\n",
    "        \n",
    "    @property\n",
    "    def name(self):\n",
    "        return self.__name\n",
    "    \n",
    "    @name.setter\n",
    "    def name(self, name):\n",
    "        if len(name) >= 2:\n",
    "            self.__name = name\n",
    "            \n",
    "    @property\n",
    "    def age(self):\n",
    "        return self.__age\n",
    "    \n",
    "    @age.setter\n",
    "    def age(self, age):\n",
    "        if age >= 10:\n",
    "            self.__age = age\n",
    "            \n",
    "    # 입력 값을 나이에 더하는 method 생성\n",
    "    def add_age(self, age):\n",
    "        self.age += age\n",
    "        \n",
    "    # special method 정의\n",
    "    def __repr__(self):\n",
    "        return f'Person(\"{self.name}\", {self.age}, \"{self.address}\")'"
   ]
  },
  {
   "cell_type": "code",
   "execution_count": 126,
   "metadata": {},
   "outputs": [],
   "source": [
    "p = Person(\"홍길동\", 30, \"서울\")"
   ]
  },
  {
   "cell_type": "code",
   "execution_count": 127,
   "metadata": {},
   "outputs": [
    {
     "name": "stdout",
     "output_type": "stream",
     "text": [
      "<class 'str'>\n"
     ]
    },
    {
     "data": {
      "text/plain": [
       "'Person(\"홍길동\", 30, \"서울\")'"
      ]
     },
     "execution_count": 127,
     "metadata": {},
     "output_type": "execute_result"
    }
   ],
   "source": [
    "result = repr(p)\n",
    "print(type(result))\n",
    "result"
   ]
  },
  {
   "cell_type": "code",
   "execution_count": 128,
   "metadata": {},
   "outputs": [],
   "source": [
    "# 즉 값을 어떻게 만드는지 문자열로 그대로 출력해 주는 것이다."
   ]
  },
  {
   "cell_type": "code",
   "execution_count": 129,
   "metadata": {},
   "outputs": [
    {
     "data": {
      "text/plain": [
       "Person(\"홍길동\", 30, \"서울\")"
      ]
     },
     "execution_count": 129,
     "metadata": {},
     "output_type": "execute_result"
    }
   ],
   "source": [
    "p"
   ]
  },
  {
   "cell_type": "code",
   "execution_count": 130,
   "metadata": {},
   "outputs": [],
   "source": [
    "# 위와 같이 instance만 쳐도 repr을 출력해준다."
   ]
  },
  {
   "cell_type": "code",
   "execution_count": 139,
   "metadata": {},
   "outputs": [],
   "source": [
    "# 쉽게 말해 print(\"A\")와 \"A\"의 실행 결과 차이점이다.\n",
    "# print(\"A\")는 A를 출력하지만 \"A\"는 'A'로 출력해준다.\n",
    "# 이처럼 __repr__()은 내가 원하는 값을 표현하는 표현식을 그대로 출력해준다. __repr__()은 어떻게 값을 출력하는지가 중요하다."
   ]
  },
  {
   "cell_type": "code",
   "execution_count": null,
   "metadata": {},
   "outputs": [],
   "source": [
    "# __repr__()은 eval() 함수와 같이 쓸 때 유용하다.\n",
    "# eval()에 대해 먼저 알아보자."
   ]
  },
  {
   "cell_type": "code",
   "execution_count": 132,
   "metadata": {},
   "outputs": [
    {
     "data": {
      "text/plain": [
       "'1 + 1'"
      ]
     },
     "execution_count": 132,
     "metadata": {},
     "output_type": "execute_result"
    }
   ],
   "source": [
    "\"1 + 1\""
   ]
  },
  {
   "cell_type": "code",
   "execution_count": 133,
   "metadata": {},
   "outputs": [
    {
     "data": {
      "text/plain": [
       "2"
      ]
     },
     "execution_count": 133,
     "metadata": {},
     "output_type": "execute_result"
    }
   ],
   "source": [
    "eval(\"1 + 1\")"
   ]
  },
  {
   "cell_type": "code",
   "execution_count": 134,
   "metadata": {},
   "outputs": [],
   "source": [
    "# 위와 같이 eval() 함수는 python 코드를 인식하고 그 결과를 반환한다."
   ]
  },
  {
   "cell_type": "code",
   "execution_count": 136,
   "metadata": {},
   "outputs": [
    {
     "name": "stdout",
     "output_type": "stream",
     "text": [
      "<class '__main__.Person'>\n"
     ]
    },
    {
     "data": {
      "text/plain": [
       "('홍길동', 30, '서울')"
      ]
     },
     "execution_count": 136,
     "metadata": {},
     "output_type": "execute_result"
    }
   ],
   "source": [
    "result = repr(p)\n",
    "p2 = eval(result)\n",
    "print(type(p2))\n",
    "p2.name, p2.age, p2.address"
   ]
  },
  {
   "cell_type": "code",
   "execution_count": 137,
   "metadata": {},
   "outputs": [],
   "source": [
    "# 위 실행에서 eval()을 통해 instance가 하나 더 만들어졌다는 것을 확인할 수 있다."
   ]
  },
  {
   "cell_type": "markdown",
   "metadata": {
    "slideshow": {
     "slide_type": "subslide"
    }
   },
   "source": [
    "- **`__str__(self)`**\n",
    "    - Instance(객체)의 Attribute들을 묶어서 문자열로 반환한다.\n",
    "    - 내장 함수 **str(객체)**  호출할 때 이 메소드가 호출 된다.\n",
    "        - str() 호출할 때 객체에 `__str__()`의 정의 안되 있으면 `__repr__()` 을 호출한다. `__repr__()`도 없으면 상위클래스에 정의된 `__str__()`을 호출한다.\n",
    "        - print() 함수는 값을 문자열로 변환해서 출력한다. 이때 그 값을 str() 에 넣어 문자열로 변환한다."
   ]
  },
  {
   "cell_type": "code",
   "execution_count": 140,
   "metadata": {
    "slideshow": {
     "slide_type": "fragment"
    }
   },
   "outputs": [],
   "source": [
    "# __str__()에 대해 알아보자."
   ]
  },
  {
   "cell_type": "code",
   "execution_count": 141,
   "metadata": {},
   "outputs": [],
   "source": [
    "# __str__()은 instance에 어떤 attribute가 있는지가 중요하다."
   ]
  },
  {
   "cell_type": "code",
   "execution_count": 142,
   "metadata": {},
   "outputs": [],
   "source": [
    "class Person:\n",
    "    def __init__(self, name, age, address = None):\n",
    "        self.name = name\n",
    "        self.age = age\n",
    "        self.address = address\n",
    "        \n",
    "    @property\n",
    "    def name(self):\n",
    "        return self.__name\n",
    "    \n",
    "    @name.setter\n",
    "    def name(self, name):\n",
    "        if len(name) >= 2:\n",
    "            self.__name = name\n",
    "            \n",
    "    @property\n",
    "    def age(self):\n",
    "        return self.__age\n",
    "    \n",
    "    @age.setter\n",
    "    def age(self, age):\n",
    "        if age >= 10:\n",
    "            self.__age = age\n",
    "            \n",
    "    # 입력 값을 나이에 더하는 method 생성\n",
    "    def add_age(self, age):\n",
    "        self.age += age\n",
    "        \n",
    "    # special method 정의\n",
    "    # __repr__() 정의 -> 이 객체가 어떻게 만들어 지는지를 보여준다.\n",
    "    def __repr__(self):\n",
    "        return f'Person(\"{self.name}\", {self.age}, \"{self.address}\")'\n",
    "    \n",
    "    # __str__() 정의 -> 이 객체가 가지고 있는 attribute를 보여준다. 지금까지의 예시에서 get_info method와 같은 역할을 한다.\n",
    "    def __str__(self):\n",
    "        return f\"이름: {self.name}, 나이: {self.age}, 주소: {self.address}\""
   ]
  },
  {
   "cell_type": "code",
   "execution_count": 143,
   "metadata": {},
   "outputs": [],
   "source": [
    "# Person class에 __str__()을 추가했다."
   ]
  },
  {
   "cell_type": "code",
   "execution_count": 144,
   "metadata": {},
   "outputs": [],
   "source": [
    "# str(instance) -> __str__() 호출"
   ]
  },
  {
   "cell_type": "code",
   "execution_count": 146,
   "metadata": {},
   "outputs": [
    {
     "data": {
      "text/plain": [
       "'이름: 홍길동, 나이: 30, 주소: 서울'"
      ]
     },
     "execution_count": 146,
     "metadata": {},
     "output_type": "execute_result"
    }
   ],
   "source": [
    "p = Person(\"홍길동\", 30, \"서울\")\n",
    "str(p)"
   ]
  },
  {
   "cell_type": "code",
   "execution_count": 148,
   "metadata": {},
   "outputs": [
    {
     "name": "stdout",
     "output_type": "stream",
     "text": [
      "이름: 홍길동, 나이: 30, 주소: 서울\n"
     ]
    }
   ],
   "source": [
    "print(p)     # print(value) -> 값(p)을 문자열로 변환한 뒤 출력. 변환할 때 str()을 자동으로 사용한다."
   ]
  },
  {
   "cell_type": "markdown",
   "metadata": {
    "slideshow": {
     "slide_type": "subslide"
    }
   },
   "source": [
    "#### 2.8.2.1. 연산자 재정의(Operator overriding) 관련 특수 메소드\n",
    "- 연산자의 피연산자로 객체를 사용하면 호출되는 메소드들\n",
    "- 다항연산자일 경우 가장 왼쪽의 객체에 정의된 메소드가 호출된다.\n",
    "    - `a + b` 일경우 a의 `__add__()` 가 호출된다.\n",
    "- **비교 연산자**\n",
    "    - **`__eq__(self, other)`** : self == other\n",
    "        - == 로 객체의 내용을 비교할 때 정의 한다.\n",
    "    - **`__lt__(self, other)`** : self < other, __gt__(self, other): self > other\n",
    "        - less than의 약자\n",
    "        - min()이나 max()에서 인수로 사용할 경우 정의해야 한다.\n",
    "    - **`__le__(self, other)`**: self <= other\n",
    "        - less equal의 약자\n",
    "    - **`__ge__(self, other)`**: self >= other\n",
    "        - great equal의 약자\n",
    "    - **`__ne__(self, other)`**: self != other\n",
    "        - not equal의 약자"
   ]
  },
  {
   "cell_type": "markdown",
   "metadata": {
    "slideshow": {
     "slide_type": "fragment"
    }
   },
   "source": [
    "- **산술 연산자**\n",
    "    - **`__add__(self, other)`**: self + other\n",
    "    - **`__sub__(self, other)`**: self - other\n",
    "    - **`__mul__(self, other)`**: self * other\n",
    "    - **`__truediv__(self, other)`**: self / other\n",
    "    - **`__floordiv__(self, other)`**: self // other\n",
    "    - **`__mod__(self, other)`**: self % other"
   ]
  },
  {
   "cell_type": "code",
   "execution_count": 151,
   "metadata": {
    "slideshow": {
     "slide_type": "fragment"
    }
   },
   "outputs": [
    {
     "ename": "TypeError",
     "evalue": "unsupported operand type(s) for +: 'Person' and 'int'",
     "output_type": "error",
     "traceback": [
      "\u001b[1;31m---------------------------------------------------------------------------\u001b[0m",
      "\u001b[1;31mTypeError\u001b[0m                                 Traceback (most recent call last)",
      "\u001b[1;32m~\\AppData\\Local\\Temp\\ipykernel_39532\\3845190463.py\u001b[0m in \u001b[0;36m<module>\u001b[1;34m\u001b[0m\n\u001b[1;32m----> 1\u001b[1;33m \u001b[0mp\u001b[0m \u001b[1;33m+\u001b[0m \u001b[1;36m20\u001b[0m\u001b[1;33m\u001b[0m\u001b[1;33m\u001b[0m\u001b[0m\n\u001b[0m",
      "\u001b[1;31mTypeError\u001b[0m: unsupported operand type(s) for +: 'Person' and 'int'"
     ]
    }
   ],
   "source": [
    "p + 20"
   ]
  },
  {
   "cell_type": "code",
   "execution_count": 152,
   "metadata": {},
   "outputs": [],
   "source": [
    "# 위 실행은 오류가 발생한다. type이 맞지 않기 때문에. 이때 산술 연산자 중 __add__()를 정의했다면 실행이 가능하다."
   ]
  },
  {
   "cell_type": "code",
   "execution_count": null,
   "metadata": {},
   "outputs": [],
   "source": []
  },
  {
   "cell_type": "code",
   "execution_count": 153,
   "metadata": {},
   "outputs": [],
   "source": [
    "# 연산자들은 기존의 연산을 새롭게 overriding하는 것이다."
   ]
  },
  {
   "cell_type": "code",
   "execution_count": null,
   "metadata": {},
   "outputs": [],
   "source": []
  },
  {
   "cell_type": "code",
   "execution_count": null,
   "metadata": {},
   "outputs": [],
   "source": [
    "# 위 연산자들의 사용 예시를 보자."
   ]
  },
  {
   "cell_type": "code",
   "execution_count": 170,
   "metadata": {},
   "outputs": [],
   "source": [
    "class Person:\n",
    "    def __init__(self, name, age, address = None):\n",
    "        self.name = name\n",
    "        self.age = age\n",
    "        self.address = address\n",
    "        \n",
    "    @property\n",
    "    def name(self):\n",
    "        return self.__name\n",
    "    \n",
    "    @name.setter\n",
    "    def name(self, name):\n",
    "        if len(name) >= 2:\n",
    "            self.__name = name\n",
    "            \n",
    "    @property\n",
    "    def age(self):\n",
    "        return self.__age\n",
    "    \n",
    "    @age.setter\n",
    "    def age(self, age):\n",
    "        if age >= 10:\n",
    "            self.__age = age\n",
    "            \n",
    "    # 입력 값을 나이에 더하는 method 생성\n",
    "    def add_age(self, age):\n",
    "        self.age += age\n",
    "        \n",
    "    # special method 정의\n",
    "    # __repr__() 정의 -> 이 객체가 어떻게 만들어 지는지를 보여준다.\n",
    "    def __repr__(self):\n",
    "        return f'Person(\"{self.name}\", {self.age}, \"{self.address}\")'\n",
    "    \n",
    "    # __str__() 정의 -> 이 객체가 가지고 있는 attribute를 보여준다. 지금까지의 예시에서 get_info method와 같은 역할을 한다.\n",
    "    def __str__(self):\n",
    "        return f\"이름: {self.name}, 나이: {self.age}, 주소: {self.address}\"\n",
    "    \n",
    "    # 연산자 overriding special method\n",
    "    # addition\n",
    "    def __add__(self, other):\n",
    "        # other가 숫자이면 self.age에 더한다.\n",
    "        # other가 다른 Person instance이면 그 instance의 age에 self의 age를 더한다.\n",
    "        # 위 설정과 같이 산술 연산자를 새롭게 overriding 한다.\n",
    "        if isinstance(other, (int, float)):\n",
    "            return self.age + other\n",
    "        elif isinstance(other, Person):\n",
    "            return self.age + other.age\n",
    "        \n",
    "    # gt 연산자 정의\n",
    "    def __gt__(self, other):\n",
    "        # self instane와 other instance의 나이를 비교\n",
    "        if isinstance(other, Person):\n",
    "            return self.age > other.age\n",
    "        else:\n",
    "            raise TypeError(f\"Person과 {type(other)}은(는) 비교할 수 없습니다.\")     # if 조건을 만족하지 못할 경우 Exception을 발생시킨다."
   ]
  },
  {
   "cell_type": "code",
   "execution_count": 171,
   "metadata": {},
   "outputs": [],
   "source": [
    "p = Person(\"홍길동\", 30, \"서울\")"
   ]
  },
  {
   "cell_type": "code",
   "execution_count": 172,
   "metadata": {},
   "outputs": [
    {
     "data": {
      "text/plain": [
       "40"
      ]
     },
     "execution_count": 172,
     "metadata": {},
     "output_type": "execute_result"
    }
   ],
   "source": [
    "p + 10"
   ]
  },
  {
   "cell_type": "code",
   "execution_count": 173,
   "metadata": {},
   "outputs": [],
   "source": [
    "# 위 실행에서 __add__(self, other)가 실행된다.\n",
    "# self: p, other: 10"
   ]
  },
  {
   "cell_type": "code",
   "execution_count": 174,
   "metadata": {},
   "outputs": [],
   "source": [
    "pp = Person(\"이순신\", 20, \"인천\")"
   ]
  },
  {
   "cell_type": "code",
   "execution_count": 175,
   "metadata": {},
   "outputs": [
    {
     "data": {
      "text/plain": [
       "50"
      ]
     },
     "execution_count": 175,
     "metadata": {},
     "output_type": "execute_result"
    }
   ],
   "source": [
    "p + pp     # self: p, other: p2"
   ]
  },
  {
   "cell_type": "code",
   "execution_count": 176,
   "metadata": {},
   "outputs": [],
   "source": [
    "# 내가 정의한 __add__() method가 실행된다는 것을 확인할 수 있다."
   ]
  },
  {
   "cell_type": "code",
   "execution_count": 177,
   "metadata": {},
   "outputs": [
    {
     "data": {
      "text/plain": [
       "True"
      ]
     },
     "execution_count": 177,
     "metadata": {},
     "output_type": "execute_result"
    }
   ],
   "source": [
    "p > pp"
   ]
  },
  {
   "cell_type": "code",
   "execution_count": 178,
   "metadata": {},
   "outputs": [],
   "source": [
    "# 위 실행에서 p instance의 age인 30과 pp instance의 age인 20이 비교된다."
   ]
  },
  {
   "cell_type": "code",
   "execution_count": 179,
   "metadata": {},
   "outputs": [
    {
     "ename": "TypeError",
     "evalue": "Person과 <class 'int'>은(는) 비교할 수 없습니다.",
     "output_type": "error",
     "traceback": [
      "\u001b[1;31m---------------------------------------------------------------------------\u001b[0m",
      "\u001b[1;31mTypeError\u001b[0m                                 Traceback (most recent call last)",
      "\u001b[1;32m~\\AppData\\Local\\Temp\\ipykernel_39532\\2942476046.py\u001b[0m in \u001b[0;36m<module>\u001b[1;34m\u001b[0m\n\u001b[1;32m----> 1\u001b[1;33m \u001b[0mp\u001b[0m \u001b[1;33m>\u001b[0m \u001b[1;36m10\u001b[0m\u001b[1;33m\u001b[0m\u001b[1;33m\u001b[0m\u001b[0m\n\u001b[0m",
      "\u001b[1;32m~\\AppData\\Local\\Temp\\ipykernel_39532\\3206347746.py\u001b[0m in \u001b[0;36m__gt__\u001b[1;34m(self, other)\u001b[0m\n\u001b[0;32m     53\u001b[0m             \u001b[1;32mreturn\u001b[0m \u001b[0mself\u001b[0m\u001b[1;33m.\u001b[0m\u001b[0mage\u001b[0m \u001b[1;33m>\u001b[0m \u001b[0mother\u001b[0m\u001b[1;33m.\u001b[0m\u001b[0mage\u001b[0m\u001b[1;33m\u001b[0m\u001b[1;33m\u001b[0m\u001b[0m\n\u001b[0;32m     54\u001b[0m         \u001b[1;32melse\u001b[0m\u001b[1;33m:\u001b[0m\u001b[1;33m\u001b[0m\u001b[1;33m\u001b[0m\u001b[0m\n\u001b[1;32m---> 55\u001b[1;33m             \u001b[1;32mraise\u001b[0m \u001b[0mTypeError\u001b[0m\u001b[1;33m(\u001b[0m\u001b[1;34mf\"Person과 {type(other)}은(는) 비교할 수 없습니다.\"\u001b[0m\u001b[1;33m)\u001b[0m     \u001b[1;31m# 입력된\u001b[0m\u001b[1;33m\u001b[0m\u001b[1;33m\u001b[0m\u001b[0m\n\u001b[0m",
      "\u001b[1;31mTypeError\u001b[0m: Person과 <class 'int'>은(는) 비교할 수 없습니다."
     ]
    }
   ],
   "source": [
    "p > 10"
   ]
  },
  {
   "cell_type": "code",
   "execution_count": 180,
   "metadata": {},
   "outputs": [],
   "source": [
    "# Exception이 발생되었다는 것을 확인할 수 있다."
   ]
  },
  {
   "cell_type": "code",
   "execution_count": 181,
   "metadata": {},
   "outputs": [],
   "source": [
    "# 위에서 한 과정들이 연산자 overriding이다."
   ]
  },
  {
   "cell_type": "markdown",
   "metadata": {
    "slideshow": {
     "slide_type": "slide"
    }
   },
   "source": [
    "# 3. class변수, class 메소드\n",
    "- **class변수**\n",
    "    - (Intance가 아닌) 클래스 자체의 데이터\n",
    "    - Attribute가 객체별로 생성된다면, class변수는 클래스당 하나가 생성된다.\n",
    "    - 하나의 class로 만들어진 instance들이 모두 공통적으로 가져야 하는 값이 있을 때 class 변수를 정의한다.\n",
    "        - 주의할 점은 attribute와는 다르다는 것이다.\n",
    "        - ex) SeoulPerson class로 만들어진 instance는 모두 address가 \"Seoul\"이다.\n",
    "            이때 address = \"서울\"을 각 객체에 일일이 정의하는 것보다 SeoulPerson class에 class 변수로 정의하는 것이 더 효율적이다.\n",
    "            즉 모든 instance들이 공통적으로 가지는 값을 class 변수로 class에 정의하는 것이다.\n",
    "            class 자체와 관련있는 것이다. 메모리에도 하나만 저장된다.\n",
    "    - 구현\n",
    "        - class 블럭에 변수 선언.\n",
    "        - attribute가 아니라 그냥 변수 선언하듯이 한다.\n",
    "- **class 메소드**\n",
    "    - 클래스 변수를 처리하는 메소드\n",
    "    - 구현\n",
    "        - @classmethod 데코레이터를 붙인다.\n",
    "        - 첫번째 매개변수로 클래스를 받는 변수를 선언한다. 이 변수를 이용해 클래스 변수나 다른 클래스 메소드를 호출 한다.\n",
    "        \n",
    "        - 구문\n",
    "            @classmethod\n",
    "            def test(cls [, argument, ...])     -> 관례상 cls 또는 clazz를 첫 번째 parameter로 쓴다."
   ]
  },
  {
   "cell_type": "markdown",
   "metadata": {
    "slideshow": {
     "slide_type": "subslide"
    }
   },
   "source": [
    "# 4. static 메소드\n",
    "- 클래스의 메소드로 클래스 변수와 상관없는 단순기능을 정의한다.\n",
    "    - Caller 에서 받은 argument만 가지고 일하는 메소드를 구현한다.\n",
    "- 구현\n",
    "    - @staticmethod 데코레이터를 붙인다.\n",
    "    - Parameter에 대한 규칙은 없이 필요한 변수들만 선언한다.\n",
    "    "
   ]
  },
  {
   "cell_type": "markdown",
   "metadata": {
    "slideshow": {
     "slide_type": "fragment"
    }
   },
   "source": [
    "## 4.1. class 메소드/변수, static 메소드 호출\n",
    "- 클래스이름.변수\n",
    "- 클래스이름.메소드() "
   ]
  },
  {
   "cell_type": "code",
   "execution_count": 182,
   "metadata": {
    "slideshow": {
     "slide_type": "fragment"
    }
   },
   "outputs": [],
   "source": [
    "# 예시로 살펴보자."
   ]
  },
  {
   "cell_type": "code",
   "execution_count": 193,
   "metadata": {},
   "outputs": [],
   "source": [
    "class Calculator:\n",
    "    \n",
    "    # 원의 넓이를 구하는 method를 정의한다. 원의 넓이: r * r * pi\n",
    "    # 이때 pi 값을 class 변수로 정의해 instance끼리 서로 다른 pi 값으로 원의 넓이를 계산하는 것을 방지한다.\n",
    "    PI = 3.14     # class 변수 선언. 보통 상수처럼 값을 사용할 때 대문자로 이름을 선언한다.\n",
    "    \n",
    "    @classmethod     # class method 정의\n",
    "    def circle_area(clazz, r):     # 첫 번째 parameter clazz는 class 자체를 받는다.\n",
    "        return r * r * clazz.PI     # class 변수 호출 방법: clazz.class_name\n",
    "    \n",
    "    \n",
    "    # 사각형의 넓이를 구하는 method를 정의한다.\n",
    "    # 이때 사각형의 넓이를 구하는 함수는 class method이긴 하지만 class 변수를 필요로 하지 않는다. 이때 staticmethod를 사용한다.\n",
    "    @staticmethod\n",
    "    def square_area(width, height): \n",
    "        return width * height"
   ]
  },
  {
   "cell_type": "code",
   "execution_count": 194,
   "metadata": {},
   "outputs": [],
   "source": [
    "# class 변수 역시 자유롭게 조회하고 변경할 수 있다. 그리고 information hinding 역시 가능하다."
   ]
  },
  {
   "cell_type": "code",
   "execution_count": 195,
   "metadata": {},
   "outputs": [
    {
     "data": {
      "text/plain": [
       "3.14"
      ]
     },
     "execution_count": 195,
     "metadata": {},
     "output_type": "execute_result"
    }
   ],
   "source": [
    "# class 변수 호출 방법: class_name.class_변수_name\n",
    "Calculator.PI"
   ]
  },
  {
   "cell_type": "code",
   "execution_count": 196,
   "metadata": {},
   "outputs": [
    {
     "data": {
      "text/plain": [
       "78.5"
      ]
     },
     "execution_count": 196,
     "metadata": {},
     "output_type": "execute_result"
    }
   ],
   "source": [
    "# class method 호출 방법: class_name.class_method_name\n",
    "Calculator.circle_area(5)     # Calculator가 circle_area(clazz, r)의 clazz로 들어간다."
   ]
  },
  {
   "cell_type": "code",
   "execution_count": 198,
   "metadata": {},
   "outputs": [
    {
     "data": {
      "text/plain": [
       "50"
      ]
     },
     "execution_count": 198,
     "metadata": {},
     "output_type": "execute_result"
    }
   ],
   "source": [
    "# static method 호출 방법: class_name.statice_method_name\n",
    "Calculator.square_area(10, 5)"
   ]
  },
  {
   "cell_type": "code",
   "execution_count": null,
   "metadata": {},
   "outputs": [],
   "source": []
  },
  {
   "cell_type": "code",
   "execution_count": 199,
   "metadata": {},
   "outputs": [],
   "source": [
    "# 객체 지향 언어를 개발할 때는 이 내용들을 잘 숙지하고 있어야 한다."
   ]
  },
  {
   "cell_type": "code",
   "execution_count": null,
   "metadata": {},
   "outputs": [],
   "source": []
  },
  {
   "cell_type": "code",
   "execution_count": null,
   "metadata": {},
   "outputs": [],
   "source": []
  },
  {
   "cell_type": "code",
   "execution_count": null,
   "metadata": {},
   "outputs": [],
   "source": [
    "# 참고"
   ]
  },
  {
   "cell_type": "code",
   "execution_count": 200,
   "metadata": {},
   "outputs": [
    {
     "data": {
      "text/plain": [
       "[__main__.Calculator, object]"
      ]
     },
     "execution_count": 200,
     "metadata": {},
     "output_type": "execute_result"
    }
   ],
   "source": [
    "Calculator.mro()"
   ]
  },
  {
   "cell_type": "code",
   "execution_count": null,
   "metadata": {},
   "outputs": [],
   "source": [
    "# mro() 함수는 class method이다."
   ]
  }
 ],
 "metadata": {
  "kernelspec": {
   "display_name": "Python 3 (ipykernel)",
   "language": "python",
   "name": "python3"
  },
  "language_info": {
   "codemirror_mode": {
    "name": "ipython",
    "version": 3
   },
   "file_extension": ".py",
   "mimetype": "text/x-python",
   "name": "python",
   "nbconvert_exporter": "python",
   "pygments_lexer": "ipython3",
   "version": "3.9.13"
  },
  "toc": {
   "base_numbering": 1,
   "nav_menu": {},
   "number_sections": true,
   "sideBar": true,
   "skip_h1_title": false,
   "title_cell": "Table of Contents",
   "title_sidebar": "Contents",
   "toc_cell": false,
   "toc_position": {},
   "toc_section_display": true,
   "toc_window_display": false
  },
  "varInspector": {
   "cols": {
    "lenName": 16,
    "lenType": 16,
    "lenVar": 40
   },
   "kernels_config": {
    "python": {
     "delete_cmd_postfix": "",
     "delete_cmd_prefix": "del ",
     "library": "var_list.py",
     "varRefreshCmd": "print(var_dic_list())"
    },
    "r": {
     "delete_cmd_postfix": ") ",
     "delete_cmd_prefix": "rm(",
     "library": "var_list.r",
     "varRefreshCmd": "cat(var_dic_list()) "
    }
   },
   "types_to_exclude": [
    "module",
    "function",
    "builtin_function_or_method",
    "instance",
    "_Feature"
   ],
   "window_display": false
  }
 },
 "nbformat": 4,
 "nbformat_minor": 4
}
