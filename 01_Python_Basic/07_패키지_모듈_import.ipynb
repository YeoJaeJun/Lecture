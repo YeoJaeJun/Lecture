{
 "cells": [
  {
   "cell_type": "code",
   "execution_count": 1,
   "id": "2fee2ffd",
   "metadata": {},
   "outputs": [],
   "source": [
    "# 지금까지 함수를 만들고 class를 이용해 instance를 만드는 방법에 대해 배웠다.\n",
    "# class, 함수, 변수를 묶어놓은 것이 module이다.\n",
    "# 그리고 이 module을 묶어놓은 것이 package이다.\n",
    "\n",
    "# 모으는 이유는 무엇일까?\n",
    "# class, 함수, 변수는 모두 재사용이 가능하다.\n",
    "# 독립적인 기능을 가지고 있으며 재사용 가능한 것들 중 서로 연관성있는 것들을 한 군데에 모아서 관리하기 위함이다.\n",
    "# 관리하기 위해 .py 스크립트 파일을 만든다. 파일 하나가 module이고 이 module들이 모여있는 directory가 package이다.\n",
    "# package보다 큰 개념은 없다.\n",
    "# 계속해서 상위 package로 올라갈 때 처음 시작 diectory를 root package라고 한다. ex) C: (윈도우 운영 체제의 시작 directory)"
   ]
  },
  {
   "cell_type": "markdown",
   "id": "9d39c99a",
   "metadata": {
    "slideshow": {
     "slide_type": "slide"
    }
   },
   "source": [
    "# 1. 모듈(Module)\n",
    "\n",
    "- 독립적인 기능을 가지고 재사용 가능한 프로그램 단위를 module이라고 한다.\n",
    "- **Python에서 module**은 재사용 가능한 함수, class 등을 작성한 소스 파일을 말한다.\n",
    "    - 함수나 클래스를 작성한 `.py` 스크립트 파일 파일이 모듈이 된다.\n",
    "- module의 함수나 class들을 다른 Python 프로그램에서 호출 하여 사용할 수 있다.\n",
    "    - 단 사용하기 위해서는 `import` 를 먼저 해야 한다.\n",
    "- 이런 module들을 모아 놓으면 library가 된다.\n",
    "- **module의 종류**\n",
    "    - 표준 module\n",
    "        - Python에 내장된 module\n",
    "        - Python을 사용할 때 같이 사용할 수 있다.\n",
    "    - 사용자 정의 module (2nd Party Module)\n",
    "        - 개발자가 재사용을 위해 직접 만든 module\n",
    "    - 3rd Party Module\n",
    "        - 특정 개발업체나 개발자들이 만들어 배포하는 module\n",
    "        - 사용자 정의 module도 배포되어 다른 곳에서 사용되면 3rd party module이 된다.\n",
    "        - 직접 다운받아서 사용한다.\n",
    "\n",
    "- 참고) jupyter notebook에서는 module을 만들 수 없다. 파일 확장자가 .py가 아닌 .ipynb이기 때문에.\n",
    "        - 작성하고 Download as에서 Python을 선택하면 된다.\n",
    "\n",
    "- jupyter notebook에서 module을 만들 때는 juyter notebook home에서 Text File을 새로 생성한다.\n",
    "    - 그 예시는 my_module.py 참고.\n",
    "\n"
   ]
  },
  {
   "cell_type": "markdown",
   "id": "5486c353",
   "metadata": {
    "slideshow": {
     "slide_type": "slide"
    }
   },
   "source": [
    "# 2. 패키지 (Package)\n",
    "- module들을 모아 놓은 것을 package라고 한다.\n",
    "    - 그래서 파이썬에서는 **라이브러리를 패키지라고 한다.** (재사용가능한 모듈들을 모아 놓은 것이 패키지이므로)\n",
    "- 물리적으로는 module 파일들을 모아놓은 directory(폴더)가 package이다.  \n",
    "- 참고) python 3.3 이전 버전은 package 디렉토리에 **\\_\\_init\\_\\_.py** 파일을 그 디렉토리에 반드시 위치시켜야 한다.\n",
    "    - 3.3 이후에는 위치시킬 필요는 없지만 package안의 모듈들의 import 관련 설정을 해야 하는 경우에는 `__init__.py`에 작성하고 위치시킨다.\n",
    "- **Root Package**\n",
    "    - 전체 모듈들을 담고 있는 최상위 패키지(디렉토리)\n",
    "    - 패키지 내의 속한 패키지를 통칭 **sub package** 라고 한다.\n",
    "    - Root package를 제외한 모든 package들은 다 sub package가 된다.\n",
    "    - 내 libaray의 시작 package가 root package이다. 운영 체제의 root package가 내 library의 root package를 뜻하는 것은 아니다.\n",
    "    \n",
    "    \n",
    "- 예시) my_package 참고\n",
    "    - my_package는 package가 되고 calculator는 module이 된다.\n",
    "    - 지금 파일 '07_패키지_모듈'의 관점에서 봤을 때 calculator는 지금의 하위 package에 있는 것이다.\n",
    "    - 현재 package / my_package / \n",
    "    "
   ]
  },
  {
   "cell_type": "markdown",
   "id": "0ba07092",
   "metadata": {
    "slideshow": {
     "slide_type": "slide"
    }
   },
   "source": [
    "- package와 module을 불러올 때 내가 원하는 게 다른 공간에 있으면 바로 사용할 수 없다. 그래서 import 라는 명령어가 필요하다."
   ]
  },
  {
   "cell_type": "code",
   "execution_count": 4,
   "id": "fb2894d3",
   "metadata": {},
   "outputs": [
    {
     "ename": "NameError",
     "evalue": "name '__version__' is not defined",
     "output_type": "error",
     "traceback": [
      "\u001b[1;31m---------------------------------------------------------------------------\u001b[0m",
      "\u001b[1;31mNameError\u001b[0m                                 Traceback (most recent call last)",
      "\u001b[1;32m~\\AppData\\Local\\Temp\\ipykernel_29148\\1250273807.py\u001b[0m in \u001b[0;36m<module>\u001b[1;34m\u001b[0m\n\u001b[1;32m----> 1\u001b[1;33m \u001b[0m__version__\u001b[0m\u001b[1;33m\u001b[0m\u001b[1;33m\u001b[0m\u001b[0m\n\u001b[0m",
      "\u001b[1;31mNameError\u001b[0m: name '__version__' is not defined"
     ]
    }
   ],
   "source": [
    "__version__"
   ]
  },
  {
   "cell_type": "code",
   "execution_count": 5,
   "id": "b4d0e4bd",
   "metadata": {},
   "outputs": [
    {
     "ename": "NameError",
     "evalue": "name 'greeting' is not defined",
     "output_type": "error",
     "traceback": [
      "\u001b[1;31m---------------------------------------------------------------------------\u001b[0m",
      "\u001b[1;31mNameError\u001b[0m                                 Traceback (most recent call last)",
      "\u001b[1;32m~\\AppData\\Local\\Temp\\ipykernel_29148\\2002081648.py\u001b[0m in \u001b[0;36m<module>\u001b[1;34m\u001b[0m\n\u001b[1;32m----> 1\u001b[1;33m \u001b[0mgreeting\u001b[0m\u001b[1;33m(\u001b[0m\u001b[1;34m\"홍길동\"\u001b[0m\u001b[1;33m)\u001b[0m\u001b[1;33m\u001b[0m\u001b[1;33m\u001b[0m\u001b[0m\n\u001b[0m",
      "\u001b[1;31mNameError\u001b[0m: name 'greeting' is not defined"
     ]
    }
   ],
   "source": [
    "greeting(\"홍길동\")"
   ]
  },
  {
   "cell_type": "code",
   "execution_count": 6,
   "id": "c71244e7",
   "metadata": {},
   "outputs": [],
   "source": [
    "# 위 경우에서 볼 수 있듯 import를 하지 않으면 NameError가 발생한다.\n",
    "# 즉 지금 파일에서 찾을 수 없다는 것이다.\n",
    "# 지금 피알이 아닌 다른 package와 module에서 내가 원하는 것을 불러올 때는 import라는 것을 꼭 사용해야 한다."
   ]
  },
  {
   "cell_type": "code",
   "execution_count": 7,
   "id": "35dafdc2",
   "metadata": {},
   "outputs": [],
   "source": [
    "import my_module"
   ]
  },
  {
   "cell_type": "code",
   "execution_count": 8,
   "id": "7b891de5",
   "metadata": {},
   "outputs": [
    {
     "name": "stdout",
     "output_type": "stream",
     "text": [
      "1.0\n",
      "홍길동 님, 안녕하세요!\n"
     ]
    }
   ],
   "source": [
    "print(my_module.__version__)\n",
    "print(my_module.greeting(\"홍길동\"))"
   ]
  },
  {
   "cell_type": "markdown",
   "id": "4a874a76",
   "metadata": {
    "slideshow": {
     "slide_type": "slide"
    }
   },
   "source": [
    "# 3. import\n",
    "\n",
    "## 3.1. 함수, class란?\n",
    "1. 함수, class를 구현한다.\n",
    "2. 구현된 함수를 파이썬 실행환경에 등록한다.\n",
    "    - 등록하는 것은 메모리에 올리는(loading) 작업이다.\n",
    "    - 메모리에 올리기 위해서는 실행시켜서 파이썬 실행환경이 읽도록 해야 한다.\n",
    "- 파이썬 실행환경에 등록된 함수와 클래스만 호출해서 사용할 수 있다."
   ]
  },
  {
   "cell_type": "markdown",
   "id": "654df5d6",
   "metadata": {
    "slideshow": {
     "slide_type": "subslide"
    }
   },
   "source": [
    "## 3.2. import 란?\n",
    "- 파이썬 모듈 파일에 정의된 변수, 함수, 클래스들을 사용하기 위해 **파이썬 실행환경에 등록하는 작업**을 말한다.\n",
    "- import를 하면 현재 실행되는 메모리 공간에 import한 module이 등록된다. 그리고 이는 논리적으로 분리되어 있다.\n",
    "- 현재 프로그램 모듈의 것들이 아니라 **다른 모듈에 있는 것들은 사용하기 위해 import 작업을 먼저 해야 한다.**\n",
    "- 모듈을 import 하면 모듈의 내용이 실행되면서 그 안에 구현된 변수, 함수, 클래스들이 파이썬 실행환경에 그 모듈 이름을 namespace로 하여 등록된다.\n",
    "\n",
    "\n",
    "> - **namespace**\n",
    ">    - 여러개의 객체(존재하는 무언가)를 하나로 묶어 주면서 구분자 역할을 하는 이름을 주는 것을 namespace라고 한다.\n",
    ">    - namespace를 이용해 각 그룹들의 객체들을 구분할 수 있다. 그래서 같은 이름의 객체들을 사용할 수 있다.\n",
    ">    - 파이썬에서는 모듈에 정의된 변수, 함수, 클래스 들을 실행환경에 등록할 때 모듈명을 namespace로 묶어서 등록한다.\n",
    ">    - [위키백과 참고](https://ko.wikipedia.org/wiki/%EC%9D%B4%EB%A6%84%EA%B3%B5%EA%B0%84)"
   ]
  },
  {
   "cell_type": "markdown",
   "id": "34083bd0",
   "metadata": {
    "slideshow": {
     "slide_type": "subslide"
    }
   },
   "source": [
    "## 3.3. import 구문\n",
    "- 기본구문\n",
    "    - `[from 사용할 것의 경로] import 사용할 것 [as 별칭] [, 사용할 것..]`\n",
    "    - \\[ \\] : 생략 가능한 구문\n",
    "    - 사용할 것\n",
    "        - 모듈\n",
    "        - 모듈안에 정의된 변수, 함수, 클래스\n",
    "            - module 안의 모든 변수, 함수, class를 사용하지 않을 때 굳이 모든 걸 등록할 필요는 없다.\n",
    "            - 그래서 필요한 변수, 함수, class만 불러와 사용할 수도 있다."
   ]
  },
  {
   "cell_type": "markdown",
   "id": "37a67c0e",
   "metadata": {
    "slideshow": {
     "slide_type": "subslide"
    }
   },
   "source": [
    "<b style='font-size:1.2em'> 1. module import</b>\n",
    "```python\n",
    "import 모듈   # 하나의 모듈 import.\n",
    "import 모듈 as 별칭 # namespace의 이름을 모듈명이 아니라 별칭으로 지정한다.\n",
    "import 모듈_1, 모듈_2 # 여러개 모듈 import.','를 구분자로 나열한다.\n",
    "import 모듈_1 as 별칭_1, 모듈_2 as 별칭_2\n",
    "```\n",
    "- 모듈을 import 하고 그 안에 함수, 클래스들을 사용할 때는 모듈명이 namespace 역할을 하기 때문에 `모듈명.함수()`, `모듈명.Class` 구문으로 호출한다.\n",
    "- 별칭(Alias)를 주면 namespace로 별칭을 사용한다.\n",
    "- **예**\n",
    "```python\n",
    "import test_module\n",
    "import my_module as mm\n",
    "# test_module의 hello() 함수 호출시\n",
    "test_module.hello()\n",
    "# my_module은 mm 별칭을 지정했으므로 mm을 namespace로 사용한다.\n",
    "p = mm.Person('홍길동', 30) # my_module의 Person 클래스 객체 생성\n",
    "```"
   ]
  },
  {
   "cell_type": "markdown",
   "id": "63abaa38",
   "metadata": {
    "slideshow": {
     "slide_type": "subslide"
    }
   },
   "source": [
    "<b style='font-size:1.2em'>2. module 내의 특정 항목만 import</b>\n",
    "```python\n",
    "from 모듈 import 함수  # 함수/클래스가 있는 모듈과 함수를 분리해서 import한다.\n",
    "from 모듈 import 클래스\n",
    "from 모듈 import 함수_1, 함수_2, 클래스\n",
    "from 모듈 import *   \n",
    "```\n",
    "- 모듈에 정의된 **일부 함수나 클래스만 사용할 경우** 개별적으로 import 할 수있다.\n",
    "- `from 모듈 import 함수` 구문으로 import 하면 import한 함수나 클래스들이 현재 실행중인 모듈의 namespace로 들어간다. 그래서 모듈명없이 바로 호출 할 수 있다.\n",
    "- `*`를 이용하면 그 모듈의 모든 함수/클래스들을 현재 실행중인 namespace에 추가해 사용할 수 있게 해준다. 이 방식은 **이름 충돌의 가능성이 있기때문에 추천되지 않는다.**"
   ]
  },
  {
   "cell_type": "code",
   "execution_count": 10,
   "id": "a39149d3",
   "metadata": {},
   "outputs": [
    {
     "data": {
      "text/plain": [
       "'홍길동 님, 안녕하세요!'"
      ]
     },
     "execution_count": 10,
     "metadata": {},
     "output_type": "execute_result"
    }
   ],
   "source": [
    "# my_module의 greeting 함수만 사용하고자 하는 경우\n",
    "\n",
    "from my_module import greeting     # 이 경우 my_module 내의 __version__ 변수와 Person class는 사용할 수 없다.\n",
    "greeting(\"홍길동\")     # greeting 함수 자체를 불렀기 때문에 greeting 함수를 현재 module에 있는 것처럼 사용할 수 있다.\n",
    "\n",
    "# 이는 변수, class 모두 적용된다."
   ]
  },
  {
   "cell_type": "markdown",
   "id": "b8bc6da8",
   "metadata": {
    "slideshow": {
     "slide_type": "subslide"
    }
   },
   "source": [
    "<b style='font-size:1.2em'>3. package에 속한 module import</b>\n",
    "\n",
    "```python\n",
    "from 패키지명 import 모듈\n",
    "from 패키지명.모듈 import 함수\n",
    "from 패키지명.모듈 import 클래스\n",
    "from 패키지명.모듈 import 함수_1, 함수_2, 클래스\n",
    "from Root패키지.Sub패키지1.Sub패키지2 import 모듈        # 패키지가 계층구조로 되있을 경우 `.` 으로 이용해 나열한다.\n",
    "from Root패키지.Sub패키지1.Sub패키지2.모듈 import 함수\n",
    "from Root패키지.Sub패키지1.Sub패키지2.모듈 import 클래스\n",
    "```\n",
    "\n",
    "- 패키지에 속한 모듈을 import 할 때는 **from 절에 패키지를 import 절에 모듈을** 설정한다.\n",
    "- **import 가능한 것은 변수, 모듈, 함수, 클래스 들이다.**  <b style='color:red'>패키지는 import 할수 없다.</b>"
   ]
  },
  {
   "cell_type": "code",
   "execution_count": 1,
   "id": "4674c51b",
   "metadata": {},
   "outputs": [
    {
     "data": {
      "text/plain": [
       "30"
      ]
     },
     "execution_count": 1,
     "metadata": {},
     "output_type": "execute_result"
    }
   ],
   "source": [
    "from my_package import calculator as calc     # my_package라는 package 안에 있는 claculator module을 calc로 import 하겠다.\n",
    "calc.plus(10, 20)"
   ]
  },
  {
   "cell_type": "code",
   "execution_count": 4,
   "id": "479e9f7a",
   "metadata": {},
   "outputs": [
    {
     "data": {
      "text/plain": [
       "(30, -10)"
      ]
     },
     "execution_count": 4,
     "metadata": {},
     "output_type": "execute_result"
    }
   ],
   "source": [
    "from my_package.calculator import plus, minus\n",
    "plus(10, 20), minus(10, 20)     # module 내의 특정 함수만 import했다.\n",
    "\n",
    "# 함수, class 단위로 import하면 현재 module의 namespace에 들어간다.\n",
    "# 그래서 사용할 때 현재 module에서 정의한 함수나 class처럼 호출하면 된다."
   ]
  },
  {
   "cell_type": "code",
   "execution_count": null,
   "id": "53836499",
   "metadata": {},
   "outputs": [],
   "source": [
    "from my_package.calculator import *     # module의 모든 class/함수/변수를 import하겠다.\n",
    "\n",
    "# 이 방식은 추천하지 않는다. 아니, 쓰지 않는 것이 좋다.\n",
    "# 왜냐하면 현재 module에서 내가 기존에 정의한 class/함수/변수와 이름이 같을 경우 namespace에서 나중의 것을 덮어쓰게 되기 때문이다.\n",
    "# 앞의 다른 방식은 내가 선택해서 불러오기 때문에 이름이 겹치는 것을 방지할 수 있다.\n",
    "# 하지만 * 을 사용할 경우 모든 class/함수/변수를 불러오는데 내가 몰랐던 것이 충돌할 수 있다.\n",
    "# 이런 경우가 발생할 수 있기 때문에 *을 이용해 무분별하게 import하는 것은 추천하지 않는다."
   ]
  },
  {
   "cell_type": "markdown",
   "id": "6a263cf2",
   "metadata": {
    "slideshow": {
     "slide_type": "slide"
    }
   },
   "source": [
    "## 3.4. import 된 모듈 찾는 경로 및 PYTHONPATH\n",
    "\n",
    "- `import 모듈` 구문을 사용하면 파이썬 실행 환경은 모듈을 다음 경로를 거쳐 찾는다.\n",
    "    1. 현재 실행중인 모듈(import 구문을 사용한 모듈)이 있는 경로\n",
    "    2. 파이썬 실행환경에 등록된 경로\n",
    "- 모듈을 찾는 순서는 다음에서 확인할 수 있다.\n",
    "```python\n",
    "import sys      # 표준모듈 sys\n",
    "print(sys.path) # 모듈을 찾는 경로를 저장한 list\n",
    "```\n",
    "- 위의 경로 이외에 파이썬 모듈이 있을 경우 PYTHONPATH 환경변수에 그 디렉토리 경로를 등록한다.\n",
    "    1. sys.path 에 추가한다. (사용할 때 마다 추가해야 한다.)\n",
    "    2. 운영체제 환경변수에 등록한다. (한번만 하면된다.)"
   ]
  },
  {
   "cell_type": "code",
   "execution_count": null,
   "id": "22c8190a",
   "metadata": {},
   "outputs": [],
   "source": []
  },
  {
   "cell_type": "code",
   "execution_count": 2,
   "id": "381c8b59",
   "metadata": {
    "scrolled": false
   },
   "outputs": [
    {
     "name": "stdout",
     "output_type": "stream",
     "text": [
      "['C:\\\\PlayData\\\\Classes\\\\02_week_python',\n",
      " 'C:\\\\Users\\\\8roke\\\\anaconda3\\\\python39.zip',\n",
      " 'C:\\\\Users\\\\8roke\\\\anaconda3\\\\DLLs',\n",
      " 'C:\\\\Users\\\\8roke\\\\anaconda3\\\\lib',\n",
      " 'C:\\\\Users\\\\8roke\\\\anaconda3',\n",
      " '',\n",
      " 'C:\\\\Users\\\\8roke\\\\anaconda3\\\\lib\\\\site-packages',\n",
      " 'C:\\\\Users\\\\8roke\\\\anaconda3\\\\lib\\\\site-packages\\\\win32',\n",
      " 'C:\\\\Users\\\\8roke\\\\anaconda3\\\\lib\\\\site-packages\\\\win32\\\\lib',\n",
      " 'C:\\\\Users\\\\8roke\\\\anaconda3\\\\lib\\\\site-packages\\\\Pythonwin',\n",
      " 'C:\\\\Users\\\\8roke\\\\anaconda3\\\\lib\\\\site-packages\\\\IPython\\\\extensions',\n",
      " 'C:\\\\Users\\\\8roke\\\\.ipython']\n"
     ]
    }
   ],
   "source": [
    "import sys\n",
    "from pprint import pprint     # 앞의 pprint는 module이고 뒤의 pprint는 함수이다. 그래서 아래에서 현재 module의 함수처럼 사용.\n",
    "pprint(sys.path)     # pprint는 print처럼 출력하는 것은 맞는데 자료 구조를 가독성 좋게 출력해준다."
   ]
  },
  {
   "cell_type": "code",
   "execution_count": null,
   "id": "4292f855",
   "metadata": {},
   "outputs": [],
   "source": [
    "# root directory(C:)에서 Temp 폴더에 test_module라는 이름의 txt 파일을 만들었다.     (C:\\\\Temp)\n",
    "# test() 함수를 만들어서 함수가 실행되면 \"test_module.test()\"를 출력한다."
   ]
  },
  {
   "cell_type": "code",
   "execution_count": 2,
   "id": "b1e78c8f",
   "metadata": {},
   "outputs": [
    {
     "ename": "ModuleNotFoundError",
     "evalue": "No module named 'test_module'",
     "output_type": "error",
     "traceback": [
      "\u001b[1;31m---------------------------------------------------------------------------\u001b[0m",
      "\u001b[1;31mModuleNotFoundError\u001b[0m                       Traceback (most recent call last)",
      "\u001b[1;32m~\\AppData\\Local\\Temp\\ipykernel_18596\\1767364248.py\u001b[0m in \u001b[0;36m<module>\u001b[1;34m\u001b[0m\n\u001b[1;32m----> 1\u001b[1;33m \u001b[1;32mimport\u001b[0m \u001b[0mtest_module\u001b[0m \u001b[1;32mas\u001b[0m \u001b[0mtm\u001b[0m\u001b[1;33m\u001b[0m\u001b[1;33m\u001b[0m\u001b[0m\n\u001b[0m\u001b[0;32m      2\u001b[0m \u001b[0mtm\u001b[0m\u001b[1;33m.\u001b[0m\u001b[0mtest\u001b[0m\u001b[1;33m(\u001b[0m\u001b[1;33m)\u001b[0m\u001b[1;33m\u001b[0m\u001b[1;33m\u001b[0m\u001b[0m\n",
      "\u001b[1;31mModuleNotFoundError\u001b[0m: No module named 'test_module'"
     ]
    }
   ],
   "source": [
    "import test_module as tm\n",
    "tm.test()"
   ]
  },
  {
   "cell_type": "code",
   "execution_count": null,
   "id": "9755489c",
   "metadata": {},
   "outputs": [],
   "source": [
    "# 실행하면 위와 같이 ModuleNotFoundError가 발생한다.\n",
    "# 그 이유는 sys.path를 pprint해봤을 때 python 실행 경로에 없기 때문이다.\n",
    "# 이걸 PYTHONPATH라고 한다. 이 PYTHONPATH에 내가 원하는 package가 있어야 한다.\n",
    "# 그래서 내가 원하는 걸 PYTHONPATH에 추가를 해야 한다.\n",
    "\n",
    "# 추가 방법은 두 가지이다.\n",
    "\n",
    "# 방법 1\n",
    "# sys.path는 list이므로 .append()를 통해 추가하는 것이다.\n",
    "# 하지만 이 방법은 프로그램을 실행할 때마다 해야 한다. 초기화되기 때문.\n",
    "\n",
    "# 방법 2\n",
    "# 운영체제 환경 변수에 등록한다. 이 방법은 영구적이라 한 번만 하면 된다.\n",
    "\n",
    "# 일시적으로 사용할 때는 방법 1을 사용하고 영구적으로 사용할 때는 방법 2를 사용한다."
   ]
  },
  {
   "cell_type": "code",
   "execution_count": null,
   "id": "7f62144f",
   "metadata": {},
   "outputs": [],
   "source": [
    "# 방법 1을 사용해보자."
   ]
  },
  {
   "cell_type": "code",
   "execution_count": 5,
   "id": "b2e83e91",
   "metadata": {},
   "outputs": [
    {
     "name": "stdout",
     "output_type": "stream",
     "text": [
      "['C:\\\\PlayData\\\\Classes\\\\02_week_python',\n",
      " 'C:\\\\Users\\\\8roke\\\\anaconda3\\\\python39.zip',\n",
      " 'C:\\\\Users\\\\8roke\\\\anaconda3\\\\DLLs',\n",
      " 'C:\\\\Users\\\\8roke\\\\anaconda3\\\\lib',\n",
      " 'C:\\\\Users\\\\8roke\\\\anaconda3',\n",
      " '',\n",
      " 'C:\\\\Users\\\\8roke\\\\anaconda3\\\\lib\\\\site-packages',\n",
      " 'C:\\\\Users\\\\8roke\\\\anaconda3\\\\lib\\\\site-packages\\\\win32',\n",
      " 'C:\\\\Users\\\\8roke\\\\anaconda3\\\\lib\\\\site-packages\\\\win32\\\\lib',\n",
      " 'C:\\\\Users\\\\8roke\\\\anaconda3\\\\lib\\\\site-packages\\\\Pythonwin',\n",
      " 'C:\\\\Users\\\\8roke\\\\anaconda3\\\\lib\\\\site-packages\\\\IPython\\\\extensions',\n",
      " 'C:\\\\Users\\\\8roke\\\\.ipython',\n",
      " 'C:\\\\Temp',\n",
      " 'C:\\\\Temp']\n"
     ]
    }
   ],
   "source": [
    "sys.path.append(r\"C:\\Temp\")\n",
    "pprint(sys.path)"
   ]
  },
  {
   "cell_type": "code",
   "execution_count": 6,
   "id": "d24d95ec",
   "metadata": {
    "scrolled": false
   },
   "outputs": [
    {
     "ename": "ModuleNotFoundError",
     "evalue": "No module named 'test_module'",
     "output_type": "error",
     "traceback": [
      "\u001b[1;31m---------------------------------------------------------------------------\u001b[0m",
      "\u001b[1;31mModuleNotFoundError\u001b[0m                       Traceback (most recent call last)",
      "\u001b[1;32m~\\AppData\\Local\\Temp\\ipykernel_41888\\1767364248.py\u001b[0m in \u001b[0;36m<module>\u001b[1;34m\u001b[0m\n\u001b[1;32m----> 1\u001b[1;33m \u001b[1;32mimport\u001b[0m \u001b[0mtest_module\u001b[0m \u001b[1;32mas\u001b[0m \u001b[0mtm\u001b[0m\u001b[1;33m\u001b[0m\u001b[1;33m\u001b[0m\u001b[0m\n\u001b[0m\u001b[0;32m      2\u001b[0m \u001b[0mtm\u001b[0m\u001b[1;33m.\u001b[0m\u001b[0mtest\u001b[0m\u001b[1;33m(\u001b[0m\u001b[1;33m)\u001b[0m\u001b[1;33m\u001b[0m\u001b[1;33m\u001b[0m\u001b[0m\n",
      "\u001b[1;31mModuleNotFoundError\u001b[0m: No module named 'test_module'"
     ]
    }
   ],
   "source": [
    "import test_module as tm\n",
    "tm.test()"
   ]
  },
  {
   "cell_type": "code",
   "execution_count": null,
   "id": "2337d573",
   "metadata": {},
   "outputs": [],
   "source": []
  },
  {
   "cell_type": "code",
   "execution_count": null,
   "id": "f7d706f1",
   "metadata": {},
   "outputs": [],
   "source": [
    "# 방법 2를 사용해보자.\n",
    "# 내 PC에서 마우스 오른쪽 -> 속성 -> 고급 시스템 설정 -> 고급 -> 환경변수 -> 새로 만들기 ->\n",
    "# 변수명: PYTHONPATH, 변수값: 경로(C:\\Temp)"
   ]
  },
  {
   "cell_type": "code",
   "execution_count": 1,
   "id": "fb64006c",
   "metadata": {},
   "outputs": [
    {
     "name": "stdout",
     "output_type": "stream",
     "text": [
      "['C:\\\\PlayData\\\\Classes\\\\02_week_python',\n",
      " 'C:\\\\Temp',\n",
      " 'C:\\\\Users\\\\8roke\\\\anaconda3\\\\python39.zip',\n",
      " 'C:\\\\Users\\\\8roke\\\\anaconda3\\\\DLLs',\n",
      " 'C:\\\\Users\\\\8roke\\\\anaconda3\\\\lib',\n",
      " 'C:\\\\Users\\\\8roke\\\\anaconda3',\n",
      " '',\n",
      " 'C:\\\\Users\\\\8roke\\\\anaconda3\\\\lib\\\\site-packages',\n",
      " 'C:\\\\Users\\\\8roke\\\\anaconda3\\\\lib\\\\site-packages\\\\win32',\n",
      " 'C:\\\\Users\\\\8roke\\\\anaconda3\\\\lib\\\\site-packages\\\\win32\\\\lib',\n",
      " 'C:\\\\Users\\\\8roke\\\\anaconda3\\\\lib\\\\site-packages\\\\Pythonwin',\n",
      " 'C:\\\\Users\\\\8roke\\\\anaconda3\\\\lib\\\\site-packages\\\\IPython\\\\extensions',\n",
      " 'C:\\\\Users\\\\8roke\\\\.ipython']\n"
     ]
    }
   ],
   "source": [
    "import sys\n",
    "from pprint import pprint\n",
    "pprint(sys.path)"
   ]
  },
  {
   "cell_type": "code",
   "execution_count": null,
   "id": "c642b2a3",
   "metadata": {},
   "outputs": [],
   "source": [
    "# 환경 변수를 등록하면 보이는 것과 같이 두 번째에 C:\\\\Temp가 생성되어 있다는 것을 확인할 수 있다."
   ]
  },
  {
   "cell_type": "code",
   "execution_count": 1,
   "id": "6b881b51",
   "metadata": {
    "scrolled": true
   },
   "outputs": [
    {
     "name": "stdout",
     "output_type": "stream",
     "text": [
      " C 드라이브의 볼륨에는 이름이 없습니다.\n",
      " 볼륨 일련 번호: A8F0-689A\n",
      "\n",
      " c:\\temp 디렉터리\n",
      "\n",
      "2022-12-29  오전 11:19    <DIR>          .\n",
      "2022-12-29  오전 11:22                44 test_module.py.txt\n",
      "               1개 파일                  44 바이트\n",
      "               1개 디렉터리  286,314,942,464 바이트 남음\n"
     ]
    }
   ],
   "source": [
    "!dir c:\\temp"
   ]
  },
  {
   "cell_type": "code",
   "execution_count": 2,
   "id": "54d76c08",
   "metadata": {},
   "outputs": [
    {
     "name": "stdout",
     "output_type": "stream",
     "text": [
      "test_module.test()\n"
     ]
    }
   ],
   "source": [
    "import test_module as tm\n",
    "tm.test()"
   ]
  },
  {
   "cell_type": "code",
   "execution_count": null,
   "id": "1458f70a",
   "metadata": {},
   "outputs": [],
   "source": [
    "# 잘 실행된다는 것 확인 가능"
   ]
  },
  {
   "cell_type": "code",
   "execution_count": null,
   "id": "f0781969",
   "metadata": {},
   "outputs": [],
   "source": [
    "# 즉 module을 만들 때는 현재 working directory에 만들면 크게 문제 없이 할 수 있다.\n",
    "# 만약 directory가 다를 경우 위의 두 방법으로 추가하면 된다."
   ]
  },
  {
   "cell_type": "markdown",
   "id": "4222ef77",
   "metadata": {
    "slideshow": {
     "slide_type": "slide"
    }
   },
   "source": [
    "# 4. 메인 모듈(Main Module)과 하위 모듈(Sub Module)\n",
    "\n",
    "- **메인 모듈**\n",
    "    - 현재 실행하고 있는 모듈\n",
    "- **하위 모듈 (Sub module)**\n",
    "    - 메인 모듈에서 import 되어 실행되는 모듈\n",
    "    - 모듈을 import하면 그 모듈을 실행 시킨다. 이때 모듈에 있는 실행코드들도 같이 실행된다. 이것을 방지 하기 위해 모듈이 메인 모듈로 실행되는지 하위 모듈로 실행되는지 확인이 필요하다.\n",
    "- <b>`__name__`</b> 내장 전역변수\n",
    "    - 실행 중인 모듈명을 저장하는 내장 전역변수\n",
    "    - **메인 모듈은 '\\_\\_main\\_\\_'** 을 **하위 모듈은 모듈명(파일명)** 이 저장된다.\n",
    "    - 모듈이 메인 모듈로 시작하는지 여부 확인 할 때 사용한다.\n",
    "    \n",
    "```python\n",
    "if __name__ == '__main__':\n",
    "    #메인모듈일 때 실행할 코드 블록\n",
    "```"
   ]
  },
  {
   "cell_type": "code",
   "execution_count": null,
   "id": "5ae53566",
   "metadata": {},
   "outputs": [],
   "source": [
    "# my_module을 수정한다.\n",
    "# my_module에는 library도 있고 실행문도 있다.\n",
    "# 이걸 terminal에서 실행해 보자.\n",
    "\n",
    "# 이 방법의 문제는 아래와 같다."
   ]
  },
  {
   "cell_type": "code",
   "execution_count": 3,
   "id": "608dc406",
   "metadata": {},
   "outputs": [
    {
     "name": "stdout",
     "output_type": "stream",
     "text": [
      "김영수 님, 안녕하세요!\n",
      "이름: 이순신, 나이: 20\n"
     ]
    }
   ],
   "source": [
    "import my_module"
   ]
  },
  {
   "cell_type": "code",
   "execution_count": null,
   "id": "2ec9b4ef",
   "metadata": {},
   "outputs": [],
   "source": [
    "# import를 했을 뿐인데 실행문이 출력된다.\n",
    "# import는 my_module.py를 실행하는 것이기 때문이다. 함수/class는 등록되는데 실행문을 실행을 해버린다.\n",
    "# 그래서 import했을 뿐인데 결과가 출력된다.\n",
    "\n",
    "# 이를 막고자 instance를 생성하고 실행문을 만들 때는\n",
    "\n",
    "# import를 통해서 실행될 경우에는 실행문이 실행되면 안된다.\n",
    "# python my_module.py 라는 명령어를 통해 실행될 경우에만 실행되야 한다.\n",
    "\n",
    "# 이를 해결하기 위한 main module과 sub module 개념이 있다.\n",
    "# main module 일 때만 실행해야 하는 코드가 있다면 \n",
    "# if 문을 사용한다.\n"
   ]
  },
  {
   "cell_type": "code",
   "execution_count": 1,
   "id": "f958ebb9",
   "metadata": {
    "scrolled": true
   },
   "outputs": [
    {
     "name": "stdout",
     "output_type": "stream",
     "text": [
      "my_module\n",
      "김영수 님, 안녕하세요!\n",
      "이름: 이순신, 나이: 20\n"
     ]
    }
   ],
   "source": [
    "import my_module"
   ]
  },
  {
   "cell_type": "code",
   "execution_count": 1,
   "id": "553d23af",
   "metadata": {},
   "outputs": [],
   "source": [
    "import my_module"
   ]
  },
  {
   "cell_type": "code",
   "execution_count": null,
   "id": "2c177a6c",
   "metadata": {},
   "outputs": [],
   "source": [
    "# if 문을 사용하면 위와 같이 실행문이 출력되지 않는다.\n",
    "# 이렇게 함수 class가 있고 이걸 이용하는 실행문이 있다면 if문을 사용하면 된다."
   ]
  },
  {
   "cell_type": "code",
   "execution_count": null,
   "id": "1a031d8d",
   "metadata": {},
   "outputs": [],
   "source": []
  },
  {
   "cell_type": "code",
   "execution_count": null,
   "id": "5b75d9ba",
   "metadata": {},
   "outputs": [],
   "source": []
  }
 ],
 "metadata": {
  "kernelspec": {
   "display_name": "Python 3 (ipykernel)",
   "language": "python",
   "name": "python3"
  },
  "language_info": {
   "codemirror_mode": {
    "name": "ipython",
    "version": 3
   },
   "file_extension": ".py",
   "mimetype": "text/x-python",
   "name": "python",
   "nbconvert_exporter": "python",
   "pygments_lexer": "ipython3",
   "version": "3.9.13"
  },
  "toc": {
   "base_numbering": 1,
   "nav_menu": {},
   "number_sections": true,
   "sideBar": true,
   "skip_h1_title": false,
   "title_cell": "Table of Contents",
   "title_sidebar": "Contents",
   "toc_cell": false,
   "toc_position": {},
   "toc_section_display": true,
   "toc_window_display": false
  },
  "varInspector": {
   "cols": {
    "lenName": 16,
    "lenType": 16,
    "lenVar": 40
   },
   "kernels_config": {
    "python": {
     "delete_cmd_postfix": "",
     "delete_cmd_prefix": "del ",
     "library": "var_list.py",
     "varRefreshCmd": "print(var_dic_list())"
    },
    "r": {
     "delete_cmd_postfix": ") ",
     "delete_cmd_prefix": "rm(",
     "library": "var_list.r",
     "varRefreshCmd": "cat(var_dic_list()) "
    }
   },
   "types_to_exclude": [
    "module",
    "function",
    "builtin_function_or_method",
    "instance",
    "_Feature"
   ],
   "window_display": false
  }
 },
 "nbformat": 4,
 "nbformat_minor": 5
}
