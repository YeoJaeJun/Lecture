{
 "cells": [
  {
   "cell_type": "markdown",
   "metadata": {
    "slideshow": {
     "slide_type": "slide"
    }
   },
   "source": [
    "# 1. 객체지향 프로그래밍 (Object Oriented Programming)\n",
    "\n",
    "프로그램을 구성하는 변수와 함수를 서로 연관성있는 것 끼리 묶어서 모듈화한 후 개발하는 언어들을 객체지향프로그래밍 언어라고 한다.\n",
    "\n",
    "절차지향 프로그래밍\n",
    "- 코드를 구동 순서대로 구성하는 프로그래밍 언어\n",
    "- 지금까지 해왔던 방식\n",
    "\n",
    "\n",
    "객체지향 프로그래밍\n",
    "- 서로 연관성 있는 변수/함수를 라이브러리로 묶어서 모듈화한 후 개발하는 언어\n",
    "- 프로그램에서 메인이 되는 것은 데이터이다. 그래서 객체지향 프로그래밍은 내가 필요로 하는 데이터와 그 데이터를 다룰 수 있는 함수만을(서로 연관성 있는 변수/함수 라이브러리) 따로 구분해 모아놓고 이들만 개발할 수 있게 해준다.\n",
    "- 객체지향 프로그래밍은 코드 작성 후 유지/보수에 편리함을 준다."
   ]
  },
  {
   "cell_type": "markdown",
   "metadata": {
    "slideshow": {
     "slide_type": "fragment"
    }
   },
   "source": [
    "# 2. Instance(객체)\n",
    "- 연관성 있는 값들과 그 값들을 처리하는 함수(메소드)들을 묶어서 가지고 있는 것(값).\n",
    "- 객체의 구성요소\n",
    "    - 속성(Attribute)\n",
    "        - 객체의 데이터/상태로 객체를 구성하는 값들.\n",
    "    - 메소드(Method)\n",
    "        - 객체가 제공하는 기능으로 주로 Attribute들을 처리한다.\n",
    "\n",
    "\n",
    "속성과 메소드\n",
    "- 게임을 예로 든다.\n",
    "- FIFA 게임에서 손흥민 캐릭터는 하나의 객체이다.\n",
    "- 손흥민 캐릭터가 가지고 있는 성질(키, 몸무게, 나이, 속력, 가속도 등)은 Attribute이다.\n",
    "- 손흥민 캐릭터로 내가 할 수 있는 것(크로스, 패스, 슛 등)은 Method이다.\n",
    "\n",
    "\n",
    "\n",
    "- 수없이 많은 Instance를 직접 하나씩 다 만들기는 힘들다.\n",
    "- 즉 Instance 각각을 만들지 말고 Type을 만들어서 여러 개의 Instance를 한 번에 만들어 내자! 이 Type이 Class이다.\n",
    "- 비슷한 점을 지닌 Instance들을 만들어 낼 수 있는 Class를 만들면 편리하다.\n",
    "\n",
    "\n"
   ]
  },
  {
   "cell_type": "markdown",
   "metadata": {
    "slideshow": {
     "slide_type": "subslide"
    }
   },
   "source": [
    "## 2.1. Class(클래스) 정의\n",
    "\n",
    "- class란: 객체의 설계도\n",
    "    - 동일한 형태의 객체들이 가져야 하는 Attribute와 Method들을 정의 한 것\n",
    "        - 클래스를 정의할 때 어떤 속성과 메소드를 가지는지 먼저 설계해야 한다.\n",
    "    - 클래스로 부터 객체(instance)를 생성한 뒤 사용한다.\n",
    "```python\n",
    "class 클래스이름:  #선언부\n",
    "    #클래스 구현\n",
    "    #메소드들을 정의\n",
    "```\n",
    "- 클래스 이름의 관례: 파스칼 표기법-각 단어의 첫글자는 대문자 나머진 소문자로 정의한다.\n",
    "    - ex) Person, Student, HighSchoolStudent\n",
    "\n",
    "Class는 빵틀, Instance는 빵으로 비유할 수 있다.\n",
    "- 동그란 모양의 빵을 만들려고 할 때 하나의 동그란 빵틀을 만들면 동그란 모양의 빵을 여러 개 만들어 낼 수 있다.\n",
    "- 하나의 빵틀로 만든 빵들은 서로 공통적인 Attribute와 Method를 지닌다.\n",
    "- 즉 동그란 모양이라는 하나의 공통적 성질로 묶어서 빵들을 만들어 낼 수 있는 것이다."
   ]
  },
  {
   "cell_type": "markdown",
   "metadata": {
    "slideshow": {
     "slide_type": "fragment"
    }
   },
   "source": [
    "## 2.2. 클래스로부터 객체(Instance) 생성\n",
    "- 클래스는 데이터 타입 instance는 값이다.\n",
    "\n",
    "```python\n",
    "변수 = 클래스이름()\n",
    "```"
   ]
  },
  {
   "cell_type": "code",
   "execution_count": 2,
   "metadata": {
    "slideshow": {
     "slide_type": "fragment"
    }
   },
   "outputs": [],
   "source": [
    "# Class 생성\n",
    "\n",
    "class Person:\n",
    "    pass     # 빈 구현부 생성"
   ]
  },
  {
   "cell_type": "code",
   "execution_count": 6,
   "metadata": {},
   "outputs": [],
   "source": [
    "# Instance 생성\n",
    "\n",
    "Jhon = Person()     # Person으로 만들어진 객체 Jhon 생성"
   ]
  },
  {
   "cell_type": "code",
   "execution_count": 8,
   "metadata": {},
   "outputs": [
    {
     "name": "stdout",
     "output_type": "stream",
     "text": [
      "<class '__main__.Person'>\n"
     ]
    }
   ],
   "source": [
    "print(type(Jhon))     # class: Data Type, Instance: Value"
   ]
  },
  {
   "cell_type": "code",
   "execution_count": 9,
   "metadata": {},
   "outputs": [
    {
     "name": "stdout",
     "output_type": "stream",
     "text": [
      "<class 'int'> <class 'float'> <class 'str'>\n"
     ]
    }
   ],
   "source": [
    "print(type(10), type(0.2), type(\"A\"))"
   ]
  },
  {
   "cell_type": "markdown",
   "metadata": {
    "slideshow": {
     "slide_type": "subslide"
    }
   },
   "source": [
    "## 2.3. Attribute(속성) \n",
    "- attribute는 객체의 데이터, 객체가 가지는 값, 객체의 상태\n",
    "\n",
    "### 2.3.1. 객체에 속성을 추가, 조회\n",
    "- 객체의 속성 추가(값 변경) 방법\n",
    "    1. Initializer(생성자)를 통한 추가\n",
    "    2. 객체.속성명 = 값 (추가/변경)\n",
    "    3. 메소드를 통한 추가/변경\n",
    "    - 1번 방법(Initializer)은 초기화할 때. 2번, 3번 방법은 속성값을 변경할 때 사용.\n",
    "- 속성 값 조회\n",
    "    - 객체.속성명\n",
    "- **객체.\\_\\_dict\\_\\_**\n",
    "    - 객체가 가지고 있는 Attribute들을 dictionary로 반환한다."
   ]
  },
  {
   "cell_type": "code",
   "execution_count": 9,
   "metadata": {
    "slideshow": {
     "slide_type": "fragment"
    }
   },
   "outputs": [],
   "source": [
    "# Class 생성\n",
    "\n",
    "class Person:\n",
    "    pass     # 빈 구현부 생성"
   ]
  },
  {
   "cell_type": "code",
   "execution_count": 27,
   "metadata": {},
   "outputs": [],
   "source": [
    "# Instance 생성\n",
    "\n",
    "human1 = Person()     # Person으로 만들어진 객체 human 생성"
   ]
  },
  {
   "cell_type": "code",
   "execution_count": 28,
   "metadata": {},
   "outputs": [
    {
     "name": "stdout",
     "output_type": "stream",
     "text": [
      "{}\n"
     ]
    }
   ],
   "source": [
    "# Instance가 가진 attribute 조회\n",
    "\n",
    "print(human1.__dict__)     # 비어있다는 것 확인 가능"
   ]
  },
  {
   "cell_type": "code",
   "execution_count": 29,
   "metadata": {},
   "outputs": [
    {
     "name": "stdout",
     "output_type": "stream",
     "text": [
      "{'name': '홍길동', 'age': '20', 'address': '서울'}\n"
     ]
    }
   ],
   "source": [
    "# attribute 추가 (2번 방법 사용)\n",
    "\n",
    "human1.name = \"홍길동\"     # human.name -> human 객체의 name 변수를 뜻한다. 그리고 이 변수에 \"홍길동\"이라는 값을 대입했다.\n",
    "human1.age = \"20\"\n",
    "human1.address = \"서울\"\n",
    "\n",
    "print(human1.__dict__)     # human 객체가 가지고 있는 attribute를 dictonary로 알려준다."
   ]
  },
  {
   "cell_type": "code",
   "execution_count": 30,
   "metadata": {},
   "outputs": [
    {
     "name": "stdout",
     "output_type": "stream",
     "text": [
      "홍길동 20 서울\n"
     ]
    }
   ],
   "source": [
    "# attribute 조회\n",
    "\n",
    "print(human1.name, human1.age, human1.address)"
   ]
  },
  {
   "cell_type": "markdown",
   "metadata": {},
   "source": [
    "위 과정은 메모리에 다음과 같이 정리된다.\n",
    "\n",
    "Person()이라는 객체가 생기고 이 객체의 이름은 human이다.\n",
    "attribute를 추가할 때마다 Person() 객체 공간 안에 name, age, address의 정보가 생성된다.\n",
    "따라서 각 attribute를 조회/변경할 때마다 human.name, human.age, human.address와 같은 방법으로 변수를 call해야 한다. 이는 human 객체에만 영향을 주고 Person class로 만든 다른 객체에는 영향을 주지 않는다. 아래 과정을 통해 확인할 수 있다."
   ]
  },
  {
   "cell_type": "code",
   "execution_count": 22,
   "metadata": {},
   "outputs": [
    {
     "name": "stdout",
     "output_type": "stream",
     "text": [
      "이순신 30 인천\n"
     ]
    }
   ],
   "source": [
    "human2 = Person()\n",
    "human2.name = \"이순신\"\n",
    "human2.age = \"30\"\n",
    "human2.address = \"인천\"\n",
    "\n",
    "print(human2.name, human2.age, human2.address)"
   ]
  },
  {
   "cell_type": "code",
   "execution_count": 23,
   "metadata": {},
   "outputs": [
    {
     "name": "stdout",
     "output_type": "stream",
     "text": [
      "홍길동 20 서울\n"
     ]
    }
   ],
   "source": [
    "print(human.name, human.age, human.address)"
   ]
  },
  {
   "cell_type": "markdown",
   "metadata": {},
   "source": [
    "human2라는 새로운 객체를 만들고 변수에 값을 대입했지만 기존의 human에는 영향을 주지 않는다는 것을 확인할 수 있다. 즉 human.name와 human2.name는 다른 변수이며 이는 서로 다른 공간에 저장된다는 것을 뜻한다.\n",
    "\n",
    "같은 Type을 지니는 객체들을 만들고자 할 때 class를 만들어 설정할 수 있다."
   ]
  },
  {
   "cell_type": "code",
   "execution_count": 10,
   "metadata": {},
   "outputs": [
    {
     "ename": "AttributeError",
     "evalue": "'Person' object has no attribute 'address'",
     "output_type": "error",
     "traceback": [
      "\u001b[1;31m---------------------------------------------------------------------------\u001b[0m",
      "\u001b[1;31mAttributeError\u001b[0m                            Traceback (most recent call last)",
      "\u001b[1;32m~\\AppData\\Local\\Temp\\ipykernel_2880\\2580210363.py\u001b[0m in \u001b[0;36m<module>\u001b[1;34m\u001b[0m\n\u001b[0;32m      4\u001b[0m \u001b[0mhuman3\u001b[0m\u001b[1;33m.\u001b[0m\u001b[0memail\u001b[0m \u001b[1;33m=\u001b[0m \u001b[1;34m\"ryu@gmail.com\"\u001b[0m\u001b[1;33m\u001b[0m\u001b[1;33m\u001b[0m\u001b[0m\n\u001b[0;32m      5\u001b[0m \u001b[1;33m\u001b[0m\u001b[0m\n\u001b[1;32m----> 6\u001b[1;33m \u001b[0mprint\u001b[0m\u001b[1;33m(\u001b[0m\u001b[0mhuman3\u001b[0m\u001b[1;33m.\u001b[0m\u001b[0mname\u001b[0m\u001b[1;33m,\u001b[0m \u001b[0mhuman3\u001b[0m\u001b[1;33m.\u001b[0m\u001b[0mage\u001b[0m\u001b[1;33m,\u001b[0m \u001b[0mhuman3\u001b[0m\u001b[1;33m.\u001b[0m\u001b[0maddress\u001b[0m\u001b[1;33m)\u001b[0m\u001b[1;33m\u001b[0m\u001b[1;33m\u001b[0m\u001b[0m\n\u001b[0m",
      "\u001b[1;31mAttributeError\u001b[0m: 'Person' object has no attribute 'address'"
     ]
    }
   ],
   "source": [
    "human3 = Person()\n",
    "human3.name = \"유관순\"\n",
    "human3.age = \"25\"\n",
    "human3.email = \"ryu@gmail.com\"\n",
    "\n",
    "print(human3.name, human3.age, human3.address)"
   ]
  },
  {
   "cell_type": "markdown",
   "metadata": {},
   "source": [
    "human3 객체는 앞의 다른 두 객체와는 다른 attribute를 지니고 있다. human1, human2, human3세 개의 객체는 같은 Type을 가지고 있지만 다른 attribute를 지니고 있다. 이는 class에 대한 안정성이 떨어진다고 할 수 있다.\n",
    "Person class는 class 명만 명시되어 있어 각 객체의 attribute를 설정할 때 직접 attribute 값을 대입했다. 그 과정에서 객체들이 서로 다른 attribute를 지니게 되었다. 이는 객체를 생성할 때 좋은 방법이라고 할 수 없다. 위에서 사용한 방법은 이미 대입되어 있는 값을 변경할 때에는 편리하게 사용할 수 있다. 하지만 같은 Type임에도 서로 다른 attribute를 지니므로 문제가 발생할 수 있다.\n",
    "그래서 아래의 initializer를 사용하면 이러한 문제를 해결할 수 있다."
   ]
  },
  {
   "cell_type": "markdown",
   "metadata": {
    "slideshow": {
     "slide_type": "subslide"
    }
   },
   "source": [
    "### 2.3.2. 생성자(Initializer)\n",
    "- 객체를 생성할 때 호출되는 특수메소드로 attribute들 초기화에 하는 코드를 구현한다.\n",
    "    - Inializer를 이용해 초기화하는 Attribute들이 그 클래스의 객체들이 가져야 하는 공통 Attribute가 된다.\n",
    "- 구문\n",
    "```python\n",
    "def __init__(self [,매개변수들 선언]):  #[ ] 옵션.\n",
    "    # 구현 -> attribute(instance변수) 초기화\n",
    "    self.속성명 = 값\n",
    "```\n",
    "> 변수 초기화: 처음 변수 만들어서 처음 값 대입.    "
   ]
  },
  {
   "cell_type": "code",
   "execution_count": 12,
   "metadata": {},
   "outputs": [],
   "source": [
    "class Person2:\n",
    "    def __init__(self, name, age, address = None):     # attribute를 선언할 때는 self를 꼭 넣어야 한다. 여기서의 변수는 지역 변수이다.\n",
    "        \"\"\"\n",
    "        Person 객체의 name, age, address 속성을 초기화.\n",
    "        \"\"\"\n",
    "        # 속성에 값을 대입할 때 - self.변수명 = 값\n",
    "        self.name = name     # 여기서 변수는 ???? 위 변수랑 뭐가 다른지 모름. 찾아보기.\n",
    "        self.age = age\n",
    "        self.address = address\n",
    "        \n",
    "# self는 이 객체의 소유 변수라고 생각하면 된다."
   ]
  },
  {
   "cell_type": "code",
   "execution_count": 13,
   "metadata": {},
   "outputs": [],
   "source": [
    "p = Person2(\"홍길동\", 30, \"서울\")\n",
    "\n",
    "# positional argument. self에는 p라는 객체가 대입되고 \n",
    "\n",
    "# 1. 객체 Person2가 메모리에 생성된다. 이때 객체는 self에 대입된다.\n",
    "# 2. __init__()을 호출한다. __init__()은 객체를 생성하면 자동으로 호출된다. 이러한 것을 특수 메서드라고 한다.\n",
    "# 따라서 attribute 값이 자동으로 대입된다. 그래서 __init__() method는 직접 호출할 필요가 없다.\n",
    "# 2.1. \"홍길동\", 30, \"서울\" argument는 name, age, address parameter에 대입된다.\n",
    "# 3. self에 p가 대입된다.\n",
    "\n",
    "# 주의할 점은 객체는 메서드를 지니지 않는다는 것이다. 메서드를 호출하면 객체를 class에 넘겨준 후 class에 저장되어 있는 메서드를 실행하는 것이다.\n",
    "# 그래서 self가 필요하다. self에 대한 자세한 설명은 아래에 있다.\n",
    "\n",
    "# 메서드는 메모리를 여러 개 생성하지 않아도 된다."
   ]
  },
  {
   "cell_type": "code",
   "execution_count": 14,
   "metadata": {},
   "outputs": [
    {
     "name": "stdout",
     "output_type": "stream",
     "text": [
      "홍길동 30 서울\n"
     ]
    }
   ],
   "source": [
    "print(p.name, p.age, p.address)"
   ]
  },
  {
   "cell_type": "markdown",
   "metadata": {
    "slideshow": {
     "slide_type": "fragment"
    }
   },
   "source": [
    "### 2.3.3. self  parameter\n",
    "- 메소드는 반드시 한개 이상의 parameter를 선언해야 하고 그 첫번째 parameter를 말한다.\n",
    "- 메소드 호출시 그 메소드를 소유한 instance가 self parameter에 할당된다.\n",
    "- Initializer의 self\n",
    "    - 현재 만들어지고 있는 객체를 받는다.\n",
    "- 메소드의 self\n",
    "    - 메소드를 소유한 객체를 받는다.\n",
    "- Caller에서 생성자/메소드에 전달된 argument들을 받을 parameter는 두번째 변수부터 선언한다.    "
   ]
  },
  {
   "cell_type": "code",
   "execution_count": 36,
   "metadata": {},
   "outputs": [],
   "source": [
    "# 새로운 객체를 만들 때마다 self에 새로운 객체의 이름이 대입된다."
   ]
  },
  {
   "cell_type": "markdown",
   "metadata": {
    "slideshow": {
     "slide_type": "subslide"
    }
   },
   "source": [
    "### 2.3.4. Instance 메소드(method)\n",
    "- 객체가 제공하는 기능\n",
    "- 객체의 attribute 값을 처리하는 기능을 구현한다.\n",
    "- 구문\n",
    "```python\n",
    "def 이름(self [, 매개변수들 선언]):\n",
    "    # 구현\n",
    "    # attribute 사용(조회/대입)\n",
    "    self.attribute \n",
    "```\n",
    "- self (첫번째 매개변수)\n",
    "    - 메소드를 소유한 객체를 받는 변수\n",
    "    - 호출할 때 전달하는 argument를 받는 매개변수는 두번째 부터 선언한다.\n",
    "![self](images/ch06_01.png)\n",
    "    \n",
    "- **메소드 호출**\n",
    "    - `객체.메소드이름([argument, ...])`"
   ]
  },
  {
   "cell_type": "code",
   "execution_count": 19,
   "metadata": {
    "slideshow": {
     "slide_type": "fragment"
    }
   },
   "outputs": [],
   "source": [
    "class Person:\n",
    "\n",
    "# 아래 작성되는 것들은 모두 메소드이다. 이때 __init__()은 특수 메소드로 밖에서 호출하지 않더라도 자동으로 실행된다.\n",
    "# 이러한 것을 특수 메소드라고 하며 __init__()은 attribute를 생성할 때 사용하는 메소드이다.\n",
    "# 메소드는 함수 선언과 비슷하게 작성되지만 parameter의 첫번째에 self를 필수로 넣는 것이 가장 큰 차이점이다.\n",
    "# parameter 작성 방법은 함수에서와 동일하다.\n",
    "\n",
    "    def __init__(self, name, age, address = None):\n",
    "        self.name = name\n",
    "        self.age = age\n",
    "        self.address = address\n",
    "        \n",
    "    def print_info(self):     # argument가 없는 메소드. 호출할 때 \"객체명.print_info()\"로 호출한다.\n",
    "        # attribute를 출력하는 메소드\n",
    "        print(f\"이름 : {self.name}, 나이 : {self.age}, 주소 : {self.address}\")\n",
    "    \n",
    "    def add_age(self, age):     # 하나의 argument(age)가 있는 메소드.\n",
    "        # 나이에 전달받은 age를 더하는 메소드\n",
    "        self.age += age\n",
    "\n",
    "# 각 method의 self는 서로 다른 local variable이다.        \n",
    "\n",
    "# 객체를 생성하면 self에 객체가 대입된다. 그리고 메소드를 실행해 attribute를 형성한 후 내가 지정한 변수명에 다시 객체가 대입된다."
   ]
  },
  {
   "cell_type": "code",
   "execution_count": 20,
   "metadata": {},
   "outputs": [],
   "source": [
    "p1 = Person(\"이순신\", 20, \"서울\")"
   ]
  },
  {
   "cell_type": "code",
   "execution_count": 21,
   "metadata": {},
   "outputs": [],
   "source": [
    "p2 = Person(\"유관순\", 30, \"인천\")"
   ]
  },
  {
   "cell_type": "code",
   "execution_count": 22,
   "metadata": {},
   "outputs": [
    {
     "name": "stdout",
     "output_type": "stream",
     "text": [
      "이름 : 이순신, 나이 : 20, 주소 : 서울\n",
      "이름 : 유관순, 나이 : 30, 주소 : 인천\n"
     ]
    }
   ],
   "source": [
    "# 첫번쨰 메소드 실행.\n",
    "\n",
    "p1.print_info()\n",
    "\n",
    "# p1이 def print_info(self)의 self에 들어가게 되어 print_info 메소드에서 p1이 가지고 있는 값을 이용해 구현부를 처리한다.\n",
    "\n",
    "p2.print_info()\n",
    "\n",
    "# 메소드는 같지만 self에 들어가는 객체가 달라 서로 다른 결과를 출력한다.\n",
    "\n",
    "# 위 과정에서 볼 수 있듯 같은 class에서 생성된 객체는 같은 메소드를 실행할 수 있다."
   ]
  },
  {
   "cell_type": "code",
   "execution_count": 62,
   "metadata": {},
   "outputs": [
    {
     "name": "stdout",
     "output_type": "stream",
     "text": [
      "이름 : 이순신, 나이 : 22, 주소 : 서울\n"
     ]
    }
   ],
   "source": [
    "p1.add_age(2)\n",
    "\n",
    "# add_age는 입력받은 argument age를 기존의 age 값에 더해준다. 하지만 그 결과는 출력하지 않는다.\n",
    "# 결과 변화를 확인하기 위해 아래의 메소드를 실행한다.\n",
    "\n",
    "p1.print_info()\n",
    "\n",
    "# 나이가 20살에서 22살로 바껴있는 것을 확인할 수 있다.\n",
    "\n",
    "# add_age 메소드는 메소드 실행을 위해 하나의 argument를 필요로 한다."
   ]
  },
  {
   "cell_type": "markdown",
   "metadata": {
    "slideshow": {
     "slide_type": "slide"
    }
   },
   "source": [
    "## 2.4. 정보 은닉 (Information Hiding)\n",
    "- Attribute의 값을 caller(객체 외부)가 마음대로 바꾸지 못하게 하기 위해 직접 호출을 막고 setter/getter 메소드를 통해 값을 변경/조회 하도록 한다.\n",
    "    - 데이터 보호가 주목적이다.\n",
    "    - 변경 메소드에 Attribube 변경 조건을 넣어 업무 규칙에 맞는 값들만 변경되도록 처리한다.\n",
    "    - **setter**\n",
    "        - Attribute의 값을 변경하는 메소드. 관례상 set 으로 시작\n",
    "    - **getter**\n",
    "        - Attribute의 값을 조회하는 메소드. 관례상 get 으로 시작\n",
    "- Attribute 직접 호출 막기 - hiding을 하는 방법\n",
    "    - Attribute의 이름을 \\_\\_(double underscore)로 시작한다. (\\_\\_로 끝나면 안된다.)\n",
    "        - ex) self.name -> self.__name\n",
    "    - 같은 클래스에서는 선언한 이름으로 사용가능하지만 외부에서는 그 이름으로 호출할 수 없게 된다.\n",
    "    "
   ]
  },
  {
   "cell_type": "code",
   "execution_count": 65,
   "metadata": {
    "slideshow": {
     "slide_type": "fragment"
    }
   },
   "outputs": [],
   "source": [
    "# attribute 값은 외부에서 조회하고 변경할 수 있다. 하지만 변경하면 안되는 attribute가 있을 수도 있다.\n",
    "# 그래서 attribute 값을 바꾸지 못하게 숨기는 방법을 이용한다. 이것이 정보 은닉이다.\n",
    "# 이때 setter/getter 메소드를 통해 값을 변경/조회 할 수 있도록 한다. 이는 직접적인 방법이 아닌 간접적인 방법이다.\n",
    "# 메소드에는 logic을 넣을 수 있기 때문에 정해진 조건에 따라 변경할 값을 선별해서 선택적으로 변경할 수 있게 한다.\n",
    "# 이때 정해진 조건은 내가 원하는대로 설정한다.\n",
    "    # 데이터 보호를 위해 이 방법을 이용한다."
   ]
  },
  {
   "cell_type": "code",
   "execution_count": 1,
   "metadata": {},
   "outputs": [],
   "source": [
    "class Person4:\n",
    "    # name: 두 글자 이상만 대입할 수 있다.\n",
    "    # age: 10 이상만 대입할 수 있다.\n",
    "    # address: 특별한 조건이 없다.\n",
    "    # name, age는 외부에서 아무 값을 대입할 수 없도록 처리해야 한다. -> 정보 은닉!\n",
    "    \n",
    "    # 이니셜라이저\n",
    "    def __init__(self, name, age, address):\n",
    "        self.__name = None\n",
    "        if len(name) >= 2:\n",
    "            self.__name = name\n",
    "        self.set_name(name)     # 같은 class의 instance method를 호출할 때 -> self.method()\n",
    "        # 이름이 두 글자 이상일 때만 값을 attribute에 입력하고 그렇지 않으면 None으로 둔다.\n",
    "    \n",
    "        self.__age = None\n",
    "        if age >= 10:\n",
    "            self.__age = age\n",
    "        self.set_age(age)\n",
    "    \n",
    "        self.address = address\n",
    "    \n",
    "    # 이름 변경 메소드\n",
    "    def set_name(self, name):\n",
    "        if len(name) >= 2:\n",
    "            self.__name = name     # __name은 위에서 hiding했지만 같은 class 내에서는 얼마든지 호출할 수 있다.\n",
    "            \n",
    "    # 이름 조회 메소드\n",
    "    def get_name(self):\n",
    "        return self.__name\n",
    "    \n",
    "    # 나이 변경 메소드\n",
    "    def set_age(self, age):\n",
    "        if age >= 10:\n",
    "            self.__age = age\n",
    "            \n",
    "    # 나이 조회 메소드\n",
    "    def get_age(self):\n",
    "        return self.__age\n",
    "    \n",
    "    def print_info(self):\n",
    "        print(f\"이름: {self.__name}, 나이: {self.__age}, 주소: {self.address}\")"
   ]
  },
  {
   "cell_type": "code",
   "execution_count": 2,
   "metadata": {},
   "outputs": [
    {
     "ename": "AttributeError",
     "evalue": "'Person4' object has no attribute '__name'",
     "output_type": "error",
     "traceback": [
      "\u001b[1;31m---------------------------------------------------------------------------\u001b[0m",
      "\u001b[1;31mAttributeError\u001b[0m                            Traceback (most recent call last)",
      "\u001b[1;32m~\\AppData\\Local\\Temp\\ipykernel_53324\\2768488579.py\u001b[0m in \u001b[0;36m<module>\u001b[1;34m\u001b[0m\n\u001b[0;32m      1\u001b[0m \u001b[0mp\u001b[0m \u001b[1;33m=\u001b[0m \u001b[0mPerson4\u001b[0m\u001b[1;33m(\u001b[0m\u001b[1;34m\"홍길동\"\u001b[0m\u001b[1;33m,\u001b[0m \u001b[1;36m20\u001b[0m\u001b[1;33m,\u001b[0m \u001b[1;34m\"서울\"\u001b[0m\u001b[1;33m)\u001b[0m\u001b[1;33m\u001b[0m\u001b[1;33m\u001b[0m\u001b[0m\n\u001b[1;32m----> 2\u001b[1;33m \u001b[0mprint\u001b[0m\u001b[1;33m(\u001b[0m\u001b[0mp\u001b[0m\u001b[1;33m.\u001b[0m\u001b[0m__name\u001b[0m\u001b[1;33m,\u001b[0m \u001b[0mp\u001b[0m\u001b[1;33m.\u001b[0m\u001b[0m__age\u001b[0m\u001b[1;33m,\u001b[0m \u001b[0mp\u001b[0m\u001b[1;33m.\u001b[0m\u001b[0maddress\u001b[0m\u001b[1;33m)\u001b[0m     \u001b[1;31m# 출력을 하고 싶지만 hiding으로 인해 조회할 수 없다.\u001b[0m\u001b[1;33m\u001b[0m\u001b[1;33m\u001b[0m\u001b[0m\n\u001b[0m",
      "\u001b[1;31mAttributeError\u001b[0m: 'Person4' object has no attribute '__name'"
     ]
    }
   ],
   "source": [
    "p = Person4(\"홍길동\", 20, \"서울\")\n",
    "print(p.__name, p.__age, p.address)     # 출력을 하고 싶지만 hiding으로 인해 조회할 수 없다."
   ]
  },
  {
   "cell_type": "code",
   "execution_count": 3,
   "metadata": {},
   "outputs": [
    {
     "name": "stdout",
     "output_type": "stream",
     "text": [
      "이순신\n"
     ]
    }
   ],
   "source": [
    "p.__name = \"이순신\"\n",
    "print(p.__name)     # 이건 실행이 된다. 하지만 이건 __init__()에서 초기화환 __name이 아니다. 새로운 __name attribute를 만든 것이다."
   ]
  },
  {
   "cell_type": "code",
   "execution_count": 4,
   "metadata": {},
   "outputs": [
    {
     "data": {
      "text/plain": [
       "{'_Person4__name': '홍길동',\n",
       " '_Person4__age': 20,\n",
       " 'address': '서울',\n",
       " '__name': '이순신'}"
      ]
     },
     "execution_count": 4,
     "metadata": {},
     "output_type": "execute_result"
    }
   ],
   "source": [
    "# 위 과정을 확인해 보자.\n",
    "\n",
    "p.__dict__     # 객체 p가 가지는 attribute를 dictonary로 확인할 수 있다.\n",
    "# 출력 결과는 아래와 같다. 아래에서 볼 수 있듯이 위 실행은 새로운 __name이라는 attribute를 만들어서 대입한 것이다.\n",
    "# hiding된 attribute는 자동으로 이름이 바뀐다. __name로 class에서 설정했는데 이는 자동으로 _Person4__name로 바껴있다.\n",
    "# 사실 Python에서 정보 은닉은 정확하게 숨기는 것은 아니다. attribute 이름만 바꾸는 것이므로 외부에서 접근할 수 있다.\n",
    "# 하지만 그렇게 할 필요가 굳이 있나? 하지 말라는 건 하지 말자."
   ]
  },
  {
   "cell_type": "code",
   "execution_count": 5,
   "metadata": {},
   "outputs": [
    {
     "name": "stdout",
     "output_type": "stream",
     "text": [
      "이름: 강감찬, 나이: 25, 주소: 인천\n"
     ]
    }
   ],
   "source": [
    "p2 = Person4(\"강감찬\", 25, \"인천\")\n",
    "p2.print_info()"
   ]
  },
  {
   "cell_type": "code",
   "execution_count": 6,
   "metadata": {},
   "outputs": [
    {
     "name": "stdout",
     "output_type": "stream",
     "text": [
      "이름: 홍길동, 나이: 30, 주소: 부산\n"
     ]
    }
   ],
   "source": [
    "p2.set_name(\"홍길동\")\n",
    "p2.set_age(30)\n",
    "p2.address = \"부산\"\n",
    "p2.print_info()\n",
    "\n",
    "# 원래는 이름과 나이를 변경할 수 없다. 왜냐하면 hiding 되어 있기 때문.\n",
    "# 하지만 이름을 변경할 수 있는 메소드를 class에 만들어 두었기 때문에 이 메소드를 이용해 값을 바꿀 수 있다.\n",
    "# address는 hiding되어 있지 않기 때문에 그냥 하면 된다."
   ]
  },
  {
   "cell_type": "code",
   "execution_count": 7,
   "metadata": {},
   "outputs": [
    {
     "name": "stdout",
     "output_type": "stream",
     "text": [
      "이름: 홍길동\n",
      "나이: 30\n",
      "주소: 부산\n"
     ]
    }
   ],
   "source": [
    "print(\"이름:\", p2.get_name())\n",
    "print(\"나이:\", p2.get_age())\n",
    "print(\"주소:\", p2.address)\n",
    "\n",
    "# 이름과 나이는 외부에서 조회할 수 없다. 왜냐하면 hiding 되어 있기 때문.\n",
    "# 하지만 이름과 나이를 조회할 수 있는 메소드를 class에 만들어 두었기 때문에 이 메소드를 이용해 값을 조회할 수 있다.\n",
    "\n",
    "# 즉 hiding되어 있더라고 이들의 setter/getter 메소드가 class에 있으면 값을 변경/조회할 수 있다."
   ]
  },
  {
   "cell_type": "markdown",
   "metadata": {
    "slideshow": {
     "slide_type": "subslide"
    }
   },
   "source": [
    "### 2.4.1. property함수를 사용\n",
    "**property 공부하기!!**\n",
    "\n",
    "- 은닉된 instance 변수의 값을 사용할 때 getter/setter대신 변수를 사용하는 방식으로 호출할 수 있도록 한다.\n",
    "- 구현\n",
    "    1. getter/setter 메소드를 만든다.\n",
    "    2. 변수 = property(getter, setter) 를 등록한다.\n",
    "    3. 호출\n",
    "        - 값조회: 변수를 사용 => getter가 호출 된다.\n",
    "        - 값변경: 변수 = 변경할 값 => setter가 호출 된다."
   ]
  },
  {
   "cell_type": "code",
   "execution_count": 88,
   "metadata": {
    "slideshow": {
     "slide_type": "fragment"
    }
   },
   "outputs": [],
   "source": [
    "class Person5:\n",
    "    # name: 두 글자 이상만 대입할 수 있다.\n",
    "    # age: 10 이상만 대입할 수 있다.\n",
    "    # address: 특별한 조건이 없다.\n",
    "    # name, age는 외부에서 아무 값을 대입할 수 없도록 처리해야 한다. -> 정보 은닉!\n",
    "    \n",
    "    # 이니셜라이저\n",
    "    def __init__(self, name, age, address):\n",
    "        self.__name = None\n",
    "        self.set_name(name)\n",
    "        \n",
    "        self.__age = None\n",
    "        self.set_age(age)\n",
    "    \n",
    "        self.address = address\n",
    "    \n",
    "    # 이름 변경 메소드\n",
    "    def set_name(self, name):\n",
    "        if len(name) >= 2:\n",
    "            self.__name = name\n",
    "            \n",
    "    # 이름 조회 메소드\n",
    "    def get_name(self):\n",
    "        return self.__name\n",
    "    \n",
    "    # 나이 변경 메소드\n",
    "    def set_age(self, age):\n",
    "        if age >= 10:\n",
    "            self.__age = age\n",
    "            \n",
    "    # 나이 조회 메소드\n",
    "    def get_age(self):\n",
    "        return self.__age\n",
    "    \n",
    "    def print_info(self):\n",
    "        print(f\"이름: {self.__name}, 나이: {self.__age}, 주소: {self.address}\")\n",
    "        \n",
    "## property() 함수를 이용해서 getter / setter 를 변수에 등록한다. 변수를 이용해 getter / setter를 호출할 수 있다.\n",
    "    name = property(get_name, set_name)     # 형식 - property(getter, setter)\n",
    "    age = property(get_age, set_age)"
   ]
  },
  {
   "cell_type": "code",
   "execution_count": 90,
   "metadata": {},
   "outputs": [
    {
     "name": "stdout",
     "output_type": "stream",
     "text": [
      "이순신\n",
      "40\n",
      "부산\n"
     ]
    }
   ],
   "source": [
    "p = Person5(\"홍길동\", 30, \"서울\")\n",
    "\n",
    "p.name = \"이순신\"     # set_name()처럼 값을 넣고 싶다.\n",
    "p.age = 40     # set_age()처럼 값을 넣고 싶다.\n",
    "p.address = \"부산\"\n",
    "\n",
    "print(p.name)     # get_name()처럼 값을 호출하고 싶다.\n",
    "print(p.age)     # get_age()처럼 값을 호출하고 싶다.\n",
    "print(p.address)\n",
    "\n",
    "\n",
    "# 위의 희망 사항처럼 할 수 있게 해주는 것이 property이다.\n",
    "# property를 이용해 아래의 실행 결과처럼 실행이 잘 된다.\n",
    "# property의 장점은 caller에서 일관성있게 call할 수 있다는 것이다."
   ]
  },
  {
   "cell_type": "code",
   "execution_count": 91,
   "metadata": {},
   "outputs": [],
   "source": [
    "# 이와 같은 또 다른 방법이 decorator이다."
   ]
  },
  {
   "cell_type": "markdown",
   "metadata": {
    "slideshow": {
     "slide_type": "subslide"
    },
    "tags": []
   },
   "source": [
    "### 2.4.2. 데코레이터(decorator)를 이용해 property 지정.\n",
    "\n",
    "**데코레이터 공부하기!!**\n",
    "\n",
    "- setter/getter 구현 + property()를 이용해 변수 등록 하는 것을 더 간단하게 구현하는 방식\n",
    "- setter/getter 메소드이름을 변수처럼 지정. (보통은 같은 이름으로 지정)\n",
    "- getter메소드: @property 데코레이터를 선언  \n",
    "- setter메소드: @getter메소드이름.setter  데코레이터를 선언.\n",
    "    - 반드시 getter 메소드를 먼저 정의한다.\n",
    "    - setter메소드 이름은 getter와 동일해야 한다.\n",
    "- getter/setter의 이름을 Attribute 변수처럼 사용할 수 있다. 이 과정을 통해 caller에서 변수처럼 일관성있게 사용할 수 있다.\n",
    "- 주의: getter/setter 메소드를 직접 호출 할 수 없다. 변수형식으로만 호출가능하다."
   ]
  },
  {
   "cell_type": "code",
   "execution_count": 2,
   "metadata": {
    "slideshow": {
     "slide_type": "fragment"
    }
   },
   "outputs": [],
   "source": [
    "class Person6:\n",
    "    \n",
    "    def __init__(self, name, age, address = None):\n",
    "        self.__name = name\n",
    "        self.__age = age\n",
    "        self.address = address\n",
    "        \n",
    "#         self.name = name     # 처음 이니셜라이저에서 attribute를 선언할 때 메소드를 호출한다.\n",
    "#         self.__age = age\n",
    "#         self.address = address\n",
    "        \n",
    "    \n",
    "    \n",
    "    @property     # getter를 만들 때 메소드 선언 전에 @property를 선언해 아래의 메소드가 getter라는 것을 알려준다.\n",
    "    \n",
    "    # name의 getter 생성\n",
    "    def name(self):\n",
    "        return self.__name\n",
    "    \n",
    "    \n",
    "    @name.setter     # setter를 만들 때 메소드 선언 전에 @메소드명.setter를 선언해 아래의 메소드가 setter라는 것을 알려준다.\n",
    "    \n",
    "    # name의 setter 생성\n",
    "    def name(self, name):\n",
    "        if len(name) >= 2:\n",
    "            self.__name = name\n",
    "            \n",
    "    \n",
    "    # 위처럼 \"@\"를 이용하는 것이 데코레이터이다.\n",
    "    # property와 달리 메소드를 만들면서 getter / setter를 선언한다.\n",
    "    # 메소드의 이름은 같게 한다.\n",
    "    # getter / setter 메소드의 이름을 변수처럼 설정해 caller가 메소드를 변수처럼 사용할 수 있게 한다.\n",
    "    \n",
    "    def print_info(self):\n",
    "        print(f\"이름: {self.__name}, 나이: {self.__age}, 주소: {self.address}\")\n",
    "#         print(f\"이름: {self.name}, 나이: {self.__age}, 주소: {self.address}\")\n",
    "            # self.name로 설정해 변수를 직접 호출하지 않고 메소드를 호출한다. 결과는 어차피 같다."
   ]
  },
  {
   "cell_type": "code",
   "execution_count": 3,
   "metadata": {
    "scrolled": true
   },
   "outputs": [
    {
     "name": "stdout",
     "output_type": "stream",
     "text": [
      "이름: 홍길동, 나이: 30, 주소: 서울\n"
     ]
    }
   ],
   "source": [
    "p = Person6(\"홍길동\", 30, \"서울\")\n",
    "p.print_info()"
   ]
  },
  {
   "cell_type": "code",
   "execution_count": 5,
   "metadata": {},
   "outputs": [
    {
     "name": "stdout",
     "output_type": "stream",
     "text": [
      "홍길동\n"
     ]
    }
   ],
   "source": [
    "p.name = \"존\"     # setter\n",
    "print(p.name)     # getter     # 정해진 조건에 의해 변경되지 않았다."
   ]
  },
  {
   "cell_type": "code",
   "execution_count": 7,
   "metadata": {},
   "outputs": [],
   "source": [
    "# 변수처럼 사용할 수 있지만 실제로는 메소드를 사용한 것"
   ]
  },
  {
   "cell_type": "markdown",
   "metadata": {},
   "source": [
    "# 즉, property와 decorator는 메소드를 변수처럼 사용할 수 있게 하는 것이다."
   ]
  },
  {
   "cell_type": "markdown",
   "metadata": {
    "slideshow": {
     "slide_type": "subslide"
    }
   },
   "source": [
    "## TODO\n",
    "- 제품 클래스 구현\n",
    "- 속성 : 제품ID:str 제품이름: str, 제품가격:int, 제조사이름:str\n",
    "-       정보은닉에 맞춰서 작성. 값을 대입/조회 하는 것은 변수처리 방식을 할 수 있도록 구현. setter / getter를 property나 decorator로 생성.\n",
    "- 메소드: 전체 정보를 출력하는 메소드\n",
    "\n",
    "메소드 : setter-4개, getter-4개. 전체정보 출력하는 메소드-1개"
   ]
  },
  {
   "cell_type": "code",
   "execution_count": 147,
   "metadata": {
    "slideshow": {
     "slide_type": "fragment"
    }
   },
   "outputs": [],
   "source": [
    "# 내가 작성한 코드\n",
    "\n",
    "class Product:\n",
    "    \n",
    "    def __init__(self, ID = None, name = None, price = None, manufacturer = None):\n",
    "        self.ID = ID\n",
    "        self.name = name\n",
    "        self.price = price\n",
    "        self.manufacturer = manufacturer\n",
    "        \n",
    "    @property\n",
    "    def ID(self):\n",
    "        return self.__ID\n",
    "    \n",
    "    @property\n",
    "    def name(self):\n",
    "        return self.__name\n",
    "    \n",
    "    @property\n",
    "    def price(self):\n",
    "        return self.__price\n",
    "    \n",
    "    @property\n",
    "    def manufacturer(self):\n",
    "        return self.__manufacturer\n",
    "    \n",
    "    @ID.setter\n",
    "    def ID(self, ID):\n",
    "#         if ID:\n",
    "            self.__ID = ID\n",
    "    \n",
    "    @name.setter\n",
    "    def name(self, name):\n",
    "#         if name:\n",
    "            self.__name = name\n",
    "        \n",
    "    @price.setter\n",
    "    def price(self, price):\n",
    "#         if price:\n",
    "            self.__price = price\n",
    "    \n",
    "    @manufacturer.setter\n",
    "    def manufacturer(self, manufacturer):\n",
    "        self.__manufacturer = manufacturer\n",
    "    \n",
    "    def print_info(self):\n",
    "        print(f\"ID: {self.ID}\")\n",
    "        print(f\"상품명: {self.name}\")\n",
    "        print(f\"가격: {self.price}\")\n",
    "        print(f\"제조사: {self.manufacturer}\")"
   ]
  },
  {
   "cell_type": "code",
   "execution_count": 148,
   "metadata": {},
   "outputs": [
    {
     "name": "stdout",
     "output_type": "stream",
     "text": [
      "ID: None\n",
      "상품명: None\n",
      "가격: None\n",
      "제조사: None\n"
     ]
    }
   ],
   "source": [
    "product_1 = Product()\n",
    "product_1.print_info()"
   ]
  },
  {
   "cell_type": "code",
   "execution_count": 149,
   "metadata": {},
   "outputs": [],
   "source": [
    "# 강사님 코드 1 - property 방법\n",
    "\n",
    "class Product_:\n",
    "    \n",
    "    def __init__(self, ID, name, price, maker):\n",
    "        self.ID = ID\n",
    "        self.name = name\n",
    "        self.price = price\n",
    "        self.maker = maker\n",
    "    \n",
    "    # 각 attribute에 대한 setter 선언\n",
    "    \n",
    "    def set_ID(self, ID):\n",
    "        if ID:\n",
    "            self.__ID = ID\n",
    "    \n",
    "    def set_name(self, name):\n",
    "        if name:\n",
    "            self.__name = name\n",
    "    \n",
    "    def set_price(self, price):\n",
    "        if price:\n",
    "            self.__price = price\n",
    "    \n",
    "    def set_maker(self, maker):\n",
    "        if maker:\n",
    "            self.__maker = maker\n",
    "            \n",
    "    \n",
    "    # 각 attribute에 대한 getter 선언\n",
    "    \n",
    "    def get_ID(self):\n",
    "        return self.__ID\n",
    "    \n",
    "    def get_name(self):\n",
    "        return self.__name\n",
    "    \n",
    "    def get_price(self):\n",
    "        return self.__price\n",
    "    \n",
    "    def get_maker(self):\n",
    "        return self.__maker\n",
    "    \n",
    "    \n",
    "    ID = property(get_ID, set_ID)\n",
    "    name = property(get_name, set_name)\n",
    "    price = property(get_price, set_price)\n",
    "    maker = property(get_maker, set_maker)\n",
    "    \n",
    "    \n",
    "    # 정보 출력 메소드 선언\n",
    "    \n",
    "    def print_info(self):\n",
    "        print(f\"ID: {self.ID}\")     # self.ID는 바로 위 property에서 선언한 get_ID를 부르는 것이다.\n",
    "        print(f\"상품명: {self.name}\")\n",
    "        print(f\"가격: {self.price}\")\n",
    "        print(f\"제조사: {self.maker}\")"
   ]
  },
  {
   "cell_type": "code",
   "execution_count": 150,
   "metadata": {},
   "outputs": [
    {
     "name": "stdout",
     "output_type": "stream",
     "text": [
      "ID: ID_test\n",
      "상품명: name_test\n",
      "가격: 1000\n",
      "제조사: maker_test\n"
     ]
    }
   ],
   "source": [
    "product_2 = Product_(\"ID_test\", \"name_test\", 1000, \"maker_test\")\n",
    "product_2.print_info()"
   ]
  },
  {
   "cell_type": "code",
   "execution_count": 161,
   "metadata": {},
   "outputs": [],
   "source": [
    "# 강사님 코드 2 - decorator 방법\n",
    "\n",
    "class Product__:\n",
    "    \n",
    "    def __init__(self, ID, name, price, maker):\n",
    "        self.ID = ID\n",
    "        self.name = name\n",
    "        self.price = price\n",
    "        self.maker = maker\n",
    "    \n",
    "    # 각 attribute에 대한 getter 선언\n",
    "    \n",
    "    @property\n",
    "    def ID(self):\n",
    "        return self.__ID\n",
    "    @property\n",
    "    def name(self):\n",
    "        return self.__name\n",
    "    @property\n",
    "    def price(self):\n",
    "        return self.__price\n",
    "    @property\n",
    "    def maker(self):\n",
    "        return self.__maker\n",
    "            \n",
    "    \n",
    "    # 각 attribute에 대한 setter 선언\n",
    "    @ID.setter\n",
    "    def ID(self, ID):\n",
    "        self.__ID = ID\n",
    "    @name.setter\n",
    "    def name(self, name):\n",
    "        self.__name = name\n",
    "    @price.setter\n",
    "    def price(self, price):\n",
    "        self.__price = price\n",
    "    @maker.setter\n",
    "    def maker(self, maker):\n",
    "        self.__maker = maker\n",
    "\n",
    "    \n",
    "    # 정보 출력 메소드 선언\n",
    "    \n",
    "    def print_info(self):\n",
    "        print(f\"ID: {self.ID}\")\n",
    "        print(f\"상품명: {self.name}\")\n",
    "        print(f\"가격: {self.price}\")\n",
    "        print(f\"제조사: {self.maker}\")"
   ]
  },
  {
   "cell_type": "code",
   "execution_count": 162,
   "metadata": {},
   "outputs": [
    {
     "name": "stdout",
     "output_type": "stream",
     "text": [
      "ID: IDIDID\n",
      "상품명: namename\n",
      "가격: 1000\n",
      "제조사: makermaker\n"
     ]
    }
   ],
   "source": [
    "ppppp = Product__(\"IDIDID\", \"namename\", 1000, \"makermaker\")\n",
    "ppppp.print_info()"
   ]
  }
 ],
 "metadata": {
  "kernelspec": {
   "display_name": "Python 3 (ipykernel)",
   "language": "python",
   "name": "python3"
  },
  "language_info": {
   "codemirror_mode": {
    "name": "ipython",
    "version": 3
   },
   "file_extension": ".py",
   "mimetype": "text/x-python",
   "name": "python",
   "nbconvert_exporter": "python",
   "pygments_lexer": "ipython3",
   "version": "3.9.13"
  },
  "toc": {
   "base_numbering": 1,
   "nav_menu": {},
   "number_sections": true,
   "sideBar": true,
   "skip_h1_title": false,
   "title_cell": "Table of Contents",
   "title_sidebar": "Contents",
   "toc_cell": false,
   "toc_position": {},
   "toc_section_display": true,
   "toc_window_display": false
  },
  "varInspector": {
   "cols": {
    "lenName": 16,
    "lenType": 16,
    "lenVar": 40
   },
   "kernels_config": {
    "python": {
     "delete_cmd_postfix": "",
     "delete_cmd_prefix": "del ",
     "library": "var_list.py",
     "varRefreshCmd": "print(var_dic_list())"
    },
    "r": {
     "delete_cmd_postfix": ") ",
     "delete_cmd_prefix": "rm(",
     "library": "var_list.r",
     "varRefreshCmd": "cat(var_dic_list()) "
    }
   },
   "types_to_exclude": [
    "module",
    "function",
    "builtin_function_or_method",
    "instance",
    "_Feature"
   ],
   "window_display": false
  }
 },
 "nbformat": 4,
 "nbformat_minor": 4
}
