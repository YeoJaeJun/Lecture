{
 "cells": [
  {
   "cell_type": "markdown",
   "id": "8c49cd8e",
   "metadata": {
    "slideshow": {
     "slide_type": "slide"
    }
   },
   "source": [
    "# 1. 제어문(Control flow statement)\n",
    "기본적으로 프로그램은 순차구조를 가진다. 즉 작성한 순서대로 실행이 된다.  \n",
    "이런 실행흐름을 다른 순서로 제어하기 위한 구문을 만드는 문법이 제어문이다.  \n",
    "제어문은 **조건문** 과 **반복문** 두가지 문법이 있다.\n",
    "- 조건문\n",
    "    - if 문\n",
    "- 반복문\n",
    "    - while 문\n",
    "    - for in 문"
   ]
  },
  {
   "cell_type": "markdown",
   "id": "92c502ce",
   "metadata": {
    "slideshow": {
     "slide_type": "slide"
    }
   },
   "source": [
    "# 2. 조건문/분기문 (conditional statement)\n",
    "- 프로그램이 명령문들을 실행하는 도중 특정 순서에서 **조건에 따라 흐름의 나눠져야 하는 경우 사용한다**\n",
    "- 파이썬은 조건문으로 **if문**이 있다.\n",
    "\n",
    "![조건문](images/ch03_01.png)\n",
    "\n",
    "<center>입력 받은 a 의 값이 0인지 여부에 따라 두가지 흐름으로 분기된다.</center>\n"
   ]
  },
  {
   "cell_type": "markdown",
   "id": "2a3c1835",
   "metadata": {
    "slideshow": {
     "slide_type": "subslide"
    }
   },
   "source": [
    "## 2.1. 구문\n",
    "\n",
    "- 조건이 True일 경우만 특정 구문들을 실행 하는 조건문.\n",
    "```python\n",
    "if 조건:    # 조건은 bool(True or False) 표현식을 기술한다. 조건선언 다음에 : 으로 선언해서 코드블록을 구분한다.\n",
    "    명령문1  # 조건이 True이면 실행할 구문들을 코드블럭에 기술한다.\n",
    "    명령문2  # 코드 블록은 들여쓰기를 이용해 묶어준다. 보통 공백 4칸으로 들여쓰기를 한다.\n",
    "    ...\n",
    "```\n",
    "> <b style='font-size:1.2em'>파이썬의 코드블록(code block)</b>  \n",
    "> 코드블록이란 여러개의 실행명령문들을 묶어놓은 것을 말한다. \n",
    "> 파이썬에서는 코드블록을 작성할 때 들여쓰기를 이용해 묶어준다. 같은 칸만큼 들여쓰기를 한 명령문들이 같은 블록으로 묶인다.\n",
    "> 들여쓰기는 관례적으로 공백 4칸을 사용한다. "
   ]
  },
  {
   "cell_type": "code",
   "execution_count": 4,
   "id": "9aa311a5",
   "metadata": {
    "slideshow": {
     "slide_type": "fragment"
    }
   },
   "outputs": [
    {
     "name": "stdout",
     "output_type": "stream",
     "text": [
      "정수 입력 : 0\n",
      "0입니다.\n",
      "Zero\n",
      "종료\n"
     ]
    }
   ],
   "source": [
    "# 1. 정수 입력\n",
    "num = int(input(\"정수 입력 : \"))\n",
    "\n",
    "# 2. 입력 받은 정수가 0이면 \"0입니다.\" 출력\n",
    "if num == 0:\n",
    "    print(\"0입니다.\")\n",
    "    print(\"Zero\")\n",
    "\n",
    "# 3. if 조건과는 별개로 \"종료\" 출력\n",
    "print(\"종료\")"
   ]
  },
  {
   "cell_type": "markdown",
   "id": "09c79c35",
   "metadata": {
    "slideshow": {
     "slide_type": "subslide"
    }
   },
   "source": [
    "- 조건이 True일때 실행할 구문과 False일때 실행하는 조건문.\n",
    "```python\n",
    "if 조건:     \n",
    "    명령문1_1 # 조건이 True일 경우 실행할 구문들\n",
    "    명령문1_2\n",
    "    ...\n",
    "else:\n",
    "    명령문2_1 # 조건이 False일 경우 실행할 구문들\n",
    "    명령문2_2\n",
    "    ...\n",
    "```"
   ]
  },
  {
   "cell_type": "code",
   "execution_count": 7,
   "id": "87b51956",
   "metadata": {
    "slideshow": {
     "slide_type": "fragment"
    }
   },
   "outputs": [
    {
     "name": "stdout",
     "output_type": "stream",
     "text": [
      "정수 입력 : 0\n",
      "0입니다.\n",
      "Zero\n",
      "종료\n"
     ]
    }
   ],
   "source": [
    "# 1. 정수 입력\n",
    "num = int(input(\"정수 입력 : \"))\n",
    "\n",
    "# 2. if 조건문\n",
    "# 2.1. if 정수가 0이면, \"0입니다.\" 출력\n",
    "if num == 0:\n",
    "    print(\"0입니다.\")\n",
    "    print(\"Zero\")\n",
    "\n",
    "# 2.2. else 정수가 0이 아니면, \"0이 아닙니다.\" 출력\n",
    "else:\n",
    "    print(\"0이 아닙니다.\")\n",
    "    print(\"Not Zero\")\n",
    "    \n",
    "# 3. 종료\n",
    "print(\"종료\")"
   ]
  },
  {
   "cell_type": "code",
   "execution_count": 8,
   "id": "7cdcc063",
   "metadata": {},
   "outputs": [
    {
     "name": "stdout",
     "output_type": "stream",
     "text": [
      "정수 입력 : 0\n",
      "0이 아닙니다.\n",
      "Not Zero\n",
      "종료\n"
     ]
    }
   ],
   "source": [
    "# 1. 정수 입력\n",
    "num = int(input(\"정수 입력 : \"))\n",
    "\n",
    "# 2. if 조건문\n",
    "# 2.1. if 정수가 0이면, \"0입니다.\" 출력\n",
    "if False:\n",
    "    print(\"0입니다.\")\n",
    "    print(\"Zero\")\n",
    "\n",
    "# 2.2. else 정수가 0이 아니면, \"0이 아닙니다.\" 출력\n",
    "else:\n",
    "    print(\"0이 아닙니다.\")\n",
    "    print(\"Not Zero\")\n",
    "    \n",
    "# 3. 종료\n",
    "print(\"종료\")"
   ]
  },
  {
   "cell_type": "code",
   "execution_count": 17,
   "id": "92e9432c",
   "metadata": {},
   "outputs": [
    {
     "name": "stdout",
     "output_type": "stream",
     "text": [
      "ID 입력 : id\n",
      "ID는 5글자 이상이어야 합니다.\n",
      "입력한 ID는 2글자 입니다.\n",
      "가입 불가\n",
      "종료\n"
     ]
    }
   ],
   "source": [
    "# 1. ID 입력\n",
    "ID = input(\"ID 입력 : \")\n",
    "\n",
    "# 2. if 조건문\n",
    "# 2.1. ID가 5글자 이상이면 \"사용할 수 있는 ID입니다.\" 출력\n",
    "if len(ID) >= 5:\n",
    "    print(\"사용할 수 있는 ID입니다.\")\n",
    "    print(\"가입 가능\")\n",
    "\n",
    "# 2.2. ID가 5글자 미만이면 \"ID는 5글자 이상이어야 합니다.\" 출력\n",
    "else:\n",
    "    print(\"ID는 5글자 이상이어야 합니다.\")\n",
    "    print(f\"입력한 ID는 {len(ID)}글자 입니다.\")\n",
    "    print(\"가입 불가\")\n",
    "\n",
    "# 3. \"종료\" 출력\n",
    "print(\"종료\")"
   ]
  },
  {
   "cell_type": "markdown",
   "id": "621eae9a",
   "metadata": {
    "slideshow": {
     "slide_type": "subslide"
    }
   },
   "source": [
    "- 조건이 여러개인 조건문.\n",
    "```python\n",
    "if 조건1:\n",
    "    명령문1_1  # 조건1이 True일 경우 실행할 코드블록. \n",
    "    명령문1_2\n",
    "    ...\n",
    "elif 조건2:    # 다음 조건으로 앞의 조건들이 모드 False일 경우 비교한다.\n",
    "    명령문2_1  # 조건2가 True일 경우 실행할 코드블록.\n",
    "    명령문2_2\n",
    "    ...\n",
    "elif 조건3 :\n",
    "    명령문3_1\n",
    "    명령문3_2\n",
    "    ...\n",
    "else:         # 위의 모든 조건이 False일 경우 실행하는 코드블록. 생략 가능하다.\n",
    "    명령문4\n",
    "```"
   ]
  },
  {
   "cell_type": "code",
   "execution_count": 2,
   "id": "7efef691",
   "metadata": {
    "scrolled": true
   },
   "outputs": [
    {
     "name": "stdout",
     "output_type": "stream",
     "text": [
      "정수 입력 : 100\n",
      "양수입니다.\n",
      "종료\n"
     ]
    }
   ],
   "source": [
    "# 1. 정수 입력\n",
    "num = int(input(\"정수 입력 : \"))\n",
    "\n",
    "# 2. if 조건문\n",
    "# 2.1. 입력받은 정수가 0보다 크면 \"양수입니다.\" 출력\n",
    "if num > 0:\n",
    "    print(\"양수입니다.\")\n",
    "\n",
    "# 2.2. 입력받은 정수가 0이면 \"0입니다.\" 출력\n",
    "elif num == 0:\n",
    "    print(\"0입니다.\")\n",
    "\n",
    "# 2.3. 입력받은 정수가 0보다 작으면 \"음수입니다.\" 출력\n",
    "else:\n",
    "    print(\"음수입니다.\")\n",
    "\n",
    "# 3. \"종료\" 출력\n",
    "print(\"종료\")"
   ]
  },
  {
   "cell_type": "code",
   "execution_count": 4,
   "id": "4d03c7e2",
   "metadata": {},
   "outputs": [
    {
     "name": "stdout",
     "output_type": "stream",
     "text": [
      "정수 입력 : 10\n",
      "양수입니다.\n",
      "종료\n"
     ]
    }
   ],
   "source": [
    "# 정수를 입력받아서 0 이상이면 \"양수입니다.\" 출력. 100 이상이면 \"100 이상입니다.\" 출력.\n",
    "\n",
    "num = int(input(\"정수 입력 : \"))\n",
    "\n",
    "if num > 0:\n",
    "    print(\"양수입니다.\")\n",
    "    if num >= 100:\n",
    "        print(\"100 이상입니다.\")\n",
    "print(\"종료\")"
   ]
  },
  {
   "cell_type": "markdown",
   "id": "2149b728",
   "metadata": {
    "slideshow": {
     "slide_type": "slide"
    }
   },
   "source": [
    "# 3. 반복문 (Loop statement)\n",
    "\n",
    "특정 구문들을 반복해서 실행할 때 사용한다. 동일한 코드를 여러번 반복하거나 값이 일정하게 변하는 코드를 반복할 경우 사용한다.  \n",
    "단순 반복을 처리하는 **while문**과 iterable객체가 제공하는 값들을 반복 조회하는 **for in문** 두가지 문법이 있다.\n",
    "\n",
    "![반복문](images/ch03_02.png)\n",
    "<center>count의 값이 limit의 값보다 크거나 같을때 까지 count의 값을 1증가 후 출력하는 구문을 반복한다. </center>"
   ]
  },
  {
   "cell_type": "markdown",
   "id": "b4740a36",
   "metadata": {
    "slideshow": {
     "slide_type": "subslide"
    }
   },
   "source": [
    "## 3.1. while문\n",
    "- 조건이 True인 동안 구문을 반복해서 실행한다.\n",
    "\n",
    "### 3.1.1. 구문\n",
    "```python\n",
    "while 조건:       # 조건은 bool 표현식을 기술한다. 조건선언 다음에 : 으로 선언해서 코드블록을 구분한다\n",
    "    반복할 구문1  # 반복할 구문을 코드블록으로 작성한다.  \n",
    "    반복할 구문2\n",
    "    ...\n",
    "```"
   ]
  },
  {
   "cell_type": "code",
   "execution_count": 7,
   "id": "6b11bde6",
   "metadata": {
    "slideshow": {
     "slide_type": "fragment"
    }
   },
   "outputs": [
    {
     "name": "stdout",
     "output_type": "stream",
     "text": [
      "반복 횟수 입력 : 10\n",
      "1\n",
      "2\n",
      "3\n",
      "4\n",
      "5\n",
      "6\n",
      "7\n",
      "8\n",
      "9\n",
      "10\n"
     ]
    }
   ],
   "source": [
    "limit = int(input(\"반복 횟수 입력 : \"))\n",
    "count = 0\n",
    "while count < limit:\n",
    "    count += 1\n",
    "    print(count)"
   ]
  },
  {
   "cell_type": "markdown",
   "id": "04f12e55",
   "metadata": {
    "slideshow": {
     "slide_type": "subslide"
    }
   },
   "source": [
    "## 3.2. for  in 문\n",
    "- for in문은 Iterable 타입의 객체가 가지고 있는 값들을 각각 모두 조회하여 처리하는 구문을 작성할 때 사용한다.\n",
    "\n",
    "> - Iterable\n",
    ">    - 반복가능한 객체. 반복문(for in)을 이용해 일련의 값들을 반복적으로 각각 제공하는 객체를 말한다. \n",
    ">    - 대표적으로 List, Tuple, Dictionary, Set, 문자열 등이 있다.\n",
    "\n",
    "### 3.2.1. 구문\n",
    "```python\n",
    "for 변수 in Iterable: # for in 선언후 : 으로 선언부와 구현부를 나눈다.\n",
    "    반복구문          # Iterable이 반복시 제공하는 값을 가지는 \"변수\"를 이용한 반복구문을 코드블록으로 작성한다.\n",
    "    반복구문\n",
    "```"
   ]
  },
  {
   "cell_type": "code",
   "execution_count": 18,
   "id": "c258b330",
   "metadata": {},
   "outputs": [
    {
     "name": "stdout",
     "output_type": "stream",
     "text": [
      "1 20\n",
      "2 40\n",
      "3 60\n",
      "4 80\n",
      "5 100\n",
      "6 120\n",
      "7 140\n",
      "8 160\n",
      "9 180\n",
      "10 200\n"
     ]
    },
    {
     "ename": "StopIteration",
     "evalue": "",
     "output_type": "error",
     "traceback": [
      "\u001b[1;31m---------------------------------------------------------------------------\u001b[0m",
      "\u001b[1;31mStopIteration\u001b[0m                             Traceback (most recent call last)",
      "\u001b[1;32m~\\AppData\\Local\\Temp\\ipykernel_30304\\3651495167.py\u001b[0m in \u001b[0;36m<module>\u001b[1;34m\u001b[0m\n\u001b[0;32m      3\u001b[0m \u001b[1;33m\u001b[0m\u001b[0m\n\u001b[0;32m      4\u001b[0m \u001b[1;32mwhile\u001b[0m \u001b[1;32mTrue\u001b[0m\u001b[1;33m:\u001b[0m               \u001b[1;31m# 리스트의 모든 값들을 다 처리할 때까지 반복. StopIteration이라는 Exception이 발생할 때까지.\u001b[0m\u001b[1;33m\u001b[0m\u001b[1;33m\u001b[0m\u001b[0m\n\u001b[1;32m----> 5\u001b[1;33m     \u001b[0mv1\u001b[0m \u001b[1;33m=\u001b[0m \u001b[0mnext\u001b[0m\u001b[1;33m(\u001b[0m\u001b[0ml_iter\u001b[0m\u001b[1;33m)\u001b[0m     \u001b[1;31m# 리스트에서 값을 하나 조회해 변수 v1에 할당.\u001b[0m\u001b[1;33m\u001b[0m\u001b[1;33m\u001b[0m\u001b[0m\n\u001b[0m\u001b[0;32m      6\u001b[0m     \u001b[0mv2\u001b[0m \u001b[1;33m=\u001b[0m \u001b[0mv1\u001b[0m \u001b[1;33m*\u001b[0m \u001b[1;36m20\u001b[0m          \u001b[1;31m# v1의 값을 처리.\u001b[0m\u001b[1;33m\u001b[0m\u001b[1;33m\u001b[0m\u001b[0m\n\u001b[0;32m      7\u001b[0m     \u001b[0mprint\u001b[0m\u001b[1;33m(\u001b[0m\u001b[0mv1\u001b[0m\u001b[1;33m,\u001b[0m \u001b[0mv2\u001b[0m\u001b[1;33m)\u001b[0m\u001b[1;33m\u001b[0m\u001b[1;33m\u001b[0m\u001b[0m\n",
      "\u001b[1;31mStopIteration\u001b[0m: "
     ]
    }
   ],
   "source": [
    "l = [1, 2, 3, 4, 5, 6, 7, 8, 9, 10]\n",
    "l_iter = iter(l)          # iterator 생성\n",
    "\n",
    "while True:               # 리스트의 모든 값들을 다 처리할 때까지 반복. StopIteration이라는 Exception이 발생할 때까지.\n",
    "    v1 = next(l_iter)     # 리스트에서 값을 하나 조회해 변수 v1에 할당.\n",
    "    v2 = v1 * 20          # v1의 값을 처리.\n",
    "    print(v1, v2)"
   ]
  },
  {
   "cell_type": "code",
   "execution_count": 2,
   "id": "03482f98",
   "metadata": {},
   "outputs": [
    {
     "name": "stdout",
     "output_type": "stream",
     "text": [
      "1, 10\n",
      "2, 20\n",
      "3, 30\n",
      "4, 40\n",
      "5, 50\n",
      "6, 60\n",
      "7, 70\n",
      "8, 80\n",
      "9, 90\n",
      "10, 100\n"
     ]
    }
   ],
   "source": [
    "# 위 while 문을 for in 문으로 표현\n",
    "# 반복 가능한 객체(List, Tuple, Dictionary, Set, 문자열 등)는 모두 가능\n",
    "\n",
    "l = [1, 2, 3, 4, 5, 6, 7, 8, 9, 10]\n",
    "\n",
    "for v1 in l:\n",
    "    v2 = v1 * 10\n",
    "    print(v1, v2, sep = \", \")\n",
    "\n",
    "# while 문을 이용하는 것과는 달리 StopIteration이 실행되지 않는다."
   ]
  },
  {
   "cell_type": "code",
   "execution_count": 34,
   "id": "3735f86c",
   "metadata": {},
   "outputs": [
    {
     "name": "stdout",
     "output_type": "stream",
     "text": [
      "1      2      3      \n",
      "---------------\n",
      "4      5      6      \n",
      "---------------\n",
      "7      8      9      \n",
      "---------------\n"
     ]
    }
   ],
   "source": [
    "l = [\n",
    "    [1, 2, 3],\n",
    "    [4, 5, 6],\n",
    "    [7, 8, 9]\n",
    "]\n",
    "\n",
    "for v in l:\n",
    "    for value in v:\n",
    "        print(value, end = '      ')\n",
    "    print()\n",
    "    print(\"-\" * 15)"
   ]
  },
  {
   "cell_type": "markdown",
   "id": "1f30cd6f",
   "metadata": {
    "slideshow": {
     "slide_type": "subslide"
    }
   },
   "source": [
    "## 3.3. continue와 break를 이용한 반복문 제어\n",
    "- **continue**\n",
    "    - 현재 반복을 중단하고 다음 반복을 진행한다.\n",
    "    - 특정 조건에서 처리를 멈추고 다음 처리를 반복할 때 사용한다.\n",
    "- **break**\n",
    "    - 반복을 중단한다.\n",
    "    - 특정 조건에서 반복문을 중간에 중지할때 사용한다.\n",
    "- continue와 break는 특정 조건에서 실행되야 하는 경우가 대부분이므로 if문 안에 작성한다.    "
   ]
  },
  {
   "cell_type": "code",
   "execution_count": 36,
   "id": "90c41e9f",
   "metadata": {
    "slideshow": {
     "slide_type": "fragment"
    }
   },
   "outputs": [
    {
     "name": "stdout",
     "output_type": "stream",
     "text": [
      "3\n",
      "6\n",
      "9\n"
     ]
    }
   ],
   "source": [
    "l = [1, 2, 3, 4, 5, 6, 7, 8, 9, 10]\n",
    "\n",
    "# 3의 배수만 출력\n",
    "for i in l:\n",
    "    if i % 3 == 0:\n",
    "        print(i)"
   ]
  },
  {
   "cell_type": "code",
   "execution_count": 39,
   "id": "91e99bc1",
   "metadata": {},
   "outputs": [
    {
     "name": "stdout",
     "output_type": "stream",
     "text": [
      "3\n",
      "6\n",
      "9\n"
     ]
    }
   ],
   "source": [
    "# continue 사용 예시\n",
    "# 3의 배수 출력을 continue를 이용해 출력\n",
    "for i in l:\n",
    "    if i % 3 != 0:     # 3의 배수가 아니라면\n",
    "        continue       # 다음 원소를 조회\n",
    "    print(i)"
   ]
  },
  {
   "cell_type": "code",
   "execution_count": 41,
   "id": "8df364ec",
   "metadata": {},
   "outputs": [
    {
     "name": "stdout",
     "output_type": "stream",
     "text": [
      "1\n",
      "2\n",
      "3\n",
      "4\n",
      "5\n",
      "6\n"
     ]
    }
   ],
   "source": [
    "# break 사용 예시\n",
    "# list의 값이 7이 있을 경우 더 이상 출력하지 않는다.\n",
    "for i in l:\n",
    "    if i == 7:\n",
    "        break\n",
    "    print(i)"
   ]
  },
  {
   "cell_type": "code",
   "execution_count": 46,
   "id": "07c41e81",
   "metadata": {},
   "outputs": [
    {
     "name": "stdout",
     "output_type": "stream",
     "text": [
      "7 있음\n"
     ]
    }
   ],
   "source": [
    "# break 사용 예시\n",
    "# list에 7이 있는지 없는지 확인한다.\n",
    "l = [1, 5, 7, 3, 2, 8, 5, 7, 10]\n",
    "result = False\n",
    "for i in l:\n",
    "    if i == 7:\n",
    "        result = True\n",
    "        break\n",
    "\n",
    "print(\"7 있음\") if result else print(\"7 없음\")        "
   ]
  },
  {
   "cell_type": "code",
   "execution_count": 1,
   "id": "c6a08288",
   "metadata": {
    "scrolled": true
   },
   "outputs": [
    {
     "name": "stdout",
     "output_type": "stream",
     "text": [
      "text : a\n",
      "a\n",
      "text : b\n",
      "b\n",
      "text : c\n",
      "c\n",
      "text : !q\n"
     ]
    }
   ],
   "source": [
    "# 사용자가 \"!\"를 입력할 때까지 사용자로부터 글을 입력받아서 출력한다.\n",
    "\n",
    "while True:\n",
    "    txt = input(\"text : \")\n",
    "    if txt == \"!q\":\n",
    "        break\n",
    "    print(txt)"
   ]
  },
  {
   "cell_type": "code",
   "execution_count": 2,
   "id": "6a841008",
   "metadata": {},
   "outputs": [
    {
     "name": "stdout",
     "output_type": "stream",
     "text": [
      "text :a\n",
      "a\n",
      "text :b\n",
      "b\n",
      "text :c\n",
      "c\n",
      "text :!q\n"
     ]
    }
   ],
   "source": [
    "txt = input('text :')\n",
    "while txt != \"!q\":\n",
    "    print(txt)\n",
    "    txt = input('text :')"
   ]
  },
  {
   "cell_type": "code",
   "execution_count": 7,
   "id": "e15602e6",
   "metadata": {},
   "outputs": [
    {
     "name": "stdout",
     "output_type": "stream",
     "text": [
      "1, 2, 3, \n",
      "4, 5, "
     ]
    }
   ],
   "source": [
    "# 중첩 반복문의 안쪽 반복문에서 전체 반복문을 멈추게 하는 로직.\n",
    "\n",
    "# 5가 있으면 출력을 멈춘다.\n",
    "\n",
    "l = [[1, 2, 3], [4, 5, 6], [7, 8, 9]]\n",
    "is_finish = False     # is_finish가 True면 멈추고, False면 멈추지 않는다.\n",
    "for v in l:\n",
    "    for value in v:\n",
    "        print(value, end = ', ')\n",
    "        if value == 5:\n",
    "            is_finish = True\n",
    "            break\n",
    "    if is_finish:\n",
    "        break\n",
    "    print()"
   ]
  },
  {
   "cell_type": "markdown",
   "id": "dc6099c5",
   "metadata": {
    "slideshow": {
     "slide_type": "slide"
    }
   },
   "source": [
    "## 3.4. for in 문 연관 내장 함수\n",
    "\n",
    "### 3.4.1. range()\n",
    "- 일정한 간격의 연속된 정수를 제공하는 반복가능 객체 생성한다.\n",
    "- 구문\n",
    "    - `range([시작값], 멈춤값, [증감값])`\n",
    "        - 시작값, 멈춤값, 증감값 모두 정수만 가능하다.\n",
    "        - 시작값 > 멈춤값 이고 증감값이 음수이면 내림차순으로 값을 제공한다.\n",
    "        1. 전달값이 **1개: 멈춤값**. \n",
    "            - 0 ~ (멈춤값-1)까지 1씩 증가하는 정수를 제공\n",
    "        2. 전달값이 **2개: 시작값, 멈춤값**. \n",
    "            - 시작값 ~ (멈춤값-1) 까지 1씩 증가하는 정수 제공\n",
    "        3. 전달값이 **3개: 시작값, 멈춤값, 증감값(간격)**. \n",
    "            - 시작값 ~ (멈춤값-1)까지 증감값만큼 증가하는 정수를 제공.\n"
   ]
  },
  {
   "cell_type": "code",
   "execution_count": 9,
   "id": "31f29756",
   "metadata": {},
   "outputs": [
    {
     "name": "stdout",
     "output_type": "stream",
     "text": [
      "10\n",
      "20\n",
      "30\n",
      "40\n",
      "50\n",
      "60\n",
      "70\n",
      "80\n",
      "90\n",
      "100\n"
     ]
    }
   ],
   "source": [
    "r = range(10, 101, 10)\n",
    "for i in r:\n",
    "    print(i)"
   ]
  },
  {
   "cell_type": "code",
   "execution_count": 3,
   "id": "c54478fd",
   "metadata": {},
   "outputs": [
    {
     "name": "stdout",
     "output_type": "stream",
     "text": [
      "10\t20\t30\t40\t50\t60\t70\t80\t90\t100\t"
     ]
    }
   ],
   "source": [
    "for i in range(10, 101, 10):\n",
    "    print(i, end = '\\t')"
   ]
  },
  {
   "cell_type": "code",
   "execution_count": 14,
   "id": "457e9fbc",
   "metadata": {},
   "outputs": [
    {
     "name": "stdout",
     "output_type": "stream",
     "text": [
      "10, 11, 12, 13, 14, "
     ]
    }
   ],
   "source": [
    "for i in range(10, 15):\n",
    "    print(i, end = ', ')"
   ]
  },
  {
   "cell_type": "code",
   "execution_count": 15,
   "id": "84b9e1d0",
   "metadata": {},
   "outputs": [
    {
     "name": "stdout",
     "output_type": "stream",
     "text": [
      "0\n",
      "1\n",
      "2\n",
      "3\n",
      "4\n",
      "5\n",
      "6\n",
      "7\n",
      "8\n",
      "9\n"
     ]
    }
   ],
   "source": [
    "for i in range(10):\n",
    "    print(i)"
   ]
  },
  {
   "cell_type": "code",
   "execution_count": 21,
   "id": "b6135c02",
   "metadata": {},
   "outputs": [
    {
     "name": "stdout",
     "output_type": "stream",
     "text": [
      "1. 안녕하세요.\n",
      "2. 안녕하세요.\n",
      "3. 안녕하세요.\n",
      "4. 안녕하세요.\n",
      "5. 안녕하세요.\n",
      "6. 안녕하세요.\n",
      "7. 안녕하세요.\n",
      "8. 안녕하세요.\n",
      "9. 안녕하세요.\n",
      "10. 안녕하세요.\n"
     ]
    }
   ],
   "source": [
    "# \"안녕하세요.\"를 10번 출력.\n",
    "\n",
    "for i in range(10):\n",
    "    print(f\"{i+1}. 안녕하세요.\")"
   ]
  },
  {
   "cell_type": "code",
   "execution_count": 27,
   "id": "deddd519",
   "metadata": {
    "scrolled": true
   },
   "outputs": [
    {
     "name": "stdout",
     "output_type": "stream",
     "text": [
      "안녕하세요.\n",
      "안녕하세요.\n",
      "안녕하세요.\n",
      "안녕하세요.\n",
      "안녕하세요.\n",
      "안녕하세요.\n",
      "안녕하세요.\n",
      "안녕하세요.\n",
      "안녕하세요.\n",
      "안녕하세요.\n"
     ]
    }
   ],
   "source": [
    "# for in 문 변수를 \"_\"로 설정하는 관례 : 이 변수는 사용하지 않는데 구문상 어쩔 수 없이 넣었다는 것을 의미\n",
    "\n",
    "for _ in range(10):\n",
    "    print(\"안녕하세요.\")\n",
    "    \n",
    "\n",
    "# \"_\"를 사용하는 비슷한 관례\n",
    "a, b, _ = (1, 2, 3)     # a와 b는 사용할 변수"
   ]
  },
  {
   "cell_type": "markdown",
   "id": "5de9d74e",
   "metadata": {
    "slideshow": {
     "slide_type": "subslide"
    }
   },
   "source": [
    "## 3.5. enumerate()\n",
    "\n",
    "- 구문\n",
    "    - `enumerate(Iterable,  [, start=정수])`\n",
    "        - 현재 몇번째 값을 제공하는 지(현재 몇번째 반복인지)를 나타내는 **index**와 제공하는 **원소**를 tuple로 묶어서 반환\n",
    "        - Iterable\n",
    "            - 값을 제공할 Iterable객체\n",
    "        - start: 정수\n",
    "            - index 시작 값. 생략하면 0부터 시작한다."
   ]
  },
  {
   "cell_type": "code",
   "execution_count": 46,
   "id": "33dd96c5",
   "metadata": {
    "slideshow": {
     "slide_type": "fragment"
    }
   },
   "outputs": [
    {
     "name": "stdout",
     "output_type": "stream",
     "text": [
      "(0, 1)\n",
      "(1, 2)\n",
      "(2, 3)\n",
      "(3, 4)\n",
      "(4, 5)\n",
      "\n",
      "index : 0\t value : 1\n",
      "index : 1\t value : 2\n",
      "index : 2\t value : 3\n",
      "index : 3\t value : 4\n",
      "index : 4\t value : 5\n",
      "\n",
      "index : 0\t value : 1\n",
      "index : 1\t value : 2\n",
      "index : 2\t value : 3\n",
      "index : 3\t value : 4\n",
      "index : 4\t value : 5\n",
      "\n",
      "index : 101\t value : 1\n",
      "index : 102\t value : 2\n",
      "index : 103\t value : 3\n",
      "index : 104\t value : 4\n",
      "index : 105\t value : 5\n"
     ]
    }
   ],
   "source": [
    "# default\n",
    "nums = [1, 2, 3, 4, 5]\n",
    "for i in enumerate(nums):\n",
    "    print(i)\n",
    "\n",
    "print()\n",
    "\n",
    "\n",
    "# index와 value를 따로 출력\n",
    "for i in enumerate(nums):\n",
    "    print(f\"index : {i[0]}\\t\", f\"value : {i[1]}\")\n",
    "\n",
    "print()    \n",
    "\n",
    "# 시작 값을 생략해 default로 설정\n",
    "for index, value in enumerate(nums):\n",
    "    print(f\"index : {index}\\t\", f\"value : {value}\")\n",
    "    \n",
    "print()    \n",
    "\n",
    "# 시작 값을 101로 설정\n",
    "for index, value in enumerate(nums, start = 101):\n",
    "    print(f\"index : {index}\\t\", f\"value : {value}\")    "
   ]
  },
  {
   "cell_type": "code",
   "execution_count": 57,
   "id": "0f7275b8",
   "metadata": {},
   "outputs": [
    {
     "name": "stdout",
     "output_type": "stream",
     "text": [
      "index : 0\t data : 0\n",
      "index : 1\t data : 1000\n",
      "index : 2\t data : 2000\n",
      "index : 3\t data : 3000\n",
      "index : 4\t data : 4000\n",
      "index : 5\t data : 5000\n",
      "index : 6\t data : 6000\n",
      "index : 7\t data : 7000\n",
      "index : 8\t data : 8000\n",
      "index : 9\t data : 9000\n"
     ]
    }
   ],
   "source": [
    "for index, data in enumerate(range(10000)):\n",
    "    if index % 1000 == 0:\n",
    "        print(f\"index : {int(index / 1000)}\\t\", f\"data : {data}\")"
   ]
  },
  {
   "cell_type": "markdown",
   "id": "f5a5540f",
   "metadata": {
    "slideshow": {
     "slide_type": "subslide"
    }
   },
   "source": [
    "## 3.6. zip()\n",
    "- 여러 개의 Iterable 객체를 받아 반복시 같은 index의 값끼리 tuple로 묶어 반환한다.\n",
    "- 구문\n",
    "    - `zip(Iterable1, Iterable2, Iterable3 [, .......])`\n",
    "        - Iterable 2개이상.전달한다.\n",
    "- 각 자료구조 객체의 크기가 다를 경우 크기가 작은 것의 개수에 맞춰 반복한다."
   ]
  },
  {
   "cell_type": "code",
   "execution_count": 66,
   "id": "1b99057f",
   "metadata": {
    "slideshow": {
     "slide_type": "fragment"
    }
   },
   "outputs": [
    {
     "name": "stdout",
     "output_type": "stream",
     "text": [
      "<class 'tuple'> ('이순신', 30, '서울')\n",
      "<class 'tuple'> ('유관순', 36, '인천')\n",
      "<class 'tuple'> ('강감찬', 42, '광주')\n",
      "\n",
      "이름 : 이순신\t 나이 : 30\t 주소 : 서울\n",
      "이름 : 유관순\t 나이 : 36\t 주소 : 인천\n",
      "이름 : 강감찬\t 나이 : 42\t 주소 : 광주\n"
     ]
    }
   ],
   "source": [
    "# 세 명의 정보를 이름, 나이, 주소별로 따로 저장\n",
    "# 같은 index의 값들이 한 사람의 정보\n",
    "names = [\"이순신\", \"유관순\", \"강감찬\"]\n",
    "ages = [30, 36, 42]\n",
    "addresses = [\"서울\", \"인천\", \"광주\"]\n",
    "\n",
    "# zip을 이용해 한 사람의 정보를 따로 저장하고 호출할 수 있도록 설정\n",
    "# zip은 같은 index의 값들을 tuple로 묶어서 제공\n",
    "for value in zip(names, ages, addresses):\n",
    "    print(type(value), value)\n",
    "\n",
    "print()    \n",
    "\n",
    "for name, age, address in zip(names, ages, addresses):\n",
    "    print(f\"이름 : {name}\\t\", f\"나이 : {age}\\t\", f\"주소 : {address}\")"
   ]
  },
  {
   "cell_type": "code",
   "execution_count": 68,
   "id": "d7c474b3",
   "metadata": {},
   "outputs": [
    {
     "name": "stdout",
     "output_type": "stream",
     "text": [
      "이름 : 이순신\t 나이 : 30\t 주소 : 서울\n",
      "이름 : 유관순\t 나이 : 36\t 주소 : 인천\n",
      "이름 : 강감찬\t 나이 : 42\t 주소 : 광주\n"
     ]
    }
   ],
   "source": [
    "# zip 안의 각 리스트의 원소 갯수가 다를 때 원소의 갯수가 제일 작은 list에 맞춰 결과 출력\n",
    "# address의 \"수원\"과 \"대구\"는 출력 X\n",
    "names = [\"이순신\", \"유관순\", \"강감찬\"]\n",
    "ages = [30, 36, 42]\n",
    "addresses = [\"서울\", \"인천\", \"광주\", \"수원\", \"대구\"]\n",
    "\n",
    "for name, age, address in zip(names, ages, addresses):\n",
    "    print(f\"이름 : {name}\\t\", f\"나이 : {age}\\t\", f\"주소 : {address}\")"
   ]
  },
  {
   "cell_type": "markdown",
   "id": "2df89dae",
   "metadata": {
    "slideshow": {
     "slide_type": "subslide"
    }
   },
   "source": [
    "# 4. 컴프리헨션(Comprehension)\n",
    "\n",
    "- 기존 Iterable의 원소들을 이용해서 새로운 자료구조(List, Dictionary, Set)를 생성하는 구문.\n",
    "    - 기존 Iterable의 **원소들을 처리한 결과**나  **특정 조건이 True인 값들을** 새로운 자료구조에 넣을때 사용.\n",
    "    - 결과를 넣을 새로운 자료구조에 따라 다음 세가지 구문이 있다.\n",
    "        - 리스트 컴프리헨션\n",
    "        - 딕셔너리  컴프리헨션\n",
    "        - 셋  컴프리헨션\n",
    "- 튜플 컴프리헨션은 없다.\n",
    "- 딕셔너리 컴프리헨션과 셋 컴프리헨션은 파이썬 3 에 새로 추가되었다."
   ]
  },
  {
   "cell_type": "code",
   "execution_count": 86,
   "id": "e04827d9",
   "metadata": {
    "slideshow": {
     "slide_type": "fragment"
    }
   },
   "outputs": [
    {
     "name": "stdout",
     "output_type": "stream",
     "text": [
      "결과 :  [10, 20, 30, 40, 50, 60, 70]\n"
     ]
    }
   ],
   "source": [
    "# l1의 원소들을 모두 10배한 결과를 가지는 리스트 생성\n",
    "l1 = [1, 2, 3, 4, 5, 6, 7]\n",
    "\n",
    "# for in 문을 이용하는 방법\n",
    "result_list = []\n",
    "for value in l1:\n",
    "    result_list.append(value * 10)\n",
    "\n",
    "print(\"결과 : \", result_list)"
   ]
  },
  {
   "cell_type": "code",
   "execution_count": 4,
   "id": "ef928921",
   "metadata": {},
   "outputs": [
    {
     "name": "stdout",
     "output_type": "stream",
     "text": [
      "[10, 20, 30, 40, 50]\n",
      "{40, 10, 50, 20, 30}\n"
     ]
    }
   ],
   "source": [
    "# 컴프리헨션을 이용하는 방법\n",
    "\n",
    "l = [1, 2, 3, 4, 5]\n",
    "\n",
    "# 리스트 컴프리헨션\n",
    "list_comprh = [ value*10 for value in l ]\n",
    "print(list_comprh)\n",
    "\n",
    "# 셋 컴프리헨션\n",
    "set_comprh = { value*10 for value in l }\n",
    "print(set_comprh)\n",
    "\n",
    "# 리스트와 셋의 성격을 그대로 가짐"
   ]
  },
  {
   "cell_type": "code",
   "execution_count": 5,
   "id": "2066ed12",
   "metadata": {},
   "outputs": [
    {
     "data": {
      "text/plain": [
       "{'key-0': 1, 'key-1': 2, 'key-2': 3, 'key-3': 4, 'key-4': 5}"
      ]
     },
     "execution_count": 5,
     "metadata": {},
     "output_type": "execute_result"
    }
   ],
   "source": [
    "# 딕셔너리 컴프리헨션\n",
    "result_dict = {}\n",
    "for index, value in enumerate(l):\n",
    "    result_dict[f\"key-{index}\"] = value\n",
    "\n",
    "result_dict"
   ]
  },
  {
   "cell_type": "code",
   "execution_count": 6,
   "id": "15de5fca",
   "metadata": {},
   "outputs": [
    {
     "data": {
      "text/plain": [
       "{'key-0': 10, 'key-1': 20, 'key-2': 30, 'key-3': 40, 'key-4': 50}"
      ]
     },
     "execution_count": 6,
     "metadata": {},
     "output_type": "execute_result"
    }
   ],
   "source": [
    "# 딕셔너리 컴프리헨션\n",
    "# 세 컴프리헨션과 같이 중괄호를 사용하지만 for in 문에서 값을 key-value 쌍으로 호출 받아 딕셔너리를 생성\n",
    "\n",
    "{ f\"key-{index}\":value*10 for index, value in enumerate(l) }"
   ]
  },
  {
   "cell_type": "code",
   "execution_count": 103,
   "id": "89ea7536",
   "metadata": {},
   "outputs": [],
   "source": [
    "# 이처럼 값을 일괄적으로 처리해 하나에 저장하는 것을 map이라고 한다.\n",
    "# 각 값들과 처리함수 - 연산을 연결해서 처리한다.\n",
    "\n",
    "# 컴프리헨션을 이용할 때 주의할 점은 저장하는 자료 구조가 리스트, 셋, 딕셔너리라는 점이다."
   ]
  },
  {
   "cell_type": "code",
   "execution_count": 106,
   "id": "41458207",
   "metadata": {},
   "outputs": [
    {
     "name": "stdout",
     "output_type": "stream",
     "text": [
      "[2, 4, 6, 8, 10, 12, 14, 16, 18, 20, 22, 24, 26, 28, 30, 32, 34, 36, 38, 40, 42, 44, 46, 48, 50, 52, 54, 56, 58, 60, 62, 64, 66, 68, 70, 72, 74, 76, 78, 80, 82, 84, 86, 88, 90, 92, 94, 96, 98]\n"
     ]
    }
   ],
   "source": [
    "# l2의 값들 중 짝수만 찾아서 리스트에 저장\n",
    "# 이처럼 값들 중 특정 조건이 True인 값들 걸러내는 처리 과정을 filter라고 한다.\n",
    "l2 = list(range(1, 100))\n",
    "l2_even = [ value for value in l2 if value % 2 == 0 ]\n",
    "print(l2_even)"
   ]
  },
  {
   "cell_type": "code",
   "execution_count": 108,
   "id": "4dfa3bf9",
   "metadata": {},
   "outputs": [
    {
     "data": {
      "text/plain": [
       "[0.1, 0.2, 0.3, 0.4, 0.5, 0.6, 0.7, 0.8, 0.9]"
      ]
     },
     "execution_count": 108,
     "metadata": {},
     "output_type": "execute_result"
    }
   ],
   "source": [
    "# l2의 값들 중 10의 배수를 100으로 나눈 값을 리스트에 저장 -- filter과 map를 모두 사용\n",
    "\n",
    "[ value / 100 for value in l2 if value % 10 == 0 ]"
   ]
  },
  {
   "cell_type": "code",
   "execution_count": 110,
   "id": "2f62cfc7",
   "metadata": {},
   "outputs": [
    {
     "data": {
      "text/plain": [
       "['apple', 'banana', 'car', 'dragon', 'elevator']"
      ]
     },
     "execution_count": 110,
     "metadata": {},
     "output_type": "execute_result"
    }
   ],
   "source": [
    "# l3의 모든 문자열을 소문자로 변환한 결과를 리스트에 저장\n",
    "\n",
    "l3 = (\"APPLE\", \"BANANA\", \"CAR\", \"DRAGON\", \"ELEVATOR\")\n",
    "[ value.lower() for value in l3 ]"
   ]
  },
  {
   "cell_type": "code",
   "execution_count": 112,
   "id": "dbc129b0",
   "metadata": {},
   "outputs": [
    {
     "data": {
      "text/plain": [
       "{'APPLE': 5, 'BANANA': 6, 'CAR': 3, 'DRAGON': 6, 'ELEVATOR': 8}"
      ]
     },
     "execution_count": 112,
     "metadata": {},
     "output_type": "execute_result"
    }
   ],
   "source": [
    "# l3의 모든 문자열과 문자열의 글자 수를 \"문자열:글자 수\" 형식의 딕셔너리로 저장\n",
    "\n",
    "{word:len(word) for word in l3}"
   ]
  },
  {
   "cell_type": "code",
   "execution_count": 135,
   "id": "807e120b",
   "metadata": {},
   "outputs": [
    {
     "data": {
      "text/plain": [
       "{'BANANA': 6, 'DRAGON': 6, 'ELEVATOR': 8}"
      ]
     },
     "execution_count": 135,
     "metadata": {},
     "output_type": "execute_result"
    }
   ],
   "source": [
    "# l3의 문자열 중 글자 수가 5보다 큰 문자열만 \"문자열:글자 수\" 형식의 딕셔너리로 저장\n",
    "\n",
    "{word:len(word) for word in l3 if len(word) > 5}"
   ]
  },
  {
   "cell_type": "code",
   "execution_count": 165,
   "id": "bb89cf40",
   "metadata": {},
   "outputs": [
    {
     "data": {
      "text/plain": [
       "[10, 20, 30, 40, 50, 60, 70, 80, 90, 100]"
      ]
     },
     "execution_count": 165,
     "metadata": {},
     "output_type": "execute_result"
    }
   ],
   "source": [
    "# 중첩 list에서 모든 원소를 밖으로 빼내 새로운 list에 저장\n",
    "# for in 문을 쓰는 것처럼 순서 똑같이 코드 작성\n",
    "\n",
    "l4 = [[1, 2, 3, 4, 5], [6, 7, 8, 9, 10]]\n",
    "[ value*10 for lst in l4 for value in lst ]"
   ]
  },
  {
   "cell_type": "markdown",
   "id": "092288d7",
   "metadata": {
    "slideshow": {
     "slide_type": "skip"
    }
   },
   "source": [
    "# TODO"
   ]
  },
  {
   "cell_type": "code",
   "execution_count": 69,
   "id": "61836276",
   "metadata": {
    "slideshow": {
     "slide_type": "skip"
    }
   },
   "outputs": [
    {
     "name": "stdout",
     "output_type": "stream",
     "text": [
      "점수 입력 : 85\n",
      "B학점\n"
     ]
    }
   ],
   "source": [
    "#(1) 다음 점수 구간에 맞게 학점을 출력하세요.\n",
    "# 91 ~ 100 : A학점\n",
    "# 81 ~ 90 :  B학점\n",
    "# 71 ~ 80 :  C학점\n",
    "# 61 ~ 70 :  D학점\n",
    "# 60이하   :  F학점\n",
    "\n",
    "score = int(input(\"점수 입력 : \"))\n",
    "if 91 <= score and score <= 100:\n",
    "    print(\"A학점\")\n",
    "elif 81 <= score and score <= 90:\n",
    "    print(\"B학점\")\n",
    "elif 71 <= score and score <= 80:\n",
    "    print(\"C학점\")\n",
    "elif 61 <= score and score <= 70:\n",
    "    print(\"D학점\")\n",
    "else:\n",
    "    print(\"F학점\")"
   ]
  },
  {
   "cell_type": "code",
   "execution_count": 216,
   "id": "e01b736c",
   "metadata": {},
   "outputs": [
    {
     "name": "stdout",
     "output_type": "stream",
     "text": [
      "점수 입력 : 85\n",
      "B학점\n"
     ]
    }
   ],
   "source": [
    "# 점수가 0보다 작거나 100보다 큰 경우는 없으므로 이를 먼저 판별\n",
    "# 이미 위의 if 조건문 False인 것으로 판별되었기 때문에 아래 if 조건문으로 넘어가 판별 시행\n",
    "# 따라서 위 경우와 다른 if 조건문 작성 가능\n",
    "\n",
    "score = int(input(\"점수 입력 : \"))\n",
    "\n",
    "if score < 0 or score > 100:\n",
    "    print(\"오류. 잘못된 점수입니다. 점수는 0과 100 사이여야 합니다.\")\n",
    "elif 91 <= score:\n",
    "    print(\"A학점\")\n",
    "elif 81 <= score:\n",
    "    print(\"B학점\")\n",
    "elif 71 <= score:\n",
    "    print(\"C학점\")\n",
    "elif 61 <= score:\n",
    "    print(\"D학점\")\n",
    "else:\n",
    "    print(\"F학점\")"
   ]
  },
  {
   "cell_type": "code",
   "execution_count": 217,
   "id": "d08a2471",
   "metadata": {
    "slideshow": {
     "slide_type": "skip"
    }
   },
   "outputs": [
    {
     "name": "stdout",
     "output_type": "stream",
     "text": [
      "ID 입력 : ididid\n",
      "사용할 수 있습니다.\n"
     ]
    }
   ],
   "source": [
    "#(2) 사용자로 부터 ID를 입력 받은 뒤 입력받은 ID가 5글자 이상이면 \"사용할 수 있습니다.\"를 5글자 미만이면 \"사용할 수 없는 ID입니다.\"를 출력하세요.\n",
    "\n",
    "ID = input(\"ID 입력 : \")\n",
    "\n",
    "if len(ID) >= 5:\n",
    "    print(\"사용할 수 있습니다.\")\n",
    "else:\n",
    "    print(\"사용할 수 없는 ID입니다.\")"
   ]
  },
  {
   "cell_type": "code",
   "execution_count": 78,
   "id": "bff8c6ba",
   "metadata": {
    "slideshow": {
     "slide_type": "skip"
    }
   },
   "outputs": [
    {
     "name": "stdout",
     "output_type": "stream",
     "text": [
      "도시명 입력 : 서울\n",
      "특별시\n"
     ]
    }
   ],
   "source": [
    "#(3) 사용자로부터 우리나라 도시명을 입력 받은 뒤 입력받은 도시명이 서울이면 \"특별시\"를\n",
    "#    인천,부산,광주,대구,대전,울산 이면 \"광역시\"를 나머지는 \"특별시나 광역시가 아닙니다.\"를 출력하세요.\n",
    "\n",
    "city = input(\"도시명 입력 : \")\n",
    "\n",
    "if city == \"서울\":\n",
    "    print(\"특별시\")\n",
    "elif city == \"인천\" or city == \"부산\" or city == \"광주\" or city == \"대구\" or city == \"대전\" or city == \"울산\":\n",
    "    print(\"광역시\")\n",
    "else:\n",
    "    print(\"특별시나 광역시가 아닙니다.\")"
   ]
  },
  {
   "cell_type": "code",
   "execution_count": 218,
   "id": "10c524fa",
   "metadata": {},
   "outputs": [
    {
     "name": "stdout",
     "output_type": "stream",
     "text": [
      "도시명 입력 : 인천\n",
      "광역시\n"
     ]
    }
   ],
   "source": [
    "city = input(\"도시명 입력 : \").strip()     # .strip() : 좌우 공백을 모두 제거\n",
    "\n",
    "if city == \"서울\":\n",
    "    print(\"특별시\")\n",
    "elif city in [\"인천\", \"부산\", \"광주\", \"대구\", \"대전\", \"울산\"]:\n",
    "    print(\"광역시\")\n",
    "else:\n",
    "    print(\"특별시나 광역시가 아닙니다.\")"
   ]
  },
  {
   "cell_type": "code",
   "execution_count": 228,
   "id": "cb634378",
   "metadata": {
    "slideshow": {
     "slide_type": "skip"
    }
   },
   "outputs": [
    {
     "name": "stdout",
     "output_type": "stream",
     "text": [
      "평균 : 89.0\n"
     ]
    }
   ],
   "source": [
    "#(4) 아래 리스트의 평균을 구하시오. \n",
    "\n",
    "jumsu = [100, 90, 100, 80, 70, 100, 80, 90, 95, 85]\n",
    "\n",
    "jumsu_sum = 0\n",
    "for i in range(len(jumsu)):\n",
    "    jumsu_sum += jumsu[i]\n",
    "\n",
    "jumsu_avg = sum / len(jumsu)\n",
    "\n",
    "print(f\"평균 : {jumsu_avg}\")"
   ]
  },
  {
   "cell_type": "code",
   "execution_count": 227,
   "id": "94942918",
   "metadata": {
    "slideshow": {
     "slide_type": "skip"
    }
   },
   "outputs": [
    {
     "name": "stdout",
     "output_type": "stream",
     "text": [
      "0-pass\n",
      "1-pass\n",
      "2-pass\n",
      "3-fail\n",
      "4-fail\n",
      "5-pass\n",
      "6-fail\n",
      "7-pass\n",
      "8-pass\n",
      "9-fail\n"
     ]
    }
   ],
   "source": [
    "#(5) 위 jumsu리스트에서 평균점수이상은 pass, 미만은 fail을 index번호와 함께 출력하시오. (ex: 0-pass, 1-pass, 2-fail)\n",
    "\n",
    "for i in range(len(jumsu)):\n",
    "    if jumsu[i] >= jumsu_avg:\n",
    "        print(f\"{i}-pass\")\n",
    "    else:\n",
    "        print(f\"{i}-fail\")"
   ]
  },
  {
   "cell_type": "code",
   "execution_count": 230,
   "id": "115034a7",
   "metadata": {},
   "outputs": [
    {
     "name": "stdout",
     "output_type": "stream",
     "text": [
      "0-pass\n",
      "1-pass\n",
      "2-pass\n",
      "3-fail\n",
      "4-fail\n",
      "5-pass\n",
      "6-fail\n",
      "7-pass\n",
      "8-pass\n",
      "9-fail\n"
     ]
    }
   ],
   "source": [
    "for index, value in enumerate(jumsu):\n",
    "    if value >= jumsu_avg:\n",
    "        print(f\"{index}-pass\")\n",
    "    else:\n",
    "        print(f\"{index}-fail\")"
   ]
  },
  {
   "cell_type": "code",
   "execution_count": 233,
   "id": "22d2fc8d",
   "metadata": {},
   "outputs": [
    {
     "name": "stdout",
     "output_type": "stream",
     "text": [
      "0 - pass\n",
      "1 - pass\n",
      "2 - pass\n",
      "3 - fail\n",
      "4 - fail\n",
      "5 - pass\n",
      "6 - fail\n",
      "7 - pass\n",
      "8 - pass\n",
      "9 - fail\n"
     ]
    }
   ],
   "source": [
    "for index, value in enumerate(jumsu):\n",
    "    print(f'{index} - {\"pass\" if value >= jumsu_avg else \"fail\"}')"
   ]
  },
  {
   "cell_type": "code",
   "execution_count": 238,
   "id": "70c082a2",
   "metadata": {
    "slideshow": {
     "slide_type": "skip"
    }
   },
   "outputs": [
    {
     "name": "stdout",
     "output_type": "stream",
     "text": [
      "최대값 : 95\n"
     ]
    }
   ],
   "source": [
    "#(6) 아래 리스트 값들 중 최대값을 조회해 출력\n",
    "jumsu = [60, 90, 80, 80, 70, 55, 80, 90, 95, 85]\n",
    "\n",
    "max_jumsu = 0\n",
    "for value in jumsu:\n",
    "    if max_jumsu < value:\n",
    "        max_jumsu = value\n",
    "    \n",
    "print(f\"최대값 : {max_jumsu}\")"
   ]
  },
  {
   "cell_type": "code",
   "execution_count": 239,
   "id": "781bda50",
   "metadata": {
    "slideshow": {
     "slide_type": "skip"
    }
   },
   "outputs": [
    {
     "name": "stdout",
     "output_type": "stream",
     "text": [
      "소\n",
      "호랑이\n",
      "용\n",
      "뱀\n"
     ]
    }
   ],
   "source": [
    "#(7) 다음 리스트 중에서 \"쥐\"와 \"토끼\" 제외한 나머지를 출력하세요.\n",
    "str_list = [\"쥐\", \"소\", \"호랑이\", \"토끼\", \"용\", \"뱀\"]\n",
    "\n",
    "for i in range(len(str_list)):\n",
    "    if str_list[i] == \"쥐\" or str_list[i] == \"토끼\":\n",
    "        continue\n",
    "    else:\n",
    "        print(str_list[i])"
   ]
  },
  {
   "cell_type": "code",
   "execution_count": 241,
   "id": "c353f536",
   "metadata": {},
   "outputs": [
    {
     "name": "stdout",
     "output_type": "stream",
     "text": [
      "소\n",
      "호랑이\n",
      "용\n",
      "뱀\n"
     ]
    }
   ],
   "source": [
    "for value in str_list:\n",
    "    if value in [\"쥐\", \"토끼\"]:\n",
    "        continue\n",
    "    else:\n",
    "        print(value)"
   ]
  },
  {
   "cell_type": "code",
   "execution_count": 245,
   "id": "b1e0ad95",
   "metadata": {
    "slideshow": {
     "slide_type": "skip"
    }
   },
   "outputs": [
    {
     "name": "stdout",
     "output_type": "stream",
     "text": [
      "단을 입력하시오 : 2\n",
      "2 X 1 = 2\n",
      "2 X 2 = 4\n",
      "2 X 3 = 6\n",
      "2 X 4 = 8\n",
      "2 X 5 = 10\n",
      "2 X 6 = 12\n",
      "2 X 7 = 14\n",
      "2 X 8 = 16\n",
      "2 X 9 = 18\n"
     ]
    }
   ],
   "source": [
    "#(8) 사용자로부터 정수를 입력받아 그 단의 구구단을 출력하시오. \n",
    "# ex) 단을 입력하시오 : 2  \n",
    "# 2 x 1 = 2\n",
    "# 2 x 2 = 4\n",
    "#..\n",
    "# 2 x 9 = 18\n",
    "\n",
    "num = int(input(\"단을 입력하시오 : \"))\n",
    "\n",
    "for i in range(1, 10):\n",
    "    print(f\"{num} X {i} = {num*i}\")"
   ]
  },
  {
   "cell_type": "code",
   "execution_count": 169,
   "id": "68f8f8ce",
   "metadata": {
    "slideshow": {
     "slide_type": "skip"
    }
   },
   "outputs": [
    {
     "data": {
      "text/plain": [
       "[20, 60, 140, 10, 240, 1400, 2, 70]"
      ]
     },
     "execution_count": 169,
     "metadata": {},
     "output_type": "execute_result"
    }
   ],
   "source": [
    "#컴프리헨션\n",
    "\n",
    "#(9) 다음 리스트가 가진 값에 두배(* 2)를 가지는 새로운 리스트를 만드시오. (리스트 컴프리헨션 이용)\n",
    "lst = [10, 30, 70, 5, 120, 700, 1, 35]\n",
    "\n",
    "[ value * 2 for value in lst ]"
   ]
  },
  {
   "cell_type": "code",
   "execution_count": 171,
   "id": "3e62f1b1",
   "metadata": {
    "slideshow": {
     "slide_type": "skip"
    }
   },
   "outputs": [
    {
     "data": {
      "text/plain": [
       "[(10, 100),\n",
       " (30, 300),\n",
       " (70, 700),\n",
       " (5, 50),\n",
       " (5, 50),\n",
       " (120, 1200),\n",
       " (700, 7000),\n",
       " (1, 10),\n",
       " (35, 350),\n",
       " (35, 350)]"
      ]
     },
     "execution_count": 171,
     "metadata": {},
     "output_type": "execute_result"
    }
   ],
   "source": [
    "#(10) 다음 리스트가 가진 값에 10배의 값을 가지는 값을 (원래값, 10배값) 의 튜플 묶음으로 가지는 리스트를 만드시오 (리스트 컴프리헨션 이용)\n",
    "# Ex) [(10,100), (30,300), .., (35, 350)]\n",
    "lst = [10, 30, 70, 5, 5, 120, 700, 1, 35, 35]\n",
    "\n",
    "[ (value, value*10) for value in lst ]"
   ]
  },
  {
   "cell_type": "code",
   "execution_count": 173,
   "id": "38648c76",
   "metadata": {
    "slideshow": {
     "slide_type": "skip"
    }
   },
   "outputs": [
    {
     "data": {
      "text/plain": [
       "[3, 33, 21, 33, 60, 120]"
      ]
     },
     "execution_count": 173,
     "metadata": {},
     "output_type": "execute_result"
    }
   ],
   "source": [
    "#(11) 다음 리스트가 가진 값들 중 3의 배수만 가지는 리스트를 만드시오. (리스트 컴프리헨션 이용)\n",
    "lst2 = [ 3, 20, 33, 21, 33, 8, 11, 10, 7, 17, 60, 120, 2]\n",
    "\n",
    "[ value for value in lst2 if value % 3 == 0 ]"
   ]
  },
  {
   "cell_type": "code",
   "execution_count": 250,
   "id": "9b4f6c29",
   "metadata": {
    "slideshow": {
     "slide_type": "skip"
    }
   },
   "outputs": [
    {
     "data": {
      "text/plain": [
       "['a.exe', 'function.exe', 'b.exe', 'run.exe']"
      ]
     },
     "execution_count": 250,
     "metadata": {},
     "output_type": "execute_result"
    }
   ],
   "source": [
    "#(12) 다음 파일이름들을 담은 리스트에서 확장자가 exe인 파일만 골라서 새로운 리스트에 담으시오.(string의 endswith()함수 이용)\n",
    "file_name=[\"test.txt\", \"a.exe\", \"jupyter.bat\", \"function.exe\", \"b.exe\", \"cat.jpg\", \"dog.png\", \"run.exe\", \"i.dll\"]\n",
    "\n",
    "[ file for file in file_name if file.endswith(\".exe\") ]"
   ]
  },
  {
   "cell_type": "code",
   "execution_count": 251,
   "id": "dc6fd2c8",
   "metadata": {
    "slideshow": {
     "slide_type": "skip"
    }
   },
   "outputs": [
    {
     "data": {
      "text/plain": [
       "['mystroy.txt', 'jupyter.bat', 'function.exe']"
      ]
     },
     "execution_count": 251,
     "metadata": {},
     "output_type": "execute_result"
    }
   ],
   "source": [
    "#(13) 다음 중 10글자 이상인 파일명(확장자포함)만 가지는 리스트를 만드시오.\n",
    "file_name=[\"mystroy.txt\", \"a.exe\", \"jupyter.bat\", \"function.exe\", \"b.exe\", \"cat.jpg\", \"dog.png\", \"run.exe\", \"i.dll\"]\n",
    "\n",
    "[ file for file in file_name if len(file) >= 10 ]"
   ]
  },
  {
   "cell_type": "code",
   "execution_count": 255,
   "id": "7183b457",
   "metadata": {},
   "outputs": [
    {
     "data": {
      "text/plain": [
       "['mystroy.txt', 'jupyter.bat', 'function.exe']"
      ]
     },
     "execution_count": 255,
     "metadata": {},
     "output_type": "execute_result"
    }
   ],
   "source": [
    "# 확장자를 제외한 파일명이 5글자 이상인 파일을 가지는 리스트를 만드시오.\n",
    "[ file for file in file_name if len(file.split(\".\")[0]) >= 5 ]"
   ]
  },
  {
   "cell_type": "code",
   "execution_count": 253,
   "id": "a0cc04fa",
   "metadata": {
    "slideshow": {
     "slide_type": "skip"
    }
   },
   "outputs": [
    {
     "data": {
      "text/plain": [
       "['c', 'g', 'h', 'k']"
      ]
     },
     "execution_count": 253,
     "metadata": {},
     "output_type": "execute_result"
    }
   ],
   "source": [
    "#(14) 다음 리스트에서 소문자만 가지는 새로운 리스트를 만드시오.\n",
    "str_list = [\"A\", \"B\", \"c\", \"D\", \"E\", \"F\", \"g\", \"h\", \"I\", \"J\", \"k\"]\n",
    "\n",
    "[ str for str in str_list if str.islower() ]"
   ]
  }
 ],
 "metadata": {
  "celltoolbar": "Slideshow",
  "kernelspec": {
   "display_name": "Python 3 (ipykernel)",
   "language": "python",
   "name": "python3"
  },
  "language_info": {
   "codemirror_mode": {
    "name": "ipython",
    "version": 3
   },
   "file_extension": ".py",
   "mimetype": "text/x-python",
   "name": "python",
   "nbconvert_exporter": "python",
   "pygments_lexer": "ipython3",
   "version": "3.9.13"
  },
  "toc": {
   "base_numbering": 1,
   "nav_menu": {},
   "number_sections": true,
   "sideBar": true,
   "skip_h1_title": false,
   "title_cell": "Table of Contents",
   "title_sidebar": "Contents",
   "toc_cell": false,
   "toc_position": {},
   "toc_section_display": true,
   "toc_window_display": false
  },
  "varInspector": {
   "cols": {
    "lenName": 16,
    "lenType": 16,
    "lenVar": 40
   },
   "kernels_config": {
    "python": {
     "delete_cmd_postfix": "",
     "delete_cmd_prefix": "del ",
     "library": "var_list.py",
     "varRefreshCmd": "print(var_dic_list())"
    },
    "r": {
     "delete_cmd_postfix": ") ",
     "delete_cmd_prefix": "rm(",
     "library": "var_list.r",
     "varRefreshCmd": "cat(var_dic_list()) "
    }
   },
   "types_to_exclude": [
    "module",
    "function",
    "builtin_function_or_method",
    "instance",
    "_Feature"
   ],
   "window_display": false
  }
 },
 "nbformat": 4,
 "nbformat_minor": 5
}
