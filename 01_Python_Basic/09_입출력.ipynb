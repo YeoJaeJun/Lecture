{
 "cells": [
  {
   "cell_type": "markdown",
   "metadata": {},
   "source": [
    "- 프로그램에서 외부로부터 data을 받아서 사용하거나 data를 외부에 저장할 경우 IO가 필요하다.\n",
    "- ex) Network, DB, 웹 어플리케이션 등"
   ]
  },
  {
   "cell_type": "markdown",
   "metadata": {
    "slideshow": {
     "slide_type": "slide"
    }
   },
   "source": [
    "# 1. Path (경로)\n",
    "\n",
    "- **경로(Path)**\n",
    "    - 프로그램에서 사용할 **자원의 위치**를 path/경로 라고 한다.\n",
    "    - **파일 시스템**에서는 파일이나 디렉토리가 있는 위치의 경로를 말한다.\n",
    "    "
   ]
  },
  {
   "cell_type": "markdown",
   "metadata": {
    "slideshow": {
     "slide_type": "subslide"
    }
   },
   "source": [
    "- **절대경로**\n",
    "    - 자원의 전체 경로를 표현하는 방식\n",
    "    - 시작 경로부터 자원(파일, 디렉토리)이 있는 위치까지 표현한다.\n",
    "        - 시작 경로: Root Path\n",
    "            - windows: `c:`, `d:`\n",
    "            - Unix, Linux: `/`"
   ]
  },
  {
   "cell_type": "markdown",
   "metadata": {
    "slideshow": {
     "slide_type": "fragment"
    }
   },
   "source": [
    "- **상대경로**\n",
    "    - 현재 작업 경로(위치)에서 부터 자원이 있는 위치까지 표현한다.\n",
    "        - 시작 경로: 현재 작업경로\n",
    "    - 구문\n",
    "        - `.` : 현재 디렉토리\n",
    "        - `..`: 상위 디렉토리\n",
    "        - `/` : 경로 구분자,  상위경로/하위경로"
   ]
  },
  {
   "cell_type": "markdown",
   "metadata": {
    "slideshow": {
     "slide_type": "fragment"
    }
   },
   "source": [
    "- 운영체제(O/S)별 경로구분자\n",
    "    - 윈도우즈: `\\` (역슬래쉬)\n",
    "    - 리눅스/유닉스: `/` (슬래쉬)"
   ]
  },
  {
   "cell_type": "code",
   "execution_count": null,
   "metadata": {},
   "outputs": [],
   "source": [
    "# path를 다루는 module\n",
    "# os module, pathlib module"
   ]
  },
  {
   "cell_type": "markdown",
   "metadata": {},
   "source": [
    "- os module"
   ]
  },
  {
   "cell_type": "code",
   "execution_count": 3,
   "metadata": {},
   "outputs": [
    {
     "name": "stdout",
     "output_type": "stream",
     "text": [
      "C:\\PlayData\\Classes\\03_week\n"
     ]
    }
   ],
   "source": [
    "import os\n",
    "\n",
    "# 현재 working directory를 알고자 할 때. - 현재 main module이 있는 경로.\n",
    "cwd = os.getcwd()     # wd: working directory\n",
    "print(cwd)"
   ]
  },
  {
   "cell_type": "code",
   "execution_count": 4,
   "metadata": {},
   "outputs": [
    {
     "name": "stdout",
     "output_type": "stream",
     "text": [
      "c:\\temp\n"
     ]
    }
   ],
   "source": [
    "# 현재 working directory를 변경하고자 할 때.\n",
    "os.chdir(r\"c:\\temp\")     # ch: change\n",
    "# 경로는 r-string을 사용하는 것이 편하다. \\를 escape 문자로 인식해 error가 발생할 수 있기 때문이다.\n",
    "print(os.getcwd())"
   ]
  },
  {
   "cell_type": "code",
   "execution_count": 7,
   "metadata": {},
   "outputs": [
    {
     "ename": "FileExistsError",
     "evalue": "[WinError 183] 파일이 이미 있으므로 만들 수 없습니다: 'test'",
     "output_type": "error",
     "traceback": [
      "\u001b[1;31m---------------------------------------------------------------------------\u001b[0m",
      "\u001b[1;31mFileExistsError\u001b[0m                           Traceback (most recent call last)",
      "\u001b[1;32m~\\AppData\\Local\\Temp\\ipykernel_33172\\2031391947.py\u001b[0m in \u001b[0;36m<module>\u001b[1;34m\u001b[0m\n\u001b[0;32m      1\u001b[0m \u001b[1;31m# directory를 생성할 때.\u001b[0m\u001b[1;33m\u001b[0m\u001b[1;33m\u001b[0m\u001b[0m\n\u001b[1;32m----> 2\u001b[1;33m \u001b[0mos\u001b[0m\u001b[1;33m.\u001b[0m\u001b[0mmkdir\u001b[0m\u001b[1;33m(\u001b[0m\u001b[1;34m\"test\"\u001b[0m\u001b[1;33m)\u001b[0m     \u001b[1;31m# test directory를 생성한다. 이때 주의할 점은 현재 directory에 생성된다.\u001b[0m\u001b[1;33m\u001b[0m\u001b[1;33m\u001b[0m\u001b[0m\n\u001b[0m\u001b[0;32m      3\u001b[0m \u001b[1;31m# 해당 dirctory가 없으면 생성하고, 있으면 exception이 발생한다.\u001b[0m\u001b[1;33m\u001b[0m\u001b[1;33m\u001b[0m\u001b[0m\n\u001b[0;32m      4\u001b[0m \u001b[1;31m# 직접 파일 탐색기를 이용해 찾아보면 생성된 것을 확인할 수 있다.\u001b[0m\u001b[1;33m\u001b[0m\u001b[1;33m\u001b[0m\u001b[0m\n",
      "\u001b[1;31mFileExistsError\u001b[0m: [WinError 183] 파일이 이미 있으므로 만들 수 없습니다: 'test'"
     ]
    }
   ],
   "source": [
    "# directory를 생성할 때.\n",
    "os.mkdir(\"test\")     # mk: make     dir: directory\n",
    "# test directory를 생성한다. 이때 주의할 점은 현재 directory에 생성된다.\n",
    "# 해당 dirctory가 없으면 생성하고, 있으면 exception이 발생한다.\n",
    "# 직접 파일 탐색기를 이용해 찾아보면 생성된 것을 확인할 수 있다."
   ]
  },
  {
   "cell_type": "code",
   "execution_count": 47,
   "metadata": {},
   "outputs": [],
   "source": [
    "# 주의할 점은 mkdir은 바로 하위에만 directory를 만들 수 있다.\n",
    "# 예를 들어 test/test1/test2/test3\n",
    "# 에서 test3를 만들고자 할 때 test2에서 mkdir을 이용해야 test3를 만들 수 있다.\n",
    "# 이 작업을 편리하게 하기 위해 super directory까지 만드는 명령어가 있다."
   ]
  },
  {
   "cell_type": "code",
   "execution_count": 48,
   "metadata": {},
   "outputs": [],
   "source": [
    "os.makedirs(\"test1/test2/test3\")"
   ]
  },
  {
   "cell_type": "code",
   "execution_count": null,
   "metadata": {},
   "outputs": [],
   "source": [
    "# Temp 폴더 내에 test1 폴더가 만들어지고 그 안에 test2, 그 안에 test2, 그 안에 test3가 만들어졌다."
   ]
  },
  {
   "cell_type": "code",
   "execution_count": 71,
   "metadata": {},
   "outputs": [],
   "source": [
    "os.makedirs(\"test1/test2/test3\", exist_ok = True)\n",
    "# exist_ok = True: directory가 있으면 만들지 않고 없으면 만든다.\n",
    "# exist_ok = False: directory가 없으면 만들고 있으면 exception을 발생시킨다."
   ]
  },
  {
   "cell_type": "code",
   "execution_count": null,
   "metadata": {},
   "outputs": [],
   "source": []
  },
  {
   "cell_type": "code",
   "execution_count": null,
   "metadata": {},
   "outputs": [],
   "source": []
  },
  {
   "cell_type": "code",
   "execution_count": 8,
   "metadata": {},
   "outputs": [
    {
     "data": {
      "text/plain": [
       "True"
      ]
     },
     "execution_count": 8,
     "metadata": {},
     "output_type": "execute_result"
    }
   ],
   "source": [
    "# 같은 이름의 directory가 있는지 확인하는 방법\n",
    "os.path.isdir(\"test\")"
   ]
  },
  {
   "cell_type": "code",
   "execution_count": null,
   "metadata": {},
   "outputs": [],
   "source": [
    "# True가 출력되었다. test가 존재하고 directory인지 여부를 알려준다."
   ]
  },
  {
   "cell_type": "code",
   "execution_count": 9,
   "metadata": {},
   "outputs": [
    {
     "data": {
      "text/plain": [
       "False"
      ]
     },
     "execution_count": 9,
     "metadata": {},
     "output_type": "execute_result"
    }
   ],
   "source": [
    "os.path.isfile(\"test\")"
   ]
  },
  {
   "cell_type": "code",
   "execution_count": null,
   "metadata": {},
   "outputs": [],
   "source": [
    "# False가 출력되었다. test가 존재하고 file인지 여부를 알려준다. test는 directory이기 때문에 False가 출력된다."
   ]
  },
  {
   "cell_type": "code",
   "execution_count": 10,
   "metadata": {},
   "outputs": [
    {
     "data": {
      "text/plain": [
       "True"
      ]
     },
     "execution_count": 10,
     "metadata": {},
     "output_type": "execute_result"
    }
   ],
   "source": [
    "# 존재하는지 아닌지를 알고 싶을 때\n",
    "os.path.exists(\"test\")     # 존재하면 True 존재하지 않으면 False를 출력한다. directory인지 file인지 알고 싶으면 위 방법 사용"
   ]
  },
  {
   "cell_type": "code",
   "execution_count": 13,
   "metadata": {},
   "outputs": [
    {
     "ename": "OSError",
     "evalue": "[WinError 145] 디렉터리가 비어 있지 않습니다: 'test'",
     "output_type": "error",
     "traceback": [
      "\u001b[1;31m---------------------------------------------------------------------------\u001b[0m",
      "\u001b[1;31mOSError\u001b[0m                                   Traceback (most recent call last)",
      "\u001b[1;32m~\\AppData\\Local\\Temp\\ipykernel_33172\\2194965961.py\u001b[0m in \u001b[0;36m<module>\u001b[1;34m\u001b[0m\n\u001b[0;32m      1\u001b[0m \u001b[1;31m# directory 삭제 하는 방법\u001b[0m\u001b[1;33m\u001b[0m\u001b[1;33m\u001b[0m\u001b[0m\n\u001b[1;32m----> 2\u001b[1;33m \u001b[0mos\u001b[0m\u001b[1;33m.\u001b[0m\u001b[0mrmdir\u001b[0m\u001b[1;33m(\u001b[0m\u001b[1;34m\"test\"\u001b[0m\u001b[1;33m)\u001b[0m     \u001b[1;31m# rm: remove\u001b[0m\u001b[1;33m\u001b[0m\u001b[1;33m\u001b[0m\u001b[0m\n\u001b[0m\u001b[0;32m      3\u001b[0m \u001b[1;31m# 이때 directory가 비어있지 않으면 exception가 발생한다.\u001b[0m\u001b[1;33m\u001b[0m\u001b[1;33m\u001b[0m\u001b[0m\n\u001b[0;32m      4\u001b[0m \u001b[1;31m# directory 안에 파일이나 하위 directory가 있으면 exception 발생\u001b[0m\u001b[1;33m\u001b[0m\u001b[1;33m\u001b[0m\u001b[0m\n",
      "\u001b[1;31mOSError\u001b[0m: [WinError 145] 디렉터리가 비어 있지 않습니다: 'test'"
     ]
    }
   ],
   "source": [
    "# directory 삭제 하는 방법\n",
    "os.rmdir(\"test\")     # rm: remove\n",
    "# 이때 directory가 비어있지 않으면 exception가 발생한다.\n",
    "# directory 안에 파일이나 하위 directory가 있으면 exception 발생"
   ]
  },
  {
   "cell_type": "code",
   "execution_count": 14,
   "metadata": {},
   "outputs": [],
   "source": [
    "# 그래서 directory 안의 file을 먼저 삭제해야 한다.\n",
    "# file 삭제 방법\n",
    "os.remove(\"test/test_file.txt\")"
   ]
  },
  {
   "cell_type": "code",
   "execution_count": 15,
   "metadata": {},
   "outputs": [],
   "source": [
    "os.rmdir(\"test\")"
   ]
  },
  {
   "cell_type": "code",
   "execution_count": null,
   "metadata": {},
   "outputs": [],
   "source": [
    "# os module은 자동화를 할 때 사용한다. 직접 일일이 폴더와 파일을 찾아가면서 만들고 하는 것은 비효율적이다.\n",
    "# 사용 예시를 알아보기 위해 여러 개의 파일을 한 번에 삭제하는 코드를 작성해보자.\n",
    "# 그 예시는 아래와 같다. 그 전에 test directory 안에 여러 file과 sub directory를 만든다.\n",
    "# file 이름: test_file     sub directory 이름: sub_dir"
   ]
  },
  {
   "cell_type": "code",
   "execution_count": 18,
   "metadata": {},
   "outputs": [
    {
     "name": "stdout",
     "output_type": "stream",
     "text": [
      "['sub_dir',\n",
      " 'sub_dir - 복사본',\n",
      " 'sub_dir - 복사본 (2)',\n",
      " 'sub_dir - 복사본 (3)',\n",
      " 'sub_dir - 복사본 (4)',\n",
      " 'sub_dir - 복사본 (5)',\n",
      " 'test_file - 복사본 (2).txt',\n",
      " 'test_file - 복사본 (3).txt',\n",
      " 'test_file - 복사본 (4).txt',\n",
      " 'test_file - 복사본 (5).txt',\n",
      " 'test_file - 복사본.txt',\n",
      " 'test_file.txt']\n"
     ]
    }
   ],
   "source": [
    "from pprint import pprint     # 출력 결과를 가독성 있게 보기 위해 pprint 함수 import\n",
    "\n",
    "path = \"test\"\n",
    "# test directory 아래 있는 file들을 삭제할 때 다음의 순서를 따른다.\n",
    "\n",
    "# 1. test directory 아래에 있는 file / directory의 이름들을 조회한다.\n",
    "sub_list = os.listdir(path)     # path directory 하위에 있는 directory / file 이름을 list로 반환.\n",
    "pprint(sub_list)"
   ]
  },
  {
   "cell_type": "code",
   "execution_count": 19,
   "metadata": {},
   "outputs": [
    {
     "name": "stdout",
     "output_type": "stream",
     "text": [
      "test/sub_dir\n"
     ]
    }
   ],
   "source": [
    "# 2. 경로를 결합한다. 현재 directory(test) + 하위 directory(sub_list)\n",
    "print(path + '/' + sub_list[0])"
   ]
  },
  {
   "cell_type": "code",
   "execution_count": 20,
   "metadata": {},
   "outputs": [
    {
     "name": "stdout",
     "output_type": "stream",
     "text": [
      "a\\b\\c\n"
     ]
    }
   ],
   "source": [
    "# 위 과정을 편리하게 해주는 것은 아래와 같다. 예시를 보기 위해 아래와 같이 작성하자.\n",
    "print(os.path.join(\"a\", \"b\", \"c\"))\n",
    "# 출력 결과를 보면 알 수 있듯이 파일 경로처럼 역슬래시를 알아서 삽입해 결과를 반환한다.\n",
    "# 이때 경로를 만드는 것이 아니라 단순히 path 형식으로 문자열을 합쳐서 문자열로 그 결과를 반환해 주는 것이다.\n",
    "# 즉 이 경로를 사용하고 싶으면 실제로 있는 것인지 확인해야 할 필요가 있다."
   ]
  },
  {
   "cell_type": "code",
   "execution_count": 45,
   "metadata": {},
   "outputs": [
    {
     "name": "stdout",
     "output_type": "stream",
     "text": [
      "test\\sub_dir\n"
     ]
    }
   ],
   "source": [
    "print(os.path.join(path, sub_list[0]))"
   ]
  },
  {
   "cell_type": "code",
   "execution_count": 22,
   "metadata": {},
   "outputs": [],
   "source": [
    "# 3. file을 삭제한다.\n",
    "for file_name in sub_list:\n",
    "    p = os.path.join(path, file_name)\n",
    "    if os.path.isfile(p):\n",
    "        os.remove(p)"
   ]
  },
  {
   "cell_type": "code",
   "execution_count": null,
   "metadata": {},
   "outputs": [],
   "source": [
    "# 실행 결과 모든 하위 파일이 삭제되었다."
   ]
  },
  {
   "cell_type": "code",
   "execution_count": 23,
   "metadata": {},
   "outputs": [
    {
     "name": "stdout",
     "output_type": "stream",
     "text": [
      "['sub_dir',\n",
      " 'sub_dir - 복사본',\n",
      " 'sub_dir - 복사본 (2)',\n",
      " 'sub_dir - 복사본 (3)',\n",
      " 'sub_dir - 복사본 (4)',\n",
      " 'sub_dir - 복사본 (5)']\n"
     ]
    }
   ],
   "source": [
    "sub_list = os.listdir(path)\n",
    "pprint(sub_list)"
   ]
  },
  {
   "cell_type": "code",
   "execution_count": null,
   "metadata": {},
   "outputs": [],
   "source": []
  },
  {
   "cell_type": "code",
   "execution_count": null,
   "metadata": {},
   "outputs": [],
   "source": [
    "# 다른 사용 예시를 살펴보기 위해 test directory에 a1, a2, a3 파일을 만든다.\n",
    "# 그리고 a1, a2 를 sub_dir에 복사한다.\n",
    "# 또 image 파일을 .jpg로 가져온다.\n"
   ]
  },
  {
   "cell_type": "code",
   "execution_count": null,
   "metadata": {},
   "outputs": [],
   "source": []
  },
  {
   "cell_type": "markdown",
   "metadata": {},
   "source": [
    "- glob module\n",
    "    - directory 안에 있는 file/direrctory들을 wild card 문자를 이용해서 다양하게 조회할 수 있다. wild card를 이용하기 위해 glob를 사용한다.\n",
    "    - wild card\n",
    "        - \\* : 0 글자 이상의 모든 문자열\n",
    "            - ex) *.jpg     ->     확장자가 .jpg인 모든 이름의 file.\n",
    "            - ex) a*.png    ->     이름이 a로 시작하고 확장자가 png인 모든 file.\n",
    "        - ? : gks rmfwk.\n",
    "            - ex) ab?de.jpg : 이름이 ab와 de 사이에 아무 한 글자가 들어오는 jpg file.\n",
    "        - \\*\\* : 모든 sub directory. sub directory의 sub directory를 모두 포함한다."
   ]
  },
  {
   "cell_type": "code",
   "execution_count": 25,
   "metadata": {},
   "outputs": [],
   "source": [
    "from glob import glob"
   ]
  },
  {
   "cell_type": "code",
   "execution_count": 39,
   "metadata": {},
   "outputs": [
    {
     "data": {
      "text/plain": [
       "['test\\\\a1 - 복사본.py',\n",
       " 'test\\\\a1.py',\n",
       " 'test\\\\a2.py',\n",
       " 'test\\\\a3.py',\n",
       " 'test\\\\test_image.jpg']"
      ]
     },
     "execution_count": 39,
     "metadata": {},
     "output_type": "execute_result"
    }
   ],
   "source": [
    "glob(\"test/*.*\")"
   ]
  },
  {
   "cell_type": "code",
   "execution_count": 40,
   "metadata": {},
   "outputs": [
    {
     "data": {
      "text/plain": [
       "['test\\\\a1 - 복사본.py', 'test\\\\a1.py', 'test\\\\a2.py', 'test\\\\a3.py']"
      ]
     },
     "execution_count": 40,
     "metadata": {},
     "output_type": "execute_result"
    }
   ],
   "source": [
    "glob(\"test/*.py\")"
   ]
  },
  {
   "cell_type": "code",
   "execution_count": 41,
   "metadata": {},
   "outputs": [
    {
     "data": {
      "text/plain": [
       "['test\\\\a1.py', 'test\\\\a2.py', 'test\\\\a3.py']"
      ]
     },
     "execution_count": 41,
     "metadata": {},
     "output_type": "execute_result"
    }
   ],
   "source": [
    "glob(\"test/a?.py\")"
   ]
  },
  {
   "cell_type": "code",
   "execution_count": 42,
   "metadata": {},
   "outputs": [],
   "source": [
    "# 위에서 볼 수 있듯 a1 - 복사본.py는 빠져있다. 이것이 *과 ?의 가장 큰 차이점이다."
   ]
  },
  {
   "cell_type": "code",
   "execution_count": 43,
   "metadata": {},
   "outputs": [
    {
     "data": {
      "text/plain": [
       "['test\\\\a1 - 복사본.py',\n",
       " 'test\\\\a1.py',\n",
       " 'test\\\\a2.py',\n",
       " 'test\\\\a3.py',\n",
       " 'test\\\\sub_dir_1',\n",
       " 'test\\\\sub_dir_2',\n",
       " 'test\\\\sub_dir_3',\n",
       " 'test\\\\test_image.jpg']"
      ]
     },
     "execution_count": 43,
     "metadata": {},
     "output_type": "execute_result"
    }
   ],
   "source": [
    "glob(\"test/*\")"
   ]
  },
  {
   "cell_type": "code",
   "execution_count": 44,
   "metadata": {
    "scrolled": true
   },
   "outputs": [
    {
     "data": {
      "text/plain": [
       "['test\\\\sub_dir_1\\\\a1.py',\n",
       " 'test\\\\sub_dir_1\\\\a2.py',\n",
       " 'test\\\\sub_dir_2\\\\a1.py',\n",
       " 'test\\\\sub_dir_2\\\\a2.py',\n",
       " 'test\\\\sub_dir_3\\\\a1.py',\n",
       " 'test\\\\sub_dir_3\\\\a2.py']"
      ]
     },
     "execution_count": 44,
     "metadata": {},
     "output_type": "execute_result"
    }
   ],
   "source": [
    "glob(\"test/**/*.py\")     # test/모든 sub directory/*.py"
   ]
  },
  {
   "cell_type": "code",
   "execution_count": 46,
   "metadata": {},
   "outputs": [
    {
     "data": {
      "text/plain": [
       "['test\\\\a1 - 복사본.py',\n",
       " 'test\\\\a1.py',\n",
       " 'test\\\\a2.py',\n",
       " 'test\\\\a3.py',\n",
       " 'test\\\\sub_dir_1\\\\a1.py',\n",
       " 'test\\\\sub_dir_1\\\\a2.py',\n",
       " 'test\\\\sub_dir_2\\\\a1.py',\n",
       " 'test\\\\sub_dir_2\\\\a2.py',\n",
       " 'test\\\\sub_dir_3\\\\a1.py',\n",
       " 'test\\\\sub_dir_3\\\\a2.py']"
      ]
     },
     "execution_count": 46,
     "metadata": {},
     "output_type": "execute_result"
    }
   ],
   "source": [
    "glob(\"test/**/*.py\", recursive = True)     # test directory, 그 하위, 그 하위, ... -> 모든 하위 directory를 찾아준다."
   ]
  },
  {
   "cell_type": "code",
   "execution_count": null,
   "metadata": {},
   "outputs": [],
   "source": [
    "# glob을 이용하면 path를 쉽게 알 수 있다."
   ]
  },
  {
   "cell_type": "code",
   "execution_count": null,
   "metadata": {},
   "outputs": [],
   "source": []
  },
  {
   "cell_type": "markdown",
   "metadata": {},
   "source": [
    "- pathlib module"
   ]
  },
  {
   "cell_type": "code",
   "execution_count": 86,
   "metadata": {},
   "outputs": [],
   "source": [
    "from pathlib import Path\n",
    "# Path class: attribute로 file / directory path를 가지며 그 path 관련 처리를 하는 다양한 method를 제공한다."
   ]
  },
  {
   "cell_type": "code",
   "execution_count": 81,
   "metadata": {},
   "outputs": [
    {
     "name": "stdout",
     "output_type": "stream",
     "text": [
      "test\n",
      "<class 'pathlib.WindowsPath'>\n"
     ]
    }
   ],
   "source": [
    "path = Path(\"test\")     # test directory를 다루는 path instance가 생성된다.\n",
    "print(path)\n",
    "print(type(path))"
   ]
  },
  {
   "cell_type": "code",
   "execution_count": 59,
   "metadata": {},
   "outputs": [
    {
     "name": "stdout",
     "output_type": "stream",
     "text": [
      "test\\dir1\\dir2\\my_file.txt\n"
     ]
    },
    {
     "data": {
      "text/plain": [
       "(False, False, False)"
      ]
     },
     "execution_count": 59,
     "metadata": {},
     "output_type": "execute_result"
    }
   ],
   "source": [
    "# 경로 합치기\n",
    "path1 = path / \"dir1\" / \"dir2\" / \"my_file.txt\"\n",
    "print(path1)\n",
    "path1.is_file(), path1.is_dir(), path1.exists()"
   ]
  },
  {
   "cell_type": "code",
   "execution_count": null,
   "metadata": {},
   "outputs": [],
   "source": [
    "# 이때 경로를 만드는 것이 아니라 단순히 path 형식으로 문자열을 합쳐서 문자열로 그 결과를 반환해 주는 것이다.\n",
    "# 즉 이 경로를 사용하고 싶으면 실제로 있는 것인지 확인해야 할 필요가 있다."
   ]
  },
  {
   "cell_type": "code",
   "execution_count": 60,
   "metadata": {},
   "outputs": [
    {
     "data": {
      "text/plain": [
       "('test', 'dir1', 'dir2', 'my_file.txt')"
      ]
     },
     "execution_count": 60,
     "metadata": {},
     "output_type": "execute_result"
    }
   ],
   "source": [
    "path1.parts     # 각 path 요소들을 나눠서 tuple로 반환한다. method가 아닌 attribute이다."
   ]
  },
  {
   "cell_type": "code",
   "execution_count": 62,
   "metadata": {},
   "outputs": [
    {
     "data": {
      "text/plain": [
       "'my_file.txt'"
      ]
     },
     "execution_count": 62,
     "metadata": {},
     "output_type": "execute_result"
    }
   ],
   "source": [
    "path1.name     # 마지막 pathh(file / directory)의 이름을 조회한다. method가 아닌 attribute이다."
   ]
  },
  {
   "cell_type": "code",
   "execution_count": 64,
   "metadata": {},
   "outputs": [
    {
     "data": {
      "text/plain": [
       "'.txt'"
      ]
     },
     "execution_count": 64,
     "metadata": {},
     "output_type": "execute_result"
    }
   ],
   "source": [
    "path1.suffix     # 마지막 path가 file일 때 확장자를 반환한다. 확장자가 없을 None 값을 반환한다. method가 아닌 attribute이다."
   ]
  },
  {
   "cell_type": "code",
   "execution_count": 65,
   "metadata": {},
   "outputs": [
    {
     "data": {
      "text/plain": [
       "'my_file'"
      ]
     },
     "execution_count": 65,
     "metadata": {},
     "output_type": "execute_result"
    }
   ],
   "source": [
    "path1.stem     # 확장자를 뺀 file 또는 directory 이름을 반환한다. method가 아닌 attribute이다."
   ]
  },
  {
   "cell_type": "code",
   "execution_count": 67,
   "metadata": {},
   "outputs": [
    {
     "data": {
      "text/plain": [
       "[WindowsPath('test/a1 - 복사본.py'),\n",
       " WindowsPath('test/a1.py'),\n",
       " WindowsPath('test/a2.py'),\n",
       " WindowsPath('test/a3.py'),\n",
       " WindowsPath('test/sub_dir_1/a1.py'),\n",
       " WindowsPath('test/sub_dir_1/a2.py'),\n",
       " WindowsPath('test/sub_dir_2/a1.py'),\n",
       " WindowsPath('test/sub_dir_2/a2.py'),\n",
       " WindowsPath('test/sub_dir_3/a1.py'),\n",
       " WindowsPath('test/sub_dir_3/a2.py')]"
      ]
     },
     "execution_count": 67,
     "metadata": {},
     "output_type": "execute_result"
    }
   ],
   "source": [
    "lst = path.glob(\"**/*.py\")     # pathlib module의 Path class는 glob을 이미 가지고 있다.\n",
    "list(lst)"
   ]
  },
  {
   "cell_type": "code",
   "execution_count": 68,
   "metadata": {},
   "outputs": [
    {
     "data": {
      "text/plain": [
       "'c:\\\\temp'"
      ]
     },
     "execution_count": 68,
     "metadata": {},
     "output_type": "execute_result"
    }
   ],
   "source": [
    "os.getcwd()"
   ]
  },
  {
   "cell_type": "code",
   "execution_count": 70,
   "metadata": {},
   "outputs": [],
   "source": [
    "dir_path = Path(\"test_new\")\n",
    "dir_path.mkdir()     # Path instance의 path에 directory를 생성한다."
   ]
  },
  {
   "cell_type": "code",
   "execution_count": 72,
   "metadata": {},
   "outputs": [
    {
     "name": "stdout",
     "output_type": "stream",
     "text": [
      "new_test\n"
     ]
    }
   ],
   "source": [
    "new_path = dir_path.rename(r\"new_test\")\n",
    "# file / directory의 이름을 변경하고 새 path를 반환한다.\n",
    "print(new_path)"
   ]
  },
  {
   "cell_type": "code",
   "execution_count": 73,
   "metadata": {},
   "outputs": [
    {
     "data": {
      "text/plain": [
       "WindowsPath('new_test')"
      ]
     },
     "execution_count": 73,
     "metadata": {},
     "output_type": "execute_result"
    }
   ],
   "source": [
    "new_path"
   ]
  },
  {
   "cell_type": "code",
   "execution_count": 74,
   "metadata": {},
   "outputs": [],
   "source": [
    "# directory 삭제\n",
    "new_path.rmdir()"
   ]
  },
  {
   "cell_type": "code",
   "execution_count": 90,
   "metadata": {},
   "outputs": [
    {
     "ename": "TypeError",
     "evalue": "unsupported operand type(s) for /: 'str' and 'str'",
     "output_type": "error",
     "traceback": [
      "\u001b[1;31m---------------------------------------------------------------------------\u001b[0m",
      "\u001b[1;31mTypeError\u001b[0m                                 Traceback (most recent call last)",
      "\u001b[1;32m~\\AppData\\Local\\Temp\\ipykernel_33172\\1468451490.py\u001b[0m in \u001b[0;36m<module>\u001b[1;34m\u001b[0m\n\u001b[0;32m      1\u001b[0m \u001b[1;31m# file 삭제\u001b[0m\u001b[1;33m\u001b[0m\u001b[1;33m\u001b[0m\u001b[0m\n\u001b[0;32m      2\u001b[0m \u001b[0mpath\u001b[0m \u001b[1;33m=\u001b[0m \u001b[1;34m\"test\"\u001b[0m\u001b[1;33m\u001b[0m\u001b[1;33m\u001b[0m\u001b[0m\n\u001b[1;32m----> 3\u001b[1;33m \u001b[0mfile_path\u001b[0m \u001b[1;33m=\u001b[0m \u001b[0mpath\u001b[0m \u001b[1;33m/\u001b[0m \u001b[1;34m\"a1.py\"\u001b[0m\u001b[1;33m\u001b[0m\u001b[1;33m\u001b[0m\u001b[0m\n\u001b[0m",
      "\u001b[1;31mTypeError\u001b[0m: unsupported operand type(s) for /: 'str' and 'str'"
     ]
    }
   ],
   "source": [
    "# file 삭제\n",
    "path = \"test\"\n",
    "file_path = path / \"a1.py\""
   ]
  },
  {
   "cell_type": "code",
   "execution_count": 89,
   "metadata": {},
   "outputs": [
    {
     "ename": "NameError",
     "evalue": "name 'file_path' is not defined",
     "output_type": "error",
     "traceback": [
      "\u001b[1;31m---------------------------------------------------------------------------\u001b[0m",
      "\u001b[1;31mNameError\u001b[0m                                 Traceback (most recent call last)",
      "\u001b[1;32m~\\AppData\\Local\\Temp\\ipykernel_33172\\1923000583.py\u001b[0m in \u001b[0;36m<module>\u001b[1;34m\u001b[0m\n\u001b[1;32m----> 1\u001b[1;33m \u001b[0mfile_path\u001b[0m\u001b[1;33m.\u001b[0m\u001b[0munlink\u001b[0m\u001b[1;33m(\u001b[0m\u001b[1;33m)\u001b[0m\u001b[1;33m\u001b[0m\u001b[1;33m\u001b[0m\u001b[0m\n\u001b[0m\u001b[0;32m      2\u001b[0m \u001b[0mprint\u001b[0m\u001b[1;33m(\u001b[0m\u001b[0mfile_path\u001b[0m\u001b[1;33m.\u001b[0m\u001b[0mis_file\u001b[0m\u001b[1;33m(\u001b[0m\u001b[1;33m)\u001b[0m\u001b[1;33m,\u001b[0m \u001b[0mfile_path\u001b[0m\u001b[1;33m)\u001b[0m\u001b[1;33m\u001b[0m\u001b[1;33m\u001b[0m\u001b[0m\n",
      "\u001b[1;31mNameError\u001b[0m: name 'file_path' is not defined"
     ]
    }
   ],
   "source": [
    "file_path.unlink()\n",
    "print(file_path.is_file(), file_path)"
   ]
  },
  {
   "cell_type": "code",
   "execution_count": 88,
   "metadata": {},
   "outputs": [],
   "source": [
    "path = Path(\"test\")\n",
    "for f in path.glob(\"*.py\"):     # 확장자가 .py인 file 모두 삭제\n",
    "    f.unlink()"
   ]
  },
  {
   "cell_type": "markdown",
   "metadata": {
    "slideshow": {
     "slide_type": "slide"
    }
   },
   "source": [
    "# 2. 입출력 (IO)\n",
    "\n",
    "## 2.1. 입출력이란\n",
    "- 프로그램이 사용하려는 외부 자원을 연결하여 data를 입력 받거나 출력하는 작업을 IO라고 한다.\n",
    "- 외부 자원\n",
    "    - 파일, 원격지 컴퓨터, DB 등.\n",
    "- **Stream**\n",
    "    - 입출력 시 **데이터의 흐름을 stream** 이라고 한다.\n",
    "- InputStream \n",
    "    - Program이 외부로 부터 데이터를 읽어 들이는 흐름.\n",
    "- OutputStream \n",
    "    - Program이 외부로 데이터를 써주는 흐름.\n",
    "\n",
    "\n",
    "![io](images/ch09_01.png)"
   ]
  },
  {
   "cell_type": "markdown",
   "metadata": {
    "slideshow": {
     "slide_type": "subslide"
    }
   },
   "source": [
    "## 2.2. IO 코딩 순서\n",
    "![순서](images/ch09_02.png)"
   ]
  },
  {
   "cell_type": "markdown",
   "metadata": {
    "slideshow": {
     "slide_type": "subslide"
    }
   },
   "source": [
    "### 2.2.1. 파일 열기(연결)\n",
    "- open() 함수 사용\n",
    "    - 연결된 파일과 입출력 메소드를 제공하는 객체(Stream)를 리턴\n",
    "- 구문\n",
    "    - `open(file, mode='r', encoding=None)`\n",
    "    - 함수 주요 매개변수\n",
    "        - file : 연결할 파일 경로\n",
    "        - mode : 열기 모드\n",
    "        - 모드는 목적, 데이터종류를 조합한다.\n",
    "        - encoding \n",
    "            - 텍스트 파일일 경우 인코딩 방식\n",
    "            - None 또는 생략하면  os 기본 encoding방식을 따른다.\n",
    "                - Windows: cp949/euckr\n",
    "                - Linux, Unix: utf-8\n",
    "|mode 타입|mode 문자|설명|  |\n",
    "|:-|-|-|-|\n",
    "|목적|r|읽기 모드 | 목적의 기본 모드|\n",
    "||w|새로 쓰기 모드 | 연결하려는 파일이 없을 때 파일을 새로 생성하고 글 작성|\n",
    "||a|이어 쓰기 모드 | 연결하려는 파일이 있을 때 파일 내에서 이어서 글 작성<br>연결하려는 파일이 없으면 Exception 발생|\n",
    "||x|새로 쓰기 모드 | 연결하려는 파일이 없을 때 파일을 생성한 후 글 작성<br>연결하려는 파일이 있으면 Exception 발생|\n",
    "|데이터 종류|b|binary 모드 | byte 단위로 data 입출력 시 사용 |\n",
    "||t|text 모드 | 데이터 종류의 기본 모드<br>text 단위로 data 입출력 시 사용 |\n",
    "    "
   ]
  },
  {
   "cell_type": "markdown",
   "metadata": {},
   "source": [
    "### 2.2.2. 출력 메소드\n",
    "\n",
    "- write(출력할 Data)\n",
    "    - 연결된 파일에 `출력할 Data` 출력한다.\n",
    "- writelines(문자열을 가진 컬렉션)\n",
    "    - 리스트, 튜플, 집합이 원소로 가진 문자열들을 한번에 출력한다.\n",
    "    - text 출력일 경우에만 사용가능.\n",
    "    - 원소에 문자열 이외의 타입의 값이 있을 경우 TypeError 발생"
   ]
  },
  {
   "cell_type": "code",
   "execution_count": 1,
   "metadata": {},
   "outputs": [
    {
     "data": {
      "text/plain": [
       "'C:\\\\PlayData\\\\Classes\\\\03_week'"
      ]
     },
     "execution_count": 1,
     "metadata": {},
     "output_type": "execute_result"
    }
   ],
   "source": [
    "import os\n",
    "os.getcwd()"
   ]
  },
  {
   "cell_type": "code",
   "execution_count": 18,
   "metadata": {},
   "outputs": [
    {
     "name": "stdout",
     "output_type": "stream",
     "text": [
      "file_data\\test1.txt\n"
     ]
    }
   ],
   "source": [
    "from pathlib import Path\n",
    "\n",
    "# file 저장할 drectory가 없으면 directory를 만든다.\n",
    "\n",
    "dir_path = Path(\"file_data\")\n",
    "dir_path.mkdir(exist_ok = True)\n",
    "write_path1 = dir_path / \"test1.txt\"\n",
    "print(write_path1)"
   ]
  },
  {
   "cell_type": "code",
   "execution_count": 46,
   "metadata": {},
   "outputs": [],
   "source": [
    "# file_data 폴더 아래 text / binary file을 쓰려고 한다.\n",
    "\n",
    "# 1. 연결\n",
    "# 첫 번째 parameter. 연결할 file의 path: 문자열, Path instance - 절대경로 / 상대경로 무관\n",
    "# 두 번째 parameter. wt - w: 쓰기 모드, t: text 단위로 data 입출력\n",
    "fw = open(write_path1, mode = \"wt\", encoding = \"utf-8\")\n",
    "\n",
    "# 2. 출력\n",
    "fw.write(\"ABCDE\\n\")\n",
    "fw.write(\"가나다라마\\n\")\n",
    "fw.write(\"12345\")\n",
    "\n",
    "# 3. 연결 닫기\n",
    "fw.close()"
   ]
  },
  {
   "cell_type": "code",
   "execution_count": 20,
   "metadata": {},
   "outputs": [],
   "source": [
    "# encoding을 따로 작성하지 않으면 생성된 txt file의 오른쪽 아래를 보면 ANSI가 표시되어 있다. 이는 cp949를 뜻한다."
   ]
  },
  {
   "cell_type": "code",
   "execution_count": 21,
   "metadata": {},
   "outputs": [],
   "source": [
    "# file과의 연결 닫기를 실행하지 않을 경우 외부에서 file을 삭제하려 해도 되지 않는다. jupyter notebook에 열려 있기 때문이다.\n",
    "# 프로그램에서 입출력을 모두 실시하더라도 연결 닫기를 하지 않으면 error가 발생할 수 있다."
   ]
  },
  {
   "cell_type": "code",
   "execution_count": 22,
   "metadata": {},
   "outputs": [],
   "source": [
    "txt = \"\"\"안녕하세요.\n",
    "반갑습니다.\n",
    "\"\"\"\n",
    "\n",
    "write_path2 = dir_path / \"test2.txt\"\n",
    "fw = open(write_path2, mode = \"wt\", encoding = \"utf-8\")\n",
    "fw.write(txt)\n",
    "fw.close()"
   ]
  },
  {
   "cell_type": "code",
   "execution_count": 33,
   "metadata": {},
   "outputs": [],
   "source": [
    "txt_list = [\"첫 번째 줄\\n\", \"두 번째 줄\\n\", \"세 번째 줄\\n\"]\n",
    "write_path3 = dir_path / \"test3.txt\"\n",
    "fw = open(write_path3, mode = \"wt\", encoding = \"utf-8\")\n",
    "fw.writelines(txt_list)\n",
    "fw.close()"
   ]
  },
  {
   "cell_type": "code",
   "execution_count": null,
   "metadata": {},
   "outputs": [],
   "source": [
    "# mode = \"wt\"로 설정할 경우 실행을 아무리 많이 해도 한 번씩밖에 입력되지 않는다.\n",
    "# 하지만 아래와 같이 at로 설정할 경우 실행한 횟수만큼 입력된다."
   ]
  },
  {
   "cell_type": "code",
   "execution_count": 28,
   "metadata": {},
   "outputs": [],
   "source": [
    "txt_list = [\"첫 번째 줄\\n\", \"두 번째 줄\\n\", \"세 번째 줄\\n\"]\n",
    "write_path3 = dir_path / \"test3.txt\"\n",
    "fw = open(write_path3, mode = \"at\", encoding = \"utf-8\")\n",
    "fw.writelines(txt_list)\n",
    "fw.close()"
   ]
  },
  {
   "cell_type": "code",
   "execution_count": 35,
   "metadata": {},
   "outputs": [],
   "source": [
    "# xt로 설정할 경우 새로운 file을 생성한 후 글을 입력한다."
   ]
  },
  {
   "cell_type": "code",
   "execution_count": 36,
   "metadata": {
    "slideshow": {
     "slide_type": "subslide"
    }
   },
   "outputs": [],
   "source": [
    "txt_list = [\"첫 번째 줄\\n\", \"두 번째 줄\\n\", \"세 번째 줄\\n\"]\n",
    "write_path4 = dir_path / \"test4.txt\"\n",
    "fw = open(write_path4, mode = \"xt\", encoding = \"utf-8\")\n",
    "fw.writelines(txt_list)\n",
    "fw.close()"
   ]
  },
  {
   "cell_type": "code",
   "execution_count": 37,
   "metadata": {
    "slideshow": {
     "slide_type": "fragment"
    }
   },
   "outputs": [
    {
     "ename": "ValueError",
     "evalue": "I/O operation on closed file.",
     "output_type": "error",
     "traceback": [
      "\u001b[1;31m---------------------------------------------------------------------------\u001b[0m",
      "\u001b[1;31mValueError\u001b[0m                                Traceback (most recent call last)",
      "\u001b[1;32m~\\AppData\\Local\\Temp\\ipykernel_47416\\2050148382.py\u001b[0m in \u001b[0;36m<module>\u001b[1;34m\u001b[0m\n\u001b[1;32m----> 1\u001b[1;33m \u001b[0mfw\u001b[0m\u001b[1;33m.\u001b[0m\u001b[0mwrite\u001b[0m\u001b[1;33m(\u001b[0m\u001b[1;34m\"ABC\"\u001b[0m\u001b[1;33m)\u001b[0m\u001b[1;33m\u001b[0m\u001b[1;33m\u001b[0m\u001b[0m\n\u001b[0m",
      "\u001b[1;31mValueError\u001b[0m: I/O operation on closed file."
     ]
    }
   ],
   "source": [
    "fw.write(\"ABC\")"
   ]
  },
  {
   "cell_type": "code",
   "execution_count": 39,
   "metadata": {},
   "outputs": [
    {
     "data": {
      "text/plain": [
       "True"
      ]
     },
     "execution_count": 39,
     "metadata": {},
     "output_type": "execute_result"
    }
   ],
   "source": [
    "fw.closed     # 연결 여부를 bool type으로 알려준다. 닫힘: True, 열림: False"
   ]
  },
  {
   "cell_type": "markdown",
   "metadata": {
    "slideshow": {
     "slide_type": "slide"
    }
   },
   "source": [
    "### 2.2.3. 입력 메소드\n",
    "- read() : 문자열(text mode), bytes(binary mode) \n",
    "    - 연결된 파일의 내용을 한번에 모두 읽어 들인다.\n",
    "- readline() : 문자열(text mode), bytes(binary mode)\n",
    "    - 한 줄만 읽는다.\n",
    "    - text 입력일 경우만 사용가능\n",
    "    - 읽은 라인이 없으면 `빈 문자열`을 리턴한다.\n",
    "- readlines() : 리스트\n",
    "    - 한번에 다 읽은 뒤 각각의 라인을 리스트에 원소로 담아 반환한다.\n",
    "- Input Stream (TextIOWrapper, BufferedReader)는 Iterable 타입\n",
    "    - for문을 이용한 라인단위 순차 조회할 수 있다."
   ]
  },
  {
   "cell_type": "code",
   "execution_count": 42,
   "metadata": {
    "scrolled": true,
    "slideshow": {
     "slide_type": "fragment"
    }
   },
   "outputs": [
    {
     "ename": "UnicodeDecodeError",
     "evalue": "'cp949' codec can't decode byte 0x80 in position 7: illegal multibyte sequence",
     "output_type": "error",
     "traceback": [
      "\u001b[1;31m---------------------------------------------------------------------------\u001b[0m",
      "\u001b[1;31mUnicodeDecodeError\u001b[0m                        Traceback (most recent call last)",
      "\u001b[1;32m~\\AppData\\Local\\Temp\\ipykernel_47416\\1010013669.py\u001b[0m in \u001b[0;36m<module>\u001b[1;34m\u001b[0m\n\u001b[0;32m      4\u001b[0m \u001b[1;33m\u001b[0m\u001b[0m\n\u001b[0;32m      5\u001b[0m \u001b[1;31m# 2. 읽기 - read(): 한 번에 전체를 모두 읽는다.\u001b[0m\u001b[1;33m\u001b[0m\u001b[1;33m\u001b[0m\u001b[0m\n\u001b[1;32m----> 6\u001b[1;33m \u001b[0mr_txt\u001b[0m \u001b[1;33m=\u001b[0m \u001b[0mfr\u001b[0m\u001b[1;33m.\u001b[0m\u001b[0mread\u001b[0m\u001b[1;33m(\u001b[0m\u001b[1;33m)\u001b[0m\u001b[1;33m\u001b[0m\u001b[1;33m\u001b[0m\u001b[0m\n\u001b[0m\u001b[0;32m      7\u001b[0m \u001b[0mprint\u001b[0m\u001b[1;33m(\u001b[0m\u001b[0mr_txt\u001b[0m\u001b[1;33m)\u001b[0m\u001b[1;33m\u001b[0m\u001b[1;33m\u001b[0m\u001b[0m\n\u001b[0;32m      8\u001b[0m \u001b[1;33m\u001b[0m\u001b[0m\n",
      "\u001b[1;31mUnicodeDecodeError\u001b[0m: 'cp949' codec can't decode byte 0x80 in position 7: illegal multibyte sequence"
     ]
    }
   ],
   "source": [
    "# 1. 연결 - 읽기 모드로 연결\n",
    "read_path = dir_path / \"test1.txt\"     # \"file_data/test.txt\" 문자열을 대입해도 된다.\n",
    "fr = open(read_path, mode = \"rt\")     # mode: r - read, t - text file, encoding: default는 OS encoding 방식을 따른다.\n",
    "\n",
    "# 2. 읽기 - read(): 한 번에 전체를 모두 읽는다.\n",
    "r_txt = fr.read()\n",
    "print(r_txt)\n",
    "\n",
    "# 3. 연결 닫기\n",
    "fr.close()"
   ]
  },
  {
   "cell_type": "code",
   "execution_count": 43,
   "metadata": {},
   "outputs": [],
   "source": [
    "# 위와 같이 error가 발생한다. 저장할 때 encoding = \"utf-8\"로 했는데 encodiing = \"cp949\"로 읽었기 때문이다.\n",
    "# 사실 이 오류는 내용에 한글이 없을 때는 가능하다. 그래도 수정해야 한다."
   ]
  },
  {
   "cell_type": "code",
   "execution_count": 47,
   "metadata": {},
   "outputs": [
    {
     "name": "stdout",
     "output_type": "stream",
     "text": [
      "ABCDE\n",
      "가나다라마\n",
      "12345\n"
     ]
    }
   ],
   "source": [
    "# 1. 연결 - 읽기 모드로 연결\n",
    "read_path = dir_path / \"test1.txt\"     # \"file_data/test.txt\" 문자열을 대입해도 된다.\n",
    "fr = open(read_path, mode = \"rt\", encoding = \"utf-8\")     # mode: r - read, t - text file, encoding: default는 OS encoding 방식을 따른다.\n",
    "\n",
    "# 2. 읽기 - read(): 한 번에 전체를 모두 읽는다.\n",
    "r_txt = fr.read()\n",
    "print(r_txt)\n",
    "\n",
    "# 3. 연결 닫기\n",
    "fr.close()"
   ]
  },
  {
   "cell_type": "code",
   "execution_count": 54,
   "metadata": {},
   "outputs": [
    {
     "name": "stdout",
     "output_type": "stream",
     "text": [
      "ABCDE\n",
      "\n",
      "가나다라마\n",
      "\n",
      "12345\n",
      "\n"
     ]
    }
   ],
   "source": [
    "fr = open(read_path, mode = \"rt\", encoding = \"utf-8\")\n",
    "print(fr.readline())     # 첫 번째 줄을 읽는다. 읽을 때 \\n까지 읽는다. (위에서 작성한대로)\n",
    "print(fr.readline())     # 두 번째 줄을 읽는다.\n",
    "print(fr.readline())     # 세 번째 줄을 읽는다.\n",
    "print(fr.readline())     # 네 번째 줄을 읽는다. 하지만 네 번째 줄은 없다. 그래서 빈 문자열을 출력한다.\n",
    "fr.close()"
   ]
  },
  {
   "cell_type": "code",
   "execution_count": 55,
   "metadata": {},
   "outputs": [
    {
     "name": "stdout",
     "output_type": "stream",
     "text": [
      "1. ABCDE\n",
      "2. 가나다라마\n",
      "3. 12345"
     ]
    }
   ],
   "source": [
    "# readline() 함수는 반복문과 같이 잘 쓰인다.\n",
    "\n",
    "fr = open(read_path, mode = \"rt\", encoding = \"utf-8\")\n",
    "line_num = 0\n",
    "while True:\n",
    "    txt = fr.readline()\n",
    "    if not txt:\n",
    "        break\n",
    "    line_num += 1\n",
    "    print(str(line_num) + \". \" + txt, end = \"\")\n",
    "fr.close()"
   ]
  },
  {
   "cell_type": "code",
   "execution_count": 56,
   "metadata": {},
   "outputs": [
    {
     "name": "stdout",
     "output_type": "stream",
     "text": [
      "['ABCDE\\n', '가나다라마\\n', '12345']\n"
     ]
    }
   ],
   "source": [
    "# readlines() 함수 사용\n",
    "\n",
    "fr = open(read_path, mode = \"rt\", encoding = \"utf-8\")\n",
    "txt_list = fr.readlines()\n",
    "print(txt_list)\n",
    "fr.close()"
   ]
  },
  {
   "cell_type": "code",
   "execution_count": 57,
   "metadata": {},
   "outputs": [
    {
     "name": "stdout",
     "output_type": "stream",
     "text": [
      "1. ABCDE\n",
      "2. 가나다라마\n",
      "3. 12345"
     ]
    }
   ],
   "source": [
    "# line 번호를 붙일 경우\n",
    "\n",
    "fr = open(read_path, mode = \"rt\", encoding = \"utf-8\")\n",
    "txt_list = fr.readlines()\n",
    "for idx, txt in enumerate(txt_list, start = 1):\n",
    "    print(f\"{idx}. {txt}\", end = \"\")\n",
    "fr.close()"
   ]
  },
  {
   "cell_type": "code",
   "execution_count": 58,
   "metadata": {},
   "outputs": [],
   "source": [
    "# readline() 함수보다 readlines() 함수가 위와 같은 경우에서 좀 더 편리하다."
   ]
  },
  {
   "cell_type": "code",
   "execution_count": 59,
   "metadata": {},
   "outputs": [
    {
     "name": "stdout",
     "output_type": "stream",
     "text": [
      "ABCDE\n",
      "\n",
      "가나다라마\n",
      "\n",
      "12345\n"
     ]
    }
   ],
   "source": [
    "fr = open(read_path, mode = \"rt\", encoding = \"utf-8\")\n",
    "# read mode의 InputStream instance는 iterable type이다.\n",
    "# 그래서 for in 문에서 사용 가능하다.\n",
    "# 그리고 한 번 반복할 때마다 한 줄씩 반환한다.\n",
    "for txt in fr:\n",
    "    print(txt)\n",
    "fr.close()"
   ]
  },
  {
   "cell_type": "code",
   "execution_count": 63,
   "metadata": {},
   "outputs": [
    {
     "name": "stdout",
     "output_type": "stream",
     "text": [
      "1. ABCDE\n",
      "2. 가나다라마\n",
      "3. 12345"
     ]
    }
   ],
   "source": [
    "fr = open(read_path, mode = \"rt\", encoding = \"utf-8\")\n",
    "for idx, txt in enumerate(fr):\n",
    "    print(f\"{idx+1}. {txt}\", end = \"\")\n",
    "fr.close()"
   ]
  },
  {
   "cell_type": "code",
   "execution_count": null,
   "metadata": {},
   "outputs": [],
   "source": [
    "# 즉 한 줄씩 처리할 때는 instance 자체를 반복문으로 돌리면 편하다."
   ]
  },
  {
   "cell_type": "markdown",
   "metadata": {
    "slideshow": {
     "slide_type": "slide"
    }
   },
   "source": [
    "## 2.3. with block\n",
    "\n",
    "파일과 입출력 작업이 다 끝나면 반드시 연결을 닫아야 한다. 매번 연결을 닫는 작업을 하는 것이 번거롭고 실수로 안 닫을 경우 문제가 생길 수 있다. **with block은 block을 벗어나면 자동으로 연결을 닫아 준다.** 그래서 연결을 닫는 코드를 생략할 수 있다.\n",
    "\n",
    "- 구문\n",
    "```python\n",
    "with open() as 변수: # `변수`는 open()이 반환하는 Stream객체를 참조한다.\n",
    "    입출력 작업      # 변수를 이용해 입출력 작업을 처리한다.\n",
    "# with block을 빠져 나오면 close()가 자동으로 실행된다.\n",
    "```"
   ]
  },
  {
   "cell_type": "code",
   "execution_count": 72,
   "metadata": {
    "slideshow": {
     "slide_type": "fragment"
    }
   },
   "outputs": [],
   "source": [
    "write_path = \"file_data/my_text.txt\"\n",
    "with open(write_path, mode = \"wt\", encoding = \"utf-8\") as fw:\n",
    "    fw.write(\"A\\n\")\n",
    "    fw.write(\"B\\n\")\n",
    "    fw.write(\"가\")"
   ]
  },
  {
   "cell_type": "code",
   "execution_count": 73,
   "metadata": {},
   "outputs": [
    {
     "data": {
      "text/plain": [
       "True"
      ]
     },
     "execution_count": 73,
     "metadata": {},
     "output_type": "execute_result"
    }
   ],
   "source": [
    "fw.closed"
   ]
  },
  {
   "cell_type": "code",
   "execution_count": null,
   "metadata": {},
   "outputs": [],
   "source": [
    "# fw.close()를 하지 않았지만 fw.closed를 통해 fw 연결이 닫혀 있다는 것을 알 수 있다."
   ]
  },
  {
   "cell_type": "code",
   "execution_count": 74,
   "metadata": {},
   "outputs": [
    {
     "name": "stdout",
     "output_type": "stream",
     "text": [
      "A\n",
      "B\n",
      "가\n"
     ]
    }
   ],
   "source": [
    "with open(write_path, mode = \"rt\", encoding = \"utf-8\") as fr:\n",
    "    print(fr.read())"
   ]
  },
  {
   "cell_type": "code",
   "execution_count": 75,
   "metadata": {},
   "outputs": [
    {
     "data": {
      "text/plain": [
       "True"
      ]
     },
     "execution_count": 75,
     "metadata": {},
     "output_type": "execute_result"
    }
   ],
   "source": [
    "fr.closed"
   ]
  },
  {
   "cell_type": "code",
   "execution_count": null,
   "metadata": {},
   "outputs": [],
   "source": [
    "# with block가 훨씬 편리하다는 것을 알 수 있다."
   ]
  },
  {
   "cell_type": "code",
   "execution_count": null,
   "metadata": {},
   "outputs": [],
   "source": []
  },
  {
   "cell_type": "code",
   "execution_count": null,
   "metadata": {},
   "outputs": [],
   "source": [
    "# 지금까지는 읽고 쓰는 것을 text 단위로 행했다.\n",
    "# 이제 byte로 해보자. 이를 위해 image를 file_data 폴더에 저장한다.\n",
    "# image file을 text file로 읽으면 깨져있다. 쉽게 생각해서 이렇게 깨지는 것이 bynary type이다."
   ]
  },
  {
   "cell_type": "code",
   "execution_count": 76,
   "metadata": {},
   "outputs": [],
   "source": [
    "# binary data를 I/O 하는 방법\n",
    "# copy\n",
    "\n",
    "def copy_file(src: str, target: str):\n",
    "    \"\"\"\n",
    "    src path의 file을 target path로 복사한다.\n",
    "    \"\"\"\n",
    "    # InputStream - src 연결, OutputStream - target 연결\n",
    "    # src와 연결하는 이유는 읽을려고, target와 연결하는 이유는 쓸려고\n",
    "    \n",
    "    # 1. 연결\n",
    "    fr = open(src, mode = \"rb\")\n",
    "    fw = open(target, mode = \"wb\")     # t는 bite를 따로 읽어서 글자로 묶는 것. b는 bite를 한 번에 읽어서 묶는 것.\n",
    "    \n",
    "    # 2. IO\n",
    "    r_data = fr.read()     # 읽기 실행\n",
    "    fw.write(r_data)     # 출력 실행\n",
    "    print(type(fr), type(fw))\n",
    "    print(type(r_data))\n",
    "    \n",
    "    # 3. close\n",
    "    fr.close()\n",
    "    fw.close()"
   ]
  },
  {
   "cell_type": "code",
   "execution_count": 77,
   "metadata": {},
   "outputs": [
    {
     "name": "stdout",
     "output_type": "stream",
     "text": [
      "<class '_io.BufferedReader'> <class '_io.BufferedWriter'>\n",
      "<class 'bytes'>\n"
     ]
    }
   ],
   "source": [
    "import os\n",
    "src = os.path.join(\"file_data\", \"image.jpg\")\n",
    "target = os.path.join(\"file_data\", \"image2.jpg\")\n",
    "copy_file(src, target)"
   ]
  },
  {
   "cell_type": "code",
   "execution_count": null,
   "metadata": {},
   "outputs": [],
   "source": [
    "# 실행 결과 같은 image 파일이 생긴 것을 알 수 있다. 복사된 파일의 이름은 image2이다.\n",
    "# binary type으로 읽으면 data의 type이 BufferedReader, BufferedWriter인 것을 확인할 수 있다.\n",
    "# 그리고 읽은 data의 type은 bytes이다. 이는 binary type을 뜻한다."
   ]
  },
  {
   "cell_type": "code",
   "execution_count": null,
   "metadata": {},
   "outputs": [],
   "source": [
    "# bytes type에 대해 더 알아보자."
   ]
  },
  {
   "cell_type": "code",
   "execution_count": 78,
   "metadata": {},
   "outputs": [
    {
     "name": "stdout",
     "output_type": "stream",
     "text": [
      "10\n"
     ]
    }
   ],
   "source": [
    "i = 10\n",
    "print(i)     # 이는 정수 i를 문자열로 변환해서 출력하는 것이다. 즉 숫자 10을 출력한 것이 아니라\n",
    "            # 문자 1과 문자 0을 출력한 것이다."
   ]
  },
  {
   "cell_type": "code",
   "execution_count": 81,
   "metadata": {},
   "outputs": [],
   "source": [
    "with open(\"a.txt\", \"wt\") as fw:\n",
    "    fw.write(str(i))     # t mode 이므로 정수가 아닌 문자열을 넣어야 한다."
   ]
  },
  {
   "cell_type": "code",
   "execution_count": null,
   "metadata": {},
   "outputs": [],
   "source": [
    "# 이처럼 type에 주의해야 한다."
   ]
  },
  {
   "cell_type": "code",
   "execution_count": null,
   "metadata": {},
   "outputs": [],
   "source": [
    "# 만약 문자열이 아니라 숫자 그 자체를 읽고 싶다면 bytes type으로 바꿔야 한다."
   ]
  },
  {
   "cell_type": "code",
   "execution_count": 84,
   "metadata": {},
   "outputs": [],
   "source": [
    "i = 10\n",
    "# int i의 값 10을 출력 -> binary mode로 출력 -> bytes type을 변환해서 출력\n",
    "i_bytes = i.to_bytes(1, byteorder = \"little\", signed = True)\n",
    "# 1: 크기 - 1 byte 크기로 변환하겠다는 의미\n",
    "# byteorder: little 또는 big을 설정할 수 있다. 저장할 때와 읽을 때 값을 같게해야 한다.\n",
    "# signed: True 또는 False를 설정할 수 있다. True는 첫 번째 bit를 부호 설정에 쓰겠다는 것이다. False는 그러지 않겠다는 뜻.\n",
    "        # 저장할 때와 읽을 때 값을 같게해야 한다.\n",
    "\n",
    "with open(\"file_data/int.dat\", \"wb\") as fw:\n",
    "    fw.write(i_bytes)"
   ]
  },
  {
   "cell_type": "code",
   "execution_count": 86,
   "metadata": {},
   "outputs": [
    {
     "name": "stdout",
     "output_type": "stream",
     "text": [
      "<class 'bytes'>\n",
      "10\n"
     ]
    }
   ],
   "source": [
    "with open(\"file_data/int.dat\", \"rb\") as fr:\n",
    "    r_data = fr.read()\n",
    "    print(type(r_data))\n",
    "    i = int.from_bytes(r_data, byteorder = \"little\", signed = True)\n",
    "    print(i)"
   ]
  },
  {
   "cell_type": "code",
   "execution_count": null,
   "metadata": {},
   "outputs": [],
   "source": [
    "# bytes로 읽은 것을 int로 변환해야 한다."
   ]
  },
  {
   "cell_type": "code",
   "execution_count": null,
   "metadata": {},
   "outputs": [],
   "source": []
  },
  {
   "cell_type": "code",
   "execution_count": null,
   "metadata": {},
   "outputs": [],
   "source": [
    "# 위 과정을 쉽게 해주는 것이 pickle이다."
   ]
  },
  {
   "cell_type": "code",
   "execution_count": null,
   "metadata": {},
   "outputs": [],
   "source": [
    "# 모든 data는 결국 bytes type으로 저장된다. 그래서 bytes type을 다루는 것은 중요하다."
   ]
  },
  {
   "cell_type": "markdown",
   "metadata": {
    "slideshow": {
     "slide_type": "slide"
    }
   },
   "source": [
    "# 3. pickle 모듈을 이용한 객체 직렬화\n",
    "\n",
    "## 3.1. 객체 직렬화(Object Serialization)\n",
    "- 객체의 속성값들을 bytes로 변환해 출력하는 것을 객체 직렬화(Object Serialization) 이라고 한다.\n",
    "- bytes로 출력된 데이터를 읽어 객체화 하는 것을 객체 역직렬화(Object Deserialization) 이라고 한다."
   ]
  },
  {
   "cell_type": "markdown",
   "metadata": {
    "slideshow": {
     "slide_type": "fragment"
    }
   },
   "source": [
    "### 3.1.1. pickle\n",
    "- 객체 파일 입출력을 위한 파이썬 모듈\n",
    "- open() 시 **binary mode**로 설정한다.\n",
    "- 저장시 파일 확장자는 보통 `pkl` 이나 `pickle` 로 한다.\n",
    "- ex)\n",
    "```python\n",
    "fw = open(\"data.pkl\", \"wb\") # 객체를 pickle에 저장하기 위한 output stream 생성\n",
    "fr = open(\"data.pkl\", \"rb\") # 파일에 저장된 객체를 읽어오기 위한 input stream 생성\n",
    "```\n",
    "- **메소드**\n",
    "    - dump(저장할 객체, fw) : 출력\n",
    "    - load(fr): 입력 - 읽은 객체를 반환한다."
   ]
  },
  {
   "cell_type": "code",
   "execution_count": 55,
   "metadata": {
    "slideshow": {
     "slide_type": "fragment"
    }
   },
   "outputs": [],
   "source": [
    "import pickle"
   ]
  },
  {
   "cell_type": "code",
   "execution_count": 57,
   "metadata": {},
   "outputs": [],
   "source": [
    "num1 = 10\n",
    "\n",
    "with open(\"int_data.pkl\", mode = \"wb\") as fw:     # pickle을 적용할 때는 무조건 binary mode로 설정해야 한다.\n",
    "# 출력: dump(값, OuputStream)\n",
    "    pickle.dump(num1, fw)"
   ]
  },
  {
   "cell_type": "code",
   "execution_count": 59,
   "metadata": {},
   "outputs": [
    {
     "name": "stdout",
     "output_type": "stream",
     "text": [
      "<class 'int'>\n",
      "10\n"
     ]
    }
   ],
   "source": [
    "with open(\"int_data.pkl\", mode = \"rb\") as fr:\n",
    "# 입력: load(InputStream)\n",
    "    num2 = pickle.load(fr)\n",
    "\n",
    "print(type(num2))\n",
    "print(num2)"
   ]
  },
  {
   "cell_type": "code",
   "execution_count": 60,
   "metadata": {},
   "outputs": [],
   "source": [
    "data = {\n",
    "    \"이름\": \"홍길동\",\n",
    "    \"나이\": 20,\n",
    "    \"취미\": [\"운동\", \"독서\"],\n",
    "    \"기혼\": False,\n",
    "    \"키\": 180.5\n",
    "}"
   ]
  },
  {
   "cell_type": "code",
   "execution_count": 61,
   "metadata": {},
   "outputs": [],
   "source": [
    "with open(\"data.pkl\", \"wb\") as fw:\n",
    "    pickle.dump(data, fw)"
   ]
  },
  {
   "cell_type": "code",
   "execution_count": 62,
   "metadata": {},
   "outputs": [],
   "source": [
    "with open(\"data.pkl\", \"rb\") as fr:\n",
    "    new_data = pickle.load(fr)"
   ]
  },
  {
   "cell_type": "code",
   "execution_count": 63,
   "metadata": {},
   "outputs": [
    {
     "name": "stdout",
     "output_type": "stream",
     "text": [
      "<class 'dict'>\n",
      "{'이름': '홍길동', '나이': 20, '취미': ['운동', '독서'], '기혼': False, '키': 180.5}\n",
      "<class 'str'>\n",
      "<class 'int'>\n",
      "<class 'list'>\n",
      "<class 'bool'>\n",
      "<class 'float'>\n"
     ]
    }
   ],
   "source": [
    "print(type(new_data))\n",
    "print(new_data)\n",
    "print(type(new_data[\"이름\"]))\n",
    "print(type(new_data[\"나이\"]))\n",
    "print(type(new_data[\"취미\"]))\n",
    "print(type(new_data[\"기혼\"]))\n",
    "print(type(new_data[\"키\"]))"
   ]
  },
  {
   "cell_type": "code",
   "execution_count": null,
   "metadata": {},
   "outputs": [],
   "source": []
  },
  {
   "cell_type": "markdown",
   "metadata": {
    "slideshow": {
     "slide_type": "skip"
    }
   },
   "source": [
    "# TODO"
   ]
  },
  {
   "cell_type": "markdown",
   "metadata": {
    "slideshow": {
     "slide_type": "skip"
    }
   },
   "source": [
    "- 간단한 터미널 기반 메모장\n",
    "    1. 사용자로부터 파일명을 입력받는다.\n",
    "    2. 사용자로부터 파일에 저장할 문장을 입력받아서 파일에 저장한다.\n",
    "        - 한줄씩 입력받는다.\n",
    "        - 사용자가 !q 를 입력하면 저장후 종료한다.\n",
    "    3. 사용자가 저장한 파일을 읽어서 출력한다.\n"
   ]
  },
  {
   "cell_type": "code",
   "execution_count": 1,
   "metadata": {
    "scrolled": true,
    "slideshow": {
     "slide_type": "skip"
    }
   },
   "outputs": [
    {
     "name": "stdout",
     "output_type": "stream",
     "text": [
      "파일명 입력: ㅇㅇㅇ\n",
      "글 입력: !q\n",
      "\n"
     ]
    }
   ],
   "source": [
    "file_name = input(\"파일명 입력: \")\n",
    "\n",
    "write_path = f\"C:/Temp/{file_name}\"\n",
    "with open(write_path, mode = \"wt\", encoding = \"utf-8\") as fw:\n",
    "    while True:\n",
    "        sentence = input(\"글 입력: \")        \n",
    "        if sentence == \"!q\":\n",
    "            break\n",
    "        fw.write(sentence + \"\\n\")\n",
    "\n",
    "with open(write_path, mode = \"rt\", encoding = \"utf-8\") as fr:\n",
    "    print(fr.read())"
   ]
  },
  {
   "cell_type": "code",
   "execution_count": 4,
   "metadata": {},
   "outputs": [
    {
     "name": "stdout",
     "output_type": "stream",
     "text": [
      "저장할 파일명을 입력하세요.\n",
      "파일명 입력: test\n",
      "test에 저장합니다.\n",
      "==============================\n",
      "저장할 내용을 입력하세요.\n",
      "==============================\n",
      "> 안녕하세요.\n",
      "> 반갑습니다.\n",
      "> !q\n",
      "입력을 종료합니다.\n",
      "==============================\n",
      "저장한 내용을 출력합니다.\n",
      "==============================\n",
      "안녕하세요.\n",
      "반갑습니다.\n",
      "\n"
     ]
    }
   ],
   "source": [
    "print(\"저장할 파일명을 입력하세요.\")\n",
    "file_name = input(\"파일명 입력: \")\n",
    "print(f\"{file_name}에 저장합니다.\")\n",
    "print(\"=\" * 30)\n",
    "\n",
    "with open(file_name, mode = \"wt\", encoding = \"utf-8\") as fw:\n",
    "    print(\"저장할 내용을 입력하세요.\")\n",
    "    print(\"=\" * 30)\n",
    "    while True:\n",
    "        line_txt = input(\"> \")\n",
    "        if line_txt == \"!q\":\n",
    "            break\n",
    "        fw.write(line_txt + \"\\n\")\n",
    "\n",
    "print(\"입력을 종료합니다.\")\n",
    "print(\"=\" * 30)\n",
    "\n",
    "print(\"저장한 내용을 출력합니다.\")\n",
    "print(\"=\" * 30)\n",
    "\n",
    "with open(file_name, mode = \"rt\", encoding = \"utf-8\") as fr:\n",
    "    print(fr.read())"
   ]
  },
  {
   "cell_type": "code",
   "execution_count": null,
   "metadata": {},
   "outputs": [],
   "source": [
    "# 위 코드를 함수화 해본다."
   ]
  },
  {
   "cell_type": "code",
   "execution_count": 5,
   "metadata": {},
   "outputs": [],
   "source": [
    "def memo():\n",
    "    print(\"저장할 파일명을 입력하세요.\")\n",
    "    file_name = input(\"파일명 입력: \")\n",
    "    print(f\"{file_name}에 저장합니다.\")\n",
    "    print(\"=\" * 30)\n",
    "\n",
    "    with open(file_name, mode = \"wt\", encoding = \"utf-8\") as fw:\n",
    "        print(\"저장할 내용을 입력하세요.\")\n",
    "        print(\"=\" * 30)\n",
    "        while True:\n",
    "            line_txt = input(\"> \")\n",
    "            if line_txt == \"!q\":\n",
    "                break\n",
    "            fw.write(line_txt + \"\\n\")\n",
    "\n",
    "    print(\"입력을 종료합니다.\")\n",
    "    print(\"=\" * 30)"
   ]
  },
  {
   "cell_type": "code",
   "execution_count": 6,
   "metadata": {},
   "outputs": [
    {
     "name": "stdout",
     "output_type": "stream",
     "text": [
      "저장할 파일명을 입력하세요.\n",
      "파일명 입력: test\n",
      "test에 저장합니다.\n",
      "==============================\n",
      "저장할 내용을 입력하세요.\n",
      "==============================\n",
      "> 안녕하세요.\n",
      "> 반갑습니다.\n",
      "> !q\n",
      "입력을 종료합니다.\n",
      "==============================\n"
     ]
    }
   ],
   "source": [
    "memo()"
   ]
  },
  {
   "cell_type": "code",
   "execution_count": 7,
   "metadata": {},
   "outputs": [
    {
     "name": "stdout",
     "output_type": "stream",
     "text": [
      "Writing my_memo.py\n"
     ]
    }
   ],
   "source": [
    "%%writefile my_memo.py\n",
    "# jupyter notebook 명령어 (magic command)\n",
    "# %%writefile file_name.확장자: cell의 내용을 내가 지정한 파일로 출력한다.\n",
    "\n",
    "def memo():\n",
    "    print(\"저장할 파일명을 입력하세요.\")\n",
    "    file_name = input(\"파일명 입력: \")\n",
    "    print(f\"{file_name}에 저장합니다.\")\n",
    "    print(\"=\" * 30)\n",
    "\n",
    "    with open(file_name, mode = \"wt\", encoding = \"utf-8\") as fw:\n",
    "        print(\"저장할 내용을 입력하세요.\")\n",
    "        print(\"=\" * 30)\n",
    "        while True:\n",
    "            line_txt = input(\"> \")\n",
    "            if line_txt == \"!q\":\n",
    "                break\n",
    "            fw.write(line_txt + \"\\n\")\n",
    "\n",
    "    print(\"입력을 종료합니다.\")\n",
    "    print(\"=\" * 30)"
   ]
  },
  {
   "cell_type": "code",
   "execution_count": null,
   "metadata": {},
   "outputs": [],
   "source": [
    "# %load my_memo.py\n",
    "# jupyter notebook 명령어 (magic command)\n",
    "# %%writefile file_name: 실행하면 cell의 내용을 파일에 출력한다.\n",
    "\n",
    "def memo():\n",
    "    print(\"저장할 파일명을 입력하세요.\")\n",
    "    file_name = input(\"파일명 입력: \")\n",
    "    print(f\"{file_name}에 저장합니다.\")\n",
    "    print(\"=\" * 30)\n",
    "\n",
    "    with open(file_name, mode = \"wt\", encoding = \"utf-8\") as fw:\n",
    "        print(\"저장할 내용을 입력하세요.\")\n",
    "        print(\"=\" * 30)\n",
    "        while True:\n",
    "            line_txt = input(\"> \")\n",
    "            if line_txt == \"!q\":\n",
    "                break\n",
    "            fw.write(line_txt + \"\\n\")\n",
    "\n",
    "    print(\"입력을 종료합니다.\")\n",
    "    print(\"=\" * 30)\n"
   ]
  },
  {
   "cell_type": "markdown",
   "metadata": {
    "slideshow": {
     "slide_type": "skip"
    }
   },
   "source": [
    "- member.csv 파일을 읽어서 각 열의 값을 배열에 담는다.    \n",
    "이름,나이,주소  형태의 csv를 읽어    \n",
    "```python\n",
    "names = []\n",
    "ages =[]\n",
    "address =[]    \n",
    "```\n",
    "배열에 넣는다. \n",
    "    - 단 첫줄은 head이므로 읽지 않는다.\n",
    "    - 참고 함수: 문자열 split(), for문 관련 enumerate()\n",
    "\n"
   ]
  },
  {
   "cell_type": "markdown",
   "metadata": {
    "slideshow": {
     "slide_type": "skip"
    }
   },
   "source": [
    "> **CSV (Comma Separated Value)** 파일\n",
    "> - 데이터들을 정형화(표)된 형태로 텍스트파일에 저장하는 방식\n",
    "> - 하나의 데이터는 한줄에 표시. (데이터 구분자는 엔터)\n",
    "> - 하나의 데이터를 구성하는 값들(속성)들은 , 로 구분 (공백은 넣지 않도록 해야한다. 주의하기.)\n",
    ">     - tab으로 구분하는 경우 TSV \n",
    ">     - 각 속성값들은 \" \" 로 감싸기도 한다.\n",
    "> - 텍스트기반\n",
    "> - 파일 확장자는 `.csv`, `.tsv` 로 준다."
   ]
  },
  {
   "cell_type": "markdown",
   "metadata": {},
   "source": [
    "- TSV (Tab separated Value)"
   ]
  },
  {
   "cell_type": "code",
   "execution_count": 28,
   "metadata": {},
   "outputs": [
    {
     "name": "stdout",
     "output_type": "stream",
     "text": [
      "['홍길동', '이순신', '유관순', '안중근', '윤봉길']\n",
      "['20', '30', '25', '23', '27']\n",
      "['서울', '인천', '대구', '부산', '광주']\n"
     ]
    }
   ],
   "source": [
    "name = []\n",
    "age = []\n",
    "address = []\n",
    "\n",
    "with open(\"member.csv\", mode = \"rt\", encoding = \"utf-8\") as fr:\n",
    "    for txt in fr:\n",
    "        member = txt.split(\",\")\n",
    "        name.append(member[0])\n",
    "        age.append(member[1])\n",
    "        address.append(member[2].strip(\"\\n\"))\n",
    "\n",
    "print(name[1:])\n",
    "print(age[1:])\n",
    "print(address[1:])\n"
   ]
  },
  {
   "cell_type": "code",
   "execution_count": 32,
   "metadata": {},
   "outputs": [
    {
     "name": "stdout",
     "output_type": "stream",
     "text": [
      "['홍길동', '이순신', '유관순', '안중근', '윤봉길']\n",
      "['20', '30', '25', '23', '27']\n",
      "['서울', '인천', '대구', '부산', '광주']\n"
     ]
    }
   ],
   "source": [
    "name = []\n",
    "age = []\n",
    "address = []\n",
    "\n",
    "fr = open(\"member.csv\", mode = \"rt\", encoding = \"utf-8\")\n",
    "for idx, txt in enumerate(fr):\n",
    "    if idx != 0:\n",
    "        member = txt.split(\",\")\n",
    "        name.append(member[0])\n",
    "        age.append(member[1])\n",
    "        address.append(member[2].strip(\"\\n\"))\n",
    "fr.close()\n",
    "\n",
    "print(name)\n",
    "print(age)\n",
    "print(address)"
   ]
  },
  {
   "cell_type": "code",
   "execution_count": 46,
   "metadata": {},
   "outputs": [
    {
     "name": "stdout",
     "output_type": "stream",
     "text": [
      "['홍길동', '이순신', '유관순', '안중근', '윤봉길']\n",
      "['20', '30', '25', '23', '27']\n",
      "['서울', '인천', '대구', '부산', '광주']\n"
     ]
    }
   ],
   "source": [
    "name = []\n",
    "age = []\n",
    "address = []\n",
    "\n",
    "with open(\"member.csv\", mode = \"rt\", encoding = \"utf-8\") as fr:\n",
    "    for idx, txt in enumerate(fr):\n",
    "        if idx != 0:\n",
    "            member = txt.split(\",\")\n",
    "            name.append(member[0])\n",
    "            age.append(member[1])\n",
    "            address.append(member[2].strip())\n",
    "\n",
    "print(name)\n",
    "print(age)\n",
    "print(address)"
   ]
  },
  {
   "cell_type": "code",
   "execution_count": 48,
   "metadata": {},
   "outputs": [],
   "source": [
    "# 값들을 넣을 list 생성\n",
    "names = []\n",
    "ages = []\n",
    "addresses = []\n",
    "\n",
    "# member.csv 와 입력 연결\n",
    "with open(\"member.csv\", mode = \"rt\", encoding = \"utf-8\") as fr:\n",
    "    for idx, line_txt in enumerate(fr):\n",
    "        # 첫 줄은 읽지 않는다.\n",
    "        if idx == 0:\n",
    "            continue\n",
    "        name, age, address = line_txt.strip().split(\",\")\n",
    "        names.append(name)\n",
    "        ages.append(age)\n",
    "        addresses.append(address)"
   ]
  },
  {
   "cell_type": "code",
   "execution_count": 51,
   "metadata": {},
   "outputs": [
    {
     "name": "stdout",
     "output_type": "stream",
     "text": [
      "['홍길동', '이순신', '유관순', '안중근', '윤봉길']\n",
      "['20', '30', '25', '23', '27']\n",
      "['서울', '인천', '대구', '부산', '광주']\n"
     ]
    }
   ],
   "source": [
    "# 열 단위 조회\n",
    "\n",
    "print(names)\n",
    "print(ages)\n",
    "print(addresses)"
   ]
  },
  {
   "cell_type": "code",
   "execution_count": 52,
   "metadata": {},
   "outputs": [
    {
     "name": "stdout",
     "output_type": "stream",
     "text": [
      "('홍길동', '20', '서울')\n",
      "('이순신', '30', '인천')\n",
      "('유관순', '25', '대구')\n",
      "('안중근', '23', '부산')\n",
      "('윤봉길', '27', '광주')\n"
     ]
    }
   ],
   "source": [
    "# 행 단위 조회\n",
    "\n",
    "for info in zip(names, ages, addresses):\n",
    "    print(info)"
   ]
  },
  {
   "cell_type": "code",
   "execution_count": null,
   "metadata": {},
   "outputs": [],
   "source": []
  },
  {
   "cell_type": "code",
   "execution_count": 53,
   "metadata": {},
   "outputs": [
    {
     "data": {
      "text/html": [
       "<div>\n",
       "<style scoped>\n",
       "    .dataframe tbody tr th:only-of-type {\n",
       "        vertical-align: middle;\n",
       "    }\n",
       "\n",
       "    .dataframe tbody tr th {\n",
       "        vertical-align: top;\n",
       "    }\n",
       "\n",
       "    .dataframe thead th {\n",
       "        text-align: right;\n",
       "    }\n",
       "</style>\n",
       "<table border=\"1\" class=\"dataframe\">\n",
       "  <thead>\n",
       "    <tr style=\"text-align: right;\">\n",
       "      <th></th>\n",
       "      <th>이름</th>\n",
       "      <th>나이</th>\n",
       "      <th>주소</th>\n",
       "    </tr>\n",
       "  </thead>\n",
       "  <tbody>\n",
       "    <tr>\n",
       "      <th>0</th>\n",
       "      <td>홍길동</td>\n",
       "      <td>20</td>\n",
       "      <td>서울</td>\n",
       "    </tr>\n",
       "    <tr>\n",
       "      <th>1</th>\n",
       "      <td>이순신</td>\n",
       "      <td>30</td>\n",
       "      <td>인천</td>\n",
       "    </tr>\n",
       "    <tr>\n",
       "      <th>2</th>\n",
       "      <td>유관순</td>\n",
       "      <td>25</td>\n",
       "      <td>대구</td>\n",
       "    </tr>\n",
       "    <tr>\n",
       "      <th>3</th>\n",
       "      <td>안중근</td>\n",
       "      <td>23</td>\n",
       "      <td>부산</td>\n",
       "    </tr>\n",
       "    <tr>\n",
       "      <th>4</th>\n",
       "      <td>윤봉길</td>\n",
       "      <td>27</td>\n",
       "      <td>광주</td>\n",
       "    </tr>\n",
       "  </tbody>\n",
       "</table>\n",
       "</div>"
      ],
      "text/plain": [
       "    이름  나이  주소\n",
       "0  홍길동  20  서울\n",
       "1  이순신  30  인천\n",
       "2  유관순  25  대구\n",
       "3  안중근  23  부산\n",
       "4  윤봉길  27  광주"
      ]
     },
     "execution_count": 53,
     "metadata": {},
     "output_type": "execute_result"
    }
   ],
   "source": [
    "# csv file을 다루는 module인 pandas에 대해 간단히 알아보자.\n",
    "\n",
    "import pandas as pd\n",
    "\n",
    "member = pd.read_csv(\"member.csv\")\n",
    "member"
   ]
  }
 ],
 "metadata": {
  "kernelspec": {
   "display_name": "Python 3 (ipykernel)",
   "language": "python",
   "name": "python3"
  },
  "language_info": {
   "codemirror_mode": {
    "name": "ipython",
    "version": 3
   },
   "file_extension": ".py",
   "mimetype": "text/x-python",
   "name": "python",
   "nbconvert_exporter": "python",
   "pygments_lexer": "ipython3",
   "version": "3.9.13"
  },
  "toc": {
   "base_numbering": 1,
   "nav_menu": {},
   "number_sections": true,
   "sideBar": true,
   "skip_h1_title": false,
   "title_cell": "Table of Contents",
   "title_sidebar": "Contents",
   "toc_cell": false,
   "toc_position": {},
   "toc_section_display": true,
   "toc_window_display": false
  },
  "varInspector": {
   "cols": {
    "lenName": 16,
    "lenType": 16,
    "lenVar": 40
   },
   "kernels_config": {
    "python": {
     "delete_cmd_postfix": "",
     "delete_cmd_prefix": "del ",
     "library": "var_list.py",
     "varRefreshCmd": "print(var_dic_list())"
    },
    "r": {
     "delete_cmd_postfix": ") ",
     "delete_cmd_prefix": "rm(",
     "library": "var_list.r",
     "varRefreshCmd": "cat(var_dic_list()) "
    }
   },
   "types_to_exclude": [
    "module",
    "function",
    "builtin_function_or_method",
    "instance",
    "_Feature"
   ],
   "window_display": false
  }
 },
 "nbformat": 4,
 "nbformat_minor": 4
}
